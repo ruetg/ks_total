{
 "cells": [
  {
   "cell_type": "markdown",
   "id": "8688c8c9",
   "metadata": {},
   "source": [
    "## Start running flowacc / chi calc on all basin"
   ]
  },
  {
   "cell_type": "code",
   "execution_count": 2,
   "id": "19a1f306",
   "metadata": {},
   "outputs": [],
   "source": [
    "import shapely as shp\n",
    "import pandas as pd\n",
    "import numpy as np\n",
    "import geopandas as gpd\n",
    "import ast\n",
    "from shapely.geometry import Polygon, MultiPolygon, Point\n",
    "#import rasterio\n",
    "import geopandas as gpd\n",
    "import sys\n",
    "%load_ext autoreload\n",
    "%autoreload 2\n",
    "sys.path.insert(1, '/Users/gr_1/Documents/simplem/')\n",
    "import simplem_par as simplem\n",
    "import matplotlib.pyplot as plt\n",
    "#import multiprocess as mp"
   ]
  },
  {
   "cell_type": "code",
   "execution_count": 3,
   "id": "99f3d5c9",
   "metadata": {},
   "outputs": [],
   "source": [
    "eros1 = [None]*4631\n",
    "eros2 = np.zeros(4631)\n",
    "slpsall = np.zeros(4631)\n",
    "slps2 = np.zeros(4631)\n",
    "a = gpd.read_file('/Users/gr_1/Documents/cosmo_predict/octopus_v2/')\n",
    "a = a.to_crs('EPSG:4326')"
   ]
  },
  {
   "cell_type": "code",
   "execution_count": 4,
   "id": "e4353a81",
   "metadata": {
    "scrolled": true,
    "tags": []
   },
   "outputs": [
    {
     "name": "stderr",
     "output_type": "stream",
     "text": [
      "/var/folders/5v/804c95h92bx2zr8rfpwyr_yc0000gn/T/ipykernel_1849/2467896498.py:13: UserWarning: Geometry is in a geographic CRS. Results from 'centroid' are likely incorrect. Use 'GeoSeries.to_crs()' to re-project geometries to a projected CRS before this operation.\n",
      "\n",
      "  a.geometry=a.geometry.centroid\n",
      "sh: taskset: command not found\n"
     ]
    },
    {
     "name": "stdout",
     "output_type": "stream",
     "text": [
      "here\n",
      "err: 0\n",
      "/Users/gr_1/Documents/basins_v3/hydrosheds_bas_v3_0.tif: No such file or directory\n",
      "err: 1\n",
      "/Users/gr_1/Documents/basins_v3/hydrosheds_bas_v3_1.tif: No such file or directory\n",
      "err: 2\n",
      "/Users/gr_1/Documents/basins_v3/hydrosheds_bas_v3_2.tif: No such file or directory\n",
      "err: 3\n",
      "/Users/gr_1/Documents/basins_v3/hydrosheds_bas_v3_3.tif: No such file or directory\n",
      "err: 4\n",
      "/Users/gr_1/Documents/basins_v3/hydrosheds_bas_v3_4.tif: No such file or directory\n",
      "err: 5\n",
      "/Users/gr_1/Documents/basins_v3/hydrosheds_bas_v3_5.tif: No such file or directory\n",
      "err: 6\n",
      "/Users/gr_1/Documents/basins_v3/hydrosheds_bas_v3_6.tif: No such file or directory\n",
      "err: 7\n",
      "/Users/gr_1/Documents/basins_v3/hydrosheds_bas_v3_7.tif: No such file or directory\n",
      "err: 8\n",
      "/Users/gr_1/Documents/basins_v3/hydrosheds_bas_v3_8.tif: No such file or directory\n",
      "err: 9\n",
      "/Users/gr_1/Documents/basins_v3/hydrosheds_bas_v3_9.tif: No such file or directory\n",
      "err: 10\n",
      "/Users/gr_1/Documents/basins_v3/hydrosheds_bas_v3_10.tif: No such file or directory\n",
      "err: 11\n",
      "/Users/gr_1/Documents/basins_v3/hydrosheds_bas_v3_11.tif: No such file or directory\n",
      "12\n",
      "13\n",
      "14\n",
      "15\n",
      "err: 16\n",
      "/Users/gr_1/Documents/basins_v3/hydrosheds_bas_v3_16.tif: No such file or directory\n",
      "err: 17\n",
      "/Users/gr_1/Documents/basins_v3/hydrosheds_bas_v3_17.tif: No such file or directory\n",
      "err: 18\n",
      "/Users/gr_1/Documents/basins_v3/hydrosheds_bas_v3_18.tif: No such file or directory\n",
      "err: 19\n",
      "/Users/gr_1/Documents/basins_v3/hydrosheds_bas_v3_19.tif: No such file or directory\n",
      "20\n",
      "21\n",
      "22\n",
      "23\n",
      "err: 24\n",
      "/Users/gr_1/Documents/basins_v3/hydrosheds_bas_v3_24.tif: No such file or directory\n",
      "25\n",
      "26\n",
      "err: 27\n",
      "/Users/gr_1/Documents/basins_v3/hydrosheds_bas_v3_27.tif: No such file or directory\n",
      "err: 28\n",
      "/Users/gr_1/Documents/basins_v3/hydrosheds_bas_v3_28.tif: No such file or directory\n",
      "err: 29\n",
      "/Users/gr_1/Documents/basins_v3/hydrosheds_bas_v3_29.tif: No such file or directory\n",
      "30\n",
      "err: 31\n",
      "/Users/gr_1/Documents/basins_v3/hydrosheds_bas_v3_31.tif: No such file or directory\n",
      "32\n",
      "33\n",
      "34\n",
      "35\n",
      "36\n",
      "37\n",
      "38\n",
      "39\n",
      "40\n",
      "41\n",
      "42\n",
      "43\n",
      "44\n",
      "45\n",
      "46\n",
      "47\n",
      "48\n",
      "49\n",
      "50\n",
      "51\n",
      "52\n",
      "53\n",
      "54\n",
      "55\n",
      "56\n",
      "57\n",
      "58\n",
      "59\n",
      "60\n",
      "61\n",
      "62\n",
      "63\n",
      "64\n",
      "65\n",
      "66\n",
      "67\n",
      "68\n",
      "69\n",
      "70\n",
      "71\n",
      "72\n",
      "73\n",
      "74\n",
      "75\n",
      "76\n",
      "77\n",
      "78\n",
      "79\n",
      "80\n",
      "81\n",
      "82\n",
      "83\n",
      "84\n",
      "85\n",
      "86\n",
      "87\n",
      "88\n",
      "89\n",
      "90\n",
      "91\n",
      "92\n",
      "93\n",
      "94\n",
      "95\n",
      "96\n",
      "97\n",
      "98\n",
      "99\n",
      "100\n",
      "101\n",
      "102\n",
      "103\n",
      "104\n",
      "105\n",
      "106\n",
      "107\n",
      "108\n",
      "109\n",
      "110\n",
      "111\n",
      "112\n",
      "113\n",
      "114\n",
      "115\n",
      "116\n",
      "117\n",
      "118\n",
      "119\n",
      "120\n",
      "121\n",
      "122\n",
      "123\n",
      "124\n",
      "125\n",
      "126\n",
      "127\n",
      "128\n",
      "129\n",
      "130\n",
      "131\n",
      "132\n",
      "133\n",
      "134\n",
      "135\n",
      "136\n",
      "137\n",
      "138\n",
      "139\n",
      "140\n",
      "141\n",
      "142\n",
      "143\n",
      "144\n",
      "145\n",
      "146\n",
      "147\n",
      "148\n",
      "149\n",
      "150\n",
      "151\n",
      "152\n",
      "153\n",
      "154\n",
      "155\n",
      "156\n",
      "157\n",
      "158\n",
      "159\n",
      "160\n",
      "161\n",
      "162\n",
      "163\n",
      "164\n",
      "165\n",
      "166\n",
      "167\n",
      "168\n",
      "169\n",
      "170\n",
      "171\n",
      "172\n",
      "173\n",
      "174\n",
      "175\n",
      "176\n",
      "177\n",
      "178\n",
      "179\n",
      "180\n",
      "181\n",
      "182\n",
      "183\n",
      "184\n",
      "185\n",
      "186\n",
      "187\n",
      "here\n",
      "188\n",
      "here\n",
      "189\n",
      "190\n",
      "191\n",
      "here\n",
      "192\n",
      "193\n",
      "194\n",
      "195\n",
      "196\n",
      "197\n",
      "here\n",
      "198\n",
      "here\n",
      "199\n",
      "here\n",
      "200\n",
      "here\n",
      "201\n",
      "here\n",
      "202\n",
      "here\n",
      "203\n",
      "204\n",
      "205\n",
      "206\n",
      "here\n",
      "207\n",
      "208\n",
      "209\n",
      "210\n",
      "211\n",
      "212\n",
      "213\n",
      "here\n",
      "214\n",
      "215\n",
      "here\n",
      "216\n",
      "here\n",
      "217\n",
      "here\n",
      "218\n",
      "here\n",
      "219\n",
      "here\n",
      "220\n",
      "here\n",
      "221\n",
      "here\n",
      "222\n",
      "here\n",
      "223\n",
      "here\n",
      "224\n",
      "225\n",
      "226\n",
      "227\n",
      "228\n",
      "229\n",
      "230\n",
      "here\n",
      "231\n",
      "232\n",
      "here\n",
      "233\n",
      "here\n",
      "234\n",
      "here\n",
      "235\n",
      "here\n",
      "236\n",
      "here\n",
      "237\n",
      "here\n",
      "238\n",
      "here\n",
      "239\n",
      "here\n",
      "240\n",
      "here\n",
      "241\n",
      "here\n",
      "242\n",
      "here\n",
      "243\n",
      "here\n",
      "244\n",
      "here\n",
      "245\n",
      "here\n",
      "246\n",
      "here\n",
      "247\n",
      "here\n",
      "248\n",
      "here\n",
      "249\n",
      "here\n",
      "250\n",
      "251\n",
      "252\n",
      "253\n",
      "here\n",
      "254\n",
      "here\n",
      "255\n",
      "256\n",
      "257\n",
      "here\n",
      "258\n",
      "259\n",
      "260\n",
      "261\n",
      "here\n",
      "262\n",
      "here\n",
      "263\n",
      "here\n",
      "264\n",
      "here\n",
      "265\n",
      "here\n",
      "266\n",
      "here\n",
      "267\n",
      "268\n",
      "here\n",
      "269\n",
      "here\n",
      "270\n",
      "here\n",
      "271\n",
      "272\n",
      "here\n",
      "273\n",
      "here\n",
      "274\n",
      "here\n",
      "275\n",
      "here\n",
      "276\n",
      "here\n",
      "277\n",
      "here\n",
      "278\n",
      "here\n",
      "279\n",
      "here\n",
      "280\n",
      "here\n",
      "281\n",
      "here\n",
      "282\n",
      "here\n",
      "283\n",
      "here\n",
      "284\n",
      "here\n",
      "285\n",
      "here\n",
      "286\n",
      "here\n",
      "287\n",
      "here\n",
      "288\n",
      "here\n",
      "289\n",
      "here\n",
      "290\n",
      "here\n",
      "291\n",
      "here\n",
      "292\n",
      "here\n",
      "293\n",
      "here\n",
      "294\n",
      "here\n",
      "295\n",
      "here\n",
      "296\n",
      "here\n",
      "297\n",
      "here\n",
      "298\n",
      "here\n",
      "299\n",
      "here\n",
      "300\n",
      "here\n",
      "301\n",
      "here\n",
      "302\n",
      "here\n",
      "303\n",
      "here\n",
      "304\n",
      "here\n",
      "305\n",
      "here\n",
      "306\n",
      "here\n",
      "307\n",
      "here\n",
      "308\n",
      "here\n",
      "309\n",
      "here\n",
      "310\n",
      "here\n",
      "311\n",
      "here\n",
      "312\n",
      "here\n",
      "313\n",
      "here\n",
      "314\n",
      "here\n",
      "315\n",
      "here\n",
      "316\n",
      "here\n",
      "317\n",
      "here\n",
      "318\n",
      "here\n",
      "319\n",
      "here\n",
      "320\n",
      "here\n",
      "321\n",
      "here\n",
      "322\n",
      "here\n",
      "323\n",
      "here\n",
      "324\n",
      "here\n",
      "325\n",
      "here\n",
      "326\n",
      "here\n",
      "327\n",
      "here\n",
      "328\n",
      "here\n",
      "329\n",
      "here\n",
      "330\n",
      "here\n",
      "331\n",
      "here\n",
      "332\n",
      "here\n",
      "333\n",
      "here\n",
      "334\n",
      "here\n",
      "335\n",
      "here\n",
      "336\n",
      "here\n",
      "337\n",
      "here\n",
      "338\n",
      "here\n",
      "339\n",
      "here\n",
      "340\n",
      "here\n",
      "341\n",
      "here\n",
      "342\n",
      "here\n",
      "343\n",
      "here\n",
      "344\n",
      "here\n",
      "345\n",
      "here\n",
      "346\n",
      "here\n",
      "347\n",
      "here\n",
      "348\n",
      "here\n",
      "349\n",
      "here\n",
      "350\n",
      "here\n",
      "351\n",
      "here\n",
      "352\n",
      "here\n",
      "353\n",
      "here\n",
      "354\n",
      "here\n",
      "355\n",
      "here\n",
      "356\n",
      "here\n",
      "357\n",
      "here\n",
      "358\n",
      "here\n",
      "359\n",
      "here\n",
      "360\n",
      "here\n",
      "361\n",
      "here\n",
      "362\n",
      "here\n",
      "363\n",
      "here\n",
      "364\n",
      "here\n",
      "365\n",
      "here\n",
      "366\n",
      "here\n",
      "367\n",
      "here\n",
      "368\n",
      "here\n",
      "369\n",
      "here\n",
      "370\n",
      "here\n",
      "371\n",
      "here\n",
      "372\n",
      "here\n",
      "373\n",
      "here\n",
      "374\n",
      "here\n",
      "375\n",
      "here\n",
      "376\n",
      "here\n",
      "377\n",
      "here\n",
      "378\n",
      "here\n",
      "379\n",
      "here\n",
      "380\n",
      "here\n",
      "381\n",
      "here\n",
      "382\n",
      "here\n",
      "383\n",
      "here\n",
      "384\n",
      "here\n",
      "385\n",
      "here\n",
      "386\n",
      "here\n",
      "387\n",
      "here\n",
      "388\n",
      "here\n",
      "389\n",
      "here\n",
      "390\n",
      "here\n",
      "391\n",
      "here\n",
      "392\n",
      "here\n",
      "393\n",
      "here\n",
      "394\n",
      "here\n",
      "395\n",
      "here\n",
      "396\n",
      "here\n",
      "397\n",
      "here\n",
      "398\n",
      "here\n",
      "399\n",
      "here\n",
      "400\n",
      "here\n",
      "401\n",
      "here\n",
      "402\n",
      "here\n",
      "403\n",
      "here\n",
      "404\n",
      "here\n",
      "405\n",
      "here\n",
      "406\n",
      "here\n",
      "407\n",
      "here\n",
      "408\n",
      "here\n",
      "409\n",
      "here\n",
      "410\n",
      "here\n",
      "411\n",
      "here\n",
      "412\n",
      "here\n",
      "413\n",
      "here\n",
      "414\n",
      "here\n",
      "415\n",
      "here\n",
      "416\n",
      "here\n",
      "417\n",
      "here\n",
      "418\n",
      "here\n",
      "419\n",
      "here\n",
      "420\n",
      "here\n",
      "421\n",
      "here\n",
      "422\n",
      "here\n",
      "423\n",
      "here\n",
      "424\n",
      "here\n",
      "425\n",
      "here\n",
      "426\n",
      "here\n",
      "427\n",
      "here\n",
      "428\n",
      "here\n",
      "429\n",
      "here\n",
      "430\n",
      "here\n",
      "431\n",
      "here\n",
      "432\n",
      "here\n",
      "433\n",
      "here\n",
      "434\n",
      "here\n",
      "435\n",
      "here\n",
      "436\n",
      "here\n",
      "437\n",
      "here\n",
      "438\n",
      "here\n",
      "439\n",
      "here\n",
      "440\n",
      "here\n",
      "441\n",
      "here\n",
      "442\n",
      "here\n",
      "443\n",
      "here\n",
      "444\n",
      "here\n",
      "445\n",
      "here\n",
      "446\n",
      "here\n",
      "447\n",
      "here\n",
      "448\n",
      "here\n",
      "449\n",
      "here\n",
      "450\n",
      "here\n",
      "451\n",
      "here\n",
      "452\n",
      "here\n",
      "453\n",
      "here\n",
      "454\n",
      "here\n",
      "455\n",
      "here\n",
      "456\n",
      "here\n",
      "457\n",
      "here\n",
      "458\n",
      "here\n",
      "459\n",
      "here\n",
      "460\n",
      "here\n",
      "461\n",
      "here\n",
      "462\n",
      "here\n",
      "463\n",
      "here\n",
      "464\n",
      "here\n",
      "465\n",
      "here\n",
      "466\n",
      "here\n",
      "467\n",
      "here\n",
      "468\n",
      "here\n",
      "469\n",
      "here\n",
      "470\n",
      "here\n",
      "471\n",
      "here\n",
      "472\n",
      "here\n",
      "473\n",
      "here\n",
      "474\n",
      "here\n",
      "475\n",
      "here\n",
      "476\n",
      "here\n",
      "477\n",
      "here\n",
      "478\n",
      "here\n",
      "479\n",
      "here\n",
      "480\n",
      "here\n",
      "481\n",
      "here\n",
      "482\n",
      "here\n",
      "483\n",
      "here\n",
      "484\n",
      "here\n",
      "485\n",
      "here\n",
      "486\n",
      "here\n",
      "487\n",
      "here\n",
      "488\n",
      "here\n",
      "489\n",
      "here\n",
      "490\n",
      "here\n",
      "491\n",
      "here\n",
      "492\n",
      "here\n",
      "493\n",
      "here\n",
      "494\n",
      "here\n",
      "495\n",
      "here\n",
      "496\n",
      "here\n",
      "497\n",
      "here\n",
      "498\n",
      "here\n",
      "499\n",
      "here\n",
      "500\n",
      "here\n",
      "501\n",
      "here\n",
      "502\n",
      "here\n",
      "503\n",
      "here\n",
      "504\n",
      "here\n",
      "505\n",
      "here\n",
      "506\n",
      "here\n",
      "507\n",
      "here\n",
      "508\n",
      "here\n",
      "509\n",
      "here\n",
      "510\n",
      "here\n",
      "511\n",
      "here\n",
      "512\n",
      "here\n",
      "513\n",
      "here\n",
      "514\n",
      "here\n",
      "515\n",
      "here\n",
      "516\n",
      "here\n",
      "517\n",
      "here\n",
      "518\n",
      "here\n",
      "519\n",
      "here\n",
      "520\n",
      "here\n",
      "521\n",
      "here\n",
      "522\n",
      "here\n",
      "523\n",
      "here\n",
      "524\n",
      "here\n",
      "525\n",
      "here\n",
      "526\n",
      "here\n",
      "527\n",
      "here\n",
      "528\n",
      "here\n",
      "529\n",
      "here\n",
      "530\n",
      "here\n",
      "531\n",
      "here\n",
      "532\n",
      "here\n",
      "533\n",
      "here\n",
      "534\n",
      "here\n",
      "535\n",
      "here\n",
      "536\n",
      "here\n",
      "537\n",
      "here\n",
      "538\n",
      "here\n",
      "539\n",
      "here\n",
      "540\n",
      "here\n",
      "541\n",
      "here\n",
      "542\n",
      "here\n",
      "543\n",
      "here\n",
      "544\n",
      "here\n",
      "545\n",
      "3212327\n"
     ]
    },
    {
     "ename": "KeyboardInterrupt",
     "evalue": "",
     "output_type": "error",
     "traceback": [
      "\u001b[0;31m---------------------------------------------------------------------------\u001b[0m",
      "\u001b[0;31mKeyboardInterrupt\u001b[0m                         Traceback (most recent call last)",
      "Cell \u001b[0;32mIn[4], line 180\u001b[0m\n\u001b[1;32m    178\u001b[0m z\u001b[38;5;241m=\u001b[39mdemz\u001b[38;5;241m.\u001b[39mravel(order\u001b[38;5;241m=\u001b[39m\u001b[38;5;124m'\u001b[39m\u001b[38;5;124mF\u001b[39m\u001b[38;5;124m'\u001b[39m)\n\u001b[1;32m    179\u001b[0m acc\u001b[38;5;241m=\u001b[39mf\u001b[38;5;241m.\u001b[39mA\u001b[38;5;241m.\u001b[39mravel(order\u001b[38;5;241m=\u001b[39m\u001b[38;5;124m'\u001b[39m\u001b[38;5;124mF\u001b[39m\u001b[38;5;124m'\u001b[39m)\n\u001b[0;32m--> 180\u001b[0m A\u001b[38;5;241m=\u001b[39m\u001b[43msmuth\u001b[49m\u001b[43m(\u001b[49m\u001b[38;5;241;43m5\u001b[39;49m\u001b[43m,\u001b[49m\u001b[43mf\u001b[49m\u001b[38;5;241;43m.\u001b[39;49m\u001b[43mI\u001b[49m\u001b[38;5;241;43m.\u001b[39;49m\u001b[43mcopy\u001b[49m\u001b[43m(\u001b[49m\u001b[43m)\u001b[49m\u001b[43m,\u001b[49m\u001b[43ms\u001b[49m\u001b[38;5;241;43m.\u001b[39;49m\u001b[43mcopy\u001b[49m\u001b[43m(\u001b[49m\u001b[43m)\u001b[49m\u001b[43m,\u001b[49m\u001b[43mz\u001b[49m\u001b[38;5;241;43m.\u001b[39;49m\u001b[43mcopy\u001b[49m\u001b[43m(\u001b[49m\u001b[43m)\u001b[49m\u001b[43m,\u001b[49m\u001b[43macc\u001b[49m\u001b[38;5;241;43m.\u001b[39;49m\u001b[43mcopy\u001b[49m\u001b[43m(\u001b[49m\u001b[43m)\u001b[49m\u001b[43m,\u001b[49m\u001b[38;5;241;43m5\u001b[39;49m\u001b[43m)\u001b[49m\n\u001b[1;32m    181\u001b[0m Zi \u001b[38;5;241m=\u001b[39m A\u001b[38;5;241m.\u001b[39mreshape(np\u001b[38;5;241m.\u001b[39mshape(Zi2),order\u001b[38;5;241m=\u001b[39m\u001b[38;5;124m'\u001b[39m\u001b[38;5;124mF\u001b[39m\u001b[38;5;124m'\u001b[39m)\u001b[38;5;241m.\u001b[39mcopy()\n\u001b[1;32m    183\u001b[0m \u001b[38;5;28mprint\u001b[39m(np\u001b[38;5;241m.\u001b[39mshape(Zi))\n",
      "Cell \u001b[0;32mIn[4], line 107\u001b[0m, in \u001b[0;36msmuth\u001b[0;34m(windowSize, I, s, z, acc, athres)\u001b[0m\n\u001b[1;32m    105\u001b[0m amaxs \u001b[38;5;241m=\u001b[39m np\u001b[38;5;241m.\u001b[39mzeros(\u001b[38;5;28mlen\u001b[39m(I))\n\u001b[1;32m    106\u001b[0m \u001b[38;5;28;01mfor\u001b[39;00m i \u001b[38;5;129;01min\u001b[39;00m \u001b[38;5;28mrange\u001b[39m(\u001b[38;5;28mlen\u001b[39m(I)):\n\u001b[0;32m--> 107\u001b[0m     \u001b[38;5;28;01mif\u001b[39;00m \u001b[43ms\u001b[49m\u001b[43m[\u001b[49m\u001b[43mi\u001b[49m\u001b[43m]\u001b[49m \u001b[38;5;241m!=\u001b[39m I[i]:\n\u001b[1;32m    108\u001b[0m         zsd[:\u001b[38;5;241m-\u001b[39m\u001b[38;5;241m1\u001b[39m,I[i]] \u001b[38;5;241m=\u001b[39m zsd[\u001b[38;5;241m1\u001b[39m:,s[i]]\n\u001b[1;32m    109\u001b[0m         zsd[\u001b[38;5;241m-\u001b[39m\u001b[38;5;241m1\u001b[39m,I[i]] \u001b[38;5;241m=\u001b[39m z[s[i]]\n",
      "\u001b[0;31mKeyboardInterrupt\u001b[0m: "
     ]
    },
    {
     "data": {
      "image/png": "[encoded data removed]",
      "text/plain": [
       "<Figure size 640x480 with 1 Axes>"
      ]
     },
     "metadata": {},
     "output_type": "display_data"
    }
   ],
   "source": [
    "import multiprocess as mp\n",
    "import matplotlib.pyplot as plt\n",
    "import rasterio\n",
    "import sys\n",
    "#sys.path.insert(1, '/Users/gr_1/Documents/simplem/') #modify based on where it is\n",
    "import simplem_par as simplem\n",
    "import numpy as np\n",
    "import ast\n",
    "import os\n",
    "import shapely\n",
    "\n",
    "\n",
    "a.geometry=a.geometry.centroid\n",
    "#bbox = (164.056143, -32, 179.9017855, -48)\n",
    "bbox = (164.056143, -42, 179.9017855, -40)\n",
    "polygon = shapely.geometry.box(*bbox, ccw=True)\n",
    "b = gpd.GeoDataFrame([0],geometry=[polygon])\n",
    "b=b.set_crs('4326')\n",
    "b=b.to_crs(a.crs)\n",
    "f,p=plt.subplots()\n",
    "a.plot(ax=p)\n",
    "b.plot(ax=p,alpha=.5)\n",
    "a=a[a.within(b.iloc[0].geometry)]\n",
    "\n",
    "os.system(\"taskset -p 0xff %d\" % os.getpid())\n",
    "\n",
    "################ -------Params-------- ##################################\n",
    "dem_folder = '/Users/gr_1/Documents/basins_v3/'\n",
    "outfolder = '/Users/gr_1/Documents/cosmo_predict_cz/results/vf_dall_{}/'.format('nz')\n",
    "# Number of processors\n",
    "n_proc = 6\n",
    "# Number of simulations (parameter sets)\n",
    "nr = 1000\n",
    "## Stream power parameters\n",
    "#Stream power m/n (theta)\n",
    "theta = 0.45  \n",
    "# Vector of n values.  Currently n ranges from 0-4\n",
    "ns = np.load('../lem_global_optimimize_krakonos/ns.npy')[0:nr]#np.random.rand(nr) * 4.0 \n",
    "# The ratio D/k. Currently the prior distribution is log-uniform from 0 to 10\n",
    "diffus =  np.load('../lem_global_optimimize_krakonos/diffus.npy')[0:nr]*1e-11#np.power(10.0, np.random.rand(nr) * 12 + 1)  \n",
    "#A_crit values range as a log-uniform distribution\n",
    "careas = np.load('../lem_global_optimimize_krakonos/careas.npy')[0:nr]*0+10#np.power(10.0, np.random.rand(nr) * 3) \n",
    "# diffusion exponents (p)\n",
    "ps = np.zeros(nr) + 1.0 \n",
    "########################################################################\n",
    "\n",
    "\n",
    "n_basin = 4631  # number of basins in octopus\n",
    "ms = ns * theta # Vector of m values.  m depends on n\n",
    "\n",
    "#The erosion rates for each basin, to contain a vector of avg erosion rates\n",
    "eros1 = [None] * n_basin\n",
    "#vector of avg slopes in each basin, to compare to octopus slopes\n",
    "slpsall = np.zeros(n_basin)\n",
    "# minrun = int(sys.argv[1])\n",
    "# maxrun = int(sys.argv[2])\n",
    "ksns = np.zeros(n_basin)\n",
    "def par_ero(i):\n",
    "    \"\"\"\n",
    "    Parallel erosion routine for each DEM basin\n",
    "    \n",
    "    :param i: basin number\n",
    "    :returns: A; accumulated erosion\n",
    "    \"\"\"\n",
    "    \n",
    "    #First run diffusion - we raise the coefficient by 1/p and then raise the whole\n",
    "    #diffusion rate by p in order to\n",
    "    E = simplem.diffuse(\n",
    "        Zi, D=-(diffus[i]**(1.0 / ps[i])), dy=dy1, dx=dx1, dt=1)\n",
    "    E[E < 0] = 0\n",
    "    #We only want the erosion part....\n",
    "    E = E**ps[i]\n",
    "    #Raise too p\n",
    "    m = ms[i]\n",
    "    n = ns[i]\n",
    "    #Now add the hillslope erosion and the fluvial erosion\n",
    "    ero = simplem.erode_explicit(\n",
    "        slps,\n",
    "        I1,\n",
    "        s1,\n",
    "        A1,\n",
    "        E,\n",
    "        dx=dx1,\n",
    "        dy=dy1,\n",
    "        m=ms[i],\n",
    "        n=ns[i],\n",
    "        k=np.zeros(np.shape(slps))+1e-8,\n",
    "        carea=careas[i])\n",
    "    \n",
    "    #This should be zero anyways but just in case...\n",
    "    ero[slps == 0] = 0\n",
    "    ero[ero<=0]=0\n",
    "    #Sum erosion downstream = we do it this way so that nodes draining outside of the basin (i.e. on the edge) are not included\n",
    "    A = simplem.acc(I1, s1, init=ero.copy())\n",
    "    #Calculate the avg erosion per drainage area...\n",
    "    pl = (A.ravel()[np.argmax(A1.ravel())]) / np.max(A1.ravel())\n",
    "    return pl, i\n",
    "def smuth(windowSize,I,s,z,acc,athres=5):\n",
    "    zsd = np.zeros((windowSize,len(I)))\n",
    "    zsu = np.zeros((windowSize,len(I)))\n",
    "    avgs=np.zeros(len(I))\n",
    "    distsU=np.zeros(len(I))\n",
    "    distsD = np.zeros(len(I))\n",
    "    ns = np.zeros(len(I))\n",
    "    amaxs = np.zeros(len(I))\n",
    "    for i in range(len(I)):\n",
    "        if s[i] != I[i]:\n",
    "            zsd[:-1,I[i]] = zsd[1:,s[i]]\n",
    "            zsd[-1,I[i]] = z[s[i]]\n",
    "    for i in range(len(I)-1,0,-1):\n",
    "        if s[i] != I[i]:\n",
    "            if (acc[I[i]] >= windowSize) and (acc[I[i]] >= amaxs[s[i]]):\n",
    "                amaxs[s[i]] = acc[I[i]]\n",
    "                zsu[:,s[i]] = zsu[:,I[i]]\n",
    "                zsu[:-1,s[i]] = zsu[1:,I[i]]\n",
    "                zsu[-1,s[i]] = z[I[i]]\n",
    "    for i in range(len(I)):\n",
    "        lu = len(np.where(zsu[:,i]>0)[0])\n",
    "        ld = len(np.where(zsd[:,i]>0)[0])\n",
    "        minl = min([lu,ld])\n",
    "        if minl>=windowSize:\n",
    "            avgs[i] = np.mean(np.concatenate([zsd[:,i][zsd[:,i]>0], zsu[:,i][zsu[:,i]>0]]))\n",
    "        elif minl>=1:\n",
    "            avgs[i] = np.mean(np.concatenate([zsd[:,i][zsd[:,i]>0][-minl:], zsu[:,i][zsu[:,i]>0][-minl:]]))\n",
    "        else:\n",
    "            avgs[i] = z[i]\n",
    "    return avgs\n",
    "            \n",
    "print('here')\n",
    "for c in range(5000):\n",
    "    \n",
    "    try:\n",
    "        try:\n",
    "            dem = rasterio.open(dem_folder + 'hydrosheds_bas_v6_{}.tif'.format(str(c)))\n",
    "            secs = 1\n",
    "            dy = 92.59/3\n",
    "            print(\"here\")\n",
    "        except:\n",
    "            dem = rasterio.open(dem_folder + 'hydrosheds_bas_v3_{}.tif'.format(str(c)))\n",
    "            secs=3\n",
    "            dy = 92.59\n",
    "        if c not in a.index[:]:\n",
    "            print(c)\n",
    "            continue\n",
    "        print(c)\n",
    "        lat = dem.xy(0, 0)[1]\n",
    "        dx = np.cos(lat / 180 * np.pi) * (1852 / 60) * \\\n",
    "            secs  # dx is dependent on latitude\n",
    "        f = simplem.simple_model()\n",
    "        f.dx = dx\n",
    "        f.dy = dy\n",
    "        \n",
    "        # We must pad the DEM in order to prevent edge effects\n",
    "        demz = np.pad(np.float64(np.squeeze(dem.read())), pad_width=2)\n",
    "        demz[np.logical_not(demz>0)]=0\n",
    "        demzi=demz.copy()\n",
    "        f.set_z(demz.copy())\n",
    "        \n",
    "        #Outlet nodes are at or below 0\n",
    "        f.BC = np.where(f.Z.transpose().ravel() <= 0)[0]\n",
    "        \n",
    "        #Fill local sinks\n",
    "        f.sinkfill()\n",
    "        \n",
    "        #calculate local slopes and populate the receiver grid\n",
    "        f.slp_basin()\n",
    "        \n",
    "        #Build the Fastscape stack\n",
    "        f.stack()\n",
    "        \n",
    "        #calculate the receiver grid\n",
    "        f.acc()\n",
    "        \n",
    "        #Get Elevation, corrected\n",
    "        Zi2 = f.Z.copy()\n",
    "        s = f.s.ravel(order='F')[f.I].copy()\n",
    "        s2 = f.s.ravel(order='F').copy()\n",
    "        z=demz.ravel(order='F')\n",
    "        acc=f.A.ravel(order='F')\n",
    "        A=smuth(5,f.I.copy(),s.copy(),z.copy(),acc.copy(),5)\n",
    "        Zi = A.reshape(np.shape(Zi2),order='F').copy()\n",
    "\n",
    "        print(np.shape(Zi))\n",
    "        #Get drainage area\n",
    "        A1 = f.A.copy()\n",
    "        \n",
    "        #Initialize mean erosion rate (per basin) vector\n",
    "        mnmat = np.zeros((len(ms), 1))\n",
    "        \n",
    "        \n",
    "        A1 = f.A.copy()\n",
    "        ny1 = f.ny\n",
    "        nx1 = f.nx\n",
    "        I1 = f.I.copy()\n",
    "        s1 = f.s.copy()\n",
    "        dy1 = f.dy\n",
    "        ## Add this for smoothed DEM\n",
    "        f.Z = Zi.copy()\n",
    "        f.slp_basin()\n",
    "        ##\n",
    "        \n",
    "        Zi = demz.copy()\n",
    "        slps = f.slps.copy()\n",
    "        dx1 = dx\n",
    "        with mp.Pool(n_proc) as procs:\n",
    "            vals = procs.map(par_ero, np.arange(len(ns)))\n",
    "        #par_ero(1)\n",
    "        eros1[c] = mnmat[list(zip(*vals))[1], 0] = list(zip(*vals))[0]\n",
    "        f.Z=Zi2.copy()\n",
    "        ksn2 =  slps / A1**.45 \n",
    "        ksns[c] = np.mean(ksn2[f.Z>0])\n",
    "        f.slp_basin()\n",
    "        f.acc(slps)\n",
    "        slpsall[c] = (f.A.ravel()[f.Z.ravel() > 0][np.argmax(\n",
    "            A1.ravel()[f.Z.ravel() > 0])]) / np.max(A1.ravel()[f.Z.ravel() > 0])\n",
    "    except Exception as e:\n",
    "        print('err: ' + str(c))\n",
    "        print(e)\n",
    "# eros1[eros1==None]=np.nan\n",
    "# io=[]\n",
    "# for i in eros1:\n",
    "#     try:\n",
    "#         io.append(i[0])\n",
    "#     except:\n",
    "#         io.append(i)\n",
    "np.save('{}/eros'.format(outfolder),eros1,allow_pickle=True)\n",
    "np.save('{}/diffu'.format(outfolder),np.float64(diffus))\n",
    "np.save('{}/ms'.format(outfolder),np.squeeze(ms))\n",
    "np.save('{}/ns'.format(outfolder),np.squeeze(ns))\n",
    "np.save('{}/careas'.format(outfolder),np.squeeze(careas))\n",
    "np.save('{}/slps2'.format(outfolder),np.squeeze(slpsall))\n",
    "np.save('{}/dns'.format(outfolder),np.squeeze(ps))\n",
    "np.save('{}/ksns'.format(outfolder),np.squeeze(ksns))\n"
   ]
  },
  {
   "cell_type": "code",
   "execution_count": 16,
   "id": "8120d8c2-ce10-4d72-82da-87f751ffdbb7",
   "metadata": {},
   "outputs": [
    {
     "data": {
      "text/plain": [
       "array([1.000000e+00, 1.000000e+00, 1.000000e+00, ..., 2.751501e+06,\n",
       "       2.751515e+06, 2.751517e+06])"
      ]
     },
     "execution_count": 16,
     "metadata": {},
     "output_type": "execute_result"
    }
   ],
   "source": [
    "np.sort(f.A.ravel())"
   ]
  },
  {
   "cell_type": "code",
   "execution_count": 1,
   "id": "1a2cf29b-58b2-4458-9c0d-e80df8e0bca8",
   "metadata": {},
   "outputs": [
    {
     "ename": "NameError",
     "evalue": "name 'np' is not defined",
     "output_type": "error",
     "traceback": [
      "\u001b[0;31m---------------------------------------------------------------------------\u001b[0m",
      "\u001b[0;31mNameError\u001b[0m                                 Traceback (most recent call last)",
      "Cell \u001b[0;32mIn[1], line 1\u001b[0m\n\u001b[0;32m----> 1\u001b[0m \u001b[43mnp\u001b[49m\u001b[38;5;241m.\u001b[39msave(\u001b[38;5;124m'\u001b[39m\u001b[38;5;132;01m{}\u001b[39;00m\u001b[38;5;124m/eros\u001b[39m\u001b[38;5;124m'\u001b[39m\u001b[38;5;241m.\u001b[39mformat(outfolder),eros1,allow_pickle\u001b[38;5;241m=\u001b[39m\u001b[38;5;28;01mTrue\u001b[39;00m)\n\u001b[1;32m      2\u001b[0m np\u001b[38;5;241m.\u001b[39msave(\u001b[38;5;124m'\u001b[39m\u001b[38;5;132;01m{}\u001b[39;00m\u001b[38;5;124m/diffu\u001b[39m\u001b[38;5;124m'\u001b[39m\u001b[38;5;241m.\u001b[39mformat(outfolder),np\u001b[38;5;241m.\u001b[39mfloat64(diffus))\n\u001b[1;32m      3\u001b[0m np\u001b[38;5;241m.\u001b[39msave(\u001b[38;5;124m'\u001b[39m\u001b[38;5;132;01m{}\u001b[39;00m\u001b[38;5;124m/ms\u001b[39m\u001b[38;5;124m'\u001b[39m\u001b[38;5;241m.\u001b[39mformat(outfolder),np\u001b[38;5;241m.\u001b[39msqueeze(ms))\n",
      "\u001b[0;31mNameError\u001b[0m: name 'np' is not defined"
     ]
    }
   ],
   "source": [
    "np.save('{}/eros'.format(outfolder),eros1,allow_pickle=True)\n",
    "np.save('{}/diffu'.format(outfolder),np.float64(diffus))\n",
    "np.save('{}/ms'.format(outfolder),np.squeeze(ms))\n",
    "np.save('{}/ns'.format(outfolder),np.squeeze(ns))\n",
    "np.save('{}/careas'.format(outfolder),np.squeeze(careas))\n",
    "np.save('{}/slps2'.format(outfolder),np.squeeze(slpsall))\n",
    "np.save('{}/dns'.format(outfolder),np.squeeze(ps))"
   ]
  },
  {
   "cell_type": "code",
   "execution_count": 4,
   "id": "26edd829",
   "metadata": {},
   "outputs": [
    {
     "ename": "NameError",
     "evalue": "name 'eros1' is not defined",
     "output_type": "error",
     "traceback": [
      "\u001b[0;31m---------------------------------------------------------------------------\u001b[0m",
      "\u001b[0;31mNameError\u001b[0m                                 Traceback (most recent call last)",
      "Cell \u001b[0;32mIn[4], line 1\u001b[0m\n\u001b[0;32m----> 1\u001b[0m eros2 \u001b[38;5;241m=\u001b[39m \u001b[43meros1\u001b[49m\n\u001b[1;32m      2\u001b[0m \u001b[38;5;28;01mfor\u001b[39;00m c \u001b[38;5;129;01min\u001b[39;00m \u001b[38;5;28mrange\u001b[39m(\u001b[38;5;241m0\u001b[39m,\u001b[38;5;241m4900\u001b[39m,\u001b[38;5;241m1\u001b[39m):\n\u001b[1;32m      3\u001b[0m     eros2\n",
      "\u001b[0;31mNameError\u001b[0m: name 'eros1' is not defined"
     ]
    }
   ],
   "source": [
    "eros2 = eros1\n",
    "for c in range(0,4900,1):\n",
    "    eros2"
   ]
  },
  {
   "cell_type": "code",
   "execution_count": 121,
   "id": "385f0244",
   "metadata": {},
   "outputs": [
    {
     "ename": "NameError",
     "evalue": "name 'vals' is not defined",
     "output_type": "error",
     "traceback": [
      "\u001b[0;31m---------------------------------------------------------------------------\u001b[0m",
      "\u001b[0;31mNameError\u001b[0m                                 Traceback (most recent call last)",
      "Cell \u001b[0;32mIn[121], line 1\u001b[0m\n\u001b[0;32m----> 1\u001b[0m np\u001b[38;5;241m.\u001b[39mmax(\u001b[43mvals\u001b[49m[\u001b[38;5;241m1\u001b[39m][\u001b[38;5;241m2\u001b[39m])\n",
      "\u001b[0;31mNameError\u001b[0m: name 'vals' is not defined"
     ]
    }
   ],
   "source": [
    "np.max(vals[1][2])"
   ]
  },
  {
   "cell_type": "code",
   "execution_count": 122,
   "id": "9bdcfd18",
   "metadata": {},
   "outputs": [
    {
     "ename": "NameError",
     "evalue": "name 'vals' is not defined",
     "output_type": "error",
     "traceback": [
      "\u001b[0;31m---------------------------------------------------------------------------\u001b[0m",
      "\u001b[0;31mNameError\u001b[0m                                 Traceback (most recent call last)",
      "Cell \u001b[0;32mIn[122], line 1\u001b[0m\n\u001b[0;32m----> 1\u001b[0m plt\u001b[38;5;241m.\u001b[39mimshow(\u001b[43mvals\u001b[49m[\u001b[38;5;241m1\u001b[39m][\u001b[38;5;241m2\u001b[39m])\n",
      "\u001b[0;31mNameError\u001b[0m: name 'vals' is not defined"
     ]
    }
   ],
   "source": [
    "plt.imshow(vals[1][2])"
   ]
  },
  {
   "cell_type": "code",
   "execution_count": 123,
   "id": "d360958e",
   "metadata": {},
   "outputs": [
    {
     "data": {
      "text/plain": [
       "107.46261880726735"
      ]
     },
     "execution_count": 123,
     "metadata": {},
     "output_type": "execute_result"
    }
   ],
   "source": [
    "careas[1]"
   ]
  },
  {
   "cell_type": "code",
   "execution_count": 124,
   "id": "69362043",
   "metadata": {},
   "outputs": [
    {
     "ename": "KeyError",
     "evalue": "'SLP_AVE'",
     "output_type": "error",
     "traceback": [
      "\u001b[0;31m---------------------------------------------------------------------------\u001b[0m",
      "\u001b[0;31mKeyError\u001b[0m                                  Traceback (most recent call last)",
      "File \u001b[0;32m~/miniconda3/lib/python3.9/site-packages/pandas/core/indexes/base.py:3652\u001b[0m, in \u001b[0;36mIndex.get_loc\u001b[0;34m(self, key)\u001b[0m\n\u001b[1;32m   3651\u001b[0m \u001b[38;5;28;01mtry\u001b[39;00m:\n\u001b[0;32m-> 3652\u001b[0m     \u001b[38;5;28;01mreturn\u001b[39;00m \u001b[38;5;28;43mself\u001b[39;49m\u001b[38;5;241;43m.\u001b[39;49m\u001b[43m_engine\u001b[49m\u001b[38;5;241;43m.\u001b[39;49m\u001b[43mget_loc\u001b[49m\u001b[43m(\u001b[49m\u001b[43mcasted_key\u001b[49m\u001b[43m)\u001b[49m\n\u001b[1;32m   3653\u001b[0m \u001b[38;5;28;01mexcept\u001b[39;00m \u001b[38;5;167;01mKeyError\u001b[39;00m \u001b[38;5;28;01mas\u001b[39;00m err:\n",
      "File \u001b[0;32m~/miniconda3/lib/python3.9/site-packages/pandas/_libs/index.pyx:147\u001b[0m, in \u001b[0;36mpandas._libs.index.IndexEngine.get_loc\u001b[0;34m()\u001b[0m\n",
      "File \u001b[0;32m~/miniconda3/lib/python3.9/site-packages/pandas/_libs/index.pyx:176\u001b[0m, in \u001b[0;36mpandas._libs.index.IndexEngine.get_loc\u001b[0;34m()\u001b[0m\n",
      "File \u001b[0;32mpandas/_libs/hashtable_class_helper.pxi:7080\u001b[0m, in \u001b[0;36mpandas._libs.hashtable.PyObjectHashTable.get_item\u001b[0;34m()\u001b[0m\n",
      "File \u001b[0;32mpandas/_libs/hashtable_class_helper.pxi:7088\u001b[0m, in \u001b[0;36mpandas._libs.hashtable.PyObjectHashTable.get_item\u001b[0;34m()\u001b[0m\n",
      "\u001b[0;31mKeyError\u001b[0m: 'SLP_AVE'",
      "\nThe above exception was the direct cause of the following exception:\n",
      "\u001b[0;31mKeyError\u001b[0m                                  Traceback (most recent call last)",
      "Cell \u001b[0;32mIn[124], line 1\u001b[0m\n\u001b[0;32m----> 1\u001b[0m plt\u001b[38;5;241m.\u001b[39mplot(\u001b[43ma\u001b[49m\u001b[43m[\u001b[49m\u001b[38;5;124;43m'\u001b[39;49m\u001b[38;5;124;43mSLP_AVE\u001b[39;49m\u001b[38;5;124;43m'\u001b[39;49m\u001b[43m]\u001b[49m)\n\u001b[1;32m      2\u001b[0m plt\u001b[38;5;241m.\u001b[39mylim([\u001b[38;5;241m0\u001b[39m,\u001b[38;5;241m100\u001b[39m])\n",
      "File \u001b[0;32m~/miniconda3/lib/python3.9/site-packages/geopandas/geodataframe.py:1415\u001b[0m, in \u001b[0;36mGeoDataFrame.__getitem__\u001b[0;34m(self, key)\u001b[0m\n\u001b[1;32m   1409\u001b[0m \u001b[38;5;28;01mdef\u001b[39;00m \u001b[38;5;21m__getitem__\u001b[39m(\u001b[38;5;28mself\u001b[39m, key):\n\u001b[1;32m   1410\u001b[0m \u001b[38;5;250m    \u001b[39m\u001b[38;5;124;03m\"\"\"\u001b[39;00m\n\u001b[1;32m   1411\u001b[0m \u001b[38;5;124;03m    If the result is a column containing only 'geometry', return a\u001b[39;00m\n\u001b[1;32m   1412\u001b[0m \u001b[38;5;124;03m    GeoSeries. If it's a DataFrame with any columns of GeometryDtype,\u001b[39;00m\n\u001b[1;32m   1413\u001b[0m \u001b[38;5;124;03m    return a GeoDataFrame.\u001b[39;00m\n\u001b[1;32m   1414\u001b[0m \u001b[38;5;124;03m    \"\"\"\u001b[39;00m\n\u001b[0;32m-> 1415\u001b[0m     result \u001b[38;5;241m=\u001b[39m \u001b[38;5;28;43msuper\u001b[39;49m\u001b[43m(\u001b[49m\u001b[43m)\u001b[49m\u001b[38;5;241;43m.\u001b[39;49m\u001b[38;5;21;43m__getitem__\u001b[39;49m\u001b[43m(\u001b[49m\u001b[43mkey\u001b[49m\u001b[43m)\u001b[49m\n\u001b[1;32m   1416\u001b[0m     geo_col \u001b[38;5;241m=\u001b[39m \u001b[38;5;28mself\u001b[39m\u001b[38;5;241m.\u001b[39m_geometry_column_name\n\u001b[1;32m   1417\u001b[0m     \u001b[38;5;28;01mif\u001b[39;00m \u001b[38;5;28misinstance\u001b[39m(result, Series) \u001b[38;5;129;01mand\u001b[39;00m \u001b[38;5;28misinstance\u001b[39m(result\u001b[38;5;241m.\u001b[39mdtype, GeometryDtype):\n",
      "File \u001b[0;32m~/miniconda3/lib/python3.9/site-packages/pandas/core/frame.py:3761\u001b[0m, in \u001b[0;36mDataFrame.__getitem__\u001b[0;34m(self, key)\u001b[0m\n\u001b[1;32m   3759\u001b[0m \u001b[38;5;28;01mif\u001b[39;00m \u001b[38;5;28mself\u001b[39m\u001b[38;5;241m.\u001b[39mcolumns\u001b[38;5;241m.\u001b[39mnlevels \u001b[38;5;241m>\u001b[39m \u001b[38;5;241m1\u001b[39m:\n\u001b[1;32m   3760\u001b[0m     \u001b[38;5;28;01mreturn\u001b[39;00m \u001b[38;5;28mself\u001b[39m\u001b[38;5;241m.\u001b[39m_getitem_multilevel(key)\n\u001b[0;32m-> 3761\u001b[0m indexer \u001b[38;5;241m=\u001b[39m \u001b[38;5;28;43mself\u001b[39;49m\u001b[38;5;241;43m.\u001b[39;49m\u001b[43mcolumns\u001b[49m\u001b[38;5;241;43m.\u001b[39;49m\u001b[43mget_loc\u001b[49m\u001b[43m(\u001b[49m\u001b[43mkey\u001b[49m\u001b[43m)\u001b[49m\n\u001b[1;32m   3762\u001b[0m \u001b[38;5;28;01mif\u001b[39;00m is_integer(indexer):\n\u001b[1;32m   3763\u001b[0m     indexer \u001b[38;5;241m=\u001b[39m [indexer]\n",
      "File \u001b[0;32m~/miniconda3/lib/python3.9/site-packages/pandas/core/indexes/base.py:3654\u001b[0m, in \u001b[0;36mIndex.get_loc\u001b[0;34m(self, key)\u001b[0m\n\u001b[1;32m   3652\u001b[0m     \u001b[38;5;28;01mreturn\u001b[39;00m \u001b[38;5;28mself\u001b[39m\u001b[38;5;241m.\u001b[39m_engine\u001b[38;5;241m.\u001b[39mget_loc(casted_key)\n\u001b[1;32m   3653\u001b[0m \u001b[38;5;28;01mexcept\u001b[39;00m \u001b[38;5;167;01mKeyError\u001b[39;00m \u001b[38;5;28;01mas\u001b[39;00m err:\n\u001b[0;32m-> 3654\u001b[0m     \u001b[38;5;28;01mraise\u001b[39;00m \u001b[38;5;167;01mKeyError\u001b[39;00m(key) \u001b[38;5;28;01mfrom\u001b[39;00m \u001b[38;5;21;01merr\u001b[39;00m\n\u001b[1;32m   3655\u001b[0m \u001b[38;5;28;01mexcept\u001b[39;00m \u001b[38;5;167;01mTypeError\u001b[39;00m:\n\u001b[1;32m   3656\u001b[0m     \u001b[38;5;66;03m# If we have a listlike key, _check_indexing_error will raise\u001b[39;00m\n\u001b[1;32m   3657\u001b[0m     \u001b[38;5;66;03m#  InvalidIndexError. Otherwise we fall through and re-raise\u001b[39;00m\n\u001b[1;32m   3658\u001b[0m     \u001b[38;5;66;03m#  the TypeError.\u001b[39;00m\n\u001b[1;32m   3659\u001b[0m     \u001b[38;5;28mself\u001b[39m\u001b[38;5;241m.\u001b[39m_check_indexing_error(key)\n",
      "\u001b[0;31mKeyError\u001b[0m: 'SLP_AVE'"
     ]
    }
   ],
   "source": [
    "plt.plot(a['SLP_AVE'])\n",
    "plt.ylim([0,100])"
   ]
  },
  {
   "cell_type": "code",
   "execution_count": 125,
   "id": "348e7daa",
   "metadata": {},
   "outputs": [
    {
     "ename": "KeyError",
     "evalue": "'SLP_AVE'",
     "output_type": "error",
     "traceback": [
      "\u001b[0;31m---------------------------------------------------------------------------\u001b[0m",
      "\u001b[0;31mKeyError\u001b[0m                                  Traceback (most recent call last)",
      "File \u001b[0;32m~/miniconda3/lib/python3.9/site-packages/pandas/core/indexes/base.py:3652\u001b[0m, in \u001b[0;36mIndex.get_loc\u001b[0;34m(self, key)\u001b[0m\n\u001b[1;32m   3651\u001b[0m \u001b[38;5;28;01mtry\u001b[39;00m:\n\u001b[0;32m-> 3652\u001b[0m     \u001b[38;5;28;01mreturn\u001b[39;00m \u001b[38;5;28;43mself\u001b[39;49m\u001b[38;5;241;43m.\u001b[39;49m\u001b[43m_engine\u001b[49m\u001b[38;5;241;43m.\u001b[39;49m\u001b[43mget_loc\u001b[49m\u001b[43m(\u001b[49m\u001b[43mcasted_key\u001b[49m\u001b[43m)\u001b[49m\n\u001b[1;32m   3653\u001b[0m \u001b[38;5;28;01mexcept\u001b[39;00m \u001b[38;5;167;01mKeyError\u001b[39;00m \u001b[38;5;28;01mas\u001b[39;00m err:\n",
      "File \u001b[0;32m~/miniconda3/lib/python3.9/site-packages/pandas/_libs/index.pyx:147\u001b[0m, in \u001b[0;36mpandas._libs.index.IndexEngine.get_loc\u001b[0;34m()\u001b[0m\n",
      "File \u001b[0;32m~/miniconda3/lib/python3.9/site-packages/pandas/_libs/index.pyx:176\u001b[0m, in \u001b[0;36mpandas._libs.index.IndexEngine.get_loc\u001b[0;34m()\u001b[0m\n",
      "File \u001b[0;32mpandas/_libs/hashtable_class_helper.pxi:7080\u001b[0m, in \u001b[0;36mpandas._libs.hashtable.PyObjectHashTable.get_item\u001b[0;34m()\u001b[0m\n",
      "File \u001b[0;32mpandas/_libs/hashtable_class_helper.pxi:7088\u001b[0m, in \u001b[0;36mpandas._libs.hashtable.PyObjectHashTable.get_item\u001b[0;34m()\u001b[0m\n",
      "\u001b[0;31mKeyError\u001b[0m: 'SLP_AVE'",
      "\nThe above exception was the direct cause of the following exception:\n",
      "\u001b[0;31mKeyError\u001b[0m                                  Traceback (most recent call last)",
      "Cell \u001b[0;32mIn[125], line 3\u001b[0m\n\u001b[1;32m      1\u001b[0m fig,ax \u001b[38;5;241m=\u001b[39m plt\u001b[38;5;241m.\u001b[39msubplots(figsize\u001b[38;5;241m=\u001b[39m(\u001b[38;5;241m9\u001b[39m,\u001b[38;5;241m7\u001b[39m))\n\u001b[0;32m----> 3\u001b[0m plt\u001b[38;5;241m.\u001b[39mplot(slps2[:\u001b[38;5;28mlen\u001b[39m(a)],\u001b[43ma\u001b[49m\u001b[43m[\u001b[49m\u001b[38;5;124;43m'\u001b[39;49m\u001b[38;5;124;43mSLP_AVE\u001b[39;49m\u001b[38;5;124;43m'\u001b[39;49m\u001b[43m]\u001b[49m\u001b[38;5;241m/\u001b[39m\u001b[38;5;241m1000\u001b[39m,\u001b[38;5;124m'\u001b[39m\u001b[38;5;124mk.\u001b[39m\u001b[38;5;124m'\u001b[39m)\n\u001b[1;32m      4\u001b[0m plt\u001b[38;5;241m.\u001b[39mplot(slps2,slps2,\u001b[38;5;124m'\u001b[39m\u001b[38;5;124m.\u001b[39m\u001b[38;5;124m'\u001b[39m)\n\u001b[1;32m      5\u001b[0m \u001b[38;5;66;03m#plt.xscale('log')\u001b[39;00m\n\u001b[1;32m      6\u001b[0m \u001b[38;5;66;03m#plt.yscale('log')\u001b[39;00m\n",
      "File \u001b[0;32m~/miniconda3/lib/python3.9/site-packages/geopandas/geodataframe.py:1415\u001b[0m, in \u001b[0;36mGeoDataFrame.__getitem__\u001b[0;34m(self, key)\u001b[0m\n\u001b[1;32m   1409\u001b[0m \u001b[38;5;28;01mdef\u001b[39;00m \u001b[38;5;21m__getitem__\u001b[39m(\u001b[38;5;28mself\u001b[39m, key):\n\u001b[1;32m   1410\u001b[0m \u001b[38;5;250m    \u001b[39m\u001b[38;5;124;03m\"\"\"\u001b[39;00m\n\u001b[1;32m   1411\u001b[0m \u001b[38;5;124;03m    If the result is a column containing only 'geometry', return a\u001b[39;00m\n\u001b[1;32m   1412\u001b[0m \u001b[38;5;124;03m    GeoSeries. If it's a DataFrame with any columns of GeometryDtype,\u001b[39;00m\n\u001b[1;32m   1413\u001b[0m \u001b[38;5;124;03m    return a GeoDataFrame.\u001b[39;00m\n\u001b[1;32m   1414\u001b[0m \u001b[38;5;124;03m    \"\"\"\u001b[39;00m\n\u001b[0;32m-> 1415\u001b[0m     result \u001b[38;5;241m=\u001b[39m \u001b[38;5;28;43msuper\u001b[39;49m\u001b[43m(\u001b[49m\u001b[43m)\u001b[49m\u001b[38;5;241;43m.\u001b[39;49m\u001b[38;5;21;43m__getitem__\u001b[39;49m\u001b[43m(\u001b[49m\u001b[43mkey\u001b[49m\u001b[43m)\u001b[49m\n\u001b[1;32m   1416\u001b[0m     geo_col \u001b[38;5;241m=\u001b[39m \u001b[38;5;28mself\u001b[39m\u001b[38;5;241m.\u001b[39m_geometry_column_name\n\u001b[1;32m   1417\u001b[0m     \u001b[38;5;28;01mif\u001b[39;00m \u001b[38;5;28misinstance\u001b[39m(result, Series) \u001b[38;5;129;01mand\u001b[39;00m \u001b[38;5;28misinstance\u001b[39m(result\u001b[38;5;241m.\u001b[39mdtype, GeometryDtype):\n",
      "File \u001b[0;32m~/miniconda3/lib/python3.9/site-packages/pandas/core/frame.py:3761\u001b[0m, in \u001b[0;36mDataFrame.__getitem__\u001b[0;34m(self, key)\u001b[0m\n\u001b[1;32m   3759\u001b[0m \u001b[38;5;28;01mif\u001b[39;00m \u001b[38;5;28mself\u001b[39m\u001b[38;5;241m.\u001b[39mcolumns\u001b[38;5;241m.\u001b[39mnlevels \u001b[38;5;241m>\u001b[39m \u001b[38;5;241m1\u001b[39m:\n\u001b[1;32m   3760\u001b[0m     \u001b[38;5;28;01mreturn\u001b[39;00m \u001b[38;5;28mself\u001b[39m\u001b[38;5;241m.\u001b[39m_getitem_multilevel(key)\n\u001b[0;32m-> 3761\u001b[0m indexer \u001b[38;5;241m=\u001b[39m \u001b[38;5;28;43mself\u001b[39;49m\u001b[38;5;241;43m.\u001b[39;49m\u001b[43mcolumns\u001b[49m\u001b[38;5;241;43m.\u001b[39;49m\u001b[43mget_loc\u001b[49m\u001b[43m(\u001b[49m\u001b[43mkey\u001b[49m\u001b[43m)\u001b[49m\n\u001b[1;32m   3762\u001b[0m \u001b[38;5;28;01mif\u001b[39;00m is_integer(indexer):\n\u001b[1;32m   3763\u001b[0m     indexer \u001b[38;5;241m=\u001b[39m [indexer]\n",
      "File \u001b[0;32m~/miniconda3/lib/python3.9/site-packages/pandas/core/indexes/base.py:3654\u001b[0m, in \u001b[0;36mIndex.get_loc\u001b[0;34m(self, key)\u001b[0m\n\u001b[1;32m   3652\u001b[0m     \u001b[38;5;28;01mreturn\u001b[39;00m \u001b[38;5;28mself\u001b[39m\u001b[38;5;241m.\u001b[39m_engine\u001b[38;5;241m.\u001b[39mget_loc(casted_key)\n\u001b[1;32m   3653\u001b[0m \u001b[38;5;28;01mexcept\u001b[39;00m \u001b[38;5;167;01mKeyError\u001b[39;00m \u001b[38;5;28;01mas\u001b[39;00m err:\n\u001b[0;32m-> 3654\u001b[0m     \u001b[38;5;28;01mraise\u001b[39;00m \u001b[38;5;167;01mKeyError\u001b[39;00m(key) \u001b[38;5;28;01mfrom\u001b[39;00m \u001b[38;5;21;01merr\u001b[39;00m\n\u001b[1;32m   3655\u001b[0m \u001b[38;5;28;01mexcept\u001b[39;00m \u001b[38;5;167;01mTypeError\u001b[39;00m:\n\u001b[1;32m   3656\u001b[0m     \u001b[38;5;66;03m# If we have a listlike key, _check_indexing_error will raise\u001b[39;00m\n\u001b[1;32m   3657\u001b[0m     \u001b[38;5;66;03m#  InvalidIndexError. Otherwise we fall through and re-raise\u001b[39;00m\n\u001b[1;32m   3658\u001b[0m     \u001b[38;5;66;03m#  the TypeError.\u001b[39;00m\n\u001b[1;32m   3659\u001b[0m     \u001b[38;5;28mself\u001b[39m\u001b[38;5;241m.\u001b[39m_check_indexing_error(key)\n",
      "\u001b[0;31mKeyError\u001b[0m: 'SLP_AVE'"
     ]
    },
    {
     "data": {
      "image/png": "[encoded data removed]",
      "text/plain": [
       "<Figure size 900x700 with 1 Axes>"
      ]
     },
     "metadata": {},
     "output_type": "display_data"
    }
   ],
   "source": [
    "fig,ax = plt.subplots(figsize=(9,7))\n",
    "\n",
    "plt.plot(slps2[:len(a)],a['SLP_AVE']/1000,'k.')\n",
    "plt.plot(slps2,slps2,'.')\n",
    "#plt.xscale('log')\n",
    "#plt.yscale('log')\n",
    "plt.xlabel('D8 slope (m/m)')\n",
    "plt.ylabel('Avg surface slope (m/m)')\n",
    "plt.xlim([10**-3, 10**0])\n",
    "plt.ylim([10**-3, 10**0])"
   ]
  },
  {
   "cell_type": "code",
   "execution_count": 126,
   "id": "c97dd57a",
   "metadata": {},
   "outputs": [
    {
     "name": "stderr",
     "output_type": "stream",
     "text": [
      "/var/folders/5v/804c95h92bx2zr8rfpwyr_yc0000gn/T/ipykernel_2067/1767807917.py:3: UserWarning: Data has no positive values, and therefore cannot be log-scaled.\n",
      "  plt.xscale('log')\n"
     ]
    },
    {
     "data": {
      "text/plain": [
       "Text(0, 0.5, 'Observed erosion rate (mm/kyr)')"
      ]
     },
     "execution_count": 126,
     "metadata": {},
     "output_type": "execute_result"
    },
    {
     "data": {
      "image/png": "[encoded data removed]",
      "text/plain": [
       "<Figure size 900x700 with 1 Axes>"
      ]
     },
     "metadata": {},
     "output_type": "display_data"
    }
   ],
   "source": [
    "fig,ax = plt.subplots(figsize=(9,7))\n",
    "plt.plot(slpsall[:len(a)],a['ebe_mmkyr']/1000,'k.')\n",
    "plt.xscale('log')\n",
    "plt.yscale('log')\n",
    "plt.xlabel('D8 slope (m/m)')\n",
    "plt.ylabel('Observed erosion rate (mm/kyr)')"
   ]
  },
  {
   "cell_type": "code",
   "execution_count": 127,
   "id": "8d8299f8",
   "metadata": {},
   "outputs": [
    {
     "ename": "NameError",
     "evalue": "name 'ks2' is not defined",
     "output_type": "error",
     "traceback": [
      "\u001b[0;31m---------------------------------------------------------------------------\u001b[0m",
      "\u001b[0;31mNameError\u001b[0m                                 Traceback (most recent call last)",
      "Cell \u001b[0;32mIn[127], line 1\u001b[0m\n\u001b[0;32m----> 1\u001b[0m plt\u001b[38;5;241m.\u001b[39mplot(np\u001b[38;5;241m.\u001b[39mlog10(\u001b[43mks2\u001b[49m),r2s,\u001b[38;5;124m'\u001b[39m\u001b[38;5;124m.\u001b[39m\u001b[38;5;124m'\u001b[39m)\n\u001b[1;32m      2\u001b[0m ro \u001b[38;5;241m=\u001b[39m np\u001b[38;5;241m.\u001b[39mwhere(r2s\u001b[38;5;241m>\u001b[39m\u001b[38;5;241m.01\u001b[39m)[\u001b[38;5;241m0\u001b[39m][\u001b[38;5;241m5\u001b[39m]\n\u001b[1;32m      3\u001b[0m plt\u001b[38;5;241m.\u001b[39mplot(dfs[ro][:\u001b[38;5;28mlen\u001b[39m(a)],a[\u001b[38;5;124m'\u001b[39m\u001b[38;5;124mebe_mmkyr\u001b[39m\u001b[38;5;124m'\u001b[39m], \u001b[38;5;124m'\u001b[39m\u001b[38;5;124m.\u001b[39m\u001b[38;5;124m'\u001b[39m)\n",
      "\u001b[0;31mNameError\u001b[0m: name 'ks2' is not defined"
     ]
    }
   ],
   "source": [
    "plt.plot(np.log10(ks2),r2s,'.')\n",
    "ro = np.where(r2s>.01)[0][5]\n",
    "plt.plot(dfs[ro][:len(a)],a['ebe_mmkyr'], '.')\n",
    "plt.xscale('log')\n",
    "plt.yscale('log')"
   ]
  },
  {
   "cell_type": "code",
   "execution_count": 128,
   "id": "11b28198",
   "metadata": {},
   "outputs": [
    {
     "ename": "NameError",
     "evalue": "name 'r2s' is not defined",
     "output_type": "error",
     "traceback": [
      "\u001b[0;31m---------------------------------------------------------------------------\u001b[0m",
      "\u001b[0;31mNameError\u001b[0m                                 Traceback (most recent call last)",
      "Cell \u001b[0;32mIn[128], line 1\u001b[0m\n\u001b[0;32m----> 1\u001b[0m plt\u001b[38;5;241m.\u001b[39mhist(np\u001b[38;5;241m.\u001b[39mlog10(diffus[\u001b[43mr2s\u001b[49m\u001b[38;5;241m<\u001b[39m\u001b[38;5;241m3.4\u001b[39m]))\n\u001b[1;32m      2\u001b[0m plt\u001b[38;5;241m.\u001b[39mxlabel(\u001b[38;5;124m'\u001b[39m\u001b[38;5;124mn value\u001b[39m\u001b[38;5;124m'\u001b[39m)\n\u001b[1;32m      3\u001b[0m plt\u001b[38;5;241m.\u001b[39mylabel(\u001b[38;5;124m'\u001b[39m\u001b[38;5;124mcount\u001b[39m\u001b[38;5;124m'\u001b[39m)\n",
      "\u001b[0;31mNameError\u001b[0m: name 'r2s' is not defined"
     ]
    }
   ],
   "source": [
    "plt.hist(np.log10(diffus[r2s<3.4]))\n",
    "plt.xlabel('n value')\n",
    "plt.ylabel('count')"
   ]
  },
  {
   "cell_type": "code",
   "execution_count": 129,
   "id": "88a40987",
   "metadata": {},
   "outputs": [
    {
     "ename": "NameError",
     "evalue": "name 'dfs' is not defined",
     "output_type": "error",
     "traceback": [
      "\u001b[0;31m---------------------------------------------------------------------------\u001b[0m",
      "\u001b[0;31mNameError\u001b[0m                                 Traceback (most recent call last)",
      "Cell \u001b[0;32mIn[129], line 1\u001b[0m\n\u001b[0;32m----> 1\u001b[0m plt\u001b[38;5;241m.\u001b[39mplot(\u001b[43mdfs\u001b[49m[np\u001b[38;5;241m.\u001b[39margmax(r2s)],a[\u001b[38;5;124m'\u001b[39m\u001b[38;5;124mebe_mmkyr\u001b[39m\u001b[38;5;124m'\u001b[39m],\u001b[38;5;124m'\u001b[39m\u001b[38;5;124m.\u001b[39m\u001b[38;5;124m'\u001b[39m)\n",
      "\u001b[0;31mNameError\u001b[0m: name 'dfs' is not defined"
     ]
    }
   ],
   "source": [
    "plt.plot(dfs[np.argmax(r2s)],a['ebe_mmkyr'],'.')"
   ]
  },
  {
   "cell_type": "code",
   "execution_count": 130,
   "id": "1405cc6a",
   "metadata": {},
   "outputs": [
    {
     "ename": "NameError",
     "evalue": "name 'r2s' is not defined",
     "output_type": "error",
     "traceback": [
      "\u001b[0;31m---------------------------------------------------------------------------\u001b[0m",
      "\u001b[0;31mNameError\u001b[0m                                 Traceback (most recent call last)",
      "Cell \u001b[0;32mIn[130], line 1\u001b[0m\n\u001b[0;32m----> 1\u001b[0m plt\u001b[38;5;241m.\u001b[39mplot((ns),\u001b[43mr2s\u001b[49m,\u001b[38;5;124m'\u001b[39m\u001b[38;5;124m.\u001b[39m\u001b[38;5;124m'\u001b[39m)\n\u001b[1;32m      2\u001b[0m ns[np\u001b[38;5;241m.\u001b[39margmax(r2s)]\n",
      "\u001b[0;31mNameError\u001b[0m: name 'r2s' is not defined"
     ]
    }
   ],
   "source": [
    "plt.plot((ns),r2s,'.')\n",
    "ns[np.argmax(r2s)]"
   ]
  },
  {
   "cell_type": "code",
   "execution_count": 131,
   "id": "1d0cc1fc",
   "metadata": {},
   "outputs": [
    {
     "ename": "NameError",
     "evalue": "name 'r2s' is not defined",
     "output_type": "error",
     "traceback": [
      "\u001b[0;31m---------------------------------------------------------------------------\u001b[0m",
      "\u001b[0;31mNameError\u001b[0m                                 Traceback (most recent call last)",
      "Cell \u001b[0;32mIn[131], line 1\u001b[0m\n\u001b[0;32m----> 1\u001b[0m plt\u001b[38;5;241m.\u001b[39mplot((ns),\u001b[43mr2s\u001b[49m,\u001b[38;5;124m'\u001b[39m\u001b[38;5;124m.\u001b[39m\u001b[38;5;124m'\u001b[39m)\n\u001b[1;32m      2\u001b[0m ns[np\u001b[38;5;241m.\u001b[39margmax(r2s)]\n",
      "\u001b[0;31mNameError\u001b[0m: name 'r2s' is not defined"
     ]
    }
   ],
   "source": [
    "plt.plot((ns),r2s,'.')\n",
    "ns[np.argmax(r2s)]"
   ]
  },
  {
   "cell_type": "code",
   "execution_count": 132,
   "id": "ac47e017",
   "metadata": {},
   "outputs": [
    {
     "ename": "DriverError",
     "evalue": "/Users/gr_1/Downloads/River_basin_num2/River_basin_num2.shp: No such file or directory",
     "output_type": "error",
     "traceback": [
      "\u001b[0;31m---------------------------------------------------------------------------\u001b[0m",
      "\u001b[0;31mCPLE_OpenFailedError\u001b[0m                      Traceback (most recent call last)",
      "File \u001b[0;32mfiona/ogrext.pyx:136\u001b[0m, in \u001b[0;36mfiona.ogrext.gdal_open_vector\u001b[0;34m()\u001b[0m\n",
      "File \u001b[0;32mfiona/_err.pyx:291\u001b[0m, in \u001b[0;36mfiona._err.exc_wrap_pointer\u001b[0;34m()\u001b[0m\n",
      "\u001b[0;31mCPLE_OpenFailedError\u001b[0m: /Users/gr_1/Downloads/River_basin_num2/River_basin_num2.shp: No such file or directory",
      "\nDuring handling of the above exception, another exception occurred:\n",
      "\u001b[0;31mDriverError\u001b[0m                               Traceback (most recent call last)",
      "Cell \u001b[0;32mIn[132], line 1\u001b[0m\n\u001b[0;32m----> 1\u001b[0m ls \u001b[38;5;241m=\u001b[39m \u001b[43mgpd\u001b[49m\u001b[38;5;241;43m.\u001b[39;49m\u001b[43mread_file\u001b[49m\u001b[43m(\u001b[49m\u001b[38;5;124;43m'\u001b[39;49m\u001b[38;5;124;43m/Users/gr_1/Downloads/River_basin_num2/River_basin_num2.shp\u001b[39;49m\u001b[38;5;124;43m'\u001b[39;49m\u001b[43m)\u001b[49m\n\u001b[1;32m      2\u001b[0m \u001b[38;5;66;03m#ls.Volume.sum()*1e2*2700/1e9\u001b[39;00m\n",
      "File \u001b[0;32m~/miniconda3/lib/python3.9/site-packages/geopandas/io/file.py:259\u001b[0m, in \u001b[0;36m_read_file\u001b[0;34m(filename, bbox, mask, rows, engine, **kwargs)\u001b[0m\n\u001b[1;32m    256\u001b[0m     path_or_bytes \u001b[38;5;241m=\u001b[39m filename\n\u001b[1;32m    258\u001b[0m \u001b[38;5;28;01mif\u001b[39;00m engine \u001b[38;5;241m==\u001b[39m \u001b[38;5;124m\"\u001b[39m\u001b[38;5;124mfiona\u001b[39m\u001b[38;5;124m\"\u001b[39m:\n\u001b[0;32m--> 259\u001b[0m     \u001b[38;5;28;01mreturn\u001b[39;00m \u001b[43m_read_file_fiona\u001b[49m\u001b[43m(\u001b[49m\n\u001b[1;32m    260\u001b[0m \u001b[43m        \u001b[49m\u001b[43mpath_or_bytes\u001b[49m\u001b[43m,\u001b[49m\u001b[43m \u001b[49m\u001b[43mfrom_bytes\u001b[49m\u001b[43m,\u001b[49m\u001b[43m \u001b[49m\u001b[43mbbox\u001b[49m\u001b[38;5;241;43m=\u001b[39;49m\u001b[43mbbox\u001b[49m\u001b[43m,\u001b[49m\u001b[43m \u001b[49m\u001b[43mmask\u001b[49m\u001b[38;5;241;43m=\u001b[39;49m\u001b[43mmask\u001b[49m\u001b[43m,\u001b[49m\u001b[43m \u001b[49m\u001b[43mrows\u001b[49m\u001b[38;5;241;43m=\u001b[39;49m\u001b[43mrows\u001b[49m\u001b[43m,\u001b[49m\u001b[43m \u001b[49m\u001b[38;5;241;43m*\u001b[39;49m\u001b[38;5;241;43m*\u001b[39;49m\u001b[43mkwargs\u001b[49m\n\u001b[1;32m    261\u001b[0m \u001b[43m    \u001b[49m\u001b[43m)\u001b[49m\n\u001b[1;32m    262\u001b[0m \u001b[38;5;28;01melif\u001b[39;00m engine \u001b[38;5;241m==\u001b[39m \u001b[38;5;124m\"\u001b[39m\u001b[38;5;124mpyogrio\u001b[39m\u001b[38;5;124m\"\u001b[39m:\n\u001b[1;32m    263\u001b[0m     \u001b[38;5;28;01mreturn\u001b[39;00m _read_file_pyogrio(\n\u001b[1;32m    264\u001b[0m         path_or_bytes, bbox\u001b[38;5;241m=\u001b[39mbbox, mask\u001b[38;5;241m=\u001b[39mmask, rows\u001b[38;5;241m=\u001b[39mrows, \u001b[38;5;241m*\u001b[39m\u001b[38;5;241m*\u001b[39mkwargs\n\u001b[1;32m    265\u001b[0m     )\n",
      "File \u001b[0;32m~/miniconda3/lib/python3.9/site-packages/geopandas/io/file.py:303\u001b[0m, in \u001b[0;36m_read_file_fiona\u001b[0;34m(path_or_bytes, from_bytes, bbox, mask, rows, where, **kwargs)\u001b[0m\n\u001b[1;32m    300\u001b[0m     reader \u001b[38;5;241m=\u001b[39m fiona\u001b[38;5;241m.\u001b[39mopen\n\u001b[1;32m    302\u001b[0m \u001b[38;5;28;01mwith\u001b[39;00m fiona_env():\n\u001b[0;32m--> 303\u001b[0m     \u001b[38;5;28;01mwith\u001b[39;00m \u001b[43mreader\u001b[49m\u001b[43m(\u001b[49m\u001b[43mpath_or_bytes\u001b[49m\u001b[43m,\u001b[49m\u001b[43m \u001b[49m\u001b[38;5;241;43m*\u001b[39;49m\u001b[38;5;241;43m*\u001b[39;49m\u001b[43mkwargs\u001b[49m\u001b[43m)\u001b[49m \u001b[38;5;28;01mas\u001b[39;00m features:\n\u001b[1;32m    304\u001b[0m         crs \u001b[38;5;241m=\u001b[39m features\u001b[38;5;241m.\u001b[39mcrs_wkt\n\u001b[1;32m    305\u001b[0m         \u001b[38;5;66;03m# attempt to get EPSG code\u001b[39;00m\n",
      "File \u001b[0;32m~/miniconda3/lib/python3.9/site-packages/fiona/env.py:457\u001b[0m, in \u001b[0;36mensure_env_with_credentials.<locals>.wrapper\u001b[0;34m(*args, **kwds)\u001b[0m\n\u001b[1;32m    454\u001b[0m     session \u001b[38;5;241m=\u001b[39m DummySession()\n\u001b[1;32m    456\u001b[0m \u001b[38;5;28;01mwith\u001b[39;00m env_ctor(session\u001b[38;5;241m=\u001b[39msession):\n\u001b[0;32m--> 457\u001b[0m     \u001b[38;5;28;01mreturn\u001b[39;00m \u001b[43mf\u001b[49m\u001b[43m(\u001b[49m\u001b[38;5;241;43m*\u001b[39;49m\u001b[43margs\u001b[49m\u001b[43m,\u001b[49m\u001b[43m \u001b[49m\u001b[38;5;241;43m*\u001b[39;49m\u001b[38;5;241;43m*\u001b[39;49m\u001b[43mkwds\u001b[49m\u001b[43m)\u001b[49m\n",
      "File \u001b[0;32m~/miniconda3/lib/python3.9/site-packages/fiona/__init__.py:336\u001b[0m, in \u001b[0;36mopen\u001b[0;34m(fp, mode, driver, schema, crs, encoding, layer, vfs, enabled_drivers, crs_wkt, allow_unsupported_drivers, **kwargs)\u001b[0m\n\u001b[1;32m    333\u001b[0m     path \u001b[38;5;241m=\u001b[39m parse_path(fp)\n\u001b[1;32m    335\u001b[0m \u001b[38;5;28;01mif\u001b[39;00m mode \u001b[38;5;129;01min\u001b[39;00m (\u001b[38;5;124m\"\u001b[39m\u001b[38;5;124ma\u001b[39m\u001b[38;5;124m\"\u001b[39m, \u001b[38;5;124m\"\u001b[39m\u001b[38;5;124mr\u001b[39m\u001b[38;5;124m\"\u001b[39m):\n\u001b[0;32m--> 336\u001b[0m     colxn \u001b[38;5;241m=\u001b[39m \u001b[43mCollection\u001b[49m\u001b[43m(\u001b[49m\n\u001b[1;32m    337\u001b[0m \u001b[43m        \u001b[49m\u001b[43mpath\u001b[49m\u001b[43m,\u001b[49m\n\u001b[1;32m    338\u001b[0m \u001b[43m        \u001b[49m\u001b[43mmode\u001b[49m\u001b[43m,\u001b[49m\n\u001b[1;32m    339\u001b[0m \u001b[43m        \u001b[49m\u001b[43mdriver\u001b[49m\u001b[38;5;241;43m=\u001b[39;49m\u001b[43mdriver\u001b[49m\u001b[43m,\u001b[49m\n\u001b[1;32m    340\u001b[0m \u001b[43m        \u001b[49m\u001b[43mencoding\u001b[49m\u001b[38;5;241;43m=\u001b[39;49m\u001b[43mencoding\u001b[49m\u001b[43m,\u001b[49m\n\u001b[1;32m    341\u001b[0m \u001b[43m        \u001b[49m\u001b[43mlayer\u001b[49m\u001b[38;5;241;43m=\u001b[39;49m\u001b[43mlayer\u001b[49m\u001b[43m,\u001b[49m\n\u001b[1;32m    342\u001b[0m \u001b[43m        \u001b[49m\u001b[43menabled_drivers\u001b[49m\u001b[38;5;241;43m=\u001b[39;49m\u001b[43menabled_drivers\u001b[49m\u001b[43m,\u001b[49m\n\u001b[1;32m    343\u001b[0m \u001b[43m        \u001b[49m\u001b[43mallow_unsupported_drivers\u001b[49m\u001b[38;5;241;43m=\u001b[39;49m\u001b[43mallow_unsupported_drivers\u001b[49m\u001b[43m,\u001b[49m\n\u001b[1;32m    344\u001b[0m \u001b[43m        \u001b[49m\u001b[38;5;241;43m*\u001b[39;49m\u001b[38;5;241;43m*\u001b[39;49m\u001b[43mkwargs\u001b[49m\n\u001b[1;32m    345\u001b[0m \u001b[43m    \u001b[49m\u001b[43m)\u001b[49m\n\u001b[1;32m    346\u001b[0m \u001b[38;5;28;01melif\u001b[39;00m mode \u001b[38;5;241m==\u001b[39m \u001b[38;5;124m\"\u001b[39m\u001b[38;5;124mw\u001b[39m\u001b[38;5;124m\"\u001b[39m:\n\u001b[1;32m    347\u001b[0m     colxn \u001b[38;5;241m=\u001b[39m Collection(\n\u001b[1;32m    348\u001b[0m         path,\n\u001b[1;32m    349\u001b[0m         mode,\n\u001b[0;32m   (...)\u001b[0m\n\u001b[1;32m    358\u001b[0m         \u001b[38;5;241m*\u001b[39m\u001b[38;5;241m*\u001b[39mkwargs\n\u001b[1;32m    359\u001b[0m     )\n",
      "File \u001b[0;32m~/miniconda3/lib/python3.9/site-packages/fiona/collection.py:243\u001b[0m, in \u001b[0;36mCollection.__init__\u001b[0;34m(self, path, mode, driver, schema, crs, encoding, layer, vsi, archive, enabled_drivers, crs_wkt, ignore_fields, ignore_geometry, include_fields, wkt_version, allow_unsupported_drivers, **kwargs)\u001b[0m\n\u001b[1;32m    241\u001b[0m \u001b[38;5;28;01mif\u001b[39;00m \u001b[38;5;28mself\u001b[39m\u001b[38;5;241m.\u001b[39mmode \u001b[38;5;241m==\u001b[39m \u001b[38;5;124m\"\u001b[39m\u001b[38;5;124mr\u001b[39m\u001b[38;5;124m\"\u001b[39m:\n\u001b[1;32m    242\u001b[0m     \u001b[38;5;28mself\u001b[39m\u001b[38;5;241m.\u001b[39msession \u001b[38;5;241m=\u001b[39m Session()\n\u001b[0;32m--> 243\u001b[0m     \u001b[38;5;28;43mself\u001b[39;49m\u001b[38;5;241;43m.\u001b[39;49m\u001b[43msession\u001b[49m\u001b[38;5;241;43m.\u001b[39;49m\u001b[43mstart\u001b[49m\u001b[43m(\u001b[49m\u001b[38;5;28;43mself\u001b[39;49m\u001b[43m,\u001b[49m\u001b[43m \u001b[49m\u001b[38;5;241;43m*\u001b[39;49m\u001b[38;5;241;43m*\u001b[39;49m\u001b[43mkwargs\u001b[49m\u001b[43m)\u001b[49m\n\u001b[1;32m    244\u001b[0m \u001b[38;5;28;01melif\u001b[39;00m \u001b[38;5;28mself\u001b[39m\u001b[38;5;241m.\u001b[39mmode \u001b[38;5;129;01min\u001b[39;00m (\u001b[38;5;124m\"\u001b[39m\u001b[38;5;124ma\u001b[39m\u001b[38;5;124m\"\u001b[39m, \u001b[38;5;124m\"\u001b[39m\u001b[38;5;124mw\u001b[39m\u001b[38;5;124m\"\u001b[39m):\n\u001b[1;32m    245\u001b[0m     \u001b[38;5;28mself\u001b[39m\u001b[38;5;241m.\u001b[39msession \u001b[38;5;241m=\u001b[39m WritingSession()\n",
      "File \u001b[0;32mfiona/ogrext.pyx:588\u001b[0m, in \u001b[0;36mfiona.ogrext.Session.start\u001b[0;34m()\u001b[0m\n",
      "File \u001b[0;32mfiona/ogrext.pyx:143\u001b[0m, in \u001b[0;36mfiona.ogrext.gdal_open_vector\u001b[0;34m()\u001b[0m\n",
      "\u001b[0;31mDriverError\u001b[0m: /Users/gr_1/Downloads/River_basin_num2/River_basin_num2.shp: No such file or directory"
     ]
    }
   ],
   "source": [
    "ls = gpd.read_file('/Users/gr_1/Downloads/River_basin_num2/River_basin_num2.shp')\n",
    "#ls.Volume.sum()*1e2*2700/1e9"
   ]
  },
  {
   "cell_type": "code",
   "execution_count": 133,
   "id": "7720cbd9",
   "metadata": {},
   "outputs": [
    {
     "ename": "NameError",
     "evalue": "name 'ls' is not defined",
     "output_type": "error",
     "traceback": [
      "\u001b[0;31m---------------------------------------------------------------------------\u001b[0m",
      "\u001b[0;31mNameError\u001b[0m                                 Traceback (most recent call last)",
      "Cell \u001b[0;32mIn[133], line 1\u001b[0m\n\u001b[0;32m----> 1\u001b[0m \u001b[43mls\u001b[49m\u001b[38;5;241m.\u001b[39mto_file(\u001b[38;5;124m'\u001b[39m\u001b[38;5;124m/Users/gr_1/Downloads/river_bsn\u001b[39m\u001b[38;5;124m'\u001b[39m)\n",
      "\u001b[0;31mNameError\u001b[0m: name 'ls' is not defined"
     ]
    }
   ],
   "source": [
    "ls.to_file('/Users/gr_1/Downloads/river_bsn')"
   ]
  },
  {
   "cell_type": "code",
   "execution_count": 134,
   "id": "c98e8546",
   "metadata": {},
   "outputs": [
    {
     "data": {
      "text/plain": [
       "0"
      ]
     },
     "execution_count": 134,
     "metadata": {},
     "output_type": "execute_result"
    }
   ],
   "source": [
    "len(np.where(a['ebe_mmkyr'] ==0)[0])"
   ]
  },
  {
   "cell_type": "code",
   "execution_count": 135,
   "id": "ffa6e7c3",
   "metadata": {},
   "outputs": [
    {
     "ename": "NameError",
     "evalue": "name 'dfs' is not defined",
     "output_type": "error",
     "traceback": [
      "\u001b[0;31m---------------------------------------------------------------------------\u001b[0m",
      "\u001b[0;31mNameError\u001b[0m                                 Traceback (most recent call last)",
      "Cell \u001b[0;32mIn[135], line 1\u001b[0m\n\u001b[0;32m----> 1\u001b[0m plt\u001b[38;5;241m.\u001b[39mplot(\u001b[43mdfs\u001b[49m[\u001b[38;5;241m4\u001b[39m][:\u001b[38;5;241m35\u001b[39m],a[\u001b[38;5;124m'\u001b[39m\u001b[38;5;124mebe_mmkyr\u001b[39m\u001b[38;5;124m'\u001b[39m][:\u001b[38;5;241m35\u001b[39m],\u001b[38;5;124m'\u001b[39m\u001b[38;5;124m.\u001b[39m\u001b[38;5;124m'\u001b[39m)\n\u001b[1;32m      2\u001b[0m plt\u001b[38;5;241m.\u001b[39mxscale(\u001b[38;5;124m'\u001b[39m\u001b[38;5;124mlog\u001b[39m\u001b[38;5;124m'\u001b[39m)\n\u001b[1;32m      3\u001b[0m plt\u001b[38;5;241m.\u001b[39myscale(\u001b[38;5;124m'\u001b[39m\u001b[38;5;124mlog\u001b[39m\u001b[38;5;124m'\u001b[39m)\n",
      "\u001b[0;31mNameError\u001b[0m: name 'dfs' is not defined"
     ]
    }
   ],
   "source": [
    "plt.plot(dfs[4][:35],a['ebe_mmkyr'][:35],'.')\n",
    "plt.xscale('log')\n",
    "plt.yscale('log')"
   ]
  },
  {
   "cell_type": "code",
   "execution_count": 136,
   "id": "d3b9948d",
   "metadata": {},
   "outputs": [
    {
     "ename": "NameError",
     "evalue": "name 'dfs' is not defined",
     "output_type": "error",
     "traceback": [
      "\u001b[0;31m---------------------------------------------------------------------------\u001b[0m",
      "\u001b[0;31mNameError\u001b[0m                                 Traceback (most recent call last)",
      "Cell \u001b[0;32mIn[136], line 1\u001b[0m\n\u001b[0;32m----> 1\u001b[0m \u001b[43mdfs\u001b[49m[\u001b[38;5;241m1\u001b[39m][:\u001b[38;5;241m37\u001b[39m]\n",
      "\u001b[0;31mNameError\u001b[0m: name 'dfs' is not defined"
     ]
    }
   ],
   "source": [
    "dfs[1][:37]"
   ]
  },
  {
   "cell_type": "code",
   "execution_count": 137,
   "id": "1423a0b3",
   "metadata": {},
   "outputs": [
    {
     "ename": "SyntaxError",
     "evalue": "cannot assign to function call (1492615693.py, line 8)",
     "output_type": "error",
     "traceback": [
      "\u001b[0;36m  Cell \u001b[0;32mIn[137], line 8\u001b[0;36m\u001b[0m\n\u001b[0;31m    plt.plot(diffus[r2s>.15]),bins=10)\u001b[0m\n\u001b[0m    ^\u001b[0m\n\u001b[0;31mSyntaxError\u001b[0m\u001b[0;31m:\u001b[0m cannot assign to function call\n"
     ]
    }
   ],
   "source": [
    "#plt.plot(dfs[10,0],a['ebe_mmkyr'],'.')\n",
    "#plt.xscale('log')\n",
    "#plt.yscale('log')\n",
    "#np.save('ers_diffu+sp',eros1)\n",
    "#a= plt.plot(ks,r2s[:,0],'.')\n",
    "#plt.xscale('log')\n",
    "#plt.hist(concavities)\n",
    "plt.plot(diffus[r2s>.15]),bins=10)\n"
   ]
  },
  {
   "cell_type": "code",
   "execution_count": 138,
   "id": "f7c4ebf9",
   "metadata": {},
   "outputs": [],
   "source": [
    "folder = 'results/v3_dA/'\n",
    "if 1:\n",
    "    np.save('{}/eros'.format(folder),eros1)\n",
    "    np.save('{}/diffu'.format(folder),diffus)\n",
    "    np.save('{}/ms'.format(folder),ms)\n",
    "    np.save('{}/ns'.format(folder),ns)\n",
    "    np.save('{}/ks'.format(folder),ks)\n",
    "    np.save('{}/careas'.format(folder),careas)\n",
    "    np.save('{}/Gs'.format(folder),Gs)\n",
    "    np.save('{}/careas'.format(folder),careas)\n",
    "    np.save('{}/slps2'.format(folder),slps2)\n",
    "    np.save('{}/dns'.format(folder),dn)\n",
    "    "
   ]
  },
  {
   "cell_type": "code",
   "execution_count": null,
   "id": "fffe0784",
   "metadata": {},
   "outputs": [],
   "source": [
    "eros1"
   ]
  },
  {
   "cell_type": "code",
   "execution_count": 164,
   "id": "549b733f",
   "metadata": {},
   "outputs": [],
   "source": [
    "eros1 = np.load('r_sole/eros.npy',allow_pickle=True)"
   ]
  },
  {
   "cell_type": "code",
   "execution_count": 18,
   "id": "2eb8bc0a",
   "metadata": {},
   "outputs": [],
   "source": [
    "    np.save('{}/slps2'.format(folder),slps2)\n"
   ]
  },
  {
   "cell_type": "code",
   "execution_count": 222,
   "id": "76aedb9a",
   "metadata": {},
   "outputs": [],
   "source": [
    "#eros2 = np.load('eros_with_diffusion-var_hills.npy',allow_pickle=True)\n",
    "folder = 'results/r_G_1'\n",
    "ns = np.load('{}/ns.npy'.format(folder),allow_pickle=True)\n",
    "ms = np.load('{}/ms.npy'.format(folder),allow_pickle=True)\n",
    "diffus = np.load('{}/diffu.npy'.format(folder),allow_pickle=True)\n",
    "eros1 = np.load('{}/eros.npy'.format(folder),allow_pickle=True)"
   ]
  },
  {
   "cell_type": "code",
   "execution_count": 192,
   "id": "5c09a6f1",
   "metadata": {},
   "outputs": [],
   "source": [
    "for i in range(1,len(eros1)):\n",
    "    if eros1[i] is None:\n",
    "        continue\n",
    "    else:\n",
    "        eros1[i] = np.concatenate([eros1[i],eros2[i]])"
   ]
  },
  {
   "cell_type": "code",
   "execution_count": 17,
   "id": "97061640",
   "metadata": {},
   "outputs": [
    {
     "ename": "ValueError",
     "evalue": "x and y must have same first dimension, but have shapes (19, 41) and (3553,)",
     "output_type": "error",
     "traceback": [
      "\u001b[0;31m---------------------------------------------------------------------------\u001b[0m",
      "\u001b[0;31mValueError\u001b[0m                                Traceback (most recent call last)",
      "\u001b[0;32m<ipython-input-17-1fdcc5b61e02>\u001b[0m in \u001b[0;36m<module>\u001b[0;34m\u001b[0m\n\u001b[0;32m----> 1\u001b[0;31m \u001b[0mplt\u001b[0m\u001b[0;34m.\u001b[0m\u001b[0mplot\u001b[0m\u001b[0;34m(\u001b[0m\u001b[0mslps1\u001b[0m\u001b[0;34m[\u001b[0m\u001b[0;34m:\u001b[0m\u001b[0mlen\u001b[0m\u001b[0;34m(\u001b[0m\u001b[0ma\u001b[0m\u001b[0;34m)\u001b[0m\u001b[0;34m]\u001b[0m\u001b[0;34m,\u001b[0m\u001b[0ma\u001b[0m\u001b[0;34m[\u001b[0m\u001b[0;34m'slp_ave'\u001b[0m\u001b[0;34m]\u001b[0m\u001b[0;34m/\u001b[0m\u001b[0;36m1000\u001b[0m\u001b[0;34m,\u001b[0m\u001b[0;34m'.'\u001b[0m\u001b[0;34m)\u001b[0m\u001b[0;34m\u001b[0m\u001b[0;34m\u001b[0m\u001b[0m\n\u001b[0m\u001b[1;32m      2\u001b[0m \u001b[0mplt\u001b[0m\u001b[0;34m.\u001b[0m\u001b[0mplot\u001b[0m\u001b[0;34m(\u001b[0m\u001b[0mnp\u001b[0m\u001b[0;34m.\u001b[0m\u001b[0marange\u001b[0m\u001b[0;34m(\u001b[0m\u001b[0;36m1e-2\u001b[0m\u001b[0;34m,\u001b[0m\u001b[0;36m1.0\u001b[0m\u001b[0;34m,\u001b[0m\u001b[0;36m1e-2\u001b[0m\u001b[0;34m)\u001b[0m\u001b[0;34m,\u001b[0m\u001b[0mnp\u001b[0m\u001b[0;34m.\u001b[0m\u001b[0marange\u001b[0m\u001b[0;34m(\u001b[0m\u001b[0;36m1e-2\u001b[0m\u001b[0;34m,\u001b[0m\u001b[0;36m1.0\u001b[0m\u001b[0;34m,\u001b[0m\u001b[0;36m1e-2\u001b[0m\u001b[0;34m)\u001b[0m\u001b[0;34m,\u001b[0m\u001b[0;34m'.'\u001b[0m\u001b[0;34m)\u001b[0m\u001b[0;34m\u001b[0m\u001b[0;34m\u001b[0m\u001b[0m\n\u001b[1;32m      3\u001b[0m \u001b[0mplt\u001b[0m\u001b[0;34m.\u001b[0m\u001b[0myscale\u001b[0m\u001b[0;34m(\u001b[0m\u001b[0;34m'log'\u001b[0m\u001b[0;34m)\u001b[0m\u001b[0;34m\u001b[0m\u001b[0;34m\u001b[0m\u001b[0m\n\u001b[1;32m      4\u001b[0m \u001b[0mplt\u001b[0m\u001b[0;34m.\u001b[0m\u001b[0mxscale\u001b[0m\u001b[0;34m(\u001b[0m\u001b[0;34m'log'\u001b[0m\u001b[0;34m)\u001b[0m\u001b[0;34m\u001b[0m\u001b[0;34m\u001b[0m\u001b[0m\n",
      "\u001b[0;32m~/opt/miniconda3/envs/ee/lib/python3.9/site-packages/matplotlib/pyplot.py\u001b[0m in \u001b[0;36mplot\u001b[0;34m(scalex, scaley, data, *args, **kwargs)\u001b[0m\n\u001b[1;32m   2838\u001b[0m \u001b[0;34m@\u001b[0m\u001b[0m_copy_docstring_and_deprecators\u001b[0m\u001b[0;34m(\u001b[0m\u001b[0mAxes\u001b[0m\u001b[0;34m.\u001b[0m\u001b[0mplot\u001b[0m\u001b[0;34m)\u001b[0m\u001b[0;34m\u001b[0m\u001b[0;34m\u001b[0m\u001b[0m\n\u001b[1;32m   2839\u001b[0m \u001b[0;32mdef\u001b[0m \u001b[0mplot\u001b[0m\u001b[0;34m(\u001b[0m\u001b[0;34m*\u001b[0m\u001b[0margs\u001b[0m\u001b[0;34m,\u001b[0m \u001b[0mscalex\u001b[0m\u001b[0;34m=\u001b[0m\u001b[0;32mTrue\u001b[0m\u001b[0;34m,\u001b[0m \u001b[0mscaley\u001b[0m\u001b[0;34m=\u001b[0m\u001b[0;32mTrue\u001b[0m\u001b[0;34m,\u001b[0m \u001b[0mdata\u001b[0m\u001b[0;34m=\u001b[0m\u001b[0;32mNone\u001b[0m\u001b[0;34m,\u001b[0m \u001b[0;34m**\u001b[0m\u001b[0mkwargs\u001b[0m\u001b[0;34m)\u001b[0m\u001b[0;34m:\u001b[0m\u001b[0;34m\u001b[0m\u001b[0;34m\u001b[0m\u001b[0m\n\u001b[0;32m-> 2840\u001b[0;31m     return gca().plot(\n\u001b[0m\u001b[1;32m   2841\u001b[0m         \u001b[0;34m*\u001b[0m\u001b[0margs\u001b[0m\u001b[0;34m,\u001b[0m \u001b[0mscalex\u001b[0m\u001b[0;34m=\u001b[0m\u001b[0mscalex\u001b[0m\u001b[0;34m,\u001b[0m \u001b[0mscaley\u001b[0m\u001b[0;34m=\u001b[0m\u001b[0mscaley\u001b[0m\u001b[0;34m,\u001b[0m\u001b[0;34m\u001b[0m\u001b[0;34m\u001b[0m\u001b[0m\n\u001b[1;32m   2842\u001b[0m         **({\"data\": data} if data is not None else {}), **kwargs)\n",
      "\u001b[0;32m~/opt/miniconda3/envs/ee/lib/python3.9/site-packages/matplotlib/axes/_axes.py\u001b[0m in \u001b[0;36mplot\u001b[0;34m(self, scalex, scaley, data, *args, **kwargs)\u001b[0m\n\u001b[1;32m   1741\u001b[0m         \"\"\"\n\u001b[1;32m   1742\u001b[0m         \u001b[0mkwargs\u001b[0m \u001b[0;34m=\u001b[0m \u001b[0mcbook\u001b[0m\u001b[0;34m.\u001b[0m\u001b[0mnormalize_kwargs\u001b[0m\u001b[0;34m(\u001b[0m\u001b[0mkwargs\u001b[0m\u001b[0;34m,\u001b[0m \u001b[0mmlines\u001b[0m\u001b[0;34m.\u001b[0m\u001b[0mLine2D\u001b[0m\u001b[0;34m)\u001b[0m\u001b[0;34m\u001b[0m\u001b[0;34m\u001b[0m\u001b[0m\n\u001b[0;32m-> 1743\u001b[0;31m         \u001b[0mlines\u001b[0m \u001b[0;34m=\u001b[0m \u001b[0;34m[\u001b[0m\u001b[0;34m*\u001b[0m\u001b[0mself\u001b[0m\u001b[0;34m.\u001b[0m\u001b[0m_get_lines\u001b[0m\u001b[0;34m(\u001b[0m\u001b[0;34m*\u001b[0m\u001b[0margs\u001b[0m\u001b[0;34m,\u001b[0m \u001b[0mdata\u001b[0m\u001b[0;34m=\u001b[0m\u001b[0mdata\u001b[0m\u001b[0;34m,\u001b[0m \u001b[0;34m**\u001b[0m\u001b[0mkwargs\u001b[0m\u001b[0;34m)\u001b[0m\u001b[0;34m]\u001b[0m\u001b[0;34m\u001b[0m\u001b[0;34m\u001b[0m\u001b[0m\n\u001b[0m\u001b[1;32m   1744\u001b[0m         \u001b[0;32mfor\u001b[0m \u001b[0mline\u001b[0m \u001b[0;32min\u001b[0m \u001b[0mlines\u001b[0m\u001b[0;34m:\u001b[0m\u001b[0;34m\u001b[0m\u001b[0;34m\u001b[0m\u001b[0m\n\u001b[1;32m   1745\u001b[0m             \u001b[0mself\u001b[0m\u001b[0;34m.\u001b[0m\u001b[0madd_line\u001b[0m\u001b[0;34m(\u001b[0m\u001b[0mline\u001b[0m\u001b[0;34m)\u001b[0m\u001b[0;34m\u001b[0m\u001b[0;34m\u001b[0m\u001b[0m\n",
      "\u001b[0;32m~/opt/miniconda3/envs/ee/lib/python3.9/site-packages/matplotlib/axes/_base.py\u001b[0m in \u001b[0;36m__call__\u001b[0;34m(self, data, *args, **kwargs)\u001b[0m\n\u001b[1;32m    271\u001b[0m                 \u001b[0mthis\u001b[0m \u001b[0;34m+=\u001b[0m \u001b[0margs\u001b[0m\u001b[0;34m[\u001b[0m\u001b[0;36m0\u001b[0m\u001b[0;34m]\u001b[0m\u001b[0;34m,\u001b[0m\u001b[0;34m\u001b[0m\u001b[0;34m\u001b[0m\u001b[0m\n\u001b[1;32m    272\u001b[0m                 \u001b[0margs\u001b[0m \u001b[0;34m=\u001b[0m \u001b[0margs\u001b[0m\u001b[0;34m[\u001b[0m\u001b[0;36m1\u001b[0m\u001b[0;34m:\u001b[0m\u001b[0;34m]\u001b[0m\u001b[0;34m\u001b[0m\u001b[0;34m\u001b[0m\u001b[0m\n\u001b[0;32m--> 273\u001b[0;31m             \u001b[0;32myield\u001b[0m \u001b[0;32mfrom\u001b[0m \u001b[0mself\u001b[0m\u001b[0;34m.\u001b[0m\u001b[0m_plot_args\u001b[0m\u001b[0;34m(\u001b[0m\u001b[0mthis\u001b[0m\u001b[0;34m,\u001b[0m \u001b[0mkwargs\u001b[0m\u001b[0;34m)\u001b[0m\u001b[0;34m\u001b[0m\u001b[0;34m\u001b[0m\u001b[0m\n\u001b[0m\u001b[1;32m    274\u001b[0m \u001b[0;34m\u001b[0m\u001b[0m\n\u001b[1;32m    275\u001b[0m     \u001b[0;32mdef\u001b[0m \u001b[0mget_next_color\u001b[0m\u001b[0;34m(\u001b[0m\u001b[0mself\u001b[0m\u001b[0;34m)\u001b[0m\u001b[0;34m:\u001b[0m\u001b[0;34m\u001b[0m\u001b[0;34m\u001b[0m\u001b[0m\n",
      "\u001b[0;32m~/opt/miniconda3/envs/ee/lib/python3.9/site-packages/matplotlib/axes/_base.py\u001b[0m in \u001b[0;36m_plot_args\u001b[0;34m(self, tup, kwargs)\u001b[0m\n\u001b[1;32m    397\u001b[0m \u001b[0;34m\u001b[0m\u001b[0m\n\u001b[1;32m    398\u001b[0m         \u001b[0;32mif\u001b[0m \u001b[0mx\u001b[0m\u001b[0;34m.\u001b[0m\u001b[0mshape\u001b[0m\u001b[0;34m[\u001b[0m\u001b[0;36m0\u001b[0m\u001b[0;34m]\u001b[0m \u001b[0;34m!=\u001b[0m \u001b[0my\u001b[0m\u001b[0;34m.\u001b[0m\u001b[0mshape\u001b[0m\u001b[0;34m[\u001b[0m\u001b[0;36m0\u001b[0m\u001b[0;34m]\u001b[0m\u001b[0;34m:\u001b[0m\u001b[0;34m\u001b[0m\u001b[0;34m\u001b[0m\u001b[0m\n\u001b[0;32m--> 399\u001b[0;31m             raise ValueError(f\"x and y must have same first dimension, but \"\n\u001b[0m\u001b[1;32m    400\u001b[0m                              f\"have shapes {x.shape} and {y.shape}\")\n\u001b[1;32m    401\u001b[0m         \u001b[0;32mif\u001b[0m \u001b[0mx\u001b[0m\u001b[0;34m.\u001b[0m\u001b[0mndim\u001b[0m \u001b[0;34m>\u001b[0m \u001b[0;36m2\u001b[0m \u001b[0;32mor\u001b[0m \u001b[0my\u001b[0m\u001b[0;34m.\u001b[0m\u001b[0mndim\u001b[0m \u001b[0;34m>\u001b[0m \u001b[0;36m2\u001b[0m\u001b[0;34m:\u001b[0m\u001b[0;34m\u001b[0m\u001b[0;34m\u001b[0m\u001b[0m\n",
      "\u001b[0;31mValueError\u001b[0m: x and y must have same first dimension, but have shapes (19, 41) and (3553,)"
     ]
    },
    {
     "data": {
      "image/png": "[encoded data removed]",
      "text/plain": [
       "<Figure size 432x288 with 1 Axes>"
      ]
     },
     "metadata": {
      "needs_background": "light"
     },
     "output_type": "display_data"
    }
   ],
   "source": [
    "plt.plot(slpsa[:len(a)],a['slp_ave']/1000,'.')\n",
    "plt.plot(np.arange(1e-2,1.0,1e-2),np.arange(1e-2,1.0,1e-2),'.')\n",
    "plt.yscale('log')\n",
    "plt.xscale('log')"
   ]
  },
  {
   "cell_type": "code",
   "execution_count": 135,
   "id": "48a2c71b",
   "metadata": {},
   "outputs": [
    {
     "data": {
      "text/plain": [
       "[<matplotlib.lines.Line2D at 0x19630b400>]"
      ]
     },
     "execution_count": 135,
     "metadata": {},
     "output_type": "execute_result"
    },
    {
     "data": {
      "image/png": "[encoded data removed]",
      "text/plain": [
       "<Figure size 432x288 with 1 Axes>"
      ]
     },
     "metadata": {
      "needs_background": "light"
     },
     "output_type": "display_data"
    }
   ],
   "source": [
    "plt.plot(np.arange(0,.5,.01),np.arange(0,.5,.01))"
   ]
  },
  {
   "cell_type": "code",
   "execution_count": 8,
   "id": "26d3d1aa",
   "metadata": {},
   "outputs": [],
   "source": [
    "np.a['slps1'] = slps1[:len(a)]"
   ]
  },
  {
   "cell_type": "code",
   "execution_count": 9,
   "id": "fa45180d",
   "metadata": {},
   "outputs": [],
   "source": [
    "np.from sklearn import linear_model"
   ]
  },
  {
   "cell_type": "code",
   "execution_count": 63,
   "id": "00b296c9",
   "metadata": {},
   "outputs": [
    {
     "data": {
      "image/png": "[encoded data removed]",
      "text/plain": [
       "<Figure size 432x288 with 1 Axes>"
      ]
     },
     "metadata": {
      "needs_background": "light"
     },
     "output_type": "display_data"
    }
   ],
   "source": [
    "plt.plot(dfs[0][:len(a)], a['ebe_mmkyr'],'.')\n",
    "plt.xscale('log')\n",
    "plt.yscale('log')"
   ]
  },
  {
   "cell_type": "code",
   "execution_count": null,
   "id": "a7ef1251",
   "metadata": {},
   "outputs": [],
   "source": [
    "eros1[1:]*=1000000"
   ]
  },
  {
   "cell_type": "markdown",
   "id": "7aa452e8",
   "metadata": {},
   "source": [
    "## Begin other thing"
   ]
  },
  {
   "cell_type": "code",
   "execution_count": 223,
   "id": "e8d39bc8",
   "metadata": {},
   "outputs": [],
   "source": [
    "#@jit(nopython=True)\n",
    "#def loop_results(eros1, dfs,n,c):\n",
    "n = 35#3553\n",
    "nt = 1000\n",
    "dfs = np.array([None]*len(eros1[1]))\n",
    "              \n",
    "c=0\n",
    "for i in range(len(eros1[1])):\n",
    "        dfs[i] = np.zeros(len(eros1))\n",
    "        for k in range(1,len(eros1)):\n",
    "            if (eros1[k] is None):\n",
    "                continue\n",
    "            else:\n",
    "                dfs[i][k] = eros1[k][i]\n",
    "            c+=1\n",
    "    #return dfs\n",
    "            "
   ]
  },
  {
   "cell_type": "code",
   "execution_count": 154,
   "id": "300cd0c8",
   "metadata": {
    "scrolled": true,
    "tags": []
   },
   "outputs": [
    {
     "ename": "NameError",
     "evalue": "name 'dfs' is not defined",
     "output_type": "error",
     "traceback": [
      "\u001b[0;31m---------------------------------------------------------------------------\u001b[0m",
      "\u001b[0;31mNameError\u001b[0m                                 Traceback (most recent call last)",
      "\u001b[0;32m/var/folders/7n/93rhcbnx487ddwp5twsbv8c80000gn/T/ipykernel_2020/3574759860.py\u001b[0m in \u001b[0;36m<module>\u001b[0;34m\u001b[0m\n\u001b[1;32m      7\u001b[0m \u001b[0mdiffus2\u001b[0m \u001b[0;34m=\u001b[0m \u001b[0mdiffus\u001b[0m\u001b[0;34m.\u001b[0m\u001b[0mcopy\u001b[0m\u001b[0;34m(\u001b[0m\u001b[0;34m)\u001b[0m\u001b[0;34m\u001b[0m\u001b[0;34m\u001b[0m\u001b[0m\n\u001b[1;32m      8\u001b[0m \u001b[0;32mfor\u001b[0m \u001b[0mi\u001b[0m \u001b[0;32min\u001b[0m \u001b[0mrange\u001b[0m\u001b[0;34m(\u001b[0m\u001b[0mlen\u001b[0m\u001b[0;34m(\u001b[0m\u001b[0meros1\u001b[0m\u001b[0;34m[\u001b[0m\u001b[0;36m1\u001b[0m\u001b[0;34m]\u001b[0m\u001b[0;34m)\u001b[0m\u001b[0;34m)\u001b[0m\u001b[0;34m:\u001b[0m\u001b[0;31m#range(len(ms)):\u001b[0m\u001b[0;34m\u001b[0m\u001b[0;34m\u001b[0m\u001b[0m\n\u001b[0;32m----> 9\u001b[0;31m         \u001b[0;32mif\u001b[0m \u001b[0mdfs\u001b[0m\u001b[0;34m[\u001b[0m\u001b[0mi\u001b[0m\u001b[0;34m]\u001b[0m \u001b[0;32mis\u001b[0m \u001b[0;32mNone\u001b[0m\u001b[0;34m:\u001b[0m\u001b[0;34m\u001b[0m\u001b[0;34m\u001b[0m\u001b[0m\n\u001b[0m\u001b[1;32m     10\u001b[0m             \u001b[0;32mcontinue\u001b[0m\u001b[0;34m\u001b[0m\u001b[0;34m\u001b[0m\u001b[0m\n\u001b[1;32m     11\u001b[0m \u001b[0;34m\u001b[0m\u001b[0m\n",
      "\u001b[0;31mNameError\u001b[0m: name 'dfs' is not defined"
     ]
    }
   ],
   "source": [
    "from sklearn import linear_model as lm\n",
    "import sklearn\n",
    "r2s = np.zeros(len(eros1[1]))\n",
    "resid = np.zeros(len(eros1[1]))\n",
    "pcoef = np.zeros(len(eros1[1]))\n",
    "ks2 = ks.copy()\n",
    "diffus2 = diffus.copy()\n",
    "for i in range(len(eros1[1])):#range(len(ms)):\n",
    "        if dfs[i] is None:\n",
    "            continue\n",
    "        \n",
    "        y = np.log(np.float64(a['ebe_mmkyr'])/1000)\n",
    "        x = np.log(dfs[i][:len(a)])\n",
    "        #I_min = np.where(a['slp_ave'][:n]/1000>1e-1)[0]\n",
    "        #x=x[I_min]\n",
    "        #y=y[I_min]\n",
    "        xi = x.copy()\n",
    "        I = np.where(np.logical_or(np.isnan(x),np.isinf(x)))[0]\n",
    "        x=np.delete(x,I)\n",
    "        y=np.delete(y,I)\n",
    "        I2 = np.where(np.logical_or(np.isnan(y),np.isnan(x)))[0]\n",
    "        x = np.delete(x,I2)\n",
    "        y = np.delete(y,I2)\n",
    "        l1  = lm.LinearRegression(fit_intercept=False)\n",
    "        l = lm.LinearRegression()\n",
    "        if len(x[np.logical_not(np.isnan(x))])>n-500:\n",
    "                print(len(x[np.logical_not(np.isnan(x))]))\n",
    "                p1 = l1.fit(np.exp(x.reshape(-1,1)),np.exp(y.reshape(-1,1)))\n",
    "                p = l.fit(x.reshape(-1,1), y.reshape(-1,1 ))\n",
    "\n",
    "                y2 = p.predict(x.reshape(-1,1))\n",
    "                y3 = x * p.coef_\n",
    "                r2s[i] = sklearn.metrics.r2_score(y.reshape(-1,1),y2)\n",
    "                diffus2[i] *= p1.coef_\n",
    "                ks2[i] *= p1.coef_\n",
    "                resid[i] = np.mean(np.power(y-y3,2))\n",
    "                print(len(y[np.logical_not(np.isnan(x))]))\n",
    "                pcoef[i] = p.coef_\n"
   ]
  },
  {
   "cell_type": "code",
   "execution_count": 277,
   "id": "46a76948",
   "metadata": {},
   "outputs": [
    {
     "data": {
      "text/plain": [
       "Text(0, 0.5, 'r2')"
      ]
     },
     "execution_count": 277,
     "metadata": {},
     "output_type": "execute_result"
    },
    {
     "data": {
      "image/png": "[encoded data removed]",
      "text/plain": [
       "<Figure size 648x504 with 1 Axes>"
      ]
     },
     "metadata": {
      "needs_background": "light"
     },
     "output_type": "display_data"
    }
   ],
   "source": [
    "plt.rcParams.update({'font.size': 22})\n",
    "fig, ax = plt.subplots(figsize = (9,7))\n",
    "plt.plot((diffus/ks),r2s,'k.', markersize=10)\n",
    "plt.xscale('log')\n",
    "plt.xlabel('D/k')\n",
    "plt.ylabel('r2')\n"
   ]
  },
  {
   "cell_type": "code",
   "execution_count": null,
   "id": "e71106bb",
   "metadata": {},
   "outputs": [],
   "source": []
  },
  {
   "cell_type": "code",
   "execution_count": 285,
   "id": "bc815509",
   "metadata": {},
   "outputs": [
    {
     "data": {
      "text/plain": [
       "Text(0, 0.5, 'r2')"
      ]
     },
     "execution_count": 285,
     "metadata": {},
     "output_type": "execute_result"
    },
    {
     "data": {
      "image/png": "[encoded data removed]",
      "text/plain": [
       "<Figure size 648x504 with 1 Axes>"
      ]
     },
     "metadata": {
      "needs_background": "light"
     },
     "output_type": "display_data"
    }
   ],
   "source": [
    "plt.rcParams.update({'font.size': 22})\n",
    "fig, ax = plt.subplots(figsize = (9,7))\n",
    "plt.plot((ks2),r2s,'k.', markersize=10)\n",
    "plt.xscale('log')\n",
    "plt.xlabel('k')\n",
    "plt.ylabel('r2')\n"
   ]
  },
  {
   "cell_type": "code",
   "execution_count": 289,
   "id": "86f91a20",
   "metadata": {},
   "outputs": [
    {
     "data": {
      "text/plain": [
       "Text(0, 0.5, 'run count')"
      ]
     },
     "execution_count": 289,
     "metadata": {},
     "output_type": "execute_result"
    },
    {
     "data": {
      "image/png": "[encoded data removed]",
      "text/plain": [
       "<Figure size 648x504 with 1 Axes>"
      ]
     },
     "metadata": {
      "needs_background": "light"
     },
     "output_type": "display_data"
    }
   ],
   "source": [
    "plt.rcParams.update({'font.size': 22})\n",
    "fig, ax = plt.subplots(figsize = (9,7))\n",
    "plt.hist(np.divide(diffus[r2s>.4],ks[r2s>.4]),edgecolor='w',color='k',bins = np.power(10.0,np.arange(0,8,.55)))\n",
    "plt.xscale('log')\n",
    "plt.xlabel('D/k')\n",
    "plt.ylabel('run count')"
   ]
  },
  {
   "cell_type": "code",
   "execution_count": 259,
   "id": "7fa7ca78",
   "metadata": {},
   "outputs": [
    {
     "ename": "ValueError",
     "evalue": "Integers to negative integer powers are not allowed.",
     "output_type": "error",
     "traceback": [
      "\u001b[0;31m---------------------------------------------------------------------------\u001b[0m",
      "\u001b[0;31mValueError\u001b[0m                                Traceback (most recent call last)",
      "\u001b[0;32m<ipython-input-259-298f844fef6c>\u001b[0m in \u001b[0;36m<module>\u001b[0;34m\u001b[0m\n\u001b[0;32m----> 1\u001b[0;31m \u001b[0mnp\u001b[0m\u001b[0;34m.\u001b[0m\u001b[0mpower\u001b[0m\u001b[0;34m(\u001b[0m\u001b[0;36m10\u001b[0m\u001b[0;34m,\u001b[0m\u001b[0mnp\u001b[0m\u001b[0;34m.\u001b[0m\u001b[0marange\u001b[0m\u001b[0;34m(\u001b[0m\u001b[0;34m-\u001b[0m\u001b[0;36m10\u001b[0m\u001b[0;34m,\u001b[0m\u001b[0;34m-\u001b[0m\u001b[0;36m4\u001b[0m\u001b[0;34m)\u001b[0m\u001b[0;34m)\u001b[0m\u001b[0;34m\u001b[0m\u001b[0;34m\u001b[0m\u001b[0m\n\u001b[0m",
      "\u001b[0;31mValueError\u001b[0m: Integers to negative integer powers are not allowed."
     ]
    }
   ],
   "source": [
    "np.power(10,np.arange(-10,-4))"
   ]
  },
  {
   "cell_type": "code",
   "execution_count": 270,
   "id": "90415eb5",
   "metadata": {},
   "outputs": [
    {
     "data": {
      "text/plain": [
       "Text(0, 0.5, 'run count')"
      ]
     },
     "execution_count": 270,
     "metadata": {},
     "output_type": "execute_result"
    },
    {
     "data": {
      "image/png": "[encoded data removed]",
      "text/plain": [
       "<Figure size 648x504 with 1 Axes>"
      ]
     },
     "metadata": {
      "needs_background": "light"
     },
     "output_type": "display_data"
    }
   ],
   "source": [
    "plt.rcParams.update({'font.size': 22})\n",
    "fig, ax = plt.subplots(figsize = (9,7))\n",
    "plt.hist((ks[r2s>.4]),edgecolor='w',color='k',bins = np.power(10.0,np.arange(-10,-4,.55)))\n",
    "plt.xscale('log')\n",
    "plt.xlabel('k')\n",
    "plt.ylabel('run count')"
   ]
  },
  {
   "cell_type": "code",
   "execution_count": 293,
   "id": "7e4fa61b",
   "metadata": {},
   "outputs": [
    {
     "data": {
      "text/plain": [
       "Text(0, 0.5, 'r2')"
      ]
     },
     "execution_count": 293,
     "metadata": {},
     "output_type": "execute_result"
    },
    {
     "data": {
      "image/png": "[encoded data removed]",
      "text/plain": [
       "<Figure size 648x504 with 1 Axes>"
      ]
     },
     "metadata": {
      "needs_background": "light"
     },
     "output_type": "display_data"
    }
   ],
   "source": [
    "plt.rcParams.update({'font.size': 22})\n",
    "fig, ax = plt.subplots(figsize = (9,7))\n",
    "plt.plot((careas)*90**2/1e6,r2s,'k.', markersize=10)\n",
    "plt.xscale('log')\n",
    "plt.xlabel('Critical area (km2)')\n",
    "plt.ylabel('r2')\n"
   ]
  },
  {
   "cell_type": "code",
   "execution_count": 304,
   "id": "06da3870",
   "metadata": {},
   "outputs": [
    {
     "data": {
      "text/plain": [
       "Text(0, 0.5, 'run count')"
      ]
     },
     "execution_count": 304,
     "metadata": {},
     "output_type": "execute_result"
    },
    {
     "data": {
      "image/png": "[encoded data removed]",
      "text/plain": [
       "<Figure size 648x504 with 1 Axes>"
      ]
     },
     "metadata": {
      "needs_background": "light"
     },
     "output_type": "display_data"
    }
   ],
   "source": [
    "plt.rcParams.update({'font.size': 22})\n",
    "fig, ax = plt.subplots(figsize = (9,7))\n",
    "plt.hist(careas[r2s>.4]*90**2/1e6,edgecolor='w',color='k',bins = np.power(10.0,np.arange(-1,2,.2)))\n",
    "plt.xscale('log')\n",
    "plt.xlabel('Critical area (km2)')\n",
    "plt.ylabel('run count')"
   ]
  },
  {
   "cell_type": "code",
   "execution_count": 122,
   "id": "444185af",
   "metadata": {},
   "outputs": [
    {
     "data": {
      "image/png": "[encoded data removed]",
      "text/plain": [
       "<Figure size 432x288 with 1 Axes>"
      ]
     },
     "metadata": {
      "needs_background": "light"
     },
     "output_type": "display_data"
    }
   ],
   "source": [
    "#plt.hist(plt.plot(diffus[r2s>.4]))\n",
    "#plt.plot(dfs[np.argmax(r2s)][:len(a)],a['ebe_mmkyr'],'.')\n"
   ]
  },
  {
   "cell_type": "code",
   "execution_count": 15,
   "id": "bab8f8cd",
   "metadata": {},
   "outputs": [
    {
     "data": {
      "text/plain": [
       "array([1.35171591e-05, 2.47521956e-04, 8.90428269e-08, 4.44249167e-06,\n",
       "       3.04726137e-03, 1.07334156e-04, 1.22966890e-05, 7.73824977e-05,\n",
       "       2.22489836e-09, 3.70245556e-03, 7.16858240e-07, 5.63449033e-08])"
      ]
     },
     "execution_count": 15,
     "metadata": {},
     "output_type": "execute_result"
    }
   ],
   "source": [
    "ks"
   ]
  },
  {
   "cell_type": "code",
   "execution_count": 14,
   "id": "2d5c8b2a",
   "metadata": {},
   "outputs": [
    {
     "data": {
      "text/plain": [
       "[<matplotlib.lines.Line2D at 0x186a41070>]"
      ]
     },
     "execution_count": 14,
     "metadata": {},
     "output_type": "execute_result"
    },
    {
     "data": {
      "image/png": "[encoded data removed]",
      "text/plain": [
       "<Figure size 432x288 with 1 Axes>"
      ]
     },
     "metadata": {
      "needs_background": "light"
     },
     "output_type": "display_data"
    }
   ],
   "source": [
    "plt.plot(ks,r2s,'.')\n",
    "#plt.xscale('log')\n",
    "#plt.yscale('log')"
   ]
  },
  {
   "cell_type": "code",
   "execution_count": 33,
   "id": "86225474",
   "metadata": {},
   "outputs": [
    {
     "data": {
      "image/png": "[encoded data removed]",
      "text/plain": [
       "<Figure size 432x288 with 1 Axes>"
      ]
     },
     "metadata": {
      "needs_background": "light"
     },
     "output_type": "display_data"
    }
   ],
   "source": [
    "plt.plot(dfs[966][:len(a)],a['ebe_mmkyr'],'.')\n",
    "plt.xscale('log')\n",
    "plt.yscale('log')"
   ]
  },
  {
   "cell_type": "code",
   "execution_count": 13,
   "id": "1cf01faf",
   "metadata": {},
   "outputs": [
    {
     "data": {
      "text/plain": [
       "array([0., 0., 0., 0., 0., 0., 0., 0., 0., 0., 0., 0.])"
      ]
     },
     "execution_count": 13,
     "metadata": {},
     "output_type": "execute_result"
    }
   ],
   "source": [
    "Gs"
   ]
  },
  {
   "cell_type": "code",
   "execution_count": 43,
   "id": "9e4913ea",
   "metadata": {},
   "outputs": [
    {
     "data": {
      "text/plain": [
       "126"
      ]
     },
     "execution_count": 43,
     "metadata": {},
     "output_type": "execute_result"
    }
   ],
   "source": [
    "np.argmin(np.abs(ns-1.9286))"
   ]
  },
  {
   "cell_type": "code",
   "execution_count": 54,
   "id": "860d810e",
   "metadata": {},
   "outputs": [
    {
     "data": {
      "image/png": "[encoded data removed]",
      "text/plain": [
       "<Figure size 432x288 with 1 Axes>"
      ]
     },
     "metadata": {
      "needs_background": "light"
     },
     "output_type": "display_data"
    }
   ],
   "source": [
    "plt.plot(slpsall[:len(a)],a['ebe_mmkyr'],'.')\n",
    "plt.xscale('log')\n",
    "plt.yscale('log')\n",
    "#plt.plot(np.log(dfs[np.argmax(a)]))"
   ]
  },
  {
   "cell_type": "code",
   "execution_count": 52,
   "id": "96c7e452",
   "metadata": {},
   "outputs": [
    {
     "data": {
      "text/plain": [
       "3.804728305633972e-05"
      ]
     },
     "execution_count": 52,
     "metadata": {},
     "output_type": "execute_result"
    }
   ],
   "source": [
    "diffus[np.argmax(r2s)]"
   ]
  },
  {
   "cell_type": "code",
   "execution_count": null,
   "id": "b8b190c3",
   "metadata": {},
   "outputs": [],
   "source": [
    "# from sklearn import linear_model as lm\n",
    "# import sklearn\n",
    "# r2s = np.zeros((len(ms),len(ns)))\n",
    "# for i in range(20):#range(len(ms)):\n",
    "#     for j in range(16):#range(len(ns)):\n",
    "#         if dfs[i,j] is None:\n",
    "#             continue\n",
    "    \n",
    "#         y = np.log(np.float64(a['ebe_mmkyr'])/1000)\n",
    "#         x = np.log(dfs[i,j])\n",
    "#         I_min = np.where(a['slp_ave'][:n]/1000>1e-1)[0]\n",
    "#         x=x[I_min]\n",
    "#         y=y[I_min]\n",
    "#         xi = x.copy()\n",
    "#         I = np.where(np.logical_or(np.isnan(x),np.isinf(x)))[0]\n",
    "#         x=np.delete(x,I)\n",
    "#         y=np.delete(y,I)\n",
    "#         I2 = np.where(np.logical_or(np.isnan(y),np.isnan(x)))[0]\n",
    "#         x = np.delete(x,I2)\n",
    "#         y = np.delete(y,I2)\n",
    "#         l  = lm.LinearRegression()\n",
    "#         if (len(x)==0) or (len(y)==0):\n",
    "#             continue\n",
    "#         p = l.fit(x.reshape(-1,1),y.reshape(-1,1))\n",
    "#         y2 = p.predict(x.reshape(-1,1))\n",
    "#         r2s[i,j]=sklearn.metrics.r2_score(y.reshape(-1,1),y2)\n"
   ]
  },
  {
   "cell_type": "code",
   "execution_count": 84,
   "id": "b1b79b5c",
   "metadata": {},
   "outputs": [
    {
     "data": {
      "text/plain": [
       "(array([228.,  16.,  13.,  16.,  14.,   7.,   3.,   3.,   4.,   4.]),\n",
       " array([1.13918299e-07, 9.13308192e-02, 1.82661524e-01, 2.73992230e-01,\n",
       "        3.65322935e-01, 4.56653640e-01, 5.47984346e-01, 6.39315051e-01,\n",
       "        7.30645756e-01, 8.21976461e-01, 9.13307167e-01]),\n",
       " <BarContainer object of 10 artists>)"
      ]
     },
     "execution_count": 84,
     "metadata": {},
     "output_type": "execute_result"
    },
    {
     "data": {
      "image/png": "[encoded data removed]",
      "text/plain": [
       "<Figure size 432x288 with 1 Axes>"
      ]
     },
     "metadata": {
      "needs_background": "light"
     },
     "output_type": "display_data"
    }
   ],
   "source": [
    "plt.hist(diffus[np.logical_and(r2s<.38,r2s>.36)])"
   ]
  },
  {
   "cell_type": "code",
   "execution_count": 15,
   "id": "9166d23b",
   "metadata": {},
   "outputs": [
    {
     "ename": "IndexError",
     "evalue": "too many indices for array: array is 1-dimensional, but 2 were indexed",
     "output_type": "error",
     "traceback": [
      "\u001b[0;31m---------------------------------------------------------------------------\u001b[0m",
      "\u001b[0;31mIndexError\u001b[0m                                Traceback (most recent call last)",
      "\u001b[0;32m<ipython-input-15-a10086bdeef2>\u001b[0m in \u001b[0;36m<module>\u001b[0;34m\u001b[0m\n\u001b[0;32m----> 1\u001b[0;31m \u001b[0ma\u001b[0m\u001b[0;34m[\u001b[0m\u001b[0;34m'ksn'\u001b[0m\u001b[0;34m]\u001b[0m \u001b[0;34m=\u001b[0m \u001b[0ma\u001b[0m\u001b[0;34m[\u001b[0m\u001b[0;34m'ebe_mmkyr'\u001b[0m\u001b[0;34m]\u001b[0m\u001b[0;34m.\u001b[0m\u001b[0mto_numpy\u001b[0m\u001b[0;34m(\u001b[0m\u001b[0;34m)\u001b[0m\u001b[0;34m/\u001b[0m\u001b[0mdfs\u001b[0m\u001b[0;34m[\u001b[0m\u001b[0;36m4\u001b[0m\u001b[0;34m,\u001b[0m\u001b[0;36m5\u001b[0m\u001b[0;34m]\u001b[0m\u001b[0;34m[\u001b[0m\u001b[0;34m:\u001b[0m\u001b[0mlen\u001b[0m\u001b[0;34m(\u001b[0m\u001b[0ma\u001b[0m\u001b[0;34m)\u001b[0m\u001b[0;34m]\u001b[0m\u001b[0;34m\u001b[0m\u001b[0;34m\u001b[0m\u001b[0m\n\u001b[0m\u001b[1;32m      2\u001b[0m \u001b[0ma\u001b[0m\u001b[0;34m.\u001b[0m\u001b[0mto_file\u001b[0m\u001b[0;34m(\u001b[0m\u001b[0;34m'octo_327_data/'\u001b[0m\u001b[0;34m)\u001b[0m\u001b[0;34m\u001b[0m\u001b[0;34m\u001b[0m\u001b[0m\n\u001b[1;32m      3\u001b[0m \u001b[0mplt\u001b[0m\u001b[0;34m.\u001b[0m\u001b[0mplot\u001b[0m\u001b[0;34m(\u001b[0m\u001b[0ma\u001b[0m\u001b[0;34m[\u001b[0m\u001b[0;34m'ksn'\u001b[0m\u001b[0;34m]\u001b[0m\u001b[0;34m,\u001b[0m\u001b[0ma\u001b[0m\u001b[0;34m[\u001b[0m\u001b[0;34m'ebe_mmkyr'\u001b[0m\u001b[0;34m]\u001b[0m\u001b[0;34m,\u001b[0m\u001b[0;34m'.'\u001b[0m\u001b[0;34m)\u001b[0m\u001b[0;34m\u001b[0m\u001b[0;34m\u001b[0m\u001b[0m\n\u001b[1;32m      4\u001b[0m \u001b[0mplt\u001b[0m\u001b[0;34m.\u001b[0m\u001b[0myscale\u001b[0m\u001b[0;34m(\u001b[0m\u001b[0;34m'log'\u001b[0m\u001b[0;34m)\u001b[0m\u001b[0;34m\u001b[0m\u001b[0;34m\u001b[0m\u001b[0m\n\u001b[1;32m      5\u001b[0m \u001b[0mplt\u001b[0m\u001b[0;34m.\u001b[0m\u001b[0mxscale\u001b[0m\u001b[0;34m(\u001b[0m\u001b[0;34m'log'\u001b[0m\u001b[0;34m)\u001b[0m\u001b[0;34m\u001b[0m\u001b[0;34m\u001b[0m\u001b[0m\n",
      "\u001b[0;31mIndexError\u001b[0m: too many indices for array: array is 1-dimensional, but 2 were indexed"
     ]
    }
   ],
   "source": [
    "a['ksn'] = a['ebe_mmkyr'].to_numpy()/dfs[4,5][:len(a)]\n",
    "a.to_file('octo_327_data/')\n",
    "plt.plot(a['ksn'],a['ebe_mmkyr'],'.')\n",
    "plt.yscale('log')\n",
    "plt.xscale('log')"
   ]
  },
  {
   "cell_type": "code",
   "execution_count": 73,
   "id": "858b3fea",
   "metadata": {},
   "outputs": [
    {
     "ename": "IndexError",
     "evalue": "too many indices for array: array is 1-dimensional, but 2 were indexed",
     "output_type": "error",
     "traceback": [
      "\u001b[0;31m---------------------------------------------------------------------------\u001b[0m",
      "\u001b[0;31mIndexError\u001b[0m                                Traceback (most recent call last)",
      "\u001b[0;32m<ipython-input-73-706c09e49541>\u001b[0m in \u001b[0;36m<module>\u001b[0;34m\u001b[0m\n\u001b[0;32m----> 1\u001b[0;31m \u001b[0mplt\u001b[0m\u001b[0;34m.\u001b[0m\u001b[0mplot\u001b[0m\u001b[0;34m(\u001b[0m\u001b[0mdfs\u001b[0m\u001b[0;34m[\u001b[0m\u001b[0;36m4\u001b[0m\u001b[0;34m,\u001b[0m\u001b[0;36m10\u001b[0m\u001b[0;34m]\u001b[0m\u001b[0;34m,\u001b[0m\u001b[0ma\u001b[0m\u001b[0;34m[\u001b[0m\u001b[0;34m'ebe_mmkyr'\u001b[0m\u001b[0;34m]\u001b[0m\u001b[0;34m,\u001b[0m\u001b[0;34m'.'\u001b[0m\u001b[0;34m)\u001b[0m\u001b[0;34m\u001b[0m\u001b[0;34m\u001b[0m\u001b[0m\n\u001b[0m\u001b[1;32m      2\u001b[0m \u001b[0mplt\u001b[0m\u001b[0;34m.\u001b[0m\u001b[0myscale\u001b[0m\u001b[0;34m(\u001b[0m\u001b[0;34m'log'\u001b[0m\u001b[0;34m)\u001b[0m\u001b[0;34m\u001b[0m\u001b[0;34m\u001b[0m\u001b[0m\n\u001b[1;32m      3\u001b[0m \u001b[0mplt\u001b[0m\u001b[0;34m.\u001b[0m\u001b[0mxscale\u001b[0m\u001b[0;34m(\u001b[0m\u001b[0;34m'log'\u001b[0m\u001b[0;34m)\u001b[0m\u001b[0;34m\u001b[0m\u001b[0;34m\u001b[0m\u001b[0m\n\u001b[1;32m      4\u001b[0m \u001b[0mplt\u001b[0m\u001b[0;34m.\u001b[0m\u001b[0mxlim\u001b[0m\u001b[0;34m(\u001b[0m\u001b[0;34m[\u001b[0m\u001b[0;36m10e-11\u001b[0m\u001b[0;34m,\u001b[0m\u001b[0;36m10e-5\u001b[0m\u001b[0;34m]\u001b[0m\u001b[0;34m)\u001b[0m\u001b[0;34m\u001b[0m\u001b[0;34m\u001b[0m\u001b[0m\n",
      "\u001b[0;31mIndexError\u001b[0m: too many indices for array: array is 1-dimensional, but 2 were indexed"
     ]
    }
   ],
   "source": [
    "plt.plot(dfs[4,10],a['ebe_mmkyr'],'.')\n",
    "plt.yscale('log')\n",
    "plt.xscale('log')\n",
    "plt.xlim([10e-11,10e-5])"
   ]
  },
  {
   "cell_type": "code",
   "execution_count": 13,
   "id": "9e0653d4",
   "metadata": {},
   "outputs": [
    {
     "data": {
      "text/plain": [
       "0.31561967388953904"
      ]
     },
     "execution_count": 13,
     "metadata": {},
     "output_type": "execute_result"
    },
    {
     "data": {
      "image/png": "[encoded data removed]",
      "text/plain": [
       "<Figure size 432x288 with 1 Axes>"
      ]
     },
     "metadata": {
      "needs_background": "light"
     },
     "output_type": "display_data"
    }
   ],
   "source": [
    "y = np.log(np.float64(a['ebe_mmkyr'])/1000)\n",
    "x = np.log(np.float64(a['slp_ave'][:n]/1000))\n",
    "I0 = np.where(x<-1.5)[0]\n",
    "xi = x.copy()\n",
    "x = np.delete(x,I0)\n",
    "y = np.delete(y,I0)\n",
    "I = np.where(np.logical_or(np.isnan(x),np.isinf(x)))[0]\n",
    "x=np.delete(x,I)\n",
    "y=np.delete(y,I)\n",
    "I2 = np.where(np.logical_or(np.isnan(y),np.isnan(x)))[0]\n",
    "x = np.delete(x,I2)\n",
    "y = np.delete(y,I2)\n",
    "l  = lm.LinearRegression()\n",
    "p = l.fit(x.reshape(-1,1),y.reshape(-1,1))\n",
    "y2 = p.predict(x.reshape(-1,1))\n",
    "plt.plot(x,y,'.')\n",
    "sklearn.metrics.r2_score(y.reshape(-1,1),y2)\n"
   ]
  },
  {
   "cell_type": "code",
   "execution_count": 72,
   "id": "4575b141",
   "metadata": {},
   "outputs": [
    {
     "ename": "ValueError",
     "evalue": "x and y must have same first dimension, but have shapes (19, 41) and (3553,)",
     "output_type": "error",
     "traceback": [
      "\u001b[0;31m---------------------------------------------------------------------------\u001b[0m",
      "\u001b[0;31mValueError\u001b[0m                                Traceback (most recent call last)",
      "\u001b[0;32m<ipython-input-72-cf04eee04326>\u001b[0m in \u001b[0;36m<module>\u001b[0;34m\u001b[0m\n\u001b[0;32m----> 1\u001b[0;31m \u001b[0mplt\u001b[0m\u001b[0;34m.\u001b[0m\u001b[0mplot\u001b[0m\u001b[0;34m(\u001b[0m\u001b[0mslps1\u001b[0m\u001b[0;34m,\u001b[0m\u001b[0ma\u001b[0m\u001b[0;34m[\u001b[0m\u001b[0;34m'ebe_mmkyr'\u001b[0m\u001b[0;34m]\u001b[0m\u001b[0;34m,\u001b[0m\u001b[0;34m'.'\u001b[0m\u001b[0;34m)\u001b[0m\u001b[0;34m\u001b[0m\u001b[0;34m\u001b[0m\u001b[0m\n\u001b[0m\u001b[1;32m      2\u001b[0m \u001b[0mplt\u001b[0m\u001b[0;34m.\u001b[0m\u001b[0mxscale\u001b[0m\u001b[0;34m(\u001b[0m\u001b[0;34m'log'\u001b[0m\u001b[0;34m)\u001b[0m\u001b[0;34m\u001b[0m\u001b[0;34m\u001b[0m\u001b[0m\n\u001b[1;32m      3\u001b[0m \u001b[0mplt\u001b[0m\u001b[0;34m.\u001b[0m\u001b[0myscale\u001b[0m\u001b[0;34m(\u001b[0m\u001b[0;34m'log'\u001b[0m\u001b[0;34m)\u001b[0m\u001b[0;34m\u001b[0m\u001b[0;34m\u001b[0m\u001b[0m\n",
      "\u001b[0;32m~/opt/miniconda3/envs/ee/lib/python3.9/site-packages/matplotlib/pyplot.py\u001b[0m in \u001b[0;36mplot\u001b[0;34m(scalex, scaley, data, *args, **kwargs)\u001b[0m\n\u001b[1;32m   2838\u001b[0m \u001b[0;34m@\u001b[0m\u001b[0m_copy_docstring_and_deprecators\u001b[0m\u001b[0;34m(\u001b[0m\u001b[0mAxes\u001b[0m\u001b[0;34m.\u001b[0m\u001b[0mplot\u001b[0m\u001b[0;34m)\u001b[0m\u001b[0;34m\u001b[0m\u001b[0;34m\u001b[0m\u001b[0m\n\u001b[1;32m   2839\u001b[0m \u001b[0;32mdef\u001b[0m \u001b[0mplot\u001b[0m\u001b[0;34m(\u001b[0m\u001b[0;34m*\u001b[0m\u001b[0margs\u001b[0m\u001b[0;34m,\u001b[0m \u001b[0mscalex\u001b[0m\u001b[0;34m=\u001b[0m\u001b[0;32mTrue\u001b[0m\u001b[0;34m,\u001b[0m \u001b[0mscaley\u001b[0m\u001b[0;34m=\u001b[0m\u001b[0;32mTrue\u001b[0m\u001b[0;34m,\u001b[0m \u001b[0mdata\u001b[0m\u001b[0;34m=\u001b[0m\u001b[0;32mNone\u001b[0m\u001b[0;34m,\u001b[0m \u001b[0;34m**\u001b[0m\u001b[0mkwargs\u001b[0m\u001b[0;34m)\u001b[0m\u001b[0;34m:\u001b[0m\u001b[0;34m\u001b[0m\u001b[0;34m\u001b[0m\u001b[0m\n\u001b[0;32m-> 2840\u001b[0;31m     return gca().plot(\n\u001b[0m\u001b[1;32m   2841\u001b[0m         \u001b[0;34m*\u001b[0m\u001b[0margs\u001b[0m\u001b[0;34m,\u001b[0m \u001b[0mscalex\u001b[0m\u001b[0;34m=\u001b[0m\u001b[0mscalex\u001b[0m\u001b[0;34m,\u001b[0m \u001b[0mscaley\u001b[0m\u001b[0;34m=\u001b[0m\u001b[0mscaley\u001b[0m\u001b[0;34m,\u001b[0m\u001b[0;34m\u001b[0m\u001b[0;34m\u001b[0m\u001b[0m\n\u001b[1;32m   2842\u001b[0m         **({\"data\": data} if data is not None else {}), **kwargs)\n",
      "\u001b[0;32m~/opt/miniconda3/envs/ee/lib/python3.9/site-packages/matplotlib/axes/_axes.py\u001b[0m in \u001b[0;36mplot\u001b[0;34m(self, scalex, scaley, data, *args, **kwargs)\u001b[0m\n\u001b[1;32m   1741\u001b[0m         \"\"\"\n\u001b[1;32m   1742\u001b[0m         \u001b[0mkwargs\u001b[0m \u001b[0;34m=\u001b[0m \u001b[0mcbook\u001b[0m\u001b[0;34m.\u001b[0m\u001b[0mnormalize_kwargs\u001b[0m\u001b[0;34m(\u001b[0m\u001b[0mkwargs\u001b[0m\u001b[0;34m,\u001b[0m \u001b[0mmlines\u001b[0m\u001b[0;34m.\u001b[0m\u001b[0mLine2D\u001b[0m\u001b[0;34m)\u001b[0m\u001b[0;34m\u001b[0m\u001b[0;34m\u001b[0m\u001b[0m\n\u001b[0;32m-> 1743\u001b[0;31m         \u001b[0mlines\u001b[0m \u001b[0;34m=\u001b[0m \u001b[0;34m[\u001b[0m\u001b[0;34m*\u001b[0m\u001b[0mself\u001b[0m\u001b[0;34m.\u001b[0m\u001b[0m_get_lines\u001b[0m\u001b[0;34m(\u001b[0m\u001b[0;34m*\u001b[0m\u001b[0margs\u001b[0m\u001b[0;34m,\u001b[0m \u001b[0mdata\u001b[0m\u001b[0;34m=\u001b[0m\u001b[0mdata\u001b[0m\u001b[0;34m,\u001b[0m \u001b[0;34m**\u001b[0m\u001b[0mkwargs\u001b[0m\u001b[0;34m)\u001b[0m\u001b[0;34m]\u001b[0m\u001b[0;34m\u001b[0m\u001b[0;34m\u001b[0m\u001b[0m\n\u001b[0m\u001b[1;32m   1744\u001b[0m         \u001b[0;32mfor\u001b[0m \u001b[0mline\u001b[0m \u001b[0;32min\u001b[0m \u001b[0mlines\u001b[0m\u001b[0;34m:\u001b[0m\u001b[0;34m\u001b[0m\u001b[0;34m\u001b[0m\u001b[0m\n\u001b[1;32m   1745\u001b[0m             \u001b[0mself\u001b[0m\u001b[0;34m.\u001b[0m\u001b[0madd_line\u001b[0m\u001b[0;34m(\u001b[0m\u001b[0mline\u001b[0m\u001b[0;34m)\u001b[0m\u001b[0;34m\u001b[0m\u001b[0;34m\u001b[0m\u001b[0m\n",
      "\u001b[0;32m~/opt/miniconda3/envs/ee/lib/python3.9/site-packages/matplotlib/axes/_base.py\u001b[0m in \u001b[0;36m__call__\u001b[0;34m(self, data, *args, **kwargs)\u001b[0m\n\u001b[1;32m    271\u001b[0m                 \u001b[0mthis\u001b[0m \u001b[0;34m+=\u001b[0m \u001b[0margs\u001b[0m\u001b[0;34m[\u001b[0m\u001b[0;36m0\u001b[0m\u001b[0;34m]\u001b[0m\u001b[0;34m,\u001b[0m\u001b[0;34m\u001b[0m\u001b[0;34m\u001b[0m\u001b[0m\n\u001b[1;32m    272\u001b[0m                 \u001b[0margs\u001b[0m \u001b[0;34m=\u001b[0m \u001b[0margs\u001b[0m\u001b[0;34m[\u001b[0m\u001b[0;36m1\u001b[0m\u001b[0;34m:\u001b[0m\u001b[0;34m]\u001b[0m\u001b[0;34m\u001b[0m\u001b[0;34m\u001b[0m\u001b[0m\n\u001b[0;32m--> 273\u001b[0;31m             \u001b[0;32myield\u001b[0m \u001b[0;32mfrom\u001b[0m \u001b[0mself\u001b[0m\u001b[0;34m.\u001b[0m\u001b[0m_plot_args\u001b[0m\u001b[0;34m(\u001b[0m\u001b[0mthis\u001b[0m\u001b[0;34m,\u001b[0m \u001b[0mkwargs\u001b[0m\u001b[0;34m)\u001b[0m\u001b[0;34m\u001b[0m\u001b[0;34m\u001b[0m\u001b[0m\n\u001b[0m\u001b[1;32m    274\u001b[0m \u001b[0;34m\u001b[0m\u001b[0m\n\u001b[1;32m    275\u001b[0m     \u001b[0;32mdef\u001b[0m \u001b[0mget_next_color\u001b[0m\u001b[0;34m(\u001b[0m\u001b[0mself\u001b[0m\u001b[0;34m)\u001b[0m\u001b[0;34m:\u001b[0m\u001b[0;34m\u001b[0m\u001b[0;34m\u001b[0m\u001b[0m\n",
      "\u001b[0;32m~/opt/miniconda3/envs/ee/lib/python3.9/site-packages/matplotlib/axes/_base.py\u001b[0m in \u001b[0;36m_plot_args\u001b[0;34m(self, tup, kwargs)\u001b[0m\n\u001b[1;32m    397\u001b[0m \u001b[0;34m\u001b[0m\u001b[0m\n\u001b[1;32m    398\u001b[0m         \u001b[0;32mif\u001b[0m \u001b[0mx\u001b[0m\u001b[0;34m.\u001b[0m\u001b[0mshape\u001b[0m\u001b[0;34m[\u001b[0m\u001b[0;36m0\u001b[0m\u001b[0;34m]\u001b[0m \u001b[0;34m!=\u001b[0m \u001b[0my\u001b[0m\u001b[0;34m.\u001b[0m\u001b[0mshape\u001b[0m\u001b[0;34m[\u001b[0m\u001b[0;36m0\u001b[0m\u001b[0;34m]\u001b[0m\u001b[0;34m:\u001b[0m\u001b[0;34m\u001b[0m\u001b[0;34m\u001b[0m\u001b[0m\n\u001b[0;32m--> 399\u001b[0;31m             raise ValueError(f\"x and y must have same first dimension, but \"\n\u001b[0m\u001b[1;32m    400\u001b[0m                              f\"have shapes {x.shape} and {y.shape}\")\n\u001b[1;32m    401\u001b[0m         \u001b[0;32mif\u001b[0m \u001b[0mx\u001b[0m\u001b[0;34m.\u001b[0m\u001b[0mndim\u001b[0m \u001b[0;34m>\u001b[0m \u001b[0;36m2\u001b[0m \u001b[0;32mor\u001b[0m \u001b[0my\u001b[0m\u001b[0;34m.\u001b[0m\u001b[0mndim\u001b[0m \u001b[0;34m>\u001b[0m \u001b[0;36m2\u001b[0m\u001b[0;34m:\u001b[0m\u001b[0;34m\u001b[0m\u001b[0;34m\u001b[0m\u001b[0m\n",
      "\u001b[0;31mValueError\u001b[0m: x and y must have same first dimension, but have shapes (19, 41) and (3553,)"
     ]
    },
    {
     "data": {
      "image/png": "[encoded data removed]",
      "text/plain": [
       "<Figure size 432x288 with 1 Axes>"
      ]
     },
     "metadata": {
      "needs_background": "light"
     },
     "output_type": "display_data"
    }
   ],
   "source": [
    "plt.plot(slps1,a['ebe_mmkyr'],'.')\n",
    "plt.xscale('log')\n",
    "plt.yscale('log')"
   ]
  },
  {
   "cell_type": "code",
   "execution_count": null,
   "id": "4fcf311f",
   "metadata": {},
   "outputs": [],
   "source": [
    "y = np.log(np.float64(a['ebe_mmkyr'])/1000)\n",
    "x = np.log(np.float64(a['slps1']))\n",
    "xi = x.copy()\n",
    "I = np.where(np.logical_or(np.isnan(x),np.isinf(x)))[0]\n",
    "x=np.delete(x,I)\n",
    "y=np.delete(y,I)\n",
    "I2 = np.where(np.logical_or(np.isnan(y),np.isnan(x)))[0]\n",
    "x = np.delete(x,I2)\n",
    "y = np.delete(y,I2)\n",
    "l  = lm.LinearRegression()\n",
    "p = l.fit(x.reshape(-1,1),y.reshape(-1,1))\n",
    "y2 = p.predict(x.reshape(-1,1))\n",
    "sklearn.metrics.r2_score(y.reshape(-1,1),y2)"
   ]
  },
  {
   "cell_type": "code",
   "execution_count": 15,
   "id": "aeba4ce4",
   "metadata": {},
   "outputs": [
    {
     "ename": "SyntaxError",
     "evalue": "invalid syntax (<ipython-input-15-e6381bda8298>, line 4)",
     "output_type": "error",
     "traceback": [
      "\u001b[0;36m  File \u001b[0;32m\"<ipython-input-15-e6381bda8298>\"\u001b[0;36m, line \u001b[0;32m4\u001b[0m\n\u001b[0;31m    ax=plt.plot(eros1[len(a)],a['ebe_gcmyr'][/1000,'.')\u001b[0m\n\u001b[0m                                             ^\u001b[0m\n\u001b[0;31mSyntaxError\u001b[0m\u001b[0;31m:\u001b[0m invalid syntax\n"
     ]
    }
   ],
   "source": [
    "#ax=plt.plot(eros1[:len(a)],a['ebe_gcmyr']/1000,'.')\n",
    "slps_ = slps1\n",
    "slps_[slps_<1e-6] = np.nan\n",
    "ax=plt.plot(eros1[len(a)],a['ebe_gcmyr'][/1000,'.')\n",
    "plt.yscale('log')\n",
    "plt.xscale('log')\n",
    "#plt.xlim([1e-2, 1])\n",
    "#plt.ylim([1e-2, 1])\n",
    "\n",
    "#a['ebe_gcmyr'][a['erorate_est']<=0] = np.nan"
   ]
  },
  {
   "cell_type": "code",
   "execution_count": 20,
   "id": "6cf92106",
   "metadata": {},
   "outputs": [
    {
     "data": {
      "text/plain": [
       "array([[0., 0., 0., 0., 0., 0., 0., 0., 0., 0., 0., 0., 0., 0., 0., 0.],\n",
       "       [0., 0., 0., 0., 0., 0., 0., 0., 0., 0., 0., 0., 0., 0., 0., 0.],\n",
       "       [0., 0., 0., 0., 0., 0., 0., 0., 0., 0., 0., 0., 0., 0., 0., 0.],\n",
       "       [0., 0., 0., 0., 0., 0., 0., 0., 0., 0., 0., 0., 0., 0., 0., 0.],\n",
       "       [0., 0., 0., 0., 0., 0., 0., 0., 0., 0., 0., 0., 0., 0., 0., 0.],\n",
       "       [0., 0., 0., 0., 0., 0., 0., 0., 0., 0., 0., 0., 0., 0., 0., 0.],\n",
       "       [0., 0., 0., 0., 0., 0., 0., 0., 0., 0., 0., 0., 0., 0., 0., 0.],\n",
       "       [0., 0., 0., 0., 0., 0., 0., 0., 0., 0., 0., 0., 0., 0., 0., 0.],\n",
       "       [0., 0., 0., 0., 0., 0., 0., 0., 0., 0., 0., 0., 0., 0., 0., 0.],\n",
       "       [0., 0., 0., 0., 0., 0., 0., 0., 0., 0., 0., 0., 0., 0., 0., 0.],\n",
       "       [0., 0., 0., 0., 0., 0., 0., 0., 0., 0., 0., 0., 0., 0., 0., 0.],\n",
       "       [0., 0., 0., 0., 0., 0., 0., 0., 0., 0., 0., 0., 0., 0., 0., 0.],\n",
       "       [0., 0., 0., 0., 0., 0., 0., 0., 0., 0., 0., 0., 0., 0., 0., 0.],\n",
       "       [0., 0., 0., 0., 0., 0., 0., 0., 0., 0., 0., 0., 0., 0., 0., 0.],\n",
       "       [0., 0., 0., 0., 0., 0., 0., 0., 0., 0., 0., 0., 0., 0., 0., 0.],\n",
       "       [0., 0., 0., 0., 0., 0., 0., 0., 0., 0., 0., 0., 0., 0., 0., 0.],\n",
       "       [0., 0., 0., 0., 0., 0., 0., 0., 0., 0., 0., 0., 0., 0., 0., 0.],\n",
       "       [0., 0., 0., 0., 0., 0., 0., 0., 0., 0., 0., 0., 0., 0., 0., 0.],\n",
       "       [0., 0., 0., 0., 0., 0., 0., 0., 0., 0., 0., 0., 0., 0., 0., 0.],\n",
       "       [0., 0., 0., 0., 0., 0., 0., 0., 0., 0., 0., 0., 0., 0., 0., 0.]])"
      ]
     },
     "execution_count": 20,
     "metadata": {},
     "output_type": "execute_result"
    }
   ],
   "source": [
    "r2s"
   ]
  },
  {
   "cell_type": "code",
   "execution_count": null,
   "id": "7ddd221a",
   "metadata": {},
   "outputs": [],
   "source": [
    "from sklearn import linear_model as lm\n",
    "ax=plt.plot(slps1[1:3500],np.float64(a['ebe_mmkyr'][1:3500])/1000,'.')\n",
    "erate = np.float64(a['ebe_mmkyr'][1:n])/1000\n",
    "slps1 = slps1[1:n]\n",
    "I = np.where(slps1 ==0)\n",
    "np.delete(slps1,I)\n",
    "slps1 = erate = np.delete(erate,I)\n",
    "I2 = np.where(np.isnan(erate))\n",
    "slps1 = np.delete(slps1,I2)\n",
    "erate = np.delete(erate,I2)\n",
    "l  = lm.LinearRegression()\n",
    "l.fit(slps1.reshape(-1,1),erate.reshape(-1,1))\n",
    "plt.yscale('log')\n",
    "plt.xscale('log')"
   ]
  },
  {
   "cell_type": "code",
   "execution_count": 47,
   "id": "68cab319",
   "metadata": {},
   "outputs": [
    {
     "data": {
      "image/png": "[encoded data removed]",
      "text/plain": [
       "<Figure size 432x288 with 1 Axes>"
      ]
     },
     "metadata": {
      "needs_background": "light"
     },
     "output_type": "display_data"
    }
   ],
   "source": [
    "ax=plt.plot(np.float64(a['slp_ave'][1:3500]/3500),np.float64(a['ebe_mmkyr'][1:3500])/1000,'.')\n",
    "plt.yscale('log')\n",
    "plt.xscale('log')"
   ]
  },
  {
   "cell_type": "code",
   "execution_count": 109,
   "id": "95b841a1",
   "metadata": {},
   "outputs": [
    {
     "data": {
      "text/plain": [
       "<matplotlib.image.AxesImage at 0x187928d60>"
      ]
     },
     "execution_count": 109,
     "metadata": {},
     "output_type": "execute_result"
    },
    {
     "data": {
      "image/png": "[encoded data removed]",
      "text/plain": [
       "<Figure size 432x288 with 1 Axes>"
      ]
     },
     "metadata": {
      "needs_background": "light"
     },
     "output_type": "display_data"
    }
   ],
   "source": [
    "plt.imshow(f.A)"
   ]
  },
  {
   "cell_type": "code",
   "execution_count": 114,
   "id": "a9b464e0",
   "metadata": {},
   "outputs": [
    {
     "data": {
      "text/plain": [
       "<matplotlib.image.AxesImage at 0x187c49c10>"
      ]
     },
     "execution_count": 114,
     "metadata": {},
     "output_type": "execute_result"
    },
    {
     "data": {
      "image/png": "[encoded data removed]",
      "text/plain": [
       "<Figure size 432x288 with 1 Axes>"
      ]
     },
     "metadata": {
      "needs_background": "light"
     },
     "output_type": "display_data"
    }
   ],
   "source": [
    "plt.imshow(A)"
   ]
  },
  {
   "cell_type": "code",
   "execution_count": 40,
   "id": "11582a5b",
   "metadata": {},
   "outputs": [
    {
     "data": {
      "image/png": "[encoded data removed]",
      "text/plain": [
       "<Figure size 432x288 with 1 Axes>"
      ]
     },
     "metadata": {
      "needs_background": "light"
     },
     "output_type": "display_data"
    }
   ],
   "source": [
    "#ax=plt.plot(eros1[:len(a)],a['ebe_gcmyr']/1000,'.')\n",
    "#ax=plt.plot(slps1[:len(a)],a['slp_ave'],'.')\n",
    "ax=plt.plot(eros1[:30],np.float64(a['slp_ave'][:30])/1000,'.')\n",
    "\n",
    "#plt.yscale('log')\n",
    "#plt.xscale('log')\n",
    "#plt.xlim([5e-4, 1])"
   ]
  },
  {
   "cell_type": "code",
   "execution_count": 119,
   "id": "0c48a34c",
   "metadata": {},
   "outputs": [
    {
     "data": {
      "text/plain": [
       "28"
      ]
     },
     "execution_count": 119,
     "metadata": {},
     "output_type": "execute_result"
    }
   ],
   "source": [
    "np.argmax(np.abs(slps1[1:30] - np.float64(a['slp_ave'][1:30])))"
   ]
  },
  {
   "cell_type": "code",
   "execution_count": 25,
   "id": "a6bbb83d",
   "metadata": {},
   "outputs": [
    {
     "ename": "NameError",
     "evalue": "name 'dfs' is not defined",
     "output_type": "error",
     "traceback": [
      "\u001b[0;31m---------------------------------------------------------------------------\u001b[0m",
      "\u001b[0;31mNameError\u001b[0m                                 Traceback (most recent call last)",
      "\u001b[0;32m<ipython-input-25-e31ddc72af1d>\u001b[0m in \u001b[0;36m<module>\u001b[0;34m\u001b[0m\n\u001b[0;32m----> 1\u001b[0;31m \u001b[0mdfs\u001b[0m\u001b[0;34m[\u001b[0m\u001b[0;36m1\u001b[0m\u001b[0;34m]\u001b[0m\u001b[0;34m[\u001b[0m\u001b[0mdfs\u001b[0m\u001b[0;34m[\u001b[0m\u001b[0;36m1\u001b[0m\u001b[0;34m]\u001b[0m\u001b[0;34m]\u001b[0m\u001b[0;34m>\u001b[0m\u001b[0;36m0\u001b[0m\u001b[0;34m\u001b[0m\u001b[0;34m\u001b[0m\u001b[0m\n\u001b[0m",
      "\u001b[0;31mNameError\u001b[0m: name 'dfs' is not defined"
     ]
    }
   ],
   "source": []
  },
  {
   "cell_type": "code",
   "execution_count": null,
   "id": "46f9c2be",
   "metadata": {},
   "outputs": [],
   "source": [
    "import seaborn as sns"
   ]
  },
  {
   "cell_type": "code",
   "execution_count": null,
   "id": "f70585ce",
   "metadata": {},
   "outputs": [],
   "source": [
    "a.columns"
   ]
  },
  {
   "cell_type": "markdown",
   "id": "a1f636ef",
   "metadata": {},
   "source": [
    "Rearrange Section 3 so that it starts with the measurements and then describes how we analyzed them.  Expand it paragraph by paragraph as follows.\n",
    "\n",
    "3.0.  Measurements of Q and C.  The second paragraph of what is now Section 3.1 is a good start.  Expand the text so that it includes more information about how the measurements were made and where the data are stored so that readers could find the data if they want to.  Paragraphs:\n",
    "- TWRA measurement history and protocols\n",
    "- Characteristics of Q and C data (gaps, frequency, etc.)\n",
    "- We analyzed data from X rivers.  Explain why we chose those rivers.\n",
    "\n",
    "3.1.  Rating curve background.  Paragraphs:\n",
    "- What is a rating curve?  Show Equation 1.\n",
    "- RCs are useful for improving estimates of Q_s\n",
    "- We used MVUE to estimate a and b.  Explain why we chose this method.\n",
    "- We centered log(Q) to avoid correlation of a and b\n",
    "- We applied a correction for log retransformation bias.\n",
    "\n",
    "3.2.  Rating curve application.  Paragraphs:\n",
    "- We used the method in Section 3.1 to get daily C and Q_s.  Different rating curves each year.\n",
    "- We calculated annual Q_s from daily Q_s.  Describe how we dealt with gaps.\n",
    "- We calculated erosion rates from Q_s.\n",
    "- How we dealt with nested basins.\n",
    "\n",
    "3.3.  Landslide volumes generated by Morakot.  Paragraphs:\n",
    "- We use landslide volumes reported in Marc et al. (2018)\n",
    "- We calculated basin-total landslide volumes from that inventory."
   ]
  },
  {
   "cell_type": "markdown",
   "id": "786fd374",
   "metadata": {},
   "source": []
  }
 ],
 "metadata": {
  "kernelspec": {
   "display_name": "Python 3 (ipykernel)",
   "language": "python",
   "name": "python3"
  },
  "language_info": {
   "codemirror_mode": {
    "name": "ipython",
    "version": 3
   },
   "file_extension": ".py",
   "mimetype": "text/x-python",
   "name": "python",
   "nbconvert_exporter": "python",
   "pygments_lexer": "ipython3",
   "version": "3.9.16"
  }
 },
 "nbformat": 4,
 "nbformat_minor": 5
}
