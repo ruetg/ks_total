{
 "cells": [
  {
   "cell_type": "code",
   "execution_count": 9,
   "id": "common-actor",
   "metadata": {},
   "outputs": [
    {
     "name": "stdout",
     "output_type": "stream",
     "text": [
      "The autoreload extension is already loaded. To reload it, use:\n",
      "  %reload_ext autoreload\n"
     ]
    }
   ],
   "source": [
    "import ee \n",
    "import shapely as shp\n",
    "import pandas as pd\n",
    "import numpy as np\n",
    "import geopandas as gpd\n",
    "import ast\n",
    "from shapely.geometry import Polygon, MultiPolygon, Point\n",
    "import rasterio\n",
    "import geopandas as gpd\n",
    "import sys\n",
    "%load_ext autoreload\n",
    "%autoreload 2\n",
    "sys.path.insert(1, '/Users/gr_1/Documents/simplem/')\n",
    "import simplem_par as simplem\n",
    "import matplotlib.pyplot as plt"
   ]
  },
  {
   "cell_type": "markdown",
   "id": "military-independence",
   "metadata": {},
   "source": [
    "## Clip Basins"
   ]
  },
  {
   "cell_type": "code",
   "execution_count": 140,
   "id": "meaning-simple",
   "metadata": {},
   "outputs": [],
   "source": [
    "import ee\n",
    "\n",
    "# Trigger the authentication flow.\n",
    "#ee.Authenticate()\n",
    "\n",
    "# Initialize the library.\n",
    "ee.Initialize()"
   ]
  },
  {
   "cell_type": "code",
   "execution_count": null,
   "id": "integral-favor",
   "metadata": {},
   "outputs": [],
   "source": [
    "image = ee.Image(\"WWF/HydroSHEDS/3CONDEM\");\n",
    "bBox = ee.Geometry.BBox(112, -40, 165, -8);\n",
    "image = image.clip(bBox)"
   ]
  },
  {
   "cell_type": "code",
   "execution_count": 14,
   "id": "exempt-islam",
   "metadata": {},
   "outputs": [],
   "source": [
    "a = gpd.read_file('/Users/gr_1/Documents/cosmo_predict/octo_327_data')"
   ]
  },
  {
   "cell_type": "code",
   "execution_count": null,
   "id": "norwegian-greensboro",
   "metadata": {},
   "outputs": [],
   "source": []
  },
  {
   "cell_type": "code",
   "execution_count": null,
   "id": "concrete-substitute",
   "metadata": {},
   "outputs": [],
   "source": [
    "import json \n",
    "from ee.geometry import Geometry\n",
    "basin_slopes = gpd.GeoDataFrame()\n",
    "basin_slopes_t = gpd.GeoDataFrame()\n",
    "\n",
    "shps = []\n",
    "for i,row in a.iterrows():\n",
    "    try:\n",
    "        sh = list(zip(row.geometry.exterior.coords.xy[0],row.geometry.exterior.coords.xy[1]))\n",
    "    except:\n",
    "        sh = list(zip(row.geometry[1].exterior.coords.xy[0],row.geometry[1].exterior.coords.xy[1]))\n",
    "    shp = Geometry.Polygon(sh)\n",
    "    shps.append(shp)"
   ]
  },
  {
   "cell_type": "code",
   "execution_count": null,
   "id": "selected-cambridge",
   "metadata": {},
   "outputs": [],
   "source": [
    "c=2254\n",
    "while c < 2258:\n",
    "    c+=1\n",
    "    image = ee.Image(\"WWF/HydroSHEDS/03CONDEM\");\n",
    "    image = image.clip(shps[c])\n",
    "    mytask = ee.batch.Export.image.toDrive(image=image, folder='data_earth_engine', description='hydrosheds_bas_'+ str(c))\n",
    "    mytask.start()"
   ]
  },
  {
   "cell_type": "code",
   "execution_count": null,
   "id": "designed-dealing",
   "metadata": {},
   "outputs": [],
   "source": [
    "f = simplem.fs()\n",
    "f.sinkfill()"
   ]
  },
  {
   "cell_type": "code",
   "execution_count": null,
   "id": "appropriate-scoop",
   "metadata": {},
   "outputs": [],
   "source": [
    "plt.plot(np.log(eromap[0:30]))"
   ]
  },
  {
   "cell_type": "markdown",
   "id": "residential-secret",
   "metadata": {},
   "source": [
    "## Start running flowacc / chi calc on all basin"
   ]
  },
  {
   "cell_type": "code",
   "execution_count": null,
   "id": "accomplished-boards",
   "metadata": {},
   "outputs": [],
   "source": [
    "#f.acc()\n",
    "f.A.ravel()[f.A.ravel()>0][np.argmax(A.ravel()[f.A.ravel()>0])]\n"
   ]
  },
  {
   "cell_type": "code",
   "execution_count": null,
   "id": "confirmed-disease",
   "metadata": {},
   "outputs": [],
   "source": [
    "np.sum(slps[slps<1])"
   ]
  },
  {
   "cell_type": "code",
   "execution_count": 32,
   "id": "blank-causing",
   "metadata": {},
   "outputs": [
    {
     "name": "stdout",
     "output_type": "stream",
     "text": [
      "The autoreload extension is already loaded. To reload it, use:\n",
      "  %reload_ext autoreload\n"
     ]
    }
   ],
   "source": [
    "import ee \n",
    "import shapely as shp\n",
    "import pandas as pd\n",
    "import numpy as np\n",
    "import geopandas as gpd\n",
    "import ast\n",
    "from shapely.geometry import Polygon, MultiPolygon, Point\n",
    "import rasterio\n",
    "import geopandas as gpd\n",
    "import sys\n",
    "%load_ext autoreload\n",
    "%autoreload 2\n",
    "sys.path.insert(1, '/Users/gr_1/Documents/simplem/')\n",
    "import simplem_par as simplem\n",
    "import matplotlib.pyplot as plt"
   ]
  },
  {
   "cell_type": "code",
   "execution_count": 3,
   "id": "restricted-broadcast",
   "metadata": {},
   "outputs": [],
   "source": [
    "eros1 = np.zeros(3600)\n",
    "eros2 = np.zeros(3600)\n",
    "slps1 = np.zeros(3600)\n",
    "slps2 = np.zeros(3600)\n",
    "a = gpd.read_file('/Users/gr_1/Documents/cosmo_predict/octo_327_data')"
   ]
  },
  {
   "cell_type": "code",
   "execution_count": 18,
   "id": "silent-exclusive",
   "metadata": {
    "scrolled": true,
    "tags": []
   },
   "outputs": [
    {
     "name": "stdout",
     "output_type": "stream",
     "text": [
      "1\n",
      "158567\n",
      "158567\n",
      "14548.54201498146\n",
      "14432.260071556937\n",
      "2\n",
      "102668\n",
      "102668\n",
      "4801.697620426071\n",
      "4752.536418949993\n",
      "3\n",
      "3234934\n",
      "3234934\n",
      "214901.2125393638\n",
      "214199.2440422756\n",
      "4\n",
      "1156021\n",
      "1156021\n",
      "110185.69289555137\n",
      "109971.39193909582\n",
      "5\n",
      "984755\n",
      "984755\n",
      "91298.37730997162\n",
      "91083.12011474297\n",
      "6\n",
      "733176\n",
      "733176\n",
      "61712.77020592167\n",
      "61574.93368979596\n",
      "7\n",
      "788331\n",
      "788331\n",
      "39904.502113910894\n",
      "39329.43830715878\n",
      "8\n",
      "798966\n",
      "798966\n",
      "37535.22600540848\n",
      "36947.84524858349\n",
      "9\n",
      "616420\n",
      "616420\n",
      "34753.78539814112\n",
      "34158.73908920197\n",
      "10\n",
      "710450\n",
      "710450\n",
      "29412.715093452098\n",
      "22388.747377613283\n",
      "11\n",
      "766111\n",
      "766111\n",
      "21906.26230718061\n",
      "21439.208598255176\n",
      "12\n",
      "64782\n",
      "64782\n",
      "5874.995216474314\n",
      "5598.649817760865\n",
      "13\n",
      "69515\n",
      "69515\n",
      "6303.338859609052\n",
      "6125.743690463323\n",
      "14\n",
      "18\n",
      "18\n",
      "14.73059624710545\n",
      "12.586944613220972\n",
      "15\n",
      "57697\n",
      "57697\n",
      "1772.2474945647787\n",
      "1745.5991968542353\n",
      "16\n",
      "20\n",
      "20\n",
      "5.149902367193485\n",
      "1.5487046286045523\n",
      "17\n",
      "58\n",
      "58\n",
      "10.471756402401434\n",
      "8.383076401677455\n",
      "18\n",
      "41590\n",
      "41590\n",
      "1433.8310596337678\n",
      "1410.7267599562203\n",
      "19\n",
      "63\n",
      "63\n",
      "4.412683590309432\n",
      "3.381254105124107\n",
      "20\n",
      "17\n",
      "17\n",
      "0.901947961254524\n",
      "0.7310912287651187\n",
      "21\n",
      "45\n",
      "45\n",
      "9.339087096720197\n",
      "7.160387429125541\n",
      "22\n",
      "26989\n",
      "26989\n",
      "2359.4025882232027\n",
      "2256.284927747677\n",
      "23\n",
      "22155\n",
      "22155\n",
      "1034.161794013426\n",
      "952.6805139634939\n",
      "24\n",
      "58730\n",
      "58730\n",
      "3985.251418637652\n",
      "3827.12535711142\n",
      "25\n",
      "124\n",
      "124\n",
      "10.59983134122649\n",
      "3.945060223436397\n",
      "26\n",
      "80\n",
      "80\n",
      "17.30295787183488\n",
      "15.433626784397433\n",
      "27\n",
      "62969\n",
      "62969\n",
      "839.0620937446434\n",
      "774.0489586136658\n",
      "28\n",
      "51\n",
      "51\n",
      "21.5962063854048\n",
      "17.678797967219488\n",
      "29\n",
      "32\n",
      "32\n",
      "53.24462297865372\n",
      "4.951262232383769\n"
     ]
    }
   ],
   "source": [
    "for c in range(1,30):\n",
    "    try:\n",
    "        print(c)\n",
    "        \n",
    "        dem = rasterio.open('/Users/gr_1/Google Drive/data_earth_engine/hydrosheds_bas_{}.tif'.format(str(c)))\n",
    "        lat = dem.xy(0,0)[1]\n",
    "        dx = np.cos(lat/180*np.pi) * (1852/60)\n",
    "        f = simplem.fs()\n",
    "        f.dx = dx\n",
    "        f.dy = 90\n",
    "\n",
    "        f.set_z(np.float64(np.squeeze(dem.read())))\n",
    "        f.BC = np.where(f.Z.transpose().ravel()<=0)[0]\n",
    "        f.k[f.Z == 0] = 0\n",
    "        f.sinkfill()\n",
    "        f.slp()\n",
    "        slps = f.slps.copy()\n",
    "\n",
    "        f.dt = 1000\n",
    "        f.stack()\n",
    "        f.acc()\n",
    "        \n",
    "        Zi = f.Z.copy()\n",
    "\n",
    "        ero = f.erode_other()\n",
    "        #f.slp_mn()\n",
    "\n",
    "        A=f.A.copy()\n",
    "        f.stack()\n",
    "        slps[slps>1]= 0\n",
    "        #f.slp()\n",
    "        f.acc()\n",
    "        f.acc(ero)\n",
    "        eros1[c] = np.mean(slps.ravel()[np.logical_and(f.Z.ravel()>1,f.slps.ravel()<1)])\n",
    "        #eros1[c] = (f.A.ravel()[f.Z.ravel()>0][np.argmax(A.ravel()[f.Z.ravel() > 0])])/np.max(A.ravel()[f.Z.ravel()>0])\n",
    "        f.slp()\n",
    "        f.stack()\n",
    "        f.acc()\n",
    "        f.acc(slps)\n",
    "        slps1[c] = (f.A.ravel()[f.Z.ravel()>0][np.argmax(A.ravel()[f.Z.ravel() > 0])])/np.max(A.ravel()[f.Z.ravel()>0])\n",
    "        \n",
    "        #f.slp_mn()\n",
    "        \n",
    "#         slps = f.slps.copy()\n",
    "#         f.slp()\n",
    "#         slps[slps>1] = 0\n",
    "#         f.acc(slps)\n",
    "#         slps2[c] = (f.A.ravel()[f.Z.ravel()>0][np.argmax(A.ravel()[f.Z.ravel() > 0])])/np.max(A.ravel()[f.Z.ravel()>0])\n",
    "\n",
    "        #print(np.mean(f.slps.ravel()[A.ravel()>1]))\n",
    "       # print(f.A.ravel()[np.argmax(A.ravel())]/np.max(A.ravel()))\n",
    "        print(np.sum(slps.ravel()[np.logical_and(f.Z.ravel()>1,f.slps.ravel()<1)]))\n",
    "        print(max(f.A.ravel()))#[np.argmax(A.ravel())])\n",
    "       \n",
    "    except:\n",
    "        print('fail' + str(c))\n",
    "                  "
   ]
  },
  {
   "cell_type": "code",
   "execution_count": 48,
   "id": "hollow-people",
   "metadata": {},
   "outputs": [],
   "source": [
    "a['ero'] = eros1[:len(a)]\n",
    "a['slps1'] = slps1[:len(a)]"
   ]
  },
  {
   "cell_type": "code",
   "execution_count": 137,
   "id": "australian-drove",
   "metadata": {},
   "outputs": [
    {
     "data": {
      "image/png": "[encoded data removed]",
      "text/plain": [
       "<Figure size 432x288 with 1 Axes>"
      ]
     },
     "metadata": {
      "needs_background": "light"
     },
     "output_type": "display_data"
    }
   ],
   "source": [
    "#ax=plt.plot(eros1[:len(a)],a['ebe_gcmyr']/1000,'.')\n",
    "slps_ = slps1\n",
    "slps_[slps_<1e-6] = np.nan\n",
    "ax=plt.plot(eros1[:len(a)],a['ebe_gcmyr']/1000,'.')\n",
    "plt.yscale('log')\n",
    "plt.xscale('log')\n",
    "#plt.xlim([1e-2, 1])\n",
    "#plt.ylim([1e-2, 1])\n",
    "\n",
    "#a['ebe_gcmyr'][a['erorate_est']<=0] = np.nan"
   ]
  },
  {
   "cell_type": "code",
   "execution_count": 19,
   "id": "recent-radical",
   "metadata": {},
   "outputs": [
    {
     "data": {
      "image/png": "[encoded data removed]",
      "text/plain": [
       "<Figure size 432x288 with 1 Axes>"
      ]
     },
     "metadata": {
      "needs_background": "light"
     },
     "output_type": "display_data"
    }
   ],
   "source": [
    "ax=plt.plot(slps1[:30],np.float64(a['slp_std'][:30])/1000,'.')"
   ]
  },
  {
   "cell_type": "code",
   "execution_count": 129,
   "id": "suburban-amount",
   "metadata": {},
   "outputs": [
    {
     "data": {
      "text/plain": [
       "0       None\n",
       "1       None\n",
       "2       None\n",
       "3       None\n",
       "4       None\n",
       "        ... \n",
       "3548    None\n",
       "3549    None\n",
       "3550    None\n",
       "3551    None\n",
       "3552    None\n",
       "Name: slp_50_per, Length: 3553, dtype: object"
      ]
     },
     "execution_count": 129,
     "metadata": {},
     "output_type": "execute_result"
    }
   ],
   "source": [
    "plt.imshow(f.Z,vmin=1400,vmax=1600)"
   ]
  },
  {
   "cell_type": "code",
   "execution_count": 109,
   "id": "activated-sudan",
   "metadata": {},
   "outputs": [
    {
     "data": {
      "text/plain": [
       "<matplotlib.image.AxesImage at 0x187928d60>"
      ]
     },
     "execution_count": 109,
     "metadata": {},
     "output_type": "execute_result"
    },
    {
     "data": {
      "image/png": "[encoded data removed]",
      "text/plain": [
       "<Figure size 432x288 with 1 Axes>"
      ]
     },
     "metadata": {
      "needs_background": "light"
     },
     "output_type": "display_data"
    }
   ],
   "source": [
    "plt.imshow(f.A)"
   ]
  },
  {
   "cell_type": "code",
   "execution_count": 114,
   "id": "personalized-brunswick",
   "metadata": {},
   "outputs": [
    {
     "data": {
      "text/plain": [
       "<matplotlib.image.AxesImage at 0x187c49c10>"
      ]
     },
     "execution_count": 114,
     "metadata": {},
     "output_type": "execute_result"
    },
    {
     "data": {
      "image/png": "[encoded data removed]",
      "text/plain": [
       "<Figure size 432x288 with 1 Axes>"
      ]
     },
     "metadata": {
      "needs_background": "light"
     },
     "output_type": "display_data"
    }
   ],
   "source": [
    "plt.imshow(A)"
   ]
  },
  {
   "cell_type": "code",
   "execution_count": 123,
   "id": "secret-mandate",
   "metadata": {},
   "outputs": [
    {
     "data": {
      "image/png": "[encoded data removed]",
      "text/plain": [
       "<Figure size 432x288 with 1 Axes>"
      ]
     },
     "metadata": {
      "needs_background": "light"
     },
     "output_type": "display_data"
    }
   ],
   "source": [
    "#ax=plt.plot(eros1[:len(a)],a['ebe_gcmyr']/1000,'.')\n",
    "#ax=plt.plot(slps1[:len(a)],a['slp_ave'],'.')\n",
    "ax=plt.plot(eros1[:30],np.float64(a['slp_ave'][:30])/1000,'.')\n",
    "\n",
    "#plt.yscale('log')\n",
    "#plt.xscale('log')\n",
    "#plt.xlim([5e-4, 1])"
   ]
  },
  {
   "cell_type": "code",
   "execution_count": 119,
   "id": "clear-geology",
   "metadata": {},
   "outputs": [
    {
     "data": {
      "text/plain": [
       "28"
      ]
     },
     "execution_count": 119,
     "metadata": {},
     "output_type": "execute_result"
    }
   ],
   "source": [
    "np.argmax(np.abs(slps1[1:30] - np.float64(a['slp_ave'][1:30])))"
   ]
  },
  {
   "cell_type": "code",
   "execution_count": 122,
   "id": "worth-watson",
   "metadata": {},
   "outputs": [
    {
     "data": {
      "text/plain": [
       "array([         nan,  46.96098842,  50.75700484,  71.54111704,\n",
       "        78.03743312,  80.23575621,  69.44421396,  49.15999327,\n",
       "        50.25930973,  52.85772573,  44.9630943 ,  57.55400503,\n",
       "        52.35665617,  99.12596361, 372.31907539,  24.17599085,\n",
       "       226.92072125, 221.36772062,  24.47363671, 104.51330118,\n",
       "        25.48163325, 146.80332395,  63.45209662,  59.24415381,\n",
       "       129.59319047,  61.44175092, 173.48448231,  26.57229408,\n",
       "       304.703322  , 438.44988525])"
      ]
     },
     "execution_count": 122,
     "metadata": {},
     "output_type": "execute_result"
    }
   ],
   "source": [
    "np.abs(slps1[:30] - np.float64(a['slp_ave'][:30]))"
   ]
  },
  {
   "cell_type": "code",
   "execution_count": null,
   "id": "composite-municipality",
   "metadata": {},
   "outputs": [],
   "source": [
    "import seaborn as sns"
   ]
  },
  {
   "cell_type": "code",
   "execution_count": null,
   "id": "divine-extension",
   "metadata": {},
   "outputs": [],
   "source": [
    "a.columns"
   ]
  },
  {
   "cell_type": "code",
   "execution_count": null,
   "id": "featured-demand",
   "metadata": {},
   "outputs": [],
   "source": []
  }
 ],
 "metadata": {
  "kernelspec": {
   "display_name": "Python 3",
   "language": "python",
   "name": "python3"
  },
  "language_info": {
   "codemirror_mode": {
    "name": "ipython",
    "version": 3
   },
   "file_extension": ".py",
   "mimetype": "text/x-python",
   "name": "python",
   "nbconvert_exporter": "python",
   "pygments_lexer": "ipython3",
   "version": "3.9.2"
  }
 },
 "nbformat": 4,
 "nbformat_minor": 5
}
