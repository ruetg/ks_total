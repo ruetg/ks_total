{
 "cells": [
  {
   "cell_type": "markdown",
   "metadata": {},
   "source": [
    "# Analysis of Portenga and Bierman (2011) supplementary data"
   ]
  },
  {
   "cell_type": "code",
   "execution_count": 30,
   "metadata": {},
   "outputs": [],
   "source": [
    "import pandas as pd\n",
    "import os\n",
    "import numpy as np\n",
    "folder ='/Users/gr_1/Documents/cosmo_predict/'\n",
    "import seaborn as sns\n",
    "import pandas as pd\n",
    "import matplotlib.pyplot as plt\n",
    "import sklearn"
   ]
  },
  {
   "cell_type": "markdown",
   "metadata": {},
   "source": [
    "## step 1 Load excel sheet, look at basin averaged rates (sheets 4 - 12), concatenate"
   ]
  },
  {
   "cell_type": "code",
   "execution_count": 31,
   "metadata": {},
   "outputs": [
    {
     "ename": "AttributeError",
     "evalue": "'DataFrame' object has no attribute 'append'",
     "output_type": "error",
     "traceback": [
      "\u001b[0;31m---------------------------------------------------------------------------\u001b[0m",
      "\u001b[0;31mAttributeError\u001b[0m                            Traceback (most recent call last)",
      "\u001b[0;32m/var/folders/5v/804c95h92bx2zr8rfpwyr_yc0000gn/T/ipykernel_2517/759591887.py\u001b[0m in \u001b[0;36m?\u001b[0;34m()\u001b[0m\n\u001b[1;32m      4\u001b[0m     \u001b[0mb\u001b[0m \u001b[0;34m=\u001b[0m \u001b[0mpd\u001b[0m\u001b[0;34m.\u001b[0m\u001b[0mread_excel\u001b[0m\u001b[0;34m(\u001b[0m\u001b[0mfolder\u001b[0m \u001b[0;34m+\u001b[0m \u001b[0;34m'rates_cosmo.xlsx'\u001b[0m\u001b[0;34m,\u001b[0m\u001b[0msheet_name\u001b[0m \u001b[0;34m=\u001b[0m \u001b[0mi\u001b[0m\u001b[0;34m)\u001b[0m\u001b[0;34m\u001b[0m\u001b[0;34m\u001b[0m\u001b[0m\n\u001b[1;32m      5\u001b[0m     \u001b[0;32mif\u001b[0m \u001b[0mi\u001b[0m \u001b[0;34m<\u001b[0m \u001b[0;36m4\u001b[0m\u001b[0;34m:\u001b[0m\u001b[0;34m\u001b[0m\u001b[0;34m\u001b[0m\u001b[0m\n\u001b[1;32m      6\u001b[0m         \u001b[0mb\u001b[0m\u001b[0;34m[\u001b[0m\u001b[0;34m'type'\u001b[0m\u001b[0;34m]\u001b[0m \u001b[0;34m=\u001b[0m \u001b[0;34m'bedrock'\u001b[0m\u001b[0;34m\u001b[0m\u001b[0;34m\u001b[0m\u001b[0m\n\u001b[1;32m      7\u001b[0m     \u001b[0;32melse\u001b[0m\u001b[0;34m:\u001b[0m\u001b[0;34m\u001b[0m\u001b[0;34m\u001b[0m\u001b[0m\n\u001b[0;32m----> 8\u001b[0;31m         \u001b[0mb\u001b[0m\u001b[0;34m[\u001b[0m\u001b[0;34m'type'\u001b[0m\u001b[0;34m]\u001b[0m \u001b[0;34m=\u001b[0m \u001b[0;34m'basinwide'\u001b[0m\u001b[0;34m\u001b[0m\u001b[0;34m\u001b[0m\u001b[0m\n\u001b[0m\u001b[1;32m      9\u001b[0m     \u001b[0ma\u001b[0m \u001b[0;34m=\u001b[0m \u001b[0ma\u001b[0m\u001b[0;34m.\u001b[0m\u001b[0mappend\u001b[0m\u001b[0;34m(\u001b[0m\u001b[0mb\u001b[0m\u001b[0;34m)\u001b[0m\u001b[0;34m\u001b[0m\u001b[0;34m\u001b[0m\u001b[0m\n\u001b[1;32m     10\u001b[0m \u001b[0ma\u001b[0m\u001b[0;34m.\u001b[0m\u001b[0mindex\u001b[0m \u001b[0;34m=\u001b[0m \u001b[0mrange\u001b[0m\u001b[0;34m(\u001b[0m\u001b[0;36m0\u001b[0m\u001b[0;34m,\u001b[0m\u001b[0mlen\u001b[0m\u001b[0;34m(\u001b[0m\u001b[0ma\u001b[0m\u001b[0;34m)\u001b[0m\u001b[0;34m)\u001b[0m\u001b[0;34m\u001b[0m\u001b[0;34m\u001b[0m\u001b[0m\n",
      "\u001b[0;32m~/miniconda3/lib/python3.9/site-packages/pandas/core/generic.py\u001b[0m in \u001b[0;36m?\u001b[0;34m(self, name)\u001b[0m\n\u001b[1;32m   5985\u001b[0m             \u001b[0;32mand\u001b[0m \u001b[0mname\u001b[0m \u001b[0;32mnot\u001b[0m \u001b[0;32min\u001b[0m \u001b[0mself\u001b[0m\u001b[0;34m.\u001b[0m\u001b[0m_accessors\u001b[0m\u001b[0;34m\u001b[0m\u001b[0;34m\u001b[0m\u001b[0m\n\u001b[1;32m   5986\u001b[0m             \u001b[0;32mand\u001b[0m \u001b[0mself\u001b[0m\u001b[0;34m.\u001b[0m\u001b[0m_info_axis\u001b[0m\u001b[0;34m.\u001b[0m\u001b[0m_can_hold_identifiers_and_holds_name\u001b[0m\u001b[0;34m(\u001b[0m\u001b[0mname\u001b[0m\u001b[0;34m)\u001b[0m\u001b[0;34m\u001b[0m\u001b[0;34m\u001b[0m\u001b[0m\n\u001b[1;32m   5987\u001b[0m         ):\n\u001b[1;32m   5988\u001b[0m             \u001b[0;32mreturn\u001b[0m \u001b[0mself\u001b[0m\u001b[0;34m[\u001b[0m\u001b[0mname\u001b[0m\u001b[0;34m]\u001b[0m\u001b[0;34m\u001b[0m\u001b[0;34m\u001b[0m\u001b[0m\n\u001b[0;32m-> 5989\u001b[0;31m         \u001b[0;32mreturn\u001b[0m \u001b[0mobject\u001b[0m\u001b[0;34m.\u001b[0m\u001b[0m__getattribute__\u001b[0m\u001b[0;34m(\u001b[0m\u001b[0mself\u001b[0m\u001b[0;34m,\u001b[0m \u001b[0mname\u001b[0m\u001b[0;34m)\u001b[0m\u001b[0;34m\u001b[0m\u001b[0;34m\u001b[0m\u001b[0m\n\u001b[0m",
      "\u001b[0;31mAttributeError\u001b[0m: 'DataFrame' object has no attribute 'append'"
     ]
    }
   ],
   "source": [
    "\n",
    "a = pd.DataFrame()\n",
    "for i in range(4,12):\n",
    "    b = pd.read_excel(folder + 'rates_cosmo.xlsx',sheet_name = i)\n",
    "    if i < 4:\n",
    "        b['type'] = 'bedrock'\n",
    "    else:\n",
    "        b['type'] = 'basinwide'\n",
    "    a = a.append(b)\n",
    "a.index = range(0,len(a))"
   ]
  },
  {
   "cell_type": "markdown",
   "metadata": {},
   "source": [
    "## Some of the data labels are messed up, correct"
   ]
  },
  {
   "cell_type": "code",
   "execution_count": 32,
   "metadata": {},
   "outputs": [],
   "source": [
    "for col in a.columns:\n",
    "    for i in range(len(a)):\n",
    "        if len(str(a[col][i:i+1].values[0]).split(\"\\n\"))>1:\n",
    "            a.loc[i,col] = str(a[col][i:i+1].values[0]).split('\\n')[0]\n",
    "    if 'Unnamed' in str(col):\n",
    "        a = a.drop(col,1)\n",
    "for s in range(len(a)):\n",
    "    a.loc[s,'Climate Zone (Sub-category)'] = str(a.loc[s,'Climate Zone (Sub-category)']).lower()"
   ]
  },
  {
   "cell_type": "markdown",
   "metadata": {},
   "source": [
    "## Want to discretize continuous data for the seaborn box plots"
   ]
  },
  {
   "cell_type": "code",
   "execution_count": 33,
   "metadata": {},
   "outputs": [
    {
     "ename": "KeyError",
     "evalue": "'CRONUS Erosion Rate (m My)'",
     "output_type": "error",
     "traceback": [
      "\u001b[0;31m---------------------------------------------------------------------------\u001b[0m",
      "\u001b[0;31mKeyError\u001b[0m                                  Traceback (most recent call last)",
      "Cell \u001b[0;32mIn[33], line 9\u001b[0m\n\u001b[1;32m      6\u001b[0m     \u001b[38;5;28;01mexcept\u001b[39;00m:\n\u001b[1;32m      7\u001b[0m         a_discrete[col] \u001b[38;5;241m=\u001b[39m a[col]\n\u001b[0;32m----> 9\u001b[0m a_discrete[\u001b[38;5;124m'\u001b[39m\u001b[38;5;124mCRONUS Erosion Rate (m My)\u001b[39m\u001b[38;5;124m'\u001b[39m] \u001b[38;5;241m=\u001b[39m pd\u001b[38;5;241m.\u001b[39mto_numeric(\u001b[43ma\u001b[49m\u001b[43m[\u001b[49m\u001b[38;5;124;43m'\u001b[39;49m\u001b[38;5;124;43mCRONUS Erosion Rate (m My)\u001b[39;49m\u001b[38;5;124;43m'\u001b[39;49m\u001b[43m]\u001b[49m,errors\u001b[38;5;241m=\u001b[39m\u001b[38;5;124m'\u001b[39m\u001b[38;5;124mcoerce\u001b[39m\u001b[38;5;124m'\u001b[39m)\n",
      "File \u001b[0;32m~/miniconda3/lib/python3.9/site-packages/pandas/core/frame.py:3761\u001b[0m, in \u001b[0;36mDataFrame.__getitem__\u001b[0;34m(self, key)\u001b[0m\n\u001b[1;32m   3759\u001b[0m \u001b[38;5;28;01mif\u001b[39;00m \u001b[38;5;28mself\u001b[39m\u001b[38;5;241m.\u001b[39mcolumns\u001b[38;5;241m.\u001b[39mnlevels \u001b[38;5;241m>\u001b[39m \u001b[38;5;241m1\u001b[39m:\n\u001b[1;32m   3760\u001b[0m     \u001b[38;5;28;01mreturn\u001b[39;00m \u001b[38;5;28mself\u001b[39m\u001b[38;5;241m.\u001b[39m_getitem_multilevel(key)\n\u001b[0;32m-> 3761\u001b[0m indexer \u001b[38;5;241m=\u001b[39m \u001b[38;5;28;43mself\u001b[39;49m\u001b[38;5;241;43m.\u001b[39;49m\u001b[43mcolumns\u001b[49m\u001b[38;5;241;43m.\u001b[39;49m\u001b[43mget_loc\u001b[49m\u001b[43m(\u001b[49m\u001b[43mkey\u001b[49m\u001b[43m)\u001b[49m\n\u001b[1;32m   3762\u001b[0m \u001b[38;5;28;01mif\u001b[39;00m is_integer(indexer):\n\u001b[1;32m   3763\u001b[0m     indexer \u001b[38;5;241m=\u001b[39m [indexer]\n",
      "File \u001b[0;32m~/miniconda3/lib/python3.9/site-packages/pandas/core/indexes/range.py:349\u001b[0m, in \u001b[0;36mRangeIndex.get_loc\u001b[0;34m(self, key)\u001b[0m\n\u001b[1;32m    347\u001b[0m         \u001b[38;5;28;01mraise\u001b[39;00m \u001b[38;5;167;01mKeyError\u001b[39;00m(key) \u001b[38;5;28;01mfrom\u001b[39;00m \u001b[38;5;21;01merr\u001b[39;00m\n\u001b[1;32m    348\u001b[0m \u001b[38;5;28;01mif\u001b[39;00m \u001b[38;5;28misinstance\u001b[39m(key, Hashable):\n\u001b[0;32m--> 349\u001b[0m     \u001b[38;5;28;01mraise\u001b[39;00m \u001b[38;5;167;01mKeyError\u001b[39;00m(key)\n\u001b[1;32m    350\u001b[0m \u001b[38;5;28mself\u001b[39m\u001b[38;5;241m.\u001b[39m_check_indexing_error(key)\n\u001b[1;32m    351\u001b[0m \u001b[38;5;28;01mraise\u001b[39;00m \u001b[38;5;167;01mKeyError\u001b[39;00m(key)\n",
      "\u001b[0;31mKeyError\u001b[0m: 'CRONUS Erosion Rate (m My)'"
     ]
    }
   ],
   "source": [
    "a_discrete = pd.DataFrame()\n",
    "for col in a.columns:\n",
    "    try:\n",
    "        cval = pd.to_numeric(a[col],errors='coerce')\n",
    "        a_discrete[col+' binned'] = pd.cut(cval,bins = np.arange(min(cval),max(cval),(max(cval)-min(cval))/8))\n",
    "    except:\n",
    "        a_discrete[col] = a[col]\n",
    "    \n",
    "a_discrete['CRONUS Erosion Rate (m My)'] = pd.to_numeric(a['CRONUS Erosion Rate (m My)'],errors='coerce')"
   ]
  },
  {
   "cell_type": "markdown",
   "metadata": {},
   "source": [
    "## Box plots of excel variables vs. Cronus erosion rates"
   ]
  },
  {
   "cell_type": "code",
   "execution_count": 20,
   "metadata": {},
   "outputs": [],
   "source": [
    "if 1:\n",
    "    c = 0\n",
    "    for col in np.flip(a_discrete.columns[3:-5]):\n",
    "\n",
    "        fig_ax = plt.subplots(figsize=(10,5))\n",
    "        g = sns.boxplot(data = a_discrete,y='CRONUS Erosion Rate (m My)',x=col)\n",
    "        plt.xticks(rotation=80)\n",
    "        g.set_yscale('log')\n",
    "        c += 1"
   ]
  },
  {
   "cell_type": "markdown",
   "metadata": {},
   "source": [
    "## Random forest regression"
   ]
  },
  {
   "cell_type": "code",
   "execution_count": 22,
   "metadata": {},
   "outputs": [],
   "source": [
    "from sklearn import model_selection\n",
    "from sklearn.ensemble import RandomForestRegressor\n",
    "from sklearn import metrics\n",
    "from sklearn.preprocessing import LabelBinarizer\n",
    "from sklearn.svm import SVR\n",
    "from sklearn import impute\n",
    "from sklearn.tree import DecisionTreeRegressor\n",
    "from sklearn.linear_model import LogisticRegression\n",
    "from sklearn.preprocessing import MinMaxScaler"
   ]
  },
  {
   "cell_type": "code",
   "execution_count": 23,
   "metadata": {},
   "outputs": [
    {
     "ename": "KeyError",
     "evalue": "'Longitude (decimal degrees)'",
     "output_type": "error",
     "traceback": [
      "\u001b[0;31m---------------------------------------------------------------------------\u001b[0m",
      "\u001b[0;31mKeyError\u001b[0m                                  Traceback (most recent call last)",
      "Cell \u001b[0;32mIn[23], line 1\u001b[0m\n\u001b[0;32m----> 1\u001b[0m a[\u001b[38;5;124m'\u001b[39m\u001b[38;5;124mdist\u001b[39m\u001b[38;5;124m'\u001b[39m] \u001b[38;5;241m=\u001b[39m np\u001b[38;5;241m.\u001b[39msqrt(np\u001b[38;5;241m.\u001b[39mfloat64(\u001b[43ma\u001b[49m\u001b[43m[\u001b[49m\u001b[38;5;124;43m'\u001b[39;49m\u001b[38;5;124;43mLongitude (decimal degrees)\u001b[39;49m\u001b[38;5;124;43m'\u001b[39;49m\u001b[43m]\u001b[49m)\u001b[38;5;241m*\u001b[39m\u001b[38;5;241m*\u001b[39m\u001b[38;5;241m2\u001b[39m \u001b[38;5;241m+\u001b[39m np\u001b[38;5;241m.\u001b[39mfloat64(a[\u001b[38;5;124m'\u001b[39m\u001b[38;5;124mLatitude (decimal degrees)\u001b[39m\u001b[38;5;124m'\u001b[39m])\u001b[38;5;241m*\u001b[39m\u001b[38;5;241m*\u001b[39m\u001b[38;5;241m2\u001b[39m)\n\u001b[1;32m      2\u001b[0m a[\u001b[38;5;124m'\u001b[39m\u001b[38;5;124mLongitude (decimal degrees)\u001b[39m\u001b[38;5;124m'\u001b[39m] \u001b[38;5;241m=\u001b[39m np\u001b[38;5;241m.\u001b[39mfloat64(a[\u001b[38;5;124m'\u001b[39m\u001b[38;5;124mLongitude (decimal degrees)\u001b[39m\u001b[38;5;124m'\u001b[39m])\n",
      "File \u001b[0;32m~/miniconda3/lib/python3.9/site-packages/pandas/core/frame.py:3761\u001b[0m, in \u001b[0;36mDataFrame.__getitem__\u001b[0;34m(self, key)\u001b[0m\n\u001b[1;32m   3759\u001b[0m \u001b[38;5;28;01mif\u001b[39;00m \u001b[38;5;28mself\u001b[39m\u001b[38;5;241m.\u001b[39mcolumns\u001b[38;5;241m.\u001b[39mnlevels \u001b[38;5;241m>\u001b[39m \u001b[38;5;241m1\u001b[39m:\n\u001b[1;32m   3760\u001b[0m     \u001b[38;5;28;01mreturn\u001b[39;00m \u001b[38;5;28mself\u001b[39m\u001b[38;5;241m.\u001b[39m_getitem_multilevel(key)\n\u001b[0;32m-> 3761\u001b[0m indexer \u001b[38;5;241m=\u001b[39m \u001b[38;5;28;43mself\u001b[39;49m\u001b[38;5;241;43m.\u001b[39;49m\u001b[43mcolumns\u001b[49m\u001b[38;5;241;43m.\u001b[39;49m\u001b[43mget_loc\u001b[49m\u001b[43m(\u001b[49m\u001b[43mkey\u001b[49m\u001b[43m)\u001b[49m\n\u001b[1;32m   3762\u001b[0m \u001b[38;5;28;01mif\u001b[39;00m is_integer(indexer):\n\u001b[1;32m   3763\u001b[0m     indexer \u001b[38;5;241m=\u001b[39m [indexer]\n",
      "File \u001b[0;32m~/miniconda3/lib/python3.9/site-packages/pandas/core/indexes/range.py:349\u001b[0m, in \u001b[0;36mRangeIndex.get_loc\u001b[0;34m(self, key)\u001b[0m\n\u001b[1;32m    347\u001b[0m         \u001b[38;5;28;01mraise\u001b[39;00m \u001b[38;5;167;01mKeyError\u001b[39;00m(key) \u001b[38;5;28;01mfrom\u001b[39;00m \u001b[38;5;21;01merr\u001b[39;00m\n\u001b[1;32m    348\u001b[0m \u001b[38;5;28;01mif\u001b[39;00m \u001b[38;5;28misinstance\u001b[39m(key, Hashable):\n\u001b[0;32m--> 349\u001b[0m     \u001b[38;5;28;01mraise\u001b[39;00m \u001b[38;5;167;01mKeyError\u001b[39;00m(key)\n\u001b[1;32m    350\u001b[0m \u001b[38;5;28mself\u001b[39m\u001b[38;5;241m.\u001b[39m_check_indexing_error(key)\n\u001b[1;32m    351\u001b[0m \u001b[38;5;28;01mraise\u001b[39;00m \u001b[38;5;167;01mKeyError\u001b[39;00m(key)\n",
      "\u001b[0;31mKeyError\u001b[0m: 'Longitude (decimal degrees)'"
     ]
    }
   ],
   "source": [
    "a['dist'] = np.sqrt(np.float64(a['Longitude (decimal degrees)'])**2 + np.float64(a['Latitude (decimal degrees)'])**2)\n",
    "a['Longitude (decimal degrees)'] = np.float64(a['Longitude (decimal degrees)'])"
   ]
  },
  {
   "cell_type": "code",
   "execution_count": null,
   "metadata": {},
   "outputs": [],
   "source": [
    "a['dist_bin'] = pd.factorize(pd.cut(pd.to_numeric(a['Longitude (decimal degrees)']),50))[0]"
   ]
  },
  {
   "cell_type": "code",
   "execution_count": null,
   "metadata": {},
   "outputs": [],
   "source": [
    "a2 = pd.DataFrame()\n",
    "for i,data in a.groupby('dist_bin'):  \n",
    "    if len(data) > 0:\n",
    "        a3 = data.mean()\n",
    "        for col in a.columns:\n",
    "            if (a[col].dtype != np.number):\n",
    "                a3[col] = data.iloc[0][col]\n",
    "        a2 = a2.append(a3,ignore_index=True)\n",
    "\n",
    "#a = a2"
   ]
  },
  {
   "cell_type": "code",
   "execution_count": null,
   "metadata": {
    "scrolled": true,
    "tags": []
   },
   "outputs": [],
   "source": [
    "a = a.sort_values('Longitude (decimal degrees)')\n",
    "#a=a[::-1]"
   ]
  },
  {
   "cell_type": "markdown",
   "metadata": {},
   "source": [
    "## Data prep"
   ]
  },
  {
   "cell_type": "code",
   "execution_count": 24,
   "metadata": {},
   "outputs": [
    {
     "ename": "KeyError",
     "evalue": "'CRONUS Erosion Rate (m My)'",
     "output_type": "error",
     "traceback": [
      "\u001b[0;31m---------------------------------------------------------------------------\u001b[0m",
      "\u001b[0;31mKeyError\u001b[0m                                  Traceback (most recent call last)",
      "Cell \u001b[0;32mIn[24], line 22\u001b[0m\n\u001b[1;32m     18\u001b[0m         l \u001b[38;5;241m=\u001b[39m le\u001b[38;5;241m.\u001b[39mtransform(a[col]\u001b[38;5;241m.\u001b[39mastype(\u001b[38;5;124m'\u001b[39m\u001b[38;5;124mstr\u001b[39m\u001b[38;5;124m'\u001b[39m)\u001b[38;5;241m.\u001b[39mvalues) \n\u001b[1;32m     19\u001b[0m         a_rf[col] \u001b[38;5;241m=\u001b[39m l\n\u001b[0;32m---> 22\u001b[0m a_rf[\u001b[38;5;124m'\u001b[39m\u001b[38;5;124mCRONUS Erosion Rate (m My)\u001b[39m\u001b[38;5;124m'\u001b[39m] \u001b[38;5;241m=\u001b[39m pd\u001b[38;5;241m.\u001b[39mto_numeric(\u001b[43ma\u001b[49m\u001b[43m[\u001b[49m\u001b[38;5;124;43m'\u001b[39;49m\u001b[38;5;124;43mCRONUS Erosion Rate (m My)\u001b[39;49m\u001b[38;5;124;43m'\u001b[39;49m\u001b[43m]\u001b[49m,errors\u001b[38;5;241m=\u001b[39m\u001b[38;5;124m'\u001b[39m\u001b[38;5;124mcoerce\u001b[39m\u001b[38;5;124m'\u001b[39m)\n\u001b[1;32m     24\u001b[0m a_rf \u001b[38;5;241m=\u001b[39m a_rf\u001b[38;5;241m.\u001b[39mdrop(np\u001b[38;5;241m.\u001b[39mwhere(a[\u001b[38;5;124m'\u001b[39m\u001b[38;5;124mMean Basin Elevation (m)\u001b[39m\u001b[38;5;124m'\u001b[39m]\u001b[38;5;241m.\u001b[39misna())[\u001b[38;5;241m0\u001b[39m])\n",
      "File \u001b[0;32m~/miniconda3/lib/python3.9/site-packages/pandas/core/frame.py:3761\u001b[0m, in \u001b[0;36mDataFrame.__getitem__\u001b[0;34m(self, key)\u001b[0m\n\u001b[1;32m   3759\u001b[0m \u001b[38;5;28;01mif\u001b[39;00m \u001b[38;5;28mself\u001b[39m\u001b[38;5;241m.\u001b[39mcolumns\u001b[38;5;241m.\u001b[39mnlevels \u001b[38;5;241m>\u001b[39m \u001b[38;5;241m1\u001b[39m:\n\u001b[1;32m   3760\u001b[0m     \u001b[38;5;28;01mreturn\u001b[39;00m \u001b[38;5;28mself\u001b[39m\u001b[38;5;241m.\u001b[39m_getitem_multilevel(key)\n\u001b[0;32m-> 3761\u001b[0m indexer \u001b[38;5;241m=\u001b[39m \u001b[38;5;28;43mself\u001b[39;49m\u001b[38;5;241;43m.\u001b[39;49m\u001b[43mcolumns\u001b[49m\u001b[38;5;241;43m.\u001b[39;49m\u001b[43mget_loc\u001b[49m\u001b[43m(\u001b[49m\u001b[43mkey\u001b[49m\u001b[43m)\u001b[49m\n\u001b[1;32m   3762\u001b[0m \u001b[38;5;28;01mif\u001b[39;00m is_integer(indexer):\n\u001b[1;32m   3763\u001b[0m     indexer \u001b[38;5;241m=\u001b[39m [indexer]\n",
      "File \u001b[0;32m~/miniconda3/lib/python3.9/site-packages/pandas/core/indexes/range.py:349\u001b[0m, in \u001b[0;36mRangeIndex.get_loc\u001b[0;34m(self, key)\u001b[0m\n\u001b[1;32m    347\u001b[0m         \u001b[38;5;28;01mraise\u001b[39;00m \u001b[38;5;167;01mKeyError\u001b[39;00m(key) \u001b[38;5;28;01mfrom\u001b[39;00m \u001b[38;5;21;01merr\u001b[39;00m\n\u001b[1;32m    348\u001b[0m \u001b[38;5;28;01mif\u001b[39;00m \u001b[38;5;28misinstance\u001b[39m(key, Hashable):\n\u001b[0;32m--> 349\u001b[0m     \u001b[38;5;28;01mraise\u001b[39;00m \u001b[38;5;167;01mKeyError\u001b[39;00m(key)\n\u001b[1;32m    350\u001b[0m \u001b[38;5;28mself\u001b[39m\u001b[38;5;241m.\u001b[39m_check_indexing_error(key)\n\u001b[1;32m    351\u001b[0m \u001b[38;5;28;01mraise\u001b[39;00m \u001b[38;5;167;01mKeyError\u001b[39;00m(key)\n",
      "\u001b[0;31mKeyError\u001b[0m: 'CRONUS Erosion Rate (m My)'"
     ]
    }
   ],
   "source": [
    "#a = a[::-1]\n",
    "a_rf = pd.DataFrame()\n",
    "for col in a.columns[4:-3]:\n",
    "    try:\n",
    "\n",
    "        if ('Latitude' in col) | ('Longitude' in col):\n",
    "            continue\n",
    "        cval = pd.to_numeric(a[col],errors='coerce')\n",
    "       # print(max(cval))\n",
    "\n",
    "        pd.cut(cval,bins = np.arange(min(cval),max(cval),(max(cval)-min(cval))/8))\n",
    "\n",
    "        a_rf[col] = cval\n",
    "    except Exception as e:\n",
    "        print(e)\n",
    "        le = sklearn.preprocessing.LabelEncoder()\n",
    "        le.fit(a[col].astype('str').values)\n",
    "        l = le.transform(a[col].astype('str').values) \n",
    "        a_rf[col] = l\n",
    "\n",
    "    \n",
    "a_rf['CRONUS Erosion Rate (m My)'] = pd.to_numeric(a['CRONUS Erosion Rate (m My)'],errors='coerce')\n",
    "\n",
    "a_rf = a_rf.drop(np.where(a['Mean Basin Elevation (m)'].isna())[0])"
   ]
  },
  {
   "cell_type": "code",
   "execution_count": 12,
   "metadata": {},
   "outputs": [],
   "source": [
    "if 0:\n",
    "    a_rf.index = range(len(a_rf))\n",
    "    lencvs = int(np.floor(len(a_rf)/ncv))\n",
    "    test_ids = []\n",
    "    a_rf2 = pd.DataFrame()\n",
    "    for i in range(ncv):\n",
    "        if i < ncv-1:\n",
    "            a_rf_sub = a_rf.iloc[i * lencvs : (i+1) *lencvs]\n",
    "        else:\n",
    "            a_rf_sub = a_rf.iloc[i * lencvs ::]\n",
    "        #test_ids.append(a_rf_sub.sample(frac=1).index)\n",
    "        a_rf2 = a_rf2.append(a_rf_sub.sample(frac=1))\n",
    "    a_rf = a_rf2"
   ]
  },
  {
   "cell_type": "code",
   "execution_count": 13,
   "metadata": {},
   "outputs": [
    {
     "ename": "KeyError",
     "evalue": "'Mean Basin Slope (°)'",
     "output_type": "error",
     "traceback": [
      "\u001b[0;31m---------------------------------------------------------------------------\u001b[0m",
      "\u001b[0;31mKeyError\u001b[0m                                  Traceback (most recent call last)",
      "Cell \u001b[0;32mIn[13], line 1\u001b[0m\n\u001b[0;32m----> 1\u001b[0m plt\u001b[38;5;241m.\u001b[39mplot(\u001b[43ma_rf\u001b[49m\u001b[43m[\u001b[49m\u001b[38;5;124;43m'\u001b[39;49m\u001b[38;5;124;43mMean Basin Slope (°)\u001b[39;49m\u001b[38;5;124;43m'\u001b[39;49m\u001b[43m]\u001b[49m,a_rf[\u001b[38;5;124m'\u001b[39m\u001b[38;5;124mCRONUS Erosion Rate (m My)\u001b[39m\u001b[38;5;124m'\u001b[39m],\u001b[38;5;124m'\u001b[39m\u001b[38;5;124m.\u001b[39m\u001b[38;5;124m'\u001b[39m)\n\u001b[1;32m      2\u001b[0m plt\u001b[38;5;241m.\u001b[39mxscale(\u001b[38;5;124m'\u001b[39m\u001b[38;5;124mlog\u001b[39m\u001b[38;5;124m'\u001b[39m)\n\u001b[1;32m      3\u001b[0m plt\u001b[38;5;241m.\u001b[39myscale(\u001b[38;5;124m'\u001b[39m\u001b[38;5;124mlog\u001b[39m\u001b[38;5;124m'\u001b[39m)\n",
      "File \u001b[0;32m~/miniconda3/lib/python3.9/site-packages/pandas/core/frame.py:3761\u001b[0m, in \u001b[0;36mDataFrame.__getitem__\u001b[0;34m(self, key)\u001b[0m\n\u001b[1;32m   3759\u001b[0m \u001b[38;5;28;01mif\u001b[39;00m \u001b[38;5;28mself\u001b[39m\u001b[38;5;241m.\u001b[39mcolumns\u001b[38;5;241m.\u001b[39mnlevels \u001b[38;5;241m>\u001b[39m \u001b[38;5;241m1\u001b[39m:\n\u001b[1;32m   3760\u001b[0m     \u001b[38;5;28;01mreturn\u001b[39;00m \u001b[38;5;28mself\u001b[39m\u001b[38;5;241m.\u001b[39m_getitem_multilevel(key)\n\u001b[0;32m-> 3761\u001b[0m indexer \u001b[38;5;241m=\u001b[39m \u001b[38;5;28;43mself\u001b[39;49m\u001b[38;5;241;43m.\u001b[39;49m\u001b[43mcolumns\u001b[49m\u001b[38;5;241;43m.\u001b[39;49m\u001b[43mget_loc\u001b[49m\u001b[43m(\u001b[49m\u001b[43mkey\u001b[49m\u001b[43m)\u001b[49m\n\u001b[1;32m   3762\u001b[0m \u001b[38;5;28;01mif\u001b[39;00m is_integer(indexer):\n\u001b[1;32m   3763\u001b[0m     indexer \u001b[38;5;241m=\u001b[39m [indexer]\n",
      "File \u001b[0;32m~/miniconda3/lib/python3.9/site-packages/pandas/core/indexes/range.py:349\u001b[0m, in \u001b[0;36mRangeIndex.get_loc\u001b[0;34m(self, key)\u001b[0m\n\u001b[1;32m    347\u001b[0m         \u001b[38;5;28;01mraise\u001b[39;00m \u001b[38;5;167;01mKeyError\u001b[39;00m(key) \u001b[38;5;28;01mfrom\u001b[39;00m \u001b[38;5;21;01merr\u001b[39;00m\n\u001b[1;32m    348\u001b[0m \u001b[38;5;28;01mif\u001b[39;00m \u001b[38;5;28misinstance\u001b[39m(key, Hashable):\n\u001b[0;32m--> 349\u001b[0m     \u001b[38;5;28;01mraise\u001b[39;00m \u001b[38;5;167;01mKeyError\u001b[39;00m(key)\n\u001b[1;32m    350\u001b[0m \u001b[38;5;28mself\u001b[39m\u001b[38;5;241m.\u001b[39m_check_indexing_error(key)\n\u001b[1;32m    351\u001b[0m \u001b[38;5;28;01mraise\u001b[39;00m \u001b[38;5;167;01mKeyError\u001b[39;00m(key)\n",
      "\u001b[0;31mKeyError\u001b[0m: 'Mean Basin Slope (°)'"
     ]
    }
   ],
   "source": [
    "plt.plot(a_rf['Mean Basin Slope (°)'],a_rf['CRONUS Erosion Rate (m My)'],'.')\n",
    "plt.xscale('log')\n",
    "plt.yscale('log')"
   ]
  },
  {
   "cell_type": "markdown",
   "metadata": {},
   "source": [
    "# Cross validation - test dataset vs estimate with random forests"
   ]
  },
  {
   "cell_type": "code",
   "execution_count": 25,
   "metadata": {},
   "outputs": [
    {
     "name": "stdout",
     "output_type": "stream",
     "text": [
      "here\n"
     ]
    },
    {
     "ename": "TypeError",
     "evalue": "drop() takes from 1 to 2 positional arguments but 3 were given",
     "output_type": "error",
     "traceback": [
      "\u001b[0;31m---------------------------------------------------------------------------\u001b[0m",
      "\u001b[0;31mTypeError\u001b[0m                                 Traceback (most recent call last)",
      "Cell \u001b[0;32mIn[25], line 12\u001b[0m\n\u001b[1;32m     10\u001b[0m \u001b[38;5;28;01mexcept\u001b[39;00m:\n\u001b[1;32m     11\u001b[0m     \u001b[38;5;28mprint\u001b[39m(\u001b[38;5;124m'\u001b[39m\u001b[38;5;124mhere\u001b[39m\u001b[38;5;124m'\u001b[39m)\n\u001b[0;32m---> 12\u001b[0m predictors \u001b[38;5;241m=\u001b[39m \u001b[43ma_rf\u001b[49m\u001b[38;5;241;43m.\u001b[39;49m\u001b[43mdrop\u001b[49m\u001b[43m(\u001b[49m\u001b[38;5;124;43m'\u001b[39;49m\u001b[38;5;124;43mCRONUS Erosion Rate (m My)\u001b[39;49m\u001b[38;5;124;43m'\u001b[39;49m\u001b[43m,\u001b[49m\u001b[38;5;241;43m1\u001b[39;49m\u001b[43m)\u001b[49m\n\u001b[1;32m     14\u001b[0m targets \u001b[38;5;241m=\u001b[39m a_rf[\u001b[38;5;124m'\u001b[39m\u001b[38;5;124mCRONUS Erosion Rate (m My)\u001b[39m\u001b[38;5;124m'\u001b[39m]\n\u001b[1;32m     15\u001b[0m predictors\u001b[38;5;241m.\u001b[39mindex \u001b[38;5;241m=\u001b[39m \u001b[38;5;28mrange\u001b[39m(\u001b[38;5;28mlen\u001b[39m(predictors))\n",
      "\u001b[0;31mTypeError\u001b[0m: drop() takes from 1 to 2 positional arguments but 3 were given"
     ]
    }
   ],
   "source": [
    "a_rf = a_rf.sample(frac=1)\n",
    "a_rf.index = range(len(a_rf))\n",
    "ncv = 5\n",
    "selected_vars = ['Mean Basin Elevation (m)','Basin Relief (m)',\n",
    "                'Climate Zone (Main)','Mean Basin Slope (°)','Mean Annual Precipitation (mm yr)',\n",
    "                'Mean Annual Temperature (°C)','Seismicity','Seismic Regime']\n",
    "#selected_vars = ['Mean Basin Slope (°)']\n",
    "try:\n",
    "    a_rf = a_rf.drop('CRONUS Erosion Rate Error (m My)',1)\n",
    "except:\n",
    "    print('here')\n",
    "predictors = a_rf.drop('CRONUS Erosion Rate (m My)',1)\n",
    "\n",
    "targets = a_rf['CRONUS Erosion Rate (m My)']\n",
    "predictors.index = range(len(predictors))\n",
    "targets.index = range(len(predictors))\n",
    "a_rf.index = range(len(a_rf))\n",
    "select = False\n",
    "ero_thres = False\n",
    "if select:\n",
    "    predictors = predictors[selected_vars]\n",
    "if ero_thres:\n",
    "    \n",
    "        drop_rows = np.where((targets>1000)|(targets<10))[0]\n",
    "        for drop_row in drop_rows:\n",
    "            predictors = predictors.drop(drop_row)\n",
    "            targets = targets.drop(drop_row)\n",
    "\n",
    "model = RandomForestRegressor()#max_depth=50,criterion='mse',bootstrap = 'True',min_samples_split=50)\n",
    "#model = LinearRegression()\n",
    "seed = 5\n",
    "cv = model_selection.KFold(n_splits=ncv)\n",
    "a_rf.index = range(len(a_rf))\n",
    "c=0\n",
    "mnr2=0\n",
    "mnmn =0\n",
    "for train_index, test_index in cv.split(predictors):\n",
    "    X_train, X_test = predictors.iloc[train_index].values, predictors.iloc[test_index].values\n",
    "    X_train[X_train>5000000] = np.nan\n",
    "    y_train, y_test = targets.iloc[train_index].values, targets.iloc[test_index].values\n",
    "    y_train,y_test = y_train.reshape(-1,1),y_test.reshape(-1,1)\n",
    "    \n",
    "    ## Test data is training data - see how much overfitting occurs\n",
    "    #X_test = X_train.copy()\n",
    "    #y_test = y_train.copy()\n",
    "\n",
    "    imp = impute.SimpleImputer(missing_values=np.nan, strategy='mean')\n",
    "    imp.fit(X_train)\n",
    "    X_train = imp.transform(X_train)\n",
    "    imp = impute.SimpleImputer(missing_values=np.nan, strategy='mean')\n",
    "    imp.fit(X_test)\n",
    "    X_test = imp.transform(X_test)\n",
    "    imp = impute.SimpleImputer(missing_values=np.nan, strategy='mean')\n",
    "    imp.fit(y_train)\n",
    "    y_train = imp.transform(y_train).ravel()\n",
    "    imp = impute.SimpleImputer(missing_values=np.nan, strategy='mean')\n",
    "    imp.fit(y_test)\n",
    "    y_test = imp.transform(y_test).ravel()\n",
    "    # For training, fit() is used\n",
    "    scaling = MinMaxScaler(feature_range=(-1,1)).fit(X_train)\n",
    "    X_train = scaling.transform(X_train)\n",
    "    X_test = scaling.transform(X_test)\n",
    "    model.fit(X_train, y_train)\n",
    "\n",
    "    # Default metric is R2 for regression, which can be accessed by score()\n",
    "    model.score(X_test, y_test)\n",
    "\n",
    "    # For other metrics, we need the predictions of the model\n",
    "    y_pred = model.predict(X_test)\n",
    "    fig,ax = plt.subplots(figsize=(5,5))\n",
    "    plt.plot(y_test,y_pred,'.')\n",
    "    ax.set_yscale('log')\n",
    "    ax.set_xscale('log')\n",
    "    plt.xlabel('Observed m/Myr')\n",
    "    plt.ylabel('Estimated m/Myr')\n",
    "    print('Cross-validation # ' + str(c))\n",
    "    #print('Median error = ', metrics.median_absolute_error(y_test, y_pred))\n",
    "\n",
    "    y_test_n = y_test[np.logical_and(y_test>0,y_pred>0)]\n",
    "    y_pred_n = y_pred[np.logical_and(y_pred>0,y_test>0)]\n",
    "    r2 = metrics.r2_score(np.log(y_test_n),np.log(y_pred_n))\n",
    "    mn = metrics.median_absolute_error(np.log(y_test_n), np.log(y_pred_n))\n",
    "    print('r2 = ',r2)\n",
    "    mnmn+=mn\n",
    "    mnr2+=r2\n",
    "    c+=1\n",
    "    plt.xlim([0 ,1000])\n",
    "    plt.ylim([0 ,1000])\n",
    "print(mnr2/c)\n",
    "print(mnmn/c)"
   ]
  },
  {
   "cell_type": "markdown",
   "metadata": {},
   "source": [
    "## Baseline"
   ]
  },
  {
   "cell_type": "code",
   "execution_count": 26,
   "metadata": {},
   "outputs": [
    {
     "ename": "NameError",
     "evalue": "name 'predictors' is not defined",
     "output_type": "error",
     "traceback": [
      "\u001b[0;31m---------------------------------------------------------------------------\u001b[0m",
      "\u001b[0;31mNameError\u001b[0m                                 Traceback (most recent call last)",
      "Cell \u001b[0;32mIn[26], line 7\u001b[0m\n\u001b[1;32m      4\u001b[0m mnmn \u001b[38;5;241m=\u001b[39m \u001b[38;5;241m0\u001b[39m\n\u001b[1;32m      5\u001b[0m cv \u001b[38;5;241m=\u001b[39m model_selection\u001b[38;5;241m.\u001b[39mKFold(n_splits\u001b[38;5;241m=\u001b[39mncv)\n\u001b[0;32m----> 7\u001b[0m \u001b[38;5;28;01mfor\u001b[39;00m train_index, test_index \u001b[38;5;129;01min\u001b[39;00m cv\u001b[38;5;241m.\u001b[39msplit(\u001b[43mpredictors\u001b[49m):\n\u001b[1;32m      8\u001b[0m     mod \u001b[38;5;241m=\u001b[39m LinearRegression()\n\u001b[1;32m      9\u001b[0m     X_train, X_test \u001b[38;5;241m=\u001b[39m predictors\u001b[38;5;241m.\u001b[39miloc[train_index]\u001b[38;5;241m.\u001b[39mvalues, predictors\u001b[38;5;241m.\u001b[39miloc[test_index]\u001b[38;5;241m.\u001b[39mvalues\n",
      "\u001b[0;31mNameError\u001b[0m: name 'predictors' is not defined"
     ]
    }
   ],
   "source": [
    "from sklearn.linear_model import LinearRegression\n",
    "c=0\n",
    "mnr2=0\n",
    "mnmn = 0\n",
    "cv = model_selection.KFold(n_splits=ncv)\n",
    "\n",
    "for train_index, test_index in cv.split(predictors):\n",
    "    mod = LinearRegression()\n",
    "    X_train, X_test = predictors.iloc[train_index].values, predictors.iloc[test_index].values\n",
    "    y_train, y_test = targets.iloc[train_index].values, targets.iloc[test_index].values\n",
    "    \n",
    "    X_train = X_train[:,4]\n",
    "    X_test = X_test[:,4]\n",
    "    isn = np.where(np.logical_not(np.isnan(X_train)))\n",
    "    isn2 = np.where(np.logical_not((np.isnan(X_test))))\n",
    "    mod = mod.fit(X_train[isn].reshape(-1,1),y_train[isn].reshape(-1,1))\n",
    "    \n",
    "    p = mod.predict((X_test[isn2].reshape(-1,1)))\n",
    "    #e = np.mean((p - np.log(y_train[isn2]))**2)\n",
    "    #p = np.exp(p) * 1#np.exp(e/2)\n",
    "    fig,ax = plt.subplots(figsize=(5,5))\n",
    "    #plt.plot(x,p,markersize=10)\n",
    "    #plt.plot(a_rf[a_rf.columns[i]], np.float64(a_rf['CRONUS Erosion Rate (m My)']),'.')\n",
    "    plt.plot(y_test[isn2],p,'.')\n",
    "    r2 = metrics.r2_score(y_test[isn2],p)\n",
    "    mn = metrics.median_absolute_error(y_test[isn2], p)\n",
    "\n",
    "    mnr2 += r2\n",
    "    mnmn += mn\n",
    "    ax.set_yscale('log')\n",
    "    ax.set_xscale('log')\n",
    "    c+=1\n",
    "print(mnr2/c)\n",
    "print(mnmn/c)\n",
    "\n",
    "\n",
    "    #ax.set_ylim([.])\n"
   ]
  },
  {
   "cell_type": "code",
   "execution_count": 27,
   "metadata": {},
   "outputs": [
    {
     "ename": "NameError",
     "evalue": "name 'predictors' is not defined",
     "output_type": "error",
     "traceback": [
      "\u001b[0;31m---------------------------------------------------------------------------\u001b[0m",
      "\u001b[0;31mNameError\u001b[0m                                 Traceback (most recent call last)",
      "Cell \u001b[0;32mIn[27], line 1\u001b[0m\n\u001b[0;32m----> 1\u001b[0m predictors2 \u001b[38;5;241m=\u001b[39m \u001b[43mpredictors\u001b[49m\u001b[38;5;241m.\u001b[39mcopy()\u001b[38;5;66;03m#.sample(frac=1)\u001b[39;00m\n\u001b[1;32m      2\u001b[0m targets2 \u001b[38;5;241m=\u001b[39m targets[predictors2\u001b[38;5;241m.\u001b[39mindex]\n",
      "\u001b[0;31mNameError\u001b[0m: name 'predictors' is not defined"
     ]
    }
   ],
   "source": [
    "predictors2 = predictors.copy()#.sample(frac=1)\n",
    "targets2 = targets[predictors2.index]"
   ]
  },
  {
   "cell_type": "code",
   "execution_count": 28,
   "metadata": {},
   "outputs": [
    {
     "ename": "SyntaxError",
     "evalue": "unexpected EOF while parsing (2680198704.py, line 37)",
     "output_type": "error",
     "traceback": [
      "\u001b[0;36m  Cell \u001b[0;32mIn[28], line 37\u001b[0;36m\u001b[0m\n\u001b[0;31m    #ax.set_xlabel(a_rf.columns[i])\u001b[0m\n\u001b[0m                                   ^\u001b[0m\n\u001b[0;31mSyntaxError\u001b[0m\u001b[0;31m:\u001b[0m unexpected EOF while parsing\n"
     ]
    }
   ],
   "source": [
    "from sklearn.linear_model import LinearRegression\n",
    "mod = LinearRegression()\n",
    "targeti = targets2.copy()\n",
    "predicti = predictors2.copy()\n",
    "\n",
    "ti = sklearn.impute.SimpleImputer()\n",
    "pi = sklearn.impute.SimpleImputer()\n",
    "\n",
    "ti.fit(targeti.to_numpy().reshape(-1,1))\n",
    "targeti = ti.transform(targeti.to_numpy().reshape(-1,1))\n",
    "\n",
    "pi.fit(predicti.to_numpy())\n",
    "predicti = pi.transform(predicti.to_numpy())\n",
    "#x[x<=0] = 1e-10X\n",
    "x=predicti#prednp.abs(X_train[:,4].reshape(-1,1))\n",
    "y_train=targeti\n",
    "y_test = targeti\n",
    "x=(x)\n",
    "\n",
    "mod = mod.fit((x),(y_train))\n",
    "p = mod.predict((x))\n",
    "fig,ax = plt.subplots(figsize=(7,5))\n",
    "yt = y_train.copy()\n",
    "yt = yt[p>0]\n",
    "#p = p[p>0]\n",
    "#plt.plot(x,p,markersize=10)\n",
    "#plt.plot(a_rf[a_rf.columns[i]], np.float64(a_rf['CRONUS Erosion Rate (m My)']),'.')\n",
    "x = x[:,4]\n",
    "plt.plot(np.log(p),np.log(yt),'.')\n",
    "#plt.plot((x),p,'.')\n",
    "#plt.plot(x)\n",
    "#plt.xscale('log')\n",
    "#plt.yscale('log')\n",
    "print(metrics.r2_score(np.log(yt),np.log(p))\n",
    "\n",
    "#ax.set_ylim([.])\n",
    "#ax.set_xlabel(a_rf.columns[i])"
   ]
  },
  {
   "cell_type": "code",
   "execution_count": 29,
   "metadata": {},
   "outputs": [
    {
     "ename": "NameError",
     "evalue": "name 'predictors2' is not defined",
     "output_type": "error",
     "traceback": [
      "\u001b[0;31m---------------------------------------------------------------------------\u001b[0m",
      "\u001b[0;31mNameError\u001b[0m                                 Traceback (most recent call last)",
      "Cell \u001b[0;32mIn[29], line 5\u001b[0m\n\u001b[1;32m      2\u001b[0m mod \u001b[38;5;241m=\u001b[39m LinearRegression()\n\u001b[1;32m      3\u001b[0m cv \u001b[38;5;241m=\u001b[39m model_selection\u001b[38;5;241m.\u001b[39mKFold(n_splits\u001b[38;5;241m=\u001b[39m\u001b[38;5;241m5\u001b[39m)\n\u001b[0;32m----> 5\u001b[0m \u001b[38;5;28;01mfor\u001b[39;00m train_index, test_index \u001b[38;5;129;01min\u001b[39;00m cv\u001b[38;5;241m.\u001b[39msplit(\u001b[43mpredictors2\u001b[49m):\n\u001b[1;32m      6\u001b[0m     targeti \u001b[38;5;241m=\u001b[39m targets\u001b[38;5;241m.\u001b[39mcopy()\u001b[38;5;241m.\u001b[39mloc[train_index]\n\u001b[1;32m      7\u001b[0m     predicti \u001b[38;5;241m=\u001b[39m predictors2\u001b[38;5;241m.\u001b[39mcopy()\u001b[38;5;241m.\u001b[39mloc[train_index]\n",
      "\u001b[0;31mNameError\u001b[0m: name 'predictors2' is not defined"
     ]
    }
   ],
   "source": [
    "from sklearn.linear_model import LinearRegression\n",
    "mod = LinearRegression()\n",
    "cv = model_selection.KFold(n_splits=5)\n",
    "\n",
    "for train_index, test_index in cv.split(predictors2):\n",
    "    targeti = targets.copy().loc[train_index]\n",
    "    predicti = predictors2.copy().loc[train_index]\n",
    "    \n",
    "    targett = targets.copy().loc[test_index]\n",
    "    predictt = predictors.copy().loc[test_index]\n",
    "\n",
    "    ti = sklearn.impute.SimpleImputer()\n",
    "    pi = sklearn.impute.SimpleImputer()\n",
    "    tt = sklearn.impute.SimpleImputer()\n",
    "    pt = sklearn.impute.SimpleImputer()\n",
    "\n",
    "    ti.fit(targeti.to_numpy().reshape(-1,1))\n",
    "    targeti = ti.transform(targeti.to_numpy().reshape(-1,1))\n",
    "\n",
    "    pi.fit(predicti.to_numpy())\n",
    "    predicti = pi.transform(predicti.to_numpy())\n",
    "    \n",
    "    \n",
    "    tt.fit(targett.to_numpy().reshape(-1,1))\n",
    "    targett = tt.transform(targett.to_numpy().reshape(-1,1))\n",
    "\n",
    "    pt.fit(predictt.to_numpy())\n",
    "    predictt = pt.transform(predictt.to_numpy())\n",
    "    #targett=targeti.copy()\n",
    "    #predictt=predicti.copy()\n",
    "    #x[x<=0] = 1e-10X\n",
    "    x=predicti#prednp.abs(X_train[:,4].reshape(-1,1))\n",
    "    y_train=targeti\n",
    "    y_test = targett\n",
    "    xt=predictt\n",
    "    \n",
    "\n",
    "    mod = mod.fit((x),np.log(y_train))\n",
    "    p = mod.predict(xt)\n",
    "    fig,ax = plt.subplots(figsize=(7,5))\n",
    "    yt = y_train.copy()\n",
    "    #yt = yt[p>0]\n",
    "    #p = p[p>0]\n",
    "    #plt.plot(x,p,markersize=10)\n",
    "    #plt.plot(a_rf[a_rf.columns[i]], np.float64(a_rf['CRONUS Erosion Rate (m My)']),'.')\n",
    "    plt.plot(p,np.log(y_test),'.')\n",
    "    #plt.plot((x),p,'.')\n",
    "    #plt.plot(x)\n",
    "    #plt.xscale('log')\n",
    "    #plt.yscale('log')\n",
    "    print(metrics.r2_score(np.log(y_test),p))\n",
    "\n",
    "#ax.set_ylim([.])\n",
    "#ax.set_xlabel(a_rf.columns[i])"
   ]
  },
  {
   "cell_type": "code",
   "execution_count": null,
   "metadata": {},
   "outputs": [],
   "source": []
  }
 ],
 "metadata": {
  "kernelspec": {
   "display_name": "Python 3 (ipykernel)",
   "language": "python",
   "name": "python3"
  },
  "language_info": {
   "codemirror_mode": {
    "name": "ipython",
    "version": 3
   },
   "file_extension": ".py",
   "mimetype": "text/x-python",
   "name": "python",
   "nbconvert_exporter": "python",
   "pygments_lexer": "ipython3",
   "version": "3.12.0"
  }
 },
 "nbformat": 4,
 "nbformat_minor": 4
}
