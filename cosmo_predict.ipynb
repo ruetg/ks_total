{
 "cells": [
  {
   "cell_type": "markdown",
   "metadata": {},
   "source": [
    "## Analysis of Portenga and Bierman (2011) supplementary data"
   ]
  },
  {
   "cell_type": "code",
   "execution_count": 6,
   "metadata": {},
   "outputs": [
    {
     "ename": "ModuleNotFoundError",
     "evalue": "No module named 'seaborn'",
     "output_type": "error",
     "traceback": [
      "\u001b[0;31m---------------------------------------------------------------------------\u001b[0m",
      "\u001b[0;31mModuleNotFoundError\u001b[0m                       Traceback (most recent call last)",
      "\u001b[0;32m<ipython-input-6-39a284b6a4c1>\u001b[0m in \u001b[0;36m<module>\u001b[0;34m\u001b[0m\n\u001b[1;32m      3\u001b[0m \u001b[0;32mimport\u001b[0m \u001b[0mnumpy\u001b[0m \u001b[0;32mas\u001b[0m \u001b[0mnp\u001b[0m\u001b[0;34m\u001b[0m\u001b[0;34m\u001b[0m\u001b[0m\n\u001b[1;32m      4\u001b[0m \u001b[0mfolder\u001b[0m \u001b[0;34m=\u001b[0m\u001b[0;34m'/Users/gr_1/Documents/cosmo_predict/'\u001b[0m\u001b[0;34m\u001b[0m\u001b[0;34m\u001b[0m\u001b[0m\n\u001b[0;32m----> 5\u001b[0;31m \u001b[0;32mimport\u001b[0m \u001b[0mseaborn\u001b[0m \u001b[0;32mas\u001b[0m \u001b[0msns\u001b[0m\u001b[0;34m\u001b[0m\u001b[0;34m\u001b[0m\u001b[0m\n\u001b[0m\u001b[1;32m      6\u001b[0m \u001b[0;32mimport\u001b[0m \u001b[0mpandas\u001b[0m \u001b[0;32mas\u001b[0m \u001b[0mpd\u001b[0m\u001b[0;34m\u001b[0m\u001b[0;34m\u001b[0m\u001b[0m\n\u001b[1;32m      7\u001b[0m \u001b[0;32mimport\u001b[0m \u001b[0mmatplotlib\u001b[0m\u001b[0;34m.\u001b[0m\u001b[0mpyplot\u001b[0m \u001b[0;32mas\u001b[0m \u001b[0mplt\u001b[0m\u001b[0;34m\u001b[0m\u001b[0;34m\u001b[0m\u001b[0m\n",
      "\u001b[0;31mModuleNotFoundError\u001b[0m: No module named 'seaborn'"
     ]
    }
   ],
   "source": [
    "import pandas as pd\n",
    "import os\n",
    "import numpy as np\n",
    "folder ='/Users/gr_1/Documents/cosmo_predict/'\n",
    "import seaborn as sns\n",
    "import pandas as pd\n",
    "import matplotlib.pyplot as plt\n",
    "import sklearn"
   ]
  },
  {
   "cell_type": "markdown",
   "metadata": {},
   "source": [
    "## step 1 Load excel sheet, look at basin averaged rates (sheets 4 - 12), concatenate"
   ]
  },
  {
   "cell_type": "code",
   "execution_count": 225,
   "metadata": {},
   "outputs": [
    {
     "name": "stderr",
     "output_type": "stream",
     "text": [
      "<ipython-input-225-9c6d9665ea42>:3: FutureWarning: Your version of xlrd is 1.2.0. In xlrd >= 2.0, only the xls format is supported. As a result, the openpyxl engine will be used if it is installed and the engine argument is not specified. Install openpyxl instead.\n",
      "  b = pd.read_excel(folder + 'rates_cosmo.xlsx',sheet_name = i)\n"
     ]
    }
   ],
   "source": [
    "\n",
    "a = pd.DataFrame()\n",
    "for i in range(4,12):\n",
    "    b = pd.read_excel(folder + 'rates_cosmo.xlsx',sheet_name = i)\n",
    "    if i < 4:\n",
    "        b['type'] = 'bedrock'\n",
    "    else:\n",
    "        b['type'] = 'basinwide'\n",
    "    a = a.append(b)\n",
    "a.index = range(0,len(a))"
   ]
  },
  {
   "cell_type": "markdown",
   "metadata": {},
   "source": [
    "## Some of the data labels are messed up, correct"
   ]
  },
  {
   "cell_type": "code",
   "execution_count": 226,
   "metadata": {},
   "outputs": [],
   "source": [
    "for col in a.columns:\n",
    "    for i in range(len(a)):\n",
    "        if len(str(a[col][i:i+1].values[0]).split(\"\\n\"))>1:\n",
    "            a.loc[i,col] = str(a[col][i:i+1].values[0]).split('\\n')[0]\n",
    "    if 'Unnamed' in str(col):\n",
    "        a = a.drop(col,1)\n",
    "for s in range(len(a)):\n",
    "    a.loc[s,'Climate Zone (Sub-category)'] = str(a.loc[s,'Climate Zone (Sub-category)']).lower()"
   ]
  },
  {
   "cell_type": "markdown",
   "metadata": {},
   "source": [
    "## Want to discretize continuous data for the seaborn box plots"
   ]
  },
  {
   "cell_type": "code",
   "execution_count": 227,
   "metadata": {},
   "outputs": [],
   "source": [
    "a_discrete = pd.DataFrame()\n",
    "for col in a.columns:\n",
    "    try:\n",
    "        cval = pd.to_numeric(a[col],errors='coerce')\n",
    "        a_discrete[col+' binned'] = pd.cut(cval,bins = np.arange(min(cval),max(cval),(max(cval)-min(cval))/8))\n",
    "    except:\n",
    "        a_discrete[col] = a[col]\n",
    "    \n",
    "a_discrete['CRONUS Erosion Rate (m My)'] = pd.to_numeric(a['CRONUS Erosion Rate (m My)'],errors='coerce')\n",
    "\n"
   ]
  },
  {
   "cell_type": "markdown",
   "metadata": {},
   "source": [
    "## Box plots of excel variables vs. Cronus erosion rates"
   ]
  },
  {
   "cell_type": "code",
   "execution_count": 228,
   "metadata": {},
   "outputs": [],
   "source": [
    "if 0:\n",
    "    c = 0\n",
    "    for col in np.flip(a_discrete.columns[3:-5]):\n",
    "\n",
    "        fig_ax = plt.subplots(figsize=(10,5))\n",
    "        g = sns.boxplot(data = a_discrete,y='CRONUS Erosion Rate (m My)',x=col)\n",
    "        plt.xticks(rotation=80)\n",
    "        g.set_yscale('log')\n",
    "        c += 1"
   ]
  },
  {
   "cell_type": "markdown",
   "metadata": {},
   "source": [
    "## Random forest regression"
   ]
  },
  {
   "cell_type": "code",
   "execution_count": 229,
   "metadata": {},
   "outputs": [],
   "source": [
    "from sklearn import model_selection\n",
    "from sklearn.ensemble import RandomForestRegressor\n",
    "from sklearn import metrics\n",
    "from sklearn.preprocessing import LabelBinarizer\n",
    "from sklearn.svm import SVR\n",
    "from sklearn import impute\n",
    "from sklearn.tree import DecisionTreeRegressor\n",
    "from sklearn.linear_model import LogisticRegression\n",
    "from sklearn.preprocessing import MinMaxScaler"
   ]
  },
  {
   "cell_type": "code",
   "execution_count": 230,
   "metadata": {},
   "outputs": [],
   "source": [
    "a['dist'] = np.sqrt(np.float64(a['Longitude (decimal degrees)'])**2 + np.float64(a['Latitude (decimal degrees)'])**2)\n",
    "a['Longitude (decimal degrees)'] = np.float64(a['Longitude (decimal degrees)'])"
   ]
  },
  {
   "cell_type": "code",
   "execution_count": 231,
   "metadata": {},
   "outputs": [],
   "source": [
    "a['dist_bin'] = pd.factorize(pd.cut(pd.to_numeric(a['Longitude (decimal degrees)']),50))[0]"
   ]
  },
  {
   "cell_type": "code",
   "execution_count": 232,
   "metadata": {},
   "outputs": [
    {
     "name": "stderr",
     "output_type": "stream",
     "text": [
      "<ipython-input-232-91ece3074b6c>:6: DeprecationWarning: Converting `np.inexact` or `np.floating` to a dtype is deprecated. The current result is `float64` which is not strictly correct.\n",
      "  if (a[col].dtype != np.number):\n"
     ]
    }
   ],
   "source": [
    "a2 = pd.DataFrame()\n",
    "for i,data in a.groupby('dist_bin'):  \n",
    "    if len(data) > 0:\n",
    "        a3 = data.mean()\n",
    "        for col in a.columns:\n",
    "            if (a[col].dtype != np.number):\n",
    "                a3[col] = data.iloc[0][col]\n",
    "        a2 = a2.append(a3,ignore_index=True)\n",
    "\n",
    "#a = a2"
   ]
  },
  {
   "cell_type": "code",
   "execution_count": 233,
   "metadata": {},
   "outputs": [],
   "source": [
    "a = a.sort_values('Longitude (decimal degrees)')\n",
    "#a=a[::-1]"
   ]
  },
  {
   "cell_type": "markdown",
   "metadata": {},
   "source": [
    "## Data prep"
   ]
  },
  {
   "cell_type": "code",
   "execution_count": 234,
   "metadata": {},
   "outputs": [
    {
     "name": "stdout",
     "output_type": "stream",
     "text": [
      "arange: cannot compute length\n",
      "arange: cannot compute length\n",
      "arange: cannot compute length\n",
      "arange: cannot compute length\n",
      "arange: cannot compute length\n"
     ]
    }
   ],
   "source": [
    "#a = a[::-1]\n",
    "a_rf = pd.DataFrame()\n",
    "for col in a.columns[4:-3]:\n",
    "    try:\n",
    "\n",
    "        if ('Latitude' in col) | ('Longitude' in col):\n",
    "            continue\n",
    "        cval = pd.to_numeric(a[col],errors='coerce')\n",
    "       # print(max(cval))\n",
    "\n",
    "        pd.cut(cval,bins = np.arange(min(cval),max(cval),(max(cval)-min(cval))/8))\n",
    "\n",
    "        a_rf[col] = cval\n",
    "    except Exception as e:\n",
    "        print(e)\n",
    "        le = sklearn.preprocessing.LabelEncoder()\n",
    "        le.fit(a[col].astype('str').values)\n",
    "        l = le.transform(a[col].astype('str').values) \n",
    "        a_rf[col] = l\n",
    "\n",
    "    \n",
    "a_rf['CRONUS Erosion Rate (m My)'] = pd.to_numeric(a['CRONUS Erosion Rate (m My)'],errors='coerce')\n",
    "\n",
    "a_rf = a_rf.drop(np.where(a['Mean Basin Elevation (m)'].isna())[0])"
   ]
  },
  {
   "cell_type": "code",
   "execution_count": 235,
   "metadata": {},
   "outputs": [],
   "source": [
    "if 0:\n",
    "    a_rf.index = range(len(a_rf))\n",
    "    lencvs = int(np.floor(len(a_rf)/ncv))\n",
    "    test_ids = []\n",
    "    a_rf2 = pd.DataFrame()\n",
    "    for i in range(ncv):\n",
    "        if i < ncv-1:\n",
    "            a_rf_sub = a_rf.iloc[i * lencvs : (i+1) *lencvs]\n",
    "        else:\n",
    "            a_rf_sub = a_rf.iloc[i * lencvs ::]\n",
    "        #test_ids.append(a_rf_sub.sample(frac=1).index)\n",
    "        a_rf2 = a_rf2.append(a_rf_sub.sample(frac=1))\n",
    "    a_rf = a_rf2"
   ]
  },
  {
   "cell_type": "markdown",
   "metadata": {},
   "source": [
    "# Cross validation - test dataset vs estimate with random forests"
   ]
  },
  {
   "cell_type": "code",
   "execution_count": 236,
   "metadata": {},
   "outputs": [
    {
     "name": "stdout",
     "output_type": "stream",
     "text": [
      "Cross-validation # 0\n",
      "r2 =  0.46021013686177137\n",
      "Cross-validation # 1\n",
      "r2 =  -0.642911145265916\n",
      "Cross-validation # 2\n",
      "r2 =  0.47507990476346873\n"
     ]
    },
    {
     "name": "stderr",
     "output_type": "stream",
     "text": [
      "<ipython-input-236-23050450f5b9>:83: UserWarning: Attempted to set non-positive left xlim on a log-scaled axis.\n",
      "Invalid limit will be ignored.\n",
      "  plt.xlim([0 ,1000])\n",
      "<ipython-input-236-23050450f5b9>:84: UserWarning: Attempted to set non-positive bottom ylim on a log-scaled axis.\n",
      "Invalid limit will be ignored.\n",
      "  plt.ylim([0 ,1000])\n",
      "<ipython-input-236-23050450f5b9>:83: UserWarning: Attempted to set non-positive left xlim on a log-scaled axis.\n",
      "Invalid limit will be ignored.\n",
      "  plt.xlim([0 ,1000])\n",
      "<ipython-input-236-23050450f5b9>:84: UserWarning: Attempted to set non-positive bottom ylim on a log-scaled axis.\n",
      "Invalid limit will be ignored.\n",
      "  plt.ylim([0 ,1000])\n",
      "<ipython-input-236-23050450f5b9>:83: UserWarning: Attempted to set non-positive left xlim on a log-scaled axis.\n",
      "Invalid limit will be ignored.\n",
      "  plt.xlim([0 ,1000])\n",
      "<ipython-input-236-23050450f5b9>:84: UserWarning: Attempted to set non-positive bottom ylim on a log-scaled axis.\n",
      "Invalid limit will be ignored.\n",
      "  plt.ylim([0 ,1000])\n"
     ]
    },
    {
     "name": "stdout",
     "output_type": "stream",
     "text": [
      "Cross-validation # 3\n",
      "r2 =  0.5323842194375435\n",
      "Cross-validation # 4\n",
      "r2 =  -0.37311020131615913\n",
      "0.09033058289614171\n",
      "0.7088997295148267\n"
     ]
    },
    {
     "name": "stderr",
     "output_type": "stream",
     "text": [
      "<ipython-input-236-23050450f5b9>:83: UserWarning: Attempted to set non-positive left xlim on a log-scaled axis.\n",
      "Invalid limit will be ignored.\n",
      "  plt.xlim([0 ,1000])\n",
      "<ipython-input-236-23050450f5b9>:84: UserWarning: Attempted to set non-positive bottom ylim on a log-scaled axis.\n",
      "Invalid limit will be ignored.\n",
      "  plt.ylim([0 ,1000])\n",
      "<ipython-input-236-23050450f5b9>:83: UserWarning: Attempted to set non-positive left xlim on a log-scaled axis.\n",
      "Invalid limit will be ignored.\n",
      "  plt.xlim([0 ,1000])\n",
      "<ipython-input-236-23050450f5b9>:84: UserWarning: Attempted to set non-positive bottom ylim on a log-scaled axis.\n",
      "Invalid limit will be ignored.\n",
      "  plt.ylim([0 ,1000])\n"
     ]
    },
    {
     "data": {
      "image/png": "[encoded data removed]",
      "text/plain": [
       "<Figure size 360x360 with 1 Axes>"
      ]
     },
     "metadata": {
      "needs_background": "light"
     },
     "output_type": "display_data"
    },
    {
     "data": {
      "image/png": "[encoded data removed]",
      "text/plain": [
       "<Figure size 360x360 with 1 Axes>"
      ]
     },
     "metadata": {
      "needs_background": "light"
     },
     "output_type": "display_data"
    },
    {
     "data": {
      "image/png": "[encoded data removed]",
      "text/plain": [
       "<Figure size 360x360 with 1 Axes>"
      ]
     },
     "metadata": {
      "needs_background": "light"
     },
     "output_type": "display_data"
    },
    {
     "data": {
      "image/png": "[encoded data removed]",
      "text/plain": [
       "<Figure size 360x360 with 1 Axes>"
      ]
     },
     "metadata": {
      "needs_background": "light"
     },
     "output_type": "display_data"
    },
    {
     "data": {
      "image/png": "[encoded data removed]",
      "text/plain": [
       "<Figure size 360x360 with 1 Axes>"
      ]
     },
     "metadata": {
      "needs_background": "light"
     },
     "output_type": "display_data"
    }
   ],
   "source": [
    "#a_rf = a_rf.sample(frac=1)\n",
    "a_rf.index = range(len(a_rf))\n",
    "selected_vars = ['Mean Basin Elevation (m)','Basin Relief (m)',\n",
    "                'Climate Zone (Main)','Mean Basin Slope (°)','Mean Annual Precipitation (mm yr)',\n",
    "                'Mean Annual Temperature (°C)','Seismicity','Seismic Regime']\n",
    "#selected_vars = ['Mean Basin Slope (°)']\n",
    "try:\n",
    "    a_rf = a_rf.drop('CRONUS Erosion Rate Error (m My)',1)\n",
    "except:\n",
    "    print('here')\n",
    "predictors = a_rf.drop('CRONUS Erosion Rate (m My)',1)\n",
    "\n",
    "targets = a_rf['CRONUS Erosion Rate (m My)']\n",
    "predictors.index = range(len(predictors))\n",
    "targets.index = range(len(predictors))\n",
    "a_rf.index = range(len(a_rf))\n",
    "select = False\n",
    "ero_thres = True\n",
    "if select:\n",
    "    predictors = predictors[selected_vars]\n",
    "if ero_thres:\n",
    "    \n",
    "        drop_rows = np.where((targets>1000)|(targets<10))[0]\n",
    "        for drop_row in drop_rows:\n",
    "            predictors = predictors.drop(drop_row)\n",
    "            targets = targets.drop(drop_row)\n",
    "\n",
    "model = SVR(C=1000)#max_depth=50,criterion='mse',bootstrap = 'True',min_samples_split=50)\n",
    "#model = RandomForestRegressor()\n",
    "seed = 5\n",
    "cv = model_selection.KFold(n_splits=ncv)\n",
    "a_rf.index = range(len(a_rf))\n",
    "c=0\n",
    "mnr2=0\n",
    "mnmn =0\n",
    "for train_index, test_index in cv.split(predictors):\n",
    "    X_train, X_test = predictors.iloc[train_index].values, predictors.iloc[test_index].values\n",
    "    X_train[X_train>5000000] = np.nan\n",
    "    y_train, y_test = targets.iloc[train_index].values, targets.iloc[test_index].values\n",
    "    y_train,y_test = y_train.reshape(-1,1),y_test.reshape(-1,1)\n",
    "    #y_train[y_train>500] = 500\n",
    "\n",
    "    imp = impute.SimpleImputer(missing_values=np.nan, strategy='mean')\n",
    "    imp.fit(X_train)\n",
    "    X_train = imp.transform(X_train)\n",
    "    imp = impute.SimpleImputer(missing_values=np.nan, strategy='mean')\n",
    "    imp.fit(X_test)\n",
    "    X_test = imp.transform(X_test)\n",
    "    imp = impute.SimpleImputer(missing_values=np.nan, strategy='mean')\n",
    "    imp.fit(y_train)\n",
    "    y_train = imp.transform(y_train).ravel()\n",
    "    imp = impute.SimpleImputer(missing_values=np.nan, strategy='mean')\n",
    "    imp.fit(y_test)\n",
    "    y_test = imp.transform(y_test).ravel()\n",
    "    # For training, fit() is used\n",
    "    scaling = MinMaxScaler(feature_range=(-1,1)).fit(X_train)\n",
    "    X_train = scaling.transform(X_train)\n",
    "    X_test = scaling.transform(X_test)\n",
    "    model.fit(X_train, y_train)\n",
    "\n",
    "    # Default metric is R2 for regression, which can be accessed by score()\n",
    "    model.score(X_test, y_test)\n",
    "\n",
    "    # For other metrics, we need the predictions of the model\n",
    "    y_pred = model.predict(X_test)\n",
    "    fig,ax = plt.subplots(figsize=(5,5))\n",
    "    plt.plot(y_test,y_pred,'.')\n",
    "    ax.set_yscale('log')\n",
    "    ax.set_xscale('log')\n",
    "    plt.xlabel('Observed m/Myr')\n",
    "    plt.ylabel('Estimated m/Myr')\n",
    "    print('Cross-validation # ' + str(c))\n",
    "    #print('Median error = ', metrics.median_absolute_error(y_test, y_pred))\n",
    "\n",
    "    y_test_n = y_test[np.logical_and(y_test>0,y_pred>0)]\n",
    "    y_pred_n = y_pred[np.logical_and(y_pred>0,y_test>0)]\n",
    "    r2 = metrics.r2_score(np.log(y_test_n),np.log(y_pred_n))\n",
    "    mn = metrics.median_absolute_error(np.log(y_test_n), np.log(y_pred_n))\n",
    "    print('r2 = ',r2)\n",
    "    mnmn+=mn\n",
    "    mnr2+=r2\n",
    "    c+=1\n",
    "    plt.xlim([0 ,1000])\n",
    "    plt.ylim([0 ,1000])\n",
    "print(mnr2/c)\n",
    "print(mnmn/c)"
   ]
  },
  {
   "cell_type": "markdown",
   "metadata": {},
   "source": [
    "## Baseline"
   ]
  },
  {
   "cell_type": "code",
   "execution_count": 187,
   "metadata": {},
   "outputs": [
    {
     "data": {
      "text/html": [
       "<div>\n",
       "<style scoped>\n",
       "    .dataframe tbody tr th:only-of-type {\n",
       "        vertical-align: middle;\n",
       "    }\n",
       "\n",
       "    .dataframe tbody tr th {\n",
       "        vertical-align: top;\n",
       "    }\n",
       "\n",
       "    .dataframe thead th {\n",
       "        text-align: right;\n",
       "    }\n",
       "</style>\n",
       "<table border=\"1\" class=\"dataframe\">\n",
       "  <thead>\n",
       "    <tr style=\"text-align: right;\">\n",
       "      <th></th>\n",
       "      <th>Mean Basin Elevation (m)</th>\n",
       "      <th>Basin Relief (m)</th>\n",
       "      <th>Basin Area (km )</th>\n",
       "      <th>Effective Basin Elevation (m)</th>\n",
       "      <th>Mean Basin Slope (°)</th>\n",
       "      <th>Rock Type (General)</th>\n",
       "      <th>Mean Annual Precipitation (mm yr)</th>\n",
       "      <th>Mean Annual Temperature (°C)</th>\n",
       "      <th>% Vegetation</th>\n",
       "      <th>Seismicity</th>\n",
       "      <th>Seismic Regime</th>\n",
       "      <th>Climate Zone (Main)</th>\n",
       "      <th>Climate Zone (Sub-category)</th>\n",
       "      <th>CRONUS Erosion Rate (m My)</th>\n",
       "      <th></th>\n",
       "    </tr>\n",
       "  </thead>\n",
       "  <tbody>\n",
       "    <tr>\n",
       "      <th>0</th>\n",
       "      <td>1114.0</td>\n",
       "      <td>2541.0</td>\n",
       "      <td>29337.70</td>\n",
       "      <td>1155.0</td>\n",
       "      <td>3.0</td>\n",
       "      <td>2</td>\n",
       "      <td>300.0</td>\n",
       "      <td>20.0</td>\n",
       "      <td>8.0</td>\n",
       "      <td>0.310600</td>\n",
       "      <td>0</td>\n",
       "      <td>0</td>\n",
       "      <td>7</td>\n",
       "      <td>6.79</td>\n",
       "      <td>0</td>\n",
       "    </tr>\n",
       "    <tr>\n",
       "      <th>1</th>\n",
       "      <td>1061.0</td>\n",
       "      <td>286.0</td>\n",
       "      <td>174.08</td>\n",
       "      <td>1063.0</td>\n",
       "      <td>1.5</td>\n",
       "      <td>2</td>\n",
       "      <td>222.0</td>\n",
       "      <td>20.0</td>\n",
       "      <td>1.0</td>\n",
       "      <td>0.310600</td>\n",
       "      <td>0</td>\n",
       "      <td>0</td>\n",
       "      <td>6</td>\n",
       "      <td>8.46</td>\n",
       "      <td>0</td>\n",
       "    </tr>\n",
       "    <tr>\n",
       "      <th>2</th>\n",
       "      <td>1305.0</td>\n",
       "      <td>1483.0</td>\n",
       "      <td>7374.15</td>\n",
       "      <td>1320.0</td>\n",
       "      <td>3.0</td>\n",
       "      <td>2</td>\n",
       "      <td>314.0</td>\n",
       "      <td>19.0</td>\n",
       "      <td>5.0</td>\n",
       "      <td>0.310600</td>\n",
       "      <td>0</td>\n",
       "      <td>0</td>\n",
       "      <td>6</td>\n",
       "      <td>9.92</td>\n",
       "      <td>0</td>\n",
       "    </tr>\n",
       "    <tr>\n",
       "      <th>3</th>\n",
       "      <td>1280.0</td>\n",
       "      <td>1598.0</td>\n",
       "      <td>7971.20</td>\n",
       "      <td>1297.0</td>\n",
       "      <td>2.9</td>\n",
       "      <td>2</td>\n",
       "      <td>303.0</td>\n",
       "      <td>19.0</td>\n",
       "      <td>5.0</td>\n",
       "      <td>0.310600</td>\n",
       "      <td>0</td>\n",
       "      <td>0</td>\n",
       "      <td>6</td>\n",
       "      <td>9.77</td>\n",
       "      <td>0</td>\n",
       "    </tr>\n",
       "    <tr>\n",
       "      <th>4</th>\n",
       "      <td>1147.0</td>\n",
       "      <td>2286.0</td>\n",
       "      <td>11490.00</td>\n",
       "      <td>1177.0</td>\n",
       "      <td>2.7</td>\n",
       "      <td>2</td>\n",
       "      <td>240.0</td>\n",
       "      <td>20.0</td>\n",
       "      <td>3.0</td>\n",
       "      <td>0.310600</td>\n",
       "      <td>0</td>\n",
       "      <td>0</td>\n",
       "      <td>6</td>\n",
       "      <td>1.51</td>\n",
       "      <td>0</td>\n",
       "    </tr>\n",
       "    <tr>\n",
       "      <th>...</th>\n",
       "      <td>...</td>\n",
       "      <td>...</td>\n",
       "      <td>...</td>\n",
       "      <td>...</td>\n",
       "      <td>...</td>\n",
       "      <td>...</td>\n",
       "      <td>...</td>\n",
       "      <td>...</td>\n",
       "      <td>...</td>\n",
       "      <td>...</td>\n",
       "      <td>...</td>\n",
       "      <td>...</td>\n",
       "      <td>...</td>\n",
       "      <td>...</td>\n",
       "      <td>...</td>\n",
       "    </tr>\n",
       "    <tr>\n",
       "      <th>1384</th>\n",
       "      <td>919.0</td>\n",
       "      <td>864.0</td>\n",
       "      <td>23.17</td>\n",
       "      <td>929.0</td>\n",
       "      <td>9.0</td>\n",
       "      <td>0</td>\n",
       "      <td>801.0</td>\n",
       "      <td>10.0</td>\n",
       "      <td>80.0</td>\n",
       "      <td>0.876407</td>\n",
       "      <td>0</td>\n",
       "      <td>3</td>\n",
       "      <td>16</td>\n",
       "      <td>92.44</td>\n",
       "      <td>0</td>\n",
       "    </tr>\n",
       "    <tr>\n",
       "      <th>1385</th>\n",
       "      <td>919.0</td>\n",
       "      <td>858.0</td>\n",
       "      <td>23.15</td>\n",
       "      <td>931.0</td>\n",
       "      <td>9.0</td>\n",
       "      <td>0</td>\n",
       "      <td>801.0</td>\n",
       "      <td>10.0</td>\n",
       "      <td>80.0</td>\n",
       "      <td>0.876407</td>\n",
       "      <td>0</td>\n",
       "      <td>3</td>\n",
       "      <td>16</td>\n",
       "      <td>119.44</td>\n",
       "      <td>0</td>\n",
       "    </tr>\n",
       "    <tr>\n",
       "      <th>1386</th>\n",
       "      <td>919.0</td>\n",
       "      <td>858.0</td>\n",
       "      <td>23.15</td>\n",
       "      <td>931.0</td>\n",
       "      <td>9.0</td>\n",
       "      <td>0</td>\n",
       "      <td>801.0</td>\n",
       "      <td>10.0</td>\n",
       "      <td>80.0</td>\n",
       "      <td>0.876407</td>\n",
       "      <td>0</td>\n",
       "      <td>3</td>\n",
       "      <td>16</td>\n",
       "      <td>42.07</td>\n",
       "      <td>0</td>\n",
       "    </tr>\n",
       "    <tr>\n",
       "      <th>1387</th>\n",
       "      <td>1005.0</td>\n",
       "      <td>251.0</td>\n",
       "      <td>5.98</td>\n",
       "      <td>1007.0</td>\n",
       "      <td>6.7</td>\n",
       "      <td>0</td>\n",
       "      <td>801.0</td>\n",
       "      <td>9.0</td>\n",
       "      <td>80.0</td>\n",
       "      <td>0.876407</td>\n",
       "      <td>0</td>\n",
       "      <td>3</td>\n",
       "      <td>16</td>\n",
       "      <td>28.46</td>\n",
       "      <td>0</td>\n",
       "    </tr>\n",
       "    <tr>\n",
       "      <th>1388</th>\n",
       "      <td>NaN</td>\n",
       "      <td>NaN</td>\n",
       "      <td>NaN</td>\n",
       "      <td>NaN</td>\n",
       "      <td>NaN</td>\n",
       "      <td>4</td>\n",
       "      <td>NaN</td>\n",
       "      <td>NaN</td>\n",
       "      <td>NaN</td>\n",
       "      <td>NaN</td>\n",
       "      <td>2</td>\n",
       "      <td>5</td>\n",
       "      <td>12</td>\n",
       "      <td>NaN</td>\n",
       "      <td>0</td>\n",
       "    </tr>\n",
       "  </tbody>\n",
       "</table>\n",
       "<p>1389 rows × 15 columns</p>\n",
       "</div>"
      ],
      "text/plain": [
       "      Mean Basin Elevation (m)  Basin Relief (m)  Basin Area (km )  \\\n",
       "0                       1114.0            2541.0          29337.70   \n",
       "1                       1061.0             286.0            174.08   \n",
       "2                       1305.0            1483.0           7374.15   \n",
       "3                       1280.0            1598.0           7971.20   \n",
       "4                       1147.0            2286.0          11490.00   \n",
       "...                        ...               ...               ...   \n",
       "1384                     919.0             864.0             23.17   \n",
       "1385                     919.0             858.0             23.15   \n",
       "1386                     919.0             858.0             23.15   \n",
       "1387                    1005.0             251.0              5.98   \n",
       "1388                       NaN               NaN               NaN   \n",
       "\n",
       "      Effective Basin Elevation (m)  Mean Basin Slope (°)  \\\n",
       "0                            1155.0                   3.0   \n",
       "1                            1063.0                   1.5   \n",
       "2                            1320.0                   3.0   \n",
       "3                            1297.0                   2.9   \n",
       "4                            1177.0                   2.7   \n",
       "...                             ...                   ...   \n",
       "1384                          929.0                   9.0   \n",
       "1385                          931.0                   9.0   \n",
       "1386                          931.0                   9.0   \n",
       "1387                         1007.0                   6.7   \n",
       "1388                            NaN                   NaN   \n",
       "\n",
       "      Rock Type (General)  Mean Annual Precipitation (mm yr)  \\\n",
       "0                       2                              300.0   \n",
       "1                       2                              222.0   \n",
       "2                       2                              314.0   \n",
       "3                       2                              303.0   \n",
       "4                       2                              240.0   \n",
       "...                   ...                                ...   \n",
       "1384                    0                              801.0   \n",
       "1385                    0                              801.0   \n",
       "1386                    0                              801.0   \n",
       "1387                    0                              801.0   \n",
       "1388                    4                                NaN   \n",
       "\n",
       "      Mean Annual Temperature (°C)  % Vegetation  Seismicity  Seismic Regime  \\\n",
       "0                             20.0           8.0    0.310600               0   \n",
       "1                             20.0           1.0    0.310600               0   \n",
       "2                             19.0           5.0    0.310600               0   \n",
       "3                             19.0           5.0    0.310600               0   \n",
       "4                             20.0           3.0    0.310600               0   \n",
       "...                            ...           ...         ...             ...   \n",
       "1384                          10.0          80.0    0.876407               0   \n",
       "1385                          10.0          80.0    0.876407               0   \n",
       "1386                          10.0          80.0    0.876407               0   \n",
       "1387                           9.0          80.0    0.876407               0   \n",
       "1388                           NaN           NaN         NaN               2   \n",
       "\n",
       "      Climate Zone (Main)  Climate Zone (Sub-category)  \\\n",
       "0                       0                            7   \n",
       "1                       0                            6   \n",
       "2                       0                            6   \n",
       "3                       0                            6   \n",
       "4                       0                            6   \n",
       "...                   ...                          ...   \n",
       "1384                    3                           16   \n",
       "1385                    3                           16   \n",
       "1386                    3                           16   \n",
       "1387                    3                           16   \n",
       "1388                    5                           12   \n",
       "\n",
       "      CRONUS Erosion Rate (m My)     \n",
       "0                           6.79  0  \n",
       "1                           8.46  0  \n",
       "2                           9.92  0  \n",
       "3                           9.77  0  \n",
       "4                           1.51  0  \n",
       "...                          ... ..  \n",
       "1384                       92.44  0  \n",
       "1385                      119.44  0  \n",
       "1386                       42.07  0  \n",
       "1387                       28.46  0  \n",
       "1388                         NaN  0  \n",
       "\n",
       "[1389 rows x 15 columns]"
      ]
     },
     "execution_count": 187,
     "metadata": {},
     "output_type": "execute_result"
    }
   ],
   "source": [
    "a_rf"
   ]
  },
  {
   "cell_type": "code",
   "execution_count": 190,
   "metadata": {},
   "outputs": [
    {
     "name": "stdout",
     "output_type": "stream",
     "text": [
      "-0.23291772831576535\n",
      "83.50607128068205\n"
     ]
    },
    {
     "data": {
      "image/png": "[encoded data removed]",
      "text/plain": [
       "<Figure size 360x360 with 1 Axes>"
      ]
     },
     "metadata": {
      "needs_background": "light"
     },
     "output_type": "display_data"
    },
    {
     "data": {
      "image/png": "[encoded data removed]",
      "text/plain": [
       "<Figure size 360x360 with 1 Axes>"
      ]
     },
     "metadata": {
      "needs_background": "light"
     },
     "output_type": "display_data"
    },
    {
     "data": {
      "image/png": "[encoded data removed]",
      "text/plain": [
       "<Figure size 360x360 with 1 Axes>"
      ]
     },
     "metadata": {
      "needs_background": "light"
     },
     "output_type": "display_data"
    },
    {
     "data": {
      "image/png": "[encoded data removed]",
      "text/plain": [
       "<Figure size 360x360 with 1 Axes>"
      ]
     },
     "metadata": {
      "needs_background": "light"
     },
     "output_type": "display_data"
    },
    {
     "data": {
      "image/png": "[encoded data removed]",
      "text/plain": [
       "<Figure size 360x360 with 1 Axes>"
      ]
     },
     "metadata": {
      "needs_background": "light"
     },
     "output_type": "display_data"
    }
   ],
   "source": [
    "from sklearn.linear_model import LinearRegression\n",
    "c=0\n",
    "mnr2=0\n",
    "mnmn = 0\n",
    "cv = model_selection.KFold(n_splits=ncv)\n",
    "\n",
    "for train_index, test_index in cv.split(predictors):\n",
    "    mod = LinearRegression()\n",
    "    X_train, X_test = predictors.iloc[train_index].values, predictors.iloc[test_index].values\n",
    "    y_train, y_test = targets.iloc[train_index].values, targets.iloc[test_index].values\n",
    "    \n",
    "    X_train = X_train[:,4]\n",
    "    X_test = X_test[:,4]\n",
    "    isn = np.where(np.logical_not(np.isnan(X_train)))\n",
    "    isn2 = np.where(np.logical_not((np.isnan(X_test))))\n",
    "    mod = mod.fit(X_train[isn].reshape(-1,1),y_train[isn].reshape(-1,1))\n",
    "    \n",
    "    p = mod.predict((X_test[isn2].reshape(-1,1)))\n",
    "    #e = np.mean((p - np.log(y_train[isn2]))**2)\n",
    "    #p = np.exp(p) * 1#np.exp(e/2)\n",
    "    fig,ax = plt.subplots(figsize=(5,5))\n",
    "    #plt.plot(x,p,markersize=10)\n",
    "    #plt.plot(a_rf[a_rf.columns[i]], np.float64(a_rf['CRONUS Erosion Rate (m My)']),'.')\n",
    "    plt.plot(y_test[isn2],p,'.')\n",
    "    r2 = metrics.r2_score(y_test[isn2],p)\n",
    "    mn = metrics.median_absolute_error(y_test[isn2], p)\n",
    "\n",
    "    mnr2 += r2\n",
    "    mnmn += mn\n",
    "    ax.set_yscale('log')\n",
    "    ax.set_xscale('log')\n",
    "    c+=1\n",
    "print(mnr2/c)\n",
    "print(mnmn/c)\n",
    "\n",
    "\n",
    "    #ax.set_ylim([.])\n"
   ]
  },
  {
   "cell_type": "code",
   "execution_count": 76,
   "metadata": {},
   "outputs": [
    {
     "ename": "IndexError",
     "evalue": "too many indices for array: array is 1-dimensional, but 2 were indexed",
     "output_type": "error",
     "traceback": [
      "\u001b[0;31m---------------------------------------------------------------------------\u001b[0m",
      "\u001b[0;31mIndexError\u001b[0m                                Traceback (most recent call last)",
      "\u001b[0;32m<ipython-input-76-920e722e7caa>\u001b[0m in \u001b[0;36m<module>\u001b[0;34m\u001b[0m\n\u001b[1;32m      1\u001b[0m \u001b[0;32mfrom\u001b[0m \u001b[0msklearn\u001b[0m\u001b[0;34m.\u001b[0m\u001b[0mlinear_model\u001b[0m \u001b[0;32mimport\u001b[0m \u001b[0mLinearRegression\u001b[0m\u001b[0;34m\u001b[0m\u001b[0;34m\u001b[0m\u001b[0m\n\u001b[1;32m      2\u001b[0m \u001b[0mmod\u001b[0m \u001b[0;34m=\u001b[0m \u001b[0mLinearRegression\u001b[0m\u001b[0;34m(\u001b[0m\u001b[0;34m)\u001b[0m\u001b[0;34m\u001b[0m\u001b[0;34m\u001b[0m\u001b[0m\n\u001b[0;32m----> 3\u001b[0;31m \u001b[0mx\u001b[0m\u001b[0;34m=\u001b[0m\u001b[0mnp\u001b[0m\u001b[0;34m.\u001b[0m\u001b[0mabs\u001b[0m\u001b[0;34m(\u001b[0m\u001b[0mX_train\u001b[0m\u001b[0;34m[\u001b[0m\u001b[0;34m:\u001b[0m\u001b[0;34m,\u001b[0m\u001b[0;36m4\u001b[0m\u001b[0;34m]\u001b[0m\u001b[0;34m.\u001b[0m\u001b[0mreshape\u001b[0m\u001b[0;34m(\u001b[0m\u001b[0;34m-\u001b[0m\u001b[0;36m1\u001b[0m\u001b[0;34m,\u001b[0m\u001b[0;36m1\u001b[0m\u001b[0;34m)\u001b[0m\u001b[0;34m)\u001b[0m\u001b[0;34m\u001b[0m\u001b[0;34m\u001b[0m\u001b[0m\n\u001b[0m\u001b[1;32m      4\u001b[0m \u001b[0mmod\u001b[0m \u001b[0;34m=\u001b[0m \u001b[0mmod\u001b[0m\u001b[0;34m.\u001b[0m\u001b[0mfit\u001b[0m\u001b[0;34m(\u001b[0m\u001b[0mx\u001b[0m\u001b[0;34m,\u001b[0m\u001b[0mnp\u001b[0m\u001b[0;34m.\u001b[0m\u001b[0mlog\u001b[0m\u001b[0;34m(\u001b[0m\u001b[0mnp\u001b[0m\u001b[0;34m.\u001b[0m\u001b[0mabs\u001b[0m\u001b[0;34m(\u001b[0m\u001b[0my_train\u001b[0m\u001b[0;34m)\u001b[0m\u001b[0;34m)\u001b[0m\u001b[0;34m)\u001b[0m\u001b[0;34m\u001b[0m\u001b[0;34m\u001b[0m\u001b[0m\n\u001b[1;32m      5\u001b[0m \u001b[0mp\u001b[0m \u001b[0;34m=\u001b[0m \u001b[0mmod\u001b[0m\u001b[0;34m.\u001b[0m\u001b[0mpredict\u001b[0m\u001b[0;34m(\u001b[0m\u001b[0mx\u001b[0m\u001b[0;34m)\u001b[0m\u001b[0;34m\u001b[0m\u001b[0;34m\u001b[0m\u001b[0m\n",
      "\u001b[0;31mIndexError\u001b[0m: too many indices for array: array is 1-dimensional, but 2 were indexed"
     ]
    }
   ],
   "source": [
    "from sklearn.linear_model import LinearRegression\n",
    "mod = LinearRegression()\n",
    "x=np.abs(X_train[:,4].reshape(-1,1))\n",
    "mod = mod.fit(x,np.log(np.abs(y_train)))\n",
    "p = mod.predict(x)\n",
    "e = np.mean((p - np.log(y_train))**2)\n",
    "p = np.exp(p) * np.exp(e/2)\n",
    "fig,ax = plt.subplots(figsize=(5,5))\n",
    "#plt.plot(x,p,markersize=10)\n",
    "#plt.plot(a_rf[a_rf.columns[i]], np.float64(a_rf['CRONUS Erosion Rate (m My)']),'.')\n",
    "plt.plot(np.log(y_train),np.log(p),'.')\n",
    "print(metrics.r2_score(np.log(np.abs(p)),np.log(np.abs(y_train))))\n",
    "\n",
    "ax.set_yscale('log')\n",
    "#ax.set_ylim([.])\n",
    "ax.set_xlabel(a_rf.columns[i])"
   ]
  },
  {
   "cell_type": "code",
   "execution_count": 160,
   "metadata": {},
   "outputs": [
    {
     "data": {
      "text/plain": [
       "154.14595663265305"
      ]
     },
     "execution_count": 160,
     "metadata": {},
     "output_type": "execute_result"
    }
   ],
   "source": [
    "np.mean(y_train)"
   ]
  },
  {
   "cell_type": "code",
   "execution_count": 224,
   "metadata": {},
   "outputs": [],
   "source": [
    "a.to_csv('a.csv')"
   ]
  },
  {
   "cell_type": "code",
   "execution_count": null,
   "metadata": {},
   "outputs": [],
   "source": []
  }
 ],
 "metadata": {
  "kernelspec": {
   "display_name": "Python 3",
   "language": "python",
   "name": "python3"
  },
  "language_info": {
   "codemirror_mode": {
    "name": "ipython",
    "version": 3
   },
   "file_extension": ".py",
   "mimetype": "text/x-python",
   "name": "python",
   "nbconvert_exporter": "python",
   "pygments_lexer": "ipython3",
   "version": "3.9.2"
  }
 },
 "nbformat": 4,
 "nbformat_minor": 4
}
