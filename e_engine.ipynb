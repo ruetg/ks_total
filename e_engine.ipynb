{
 "cells": [
  {
   "cell_type": "code",
   "execution_count": 1,
   "id": "appropriate-argentina",
   "metadata": {},
   "outputs": [],
   "source": [
    "import ee \n",
    "import shapely as shp\n",
    "import pandas as pd\n",
    "import numpy as np\n",
    "import geopandas as gpd\n",
    "import ast\n",
    "from shapely.geometry import Polygon, MultiPolygon, Point"
   ]
  },
  {
   "cell_type": "code",
   "execution_count": 28,
   "id": "dietary-gabriel",
   "metadata": {},
   "outputs": [],
   "source": [
    "import ee\n",
    "\n",
    "# Trigger the authentication flow.\n",
    "#ee.Authenticate()\n",
    "\n",
    "# Initialize the library.\n",
    "ee.Initialize()\n"
   ]
  },
  {
   "cell_type": "code",
   "execution_count": null,
   "id": "amino-regulation",
   "metadata": {},
   "outputs": [],
   "source": []
  },
  {
   "cell_type": "code",
   "execution_count": 292,
   "id": "starting-utilization",
   "metadata": {},
   "outputs": [],
   "source": [
    "basins = ee.FeatureCollection(\"WWF/HydroSHEDS/v1/Basins/hybas_9\");\n",
    "basinsall = basins\n",
    "image = ee.Image('WWF/HydroSHEDS/03VFDEM');\n",
    "\n",
    "a = pd.read_csv('a.csv')"
   ]
  },
  {
   "cell_type": "code",
   "execution_count": 174,
   "id": "technological-portfolio",
   "metadata": {},
   "outputs": [],
   "source": [
    "## I now have the p & b basins delineated, I think\n",
    "geoms = gpd.read_file('basins_final')\n",
    "features = []\n",
    "for i,row in geoms.iterrows():\n",
    "    x = row.geometry.exterior.coords.xy[0]\n",
    "    y = row.geometry.exterior.coords.xy[1]\n",
    "    lonlat = [[xi,yi] for xi,yi in zip(x,y)]\n",
    "    features.append(ee.Feature(ee.Geometry.Polygon(lonlat)).set('id',row['id']))\n",
    "    \n"
   ]
  },
  {
   "cell_type": "code",
   "execution_count": 198,
   "id": "irish-popularity",
   "metadata": {},
   "outputs": [],
   "source": [
    "dp = int(len(features)/8)\n",
    "feats=[]\n",
    "for i in range(8):\n",
    "    feats.append(ee.FeatureCollection(features[int(i*dp):int((i+1)*dp)]))\n",
    "#begin dp 2*dp 2.5*dp 3*dp end"
   ]
  },
  {
   "cell_type": "code",
   "execution_count": 178,
   "id": "immediate-hearing",
   "metadata": {},
   "outputs": [
    {
     "data": {
      "text/plain": [
       "[<ee.featurecollection.FeatureCollection at 0x188b14a90>,\n",
       " <ee.featurecollection.FeatureCollection at 0x18517fe80>,\n",
       " <ee.featurecollection.FeatureCollection at 0x18517fdc0>,\n",
       " <ee.featurecollection.FeatureCollection at 0x18517fd60>,\n",
       " <ee.featurecollection.FeatureCollection at 0x1a2102bb0>]"
      ]
     },
     "execution_count": 178,
     "metadata": {},
     "output_type": "execute_result"
    }
   ],
   "source": [
    "feats"
   ]
  },
  {
   "cell_type": "code",
   "execution_count": 109,
   "id": "political-staff",
   "metadata": {},
   "outputs": [],
   "source": [
    "def numberOfPixels(img):\n",
    "    imgDescription = ee.Algorithms.Describe( img )\n",
    "    height = ee.List( ee.Dictionary( ee.List(  ee.Dictionary( imgDescription ).get(\"bands\") ).get(0) ).get(\"dimensions\") ).get(0);\n",
    "    width = ee.List( ee.Dictionary( ee.List(  ee.Dictionary( imgDescription ).get(\"bands\") ).get(0) ).get(\"dimensions\") ).get(1);\n",
    "  \n",
    "    print(\"width\", width.getInfo() )\n",
    "    print(\"height\", height.getInfo() )\n",
    "  \n",
    "    return  ee.Number( width ).multiply( ee.Number( height ) ).getInfo()\n"
   ]
  },
  {
   "cell_type": "code",
   "execution_count": 110,
   "id": "valued-scholarship",
   "metadata": {},
   "outputs": [],
   "source": [
    "geom = pd.read_csv('a.csv')\n",
    "geom = geom.sort_values('Latitude (decimal degrees)')\n",
    "latlon = [[i,j] for [i,j] in zip(geom['Longitude (decimal degrees)'].values,\n",
    "                              geom['Latitude (decimal degrees)'].values)][:-1]\n",
    "c=0\n",
    "for i in latlon[1:400]:\n",
    "    if (np.isnan(i[0]))|(np.isnan(i[1])):\n",
    "        latlon.pop(c)\n",
    "    c+=1"
   ]
  },
  {
   "cell_type": "code",
   "execution_count": 111,
   "id": "figured-creature",
   "metadata": {},
   "outputs": [],
   "source": [
    "pts = ee.Geometry.MultiPoint(latlon)"
   ]
  },
  {
   "cell_type": "code",
   "execution_count": 275,
   "id": "annoying-manufacturer",
   "metadata": {},
   "outputs": [],
   "source": [
    "#basins = ee.FeatureCollection(basins)\n",
    "#basins = basins.merge(basins2)\n",
    "import matplotlib.pyplot as plt"
   ]
  },
  {
   "cell_type": "code",
   "execution_count": 32,
   "id": "warming-breach",
   "metadata": {},
   "outputs": [],
   "source": [
    "myImage = image.clip(ee.FeatureCollection(basins.first().geometry()))"
   ]
  },
  {
   "cell_type": "code",
   "execution_count": 2,
   "id": "absolute-carroll",
   "metadata": {},
   "outputs": [
    {
     "ename": "NameError",
     "evalue": "name 'image' is not defined",
     "output_type": "error",
     "traceback": [
      "\u001b[0;31m-----------------------------------------------------------------------\u001b[0m",
      "\u001b[0;31mNameError\u001b[0m                             Traceback (most recent call last)",
      "\u001b[0;32m<ipython-input-2-25f518bd06e7>\u001b[0m in \u001b[0;36m<module>\u001b[0;34m\u001b[0m\n\u001b[0;32m----> 1\u001b[0;31m \u001b[0mmask\u001b[0m \u001b[0;34m=\u001b[0m \u001b[0mnp\u001b[0m\u001b[0;34m.\u001b[0m\u001b[0mones\u001b[0m\u001b[0;34m(\u001b[0m\u001b[0mnp\u001b[0m\u001b[0;34m.\u001b[0m\u001b[0mshape\u001b[0m\u001b[0;34m(\u001b[0m\u001b[0mimage\u001b[0m\u001b[0;34m)\u001b[0m\u001b[0;34m,\u001b[0m\u001b[0mnp\u001b[0m\u001b[0;34m.\u001b[0m\u001b[0mint8\u001b[0m\u001b[0;34m)\u001b[0m\u001b[0;34m\u001b[0m\u001b[0;34m\u001b[0m\u001b[0m\n\u001b[0m\u001b[1;32m      2\u001b[0m \u001b[0mmask\u001b[0m\u001b[0;34m[\u001b[0m\u001b[0mnp\u001b[0m\u001b[0;34m.\u001b[0m\u001b[0misnan\u001b[0m\u001b[0;34m(\u001b[0m\u001b[0mimage\u001b[0m\u001b[0;34m)\u001b[0m\u001b[0;34m]\u001b[0m \u001b[0;34m=\u001b[0m \u001b[0;32mFalse\u001b[0m\u001b[0;34m\u001b[0m\u001b[0;34m\u001b[0m\u001b[0m\n\u001b[1;32m      3\u001b[0m \u001b[0mimage\u001b[0m \u001b[0;34m=\u001b[0m \u001b[0mfill\u001b[0m\u001b[0;34m.\u001b[0m\u001b[0mfillnodata\u001b[0m\u001b[0;34m(\u001b[0m\u001b[0mimage\u001b[0m\u001b[0;34m,\u001b[0m\u001b[0mmask\u001b[0m\u001b[0;34m)\u001b[0m\u001b[0;34m\u001b[0m\u001b[0;34m\u001b[0m\u001b[0m\n",
      "\u001b[0;31mNameError\u001b[0m: name 'image' is not defined"
     ]
    }
   ],
   "source": [
    " "
   ]
  },
  {
   "cell_type": "code",
   "execution_count": 270,
   "id": "plain-blake",
   "metadata": {},
   "outputs": [],
   "source": [
    "None\n"
   ]
  },
  {
   "cell_type": "code",
   "execution_count": 33,
   "id": "dedicated-canal",
   "metadata": {},
   "outputs": [],
   "source": [
    "drainageDirectionVis = {\n",
    "  'min': 0.0,\n",
    "  'max': 2000,\n",
    "  }"
   ]
  },
  {
   "cell_type": "code",
   "execution_count": 236,
   "id": "fixed-scotland",
   "metadata": {},
   "outputs": [],
   "source": [
    "#def meanDictionary(geom):\n",
    "    #def featurescount(feature):\n",
    "        #return feature\n",
    "#a = image.reduceRegions(basins,ee.Reducer.mean());\n",
    "for num in range(8):\n",
    "    image2 = ee.Terrain.aspect(image)\n",
    "    b = image2.reduceRegions(basins,ee.Reducer.percentile([20, 50, 80, 95]))\n",
    "    b2 = image2.reduceRegions(feats[num],ee.Reducer.mean())\n",
    "        #return a.filter(ee.Filter.notNull(['mean'])).map(featurescount)\n",
    "    #b = basins.map(meanDictionary)\n",
    "    mytask = ee.batch.Export.table.toDrive(collection=b2, folder='data_earth_engine', description='basins_aspect_means_'+str(num), fileFormat='CSV')\n",
    "\n",
    "    mytask.start()"
   ]
  },
  {
   "cell_type": "code",
   "execution_count": 200,
   "id": "established-applicant",
   "metadata": {},
   "outputs": [
    {
     "data": {
      "text/plain": [
       "False"
      ]
     },
     "execution_count": 200,
     "metadata": {},
     "output_type": "execute_result"
    }
   ],
   "source": [
    "mytask.active()"
   ]
  },
  {
   "cell_type": "code",
   "execution_count": 296,
   "id": "finite-party",
   "metadata": {},
   "outputs": [],
   "source": [
    "def rm_geom(feature):\n",
    "    feature = feature.setGeometry(None)\n",
    "    return feature\n",
    "\n",
    "b2=b2.map(rm_geom)"
   ]
  },
  {
   "cell_type": "code",
   "execution_count": 340,
   "id": "raising-interstate",
   "metadata": {},
   "outputs": [
    {
     "data": {
      "text/html": [
       "<div>\n",
       "<style scoped>\n",
       "    .dataframe tbody tr th:only-of-type {\n",
       "        vertical-align: middle;\n",
       "    }\n",
       "\n",
       "    .dataframe tbody tr th {\n",
       "        vertical-align: top;\n",
       "    }\n",
       "\n",
       "    .dataframe thead th {\n",
       "        text-align: right;\n",
       "    }\n",
       "</style>\n",
       "<table border=\"1\" class=\"dataframe\">\n",
       "  <thead>\n",
       "    <tr style=\"text-align: right;\">\n",
       "      <th></th>\n",
       "      <th>system:index</th>\n",
       "      <th>COAST</th>\n",
       "      <th>DIST_MAIN</th>\n",
       "      <th>DIST_SINK</th>\n",
       "      <th>ENDO</th>\n",
       "      <th>HYBAS_ID</th>\n",
       "      <th>MAIN_BAS</th>\n",
       "      <th>NEXT_DOWN</th>\n",
       "      <th>NEXT_SINK</th>\n",
       "      <th>ORDER</th>\n",
       "      <th>PFAF_ID</th>\n",
       "      <th>SORT</th>\n",
       "      <th>SUB_AREA</th>\n",
       "      <th>UP_AREA</th>\n",
       "      <th>mean</th>\n",
       "      <th>.geo</th>\n",
       "      <th>NEXT_UP</th>\n",
       "    </tr>\n",
       "  </thead>\n",
       "  <tbody>\n",
       "    <tr>\n",
       "      <th>0</th>\n",
       "      <td>00000000000000000001</td>\n",
       "      <td>0</td>\n",
       "      <td>10.1</td>\n",
       "      <td>10.1</td>\n",
       "      <td>0</td>\n",
       "      <td>2090644710</td>\n",
       "      <td>2090017320</td>\n",
       "      <td>2090017320</td>\n",
       "      <td>2090017320</td>\n",
       "      <td>1</td>\n",
       "      <td>216050430</td>\n",
       "      <td>12628</td>\n",
       "      <td>155.0</td>\n",
       "      <td>2535.7</td>\n",
       "      <td>364.664868</td>\n",
       "      <td>{\"type\":\"Polygon\",\"coordinates\":[[[-0.35416858...</td>\n",
       "      <td>[2090643100, 2090642990, 2090642360, 209064209...</td>\n",
       "    </tr>\n",
       "    <tr>\n",
       "      <th>1</th>\n",
       "      <td>00000000000000000002</td>\n",
       "      <td>0</td>\n",
       "      <td>10.1</td>\n",
       "      <td>10.1</td>\n",
       "      <td>0</td>\n",
       "      <td>2090644510</td>\n",
       "      <td>2090017320</td>\n",
       "      <td>2090017320</td>\n",
       "      <td>2090017320</td>\n",
       "      <td>2</td>\n",
       "      <td>216050421</td>\n",
       "      <td>12629</td>\n",
       "      <td>123.2</td>\n",
       "      <td>1523.2</td>\n",
       "      <td>214.686357</td>\n",
       "      <td>{\"type\":\"Polygon\",\"coordinates\":[[[-0.25478414...</td>\n",
       "      <td>[2090642210, 2090642200, 2090640400, 209064070...</td>\n",
       "    </tr>\n",
       "    <tr>\n",
       "      <th>2</th>\n",
       "      <td>00000000000000000003</td>\n",
       "      <td>0</td>\n",
       "      <td>27.0</td>\n",
       "      <td>27.0</td>\n",
       "      <td>0</td>\n",
       "      <td>2090642210</td>\n",
       "      <td>2090017320</td>\n",
       "      <td>2090644510</td>\n",
       "      <td>2090017320</td>\n",
       "      <td>2</td>\n",
       "      <td>216050423</td>\n",
       "      <td>12630</td>\n",
       "      <td>101.3</td>\n",
       "      <td>1248.6</td>\n",
       "      <td>355.033959</td>\n",
       "      <td>{\"type\":\"Polygon\",\"coordinates\":[[[-0.20833363...</td>\n",
       "      <td>[2090640400, 2090640700, 2090638820, 209063877...</td>\n",
       "    </tr>\n",
       "    <tr>\n",
       "      <th>3</th>\n",
       "      <td>00000000000000000004</td>\n",
       "      <td>0</td>\n",
       "      <td>27.0</td>\n",
       "      <td>27.0</td>\n",
       "      <td>0</td>\n",
       "      <td>2090642200</td>\n",
       "      <td>2090017320</td>\n",
       "      <td>2090644510</td>\n",
       "      <td>2090017320</td>\n",
       "      <td>3</td>\n",
       "      <td>216050422</td>\n",
       "      <td>12631</td>\n",
       "      <td>151.5</td>\n",
       "      <td>151.6</td>\n",
       "      <td>745.204998</td>\n",
       "      <td>{\"type\":\"Polygon\",\"coordinates\":[[[-0.36306891...</td>\n",
       "      <td>[]</td>\n",
       "    </tr>\n",
       "    <tr>\n",
       "      <th>4</th>\n",
       "      <td>00000000000000000005</td>\n",
       "      <td>0</td>\n",
       "      <td>39.7</td>\n",
       "      <td>39.7</td>\n",
       "      <td>0</td>\n",
       "      <td>2090640400</td>\n",
       "      <td>2090017320</td>\n",
       "      <td>2090642210</td>\n",
       "      <td>2090017320</td>\n",
       "      <td>2</td>\n",
       "      <td>216050425</td>\n",
       "      <td>12632</td>\n",
       "      <td>46.5</td>\n",
       "      <td>954.9</td>\n",
       "      <td>365.145831</td>\n",
       "      <td>{\"type\":\"Polygon\",\"coordinates\":[[[-0.12083271...</td>\n",
       "      <td>[2090638820, 2090638770, 2090636040, 2090636050]</td>\n",
       "    </tr>\n",
       "    <tr>\n",
       "      <th>...</th>\n",
       "      <td>...</td>\n",
       "      <td>...</td>\n",
       "      <td>...</td>\n",
       "      <td>...</td>\n",
       "      <td>...</td>\n",
       "      <td>...</td>\n",
       "      <td>...</td>\n",
       "      <td>...</td>\n",
       "      <td>...</td>\n",
       "      <td>...</td>\n",
       "      <td>...</td>\n",
       "      <td>...</td>\n",
       "      <td>...</td>\n",
       "      <td>...</td>\n",
       "      <td>...</td>\n",
       "      <td>...</td>\n",
       "      <td>...</td>\n",
       "    </tr>\n",
       "    <tr>\n",
       "      <th>508185</th>\n",
       "      <td>001000000000000035ee</td>\n",
       "      <td>1</td>\n",
       "      <td>0.0</td>\n",
       "      <td>0.0</td>\n",
       "      <td>0</td>\n",
       "      <td>6090040190</td>\n",
       "      <td>6090040190</td>\n",
       "      <td>0</td>\n",
       "      <td>6090040190</td>\n",
       "      <td>0</td>\n",
       "      <td>673000050</td>\n",
       "      <td>60616</td>\n",
       "      <td>627.8</td>\n",
       "      <td>627.8</td>\n",
       "      <td>178.638380</td>\n",
       "      <td>{\"type\":\"MultiPolygon\",\"coordinates\":[[[[-90.8...</td>\n",
       "      <td>[]</td>\n",
       "    </tr>\n",
       "    <tr>\n",
       "      <th>508186</th>\n",
       "      <td>001000000000000035ef</td>\n",
       "      <td>1</td>\n",
       "      <td>0.0</td>\n",
       "      <td>0.0</td>\n",
       "      <td>0</td>\n",
       "      <td>6090040280</td>\n",
       "      <td>6090040280</td>\n",
       "      <td>0</td>\n",
       "      <td>6090040280</td>\n",
       "      <td>0</td>\n",
       "      <td>673000073</td>\n",
       "      <td>60620</td>\n",
       "      <td>440.8</td>\n",
       "      <td>440.8</td>\n",
       "      <td>73.030976</td>\n",
       "      <td>{\"type\":\"MultiPolygon\",\"coordinates\":[[[[-90.8...</td>\n",
       "      <td>[]</td>\n",
       "    </tr>\n",
       "    <tr>\n",
       "      <th>508187</th>\n",
       "      <td>001000000000000035f0</td>\n",
       "      <td>1</td>\n",
       "      <td>0.0</td>\n",
       "      <td>0.0</td>\n",
       "      <td>0</td>\n",
       "      <td>6090040320</td>\n",
       "      <td>6090040320</td>\n",
       "      <td>0</td>\n",
       "      <td>6090040320</td>\n",
       "      <td>0</td>\n",
       "      <td>673000075</td>\n",
       "      <td>60622</td>\n",
       "      <td>872.6</td>\n",
       "      <td>872.6</td>\n",
       "      <td>310.911204</td>\n",
       "      <td>{\"type\":\"Polygon\",\"coordinates\":[[[-91.5160394...</td>\n",
       "      <td>[]</td>\n",
       "    </tr>\n",
       "    <tr>\n",
       "      <th>508188</th>\n",
       "      <td>001000000000000035f1</td>\n",
       "      <td>1</td>\n",
       "      <td>0.0</td>\n",
       "      <td>0.0</td>\n",
       "      <td>0</td>\n",
       "      <td>6090040380</td>\n",
       "      <td>6090040380</td>\n",
       "      <td>0</td>\n",
       "      <td>6090040380</td>\n",
       "      <td>0</td>\n",
       "      <td>673000077</td>\n",
       "      <td>60624</td>\n",
       "      <td>432.3</td>\n",
       "      <td>432.3</td>\n",
       "      <td>208.277812</td>\n",
       "      <td>{\"type\":\"Polygon\",\"coordinates\":[[[-91.3833321...</td>\n",
       "      <td>[]</td>\n",
       "    </tr>\n",
       "    <tr>\n",
       "      <th>508189</th>\n",
       "      <td>001000000000000035f2</td>\n",
       "      <td>1</td>\n",
       "      <td>0.0</td>\n",
       "      <td>0.0</td>\n",
       "      <td>0</td>\n",
       "      <td>6090040430</td>\n",
       "      <td>6090040430</td>\n",
       "      <td>0</td>\n",
       "      <td>6090040430</td>\n",
       "      <td>0</td>\n",
       "      <td>673000080</td>\n",
       "      <td>60627</td>\n",
       "      <td>678.7</td>\n",
       "      <td>678.7</td>\n",
       "      <td>306.745759</td>\n",
       "      <td>{\"type\":\"Polygon\",\"coordinates\":[[[-91.6630693...</td>\n",
       "      <td>[]</td>\n",
       "    </tr>\n",
       "  </tbody>\n",
       "</table>\n",
       "<p>508190 rows × 17 columns</p>\n",
       "</div>"
      ],
      "text/plain": [
       "                system:index  COAST  DIST_MAIN  DIST_SINK  ENDO    HYBAS_ID  \\\n",
       "0       00000000000000000001      0       10.1       10.1     0  2090644710   \n",
       "1       00000000000000000002      0       10.1       10.1     0  2090644510   \n",
       "2       00000000000000000003      0       27.0       27.0     0  2090642210   \n",
       "3       00000000000000000004      0       27.0       27.0     0  2090642200   \n",
       "4       00000000000000000005      0       39.7       39.7     0  2090640400   \n",
       "...                      ...    ...        ...        ...   ...         ...   \n",
       "508185  001000000000000035ee      1        0.0        0.0     0  6090040190   \n",
       "508186  001000000000000035ef      1        0.0        0.0     0  6090040280   \n",
       "508187  001000000000000035f0      1        0.0        0.0     0  6090040320   \n",
       "508188  001000000000000035f1      1        0.0        0.0     0  6090040380   \n",
       "508189  001000000000000035f2      1        0.0        0.0     0  6090040430   \n",
       "\n",
       "          MAIN_BAS   NEXT_DOWN   NEXT_SINK  ORDER    PFAF_ID   SORT  SUB_AREA  \\\n",
       "0       2090017320  2090017320  2090017320      1  216050430  12628     155.0   \n",
       "1       2090017320  2090017320  2090017320      2  216050421  12629     123.2   \n",
       "2       2090017320  2090644510  2090017320      2  216050423  12630     101.3   \n",
       "3       2090017320  2090644510  2090017320      3  216050422  12631     151.5   \n",
       "4       2090017320  2090642210  2090017320      2  216050425  12632      46.5   \n",
       "...            ...         ...         ...    ...        ...    ...       ...   \n",
       "508185  6090040190           0  6090040190      0  673000050  60616     627.8   \n",
       "508186  6090040280           0  6090040280      0  673000073  60620     440.8   \n",
       "508187  6090040320           0  6090040320      0  673000075  60622     872.6   \n",
       "508188  6090040380           0  6090040380      0  673000077  60624     432.3   \n",
       "508189  6090040430           0  6090040430      0  673000080  60627     678.7   \n",
       "\n",
       "        UP_AREA        mean  \\\n",
       "0        2535.7  364.664868   \n",
       "1        1523.2  214.686357   \n",
       "2        1248.6  355.033959   \n",
       "3         151.6  745.204998   \n",
       "4         954.9  365.145831   \n",
       "...         ...         ...   \n",
       "508185    627.8  178.638380   \n",
       "508186    440.8   73.030976   \n",
       "508187    872.6  310.911204   \n",
       "508188    432.3  208.277812   \n",
       "508189    678.7  306.745759   \n",
       "\n",
       "                                                     .geo  \\\n",
       "0       {\"type\":\"Polygon\",\"coordinates\":[[[-0.35416858...   \n",
       "1       {\"type\":\"Polygon\",\"coordinates\":[[[-0.25478414...   \n",
       "2       {\"type\":\"Polygon\",\"coordinates\":[[[-0.20833363...   \n",
       "3       {\"type\":\"Polygon\",\"coordinates\":[[[-0.36306891...   \n",
       "4       {\"type\":\"Polygon\",\"coordinates\":[[[-0.12083271...   \n",
       "...                                                   ...   \n",
       "508185  {\"type\":\"MultiPolygon\",\"coordinates\":[[[[-90.8...   \n",
       "508186  {\"type\":\"MultiPolygon\",\"coordinates\":[[[[-90.8...   \n",
       "508187  {\"type\":\"Polygon\",\"coordinates\":[[[-91.5160394...   \n",
       "508188  {\"type\":\"Polygon\",\"coordinates\":[[[-91.3833321...   \n",
       "508189  {\"type\":\"Polygon\",\"coordinates\":[[[-91.6630693...   \n",
       "\n",
       "                                                  NEXT_UP  \n",
       "0       [2090643100, 2090642990, 2090642360, 209064209...  \n",
       "1       [2090642210, 2090642200, 2090640400, 209064070...  \n",
       "2       [2090640400, 2090640700, 2090638820, 209063877...  \n",
       "3                                                      []  \n",
       "4        [2090638820, 2090638770, 2090636040, 2090636050]  \n",
       "...                                                   ...  \n",
       "508185                                                 []  \n",
       "508186                                                 []  \n",
       "508187                                                 []  \n",
       "508188                                                 []  \n",
       "508189                                                 []  \n",
       "\n",
       "[508190 rows x 17 columns]"
      ]
     },
     "execution_count": 340,
     "metadata": {},
     "output_type": "execute_result"
    }
   ],
   "source": [
    "b"
   ]
  },
  {
   "cell_type": "code",
   "execution_count": 341,
   "id": "satisfied-camcorder",
   "metadata": {},
   "outputs": [
    {
     "name": "stderr",
     "output_type": "stream",
     "text": [
      "/Users/gr_1/opt/miniconda3/envs/ee/lib/python3.9/site-packages/numpy/core/_asarray.py:102: VisibleDeprecationWarning: Creating an ndarray from ragged nested sequences (which is a list-or-tuple of lists-or-tuples-or ndarrays with different lengths or shapes) is deprecated. If you meant to do this, you must specify 'dtype=object' when creating the ndarray.\n",
      "  return array(a, dtype, copy=False, order=order)\n"
     ]
    }
   ],
   "source": [
    "b.index = b['HYBAS_ID']\n",
    "bboxs = []\n",
    "for i,row in b.iterrows():\n",
    "    geom = np.squeeze(json.loads(row['.geo'])['coordinates'])\n",
    "    try:\n",
    "        p = Polygon(geom)\n",
    "    except:\n",
    "        try:\n",
    "            p = Polygon(np.squeeze(geom[0]))\n",
    "        except:\n",
    "            p = Polygon(np.squeeze(geom[0][0]))\n",
    "    bboxs.append(p.bounds[i])\n"
   ]
  },
  {
   "cell_type": "code",
   "execution_count": 390,
   "id": "smart-knowing",
   "metadata": {},
   "outputs": [],
   "source": [
    "b.to_pickle('BASINS_n')"
   ]
  },
  {
   "cell_type": "code",
   "execution_count": 398,
   "id": "instrumental-break",
   "metadata": {},
   "outputs": [
    {
     "data": {
      "text/plain": [
       "(array([  2861.,   2315.,    838.,   1323.,    799.,   1340.,   5251.,\n",
       "         36656.,  85558., 106000.,  92802.,  63952.,  41880.,  26504.,\n",
       "         17028.,   9978.,   6248.,   3852.,   1951.,   1054.]),\n",
       " array([-2.38042444e+00, -2.18224308e+00, -1.98406172e+00, -1.78588036e+00,\n",
       "        -1.58769900e+00, -1.38951764e+00, -1.19133628e+00, -9.93154920e-01,\n",
       "        -7.94973560e-01, -5.96792200e-01, -3.98610840e-01, -2.00429480e-01,\n",
       "        -2.24811992e-03,  1.95933240e-01,  3.94114600e-01,  5.92295960e-01,\n",
       "         7.90477320e-01,  9.88658680e-01,  1.18684004e+00,  1.38502140e+00,\n",
       "         1.58320276e+00]),\n",
       " <BarContainer object of 20 artists>)"
      ]
     },
     "execution_count": 398,
     "metadata": {},
     "output_type": "execute_result"
    },
    {
     "data": {
      "image/png": "[encoded data removed]",
      "text/plain": [
       "<Figure size 432x288 with 1 Axes>"
      ]
     },
     "metadata": {
      "needs_background": "light"
     },
     "output_type": "display_data"
    }
   ],
   "source": [
    "plt.hist(np.log10(b['maxy']-b['miny']),20)"
   ]
  },
  {
   "cell_type": "markdown",
   "id": "intensive-cheese",
   "metadata": {},
   "source": [
    "## start"
   ]
  },
  {
   "cell_type": "code",
   "execution_count": 374,
   "id": "comfortable-phone",
   "metadata": {},
   "outputs": [
    {
     "data": {
      "text/plain": [
       "6"
      ]
     },
     "execution_count": 374,
     "metadata": {},
     "output_type": "execute_result"
    }
   ],
   "source": [
    "hy"
   ]
  },
  {
   "cell_type": "code",
   "execution_count": null,
   "id": "minus-toolbox",
   "metadata": {},
   "outputs": [],
   "source": [
    "def meanDictionary(geom):\n",
    "    return image.clip(geom.geometry())\n",
    "mns = basins.map(meanDictionary)"
   ]
  },
  {
   "cell_type": "code",
   "execution_count": null,
   "id": "cooperative-mambo",
   "metadata": {},
   "outputs": [],
   "source": [
    "basins.getInfo()"
   ]
  },
  {
   "cell_type": "code",
   "execution_count": 283,
   "id": "infinite-steps",
   "metadata": {},
   "outputs": [],
   "source": [
    "import matplotlib.pyplot as plt"
   ]
  },
  {
   "cell_type": "code",
   "execution_count": 261,
   "id": "invalid-motorcycle",
   "metadata": {},
   "outputs": [],
   "source": []
  },
  {
   "cell_type": "code",
   "execution_count": 172,
   "id": "robust-overview",
   "metadata": {},
   "outputs": [],
   "source": [
    "\n",
    "import json \n",
    "from shapely.geometry import Polygon\n",
    "basin_slopes = gpd.GeoDataFrame()\n",
    "basin_slopes_t = gpd.GeoDataFrame()\n",
    "\n",
    "shps = []\n",
    "for i,row in basin_slopes_0.iterrows():\n",
    "    g = json.loads(basin_slopes_0.loc[0]['.geo'])\n",
    "    shp = Polygon(np.squeeze(g['coordinates']))\n",
    "    shps.append(shp)\n",
    "    basin_slopes_t.append(row)\n",
    "basin_slopes.append()\n",
    "basin_slopes"
   ]
  },
  {
   "cell_type": "code",
   "execution_count": 36,
   "id": "standing-shade",
   "metadata": {},
   "outputs": [],
   "source": [
    "basin_slopes_mean = pd.read_csv('/Users/gr_1/Downloads/basins_slope_means.csv')"
   ]
  },
  {
   "cell_type": "code",
   "execution_count": 65,
   "id": "normal-brown",
   "metadata": {},
   "outputs": [],
   "source": [
    "basins_2 = pd.read_pickle('BASINS_ALL')\n"
   ]
  },
  {
   "cell_type": "code",
   "execution_count": 66,
   "id": "patient-helping",
   "metadata": {},
   "outputs": [],
   "source": [
    "#basins_2['HYBAS_ID'] = basins_2.index\n",
    "basins_2.index = range(len(basins_2))\n",
    "basins_2['p95'] = basins_slopes['p95']\n",
    "basins_2['p80'] = basins_slopes['p80']\n",
    "basins_2['p50'] = basins_slopes['p50']\n",
    "basins_2['p20'] = basins_slopes['p20']\n",
    "basins_2['mean_slope'] = basin_slopes_mean['mean']\n",
    "\n"
   ]
  },
  {
   "cell_type": "code",
   "execution_count": 67,
   "id": "destroyed-consultancy",
   "metadata": {},
   "outputs": [],
   "source": [
    "if 0: # we did it once so we can load it now\n",
    "    up_basins = []\n",
    "    ids = basins_2['HYBAS_ID'].values\n",
    "    down_ids = basins_2['NEXT_DOWN'].values\n",
    "    c=0\n",
    "    def recurbas(l,c):\n",
    "        c+=1\n",
    "        idx = ids[down_ids==l]\n",
    "        for j in idx:\n",
    "            if j != l:\n",
    "                if c>10000:\n",
    "                    print(j,l)\n",
    "                idx = np.append(idx,recurbas(j,c))\n",
    "\n",
    "        return idx\n",
    "    for i in range(len(ids)):\n",
    "        up_basins.append(recurbas(ids[i],c))\n",
    "        c=0\n",
    "        if np.mod(i,1000) == 0:\n",
    "            print(i/len(ids))"
   ]
  },
  {
   "cell_type": "code",
   "execution_count": 68,
   "id": "continuing-stuff",
   "metadata": {},
   "outputs": [],
   "source": [
    "# basins_2 = gpd.GeoDataFrame(basins_2)\n",
    "# ptgeo = []\n",
    "# for i, geo in enumerate(basins_2['.geo']):\n",
    "#     geo2 = ast.literal_eval(geo)\n",
    "#     try:\n",
    "#         ptgeo.append(Polygon(geo2['coordinates'][0]))\n",
    "#     except:\n",
    "#         ptgeo.append(MultiPolygon(geo2['coordinates'][0],geo2['coordinates'][1]))"
   ]
  },
  {
   "cell_type": "code",
   "execution_count": 69,
   "id": "treated-participant",
   "metadata": {},
   "outputs": [],
   "source": [
    "#basins_2.geometry = ptgeo"
   ]
  },
  {
   "cell_type": "code",
   "execution_count": 70,
   "id": "tight-combat",
   "metadata": {},
   "outputs": [],
   "source": [
    "# basins = gpd.GeoDataFrame()\n",
    "# c=0\n",
    "# for pt in pt_gpd.geometry:\n",
    "#     basins = basins.append(basins_2[basins_2.contains(pt)])\n",
    "#     print(len(basins))\n",
    "#     print(c)\n",
    "#     c+=1"
   ]
  },
  {
   "cell_type": "code",
   "execution_count": 82,
   "id": "pending-pledge",
   "metadata": {},
   "outputs": [],
   "source": [
    "pt_basins = pd.read_pickle('pt_basins')\n",
    "a = pd.read_csv('a.csv')\n",
    "pt_basins['HYBAS_ID'] = pt_basins.index"
   ]
  },
  {
   "cell_type": "code",
   "execution_count": 83,
   "id": "extensive-aurora",
   "metadata": {},
   "outputs": [],
   "source": [
    "basins_gpd = gpd.GeoDataFrame(pt_basins,geometry = ptgeo)"
   ]
  },
  {
   "cell_type": "code",
   "execution_count": 85,
   "id": "alike-appreciation",
   "metadata": {},
   "outputs": [
    {
     "name": "stderr",
     "output_type": "stream",
     "text": [
      "<ipython-input-85-66546328be75>:2: SettingWithCopyWarning: \n",
      "A value is trying to be set on a copy of a slice from a DataFrame\n",
      "\n",
      "See the caveats in the documentation: https://pandas.pydata.org/pandas-docs/stable/user_guide/indexing.html#returning-a-view-versus-a-copy\n",
      "  basins_2['SUB_AREA'][basins_2['p95'].isna()] = .00000000001\n",
      "<ipython-input-85-66546328be75>:3: SettingWithCopyWarning: \n",
      "A value is trying to be set on a copy of a slice from a DataFrame\n",
      "\n",
      "See the caveats in the documentation: https://pandas.pydata.org/pandas-docs/stable/user_guide/indexing.html#returning-a-view-versus-a-copy\n",
      "  basins_2['p95'][basins_2['p95'].isna()] = 0\n",
      "<ipython-input-85-66546328be75>:5: SettingWithCopyWarning: \n",
      "A value is trying to be set on a copy of a slice from a DataFrame\n",
      "\n",
      "See the caveats in the documentation: https://pandas.pydata.org/pandas-docs/stable/user_guide/indexing.html#returning-a-view-versus-a-copy\n",
      "  basins_2['p95'][basins_2['p50'].isna()] = 0\n"
     ]
    }
   ],
   "source": [
    "basins_gpd.index = basins_gpd['HYBAS_ID']\n",
    "basins_2['SUB_AREA'][basins_2['p95'].isna()] = .00000000001\n",
    "basins_2['p95'][basins_2['p95'].isna()] = 0\n",
    "#basins_2['SUB_AREA'][basins_2['p50'].isna()] = .00000000001\n",
    "basins_2['p95'][basins_2['p50'].isna()] = 0\n",
    "basins_gpd['p95'] = basins_2['p95']\n",
    "basins_gpd['p50'] = basins_2['p50']\n",
    "basins_gpd['mean_slope'] = basins_2['mean_slope']\n",
    "basins_2.index = basins_2['HYBAS_ID']\n",
    "#basins_gpd['HYBAS_ID'] = basins_gpd.index\n",
    "basins_gpd.index = range(len(basins_gpd))"
   ]
  },
  {
   "cell_type": "code",
   "execution_count": null,
   "id": "fatty-genesis",
   "metadata": {},
   "outputs": [],
   "source": [
    "c=1\n",
    "d=1\n",
    "for i,pt in pt_gpd.iterrows():\n",
    "    basin = basins_gpd[basins_gpd.contains(pt.geometry)]\n",
    "    if len(basin) >0:\n",
    "        basin = basin.iloc[0:1]\n",
    "        pt_gpd.loc[i,'Basin_id'] = basin['HYBAS_ID'].values\n",
    "        upstream_basins = basins_2[\"NEXT_UP\"][basin['HYBAS_ID']].values[0]\n",
    "        #if len(upstream_basins) > 0:\n",
    "        basum = basins_2['mean'][upstream_basins].values\n",
    "        areas = basins_2['SUB_AREA'][upstream_basins].values\n",
    "        pt_gpd.loc[i,'mean_topo'] = (basin['mean'].values*basin['SUB_AREA'].values +\n",
    "                                     np.sum(np.multiply(basum[basum>0],areas[basum>0])))/(np.sum(areas[basum>0])+\n",
    "                                                                                          basin['SUB_AREA'].values[0])\n",
    "        basum = basins_2['p95'][upstream_basins].values\n",
    "\n",
    "        pt_gpd.loc[i,'95_slope_mean'] = (basin['p95'].values*basin['SUB_AREA'].values +\n",
    "                                     np.sum(np.multiply(basum[basum>0],areas[basum>0])))/(np.sum(areas[basum>0])+\n",
    "                                                                                          basin['SUB_AREA'].values[0])\n",
    "        basum = basins_2['p50'][upstream_basins].values\n",
    "        pt_gpd.loc[i,'50_slope_mean'] = (basin['p50'].values*basin['SUB_AREA'].values +\n",
    "                                         np.sum(np.multiply(basum[basum>0],areas[basum>0])))/(np.sum(areas[basum>0]) +\n",
    "                                                                                                     basin['SUB_AREA'].values[0])\n",
    "        basum = basins_2['mean_slope'][upstream_basins].values\n",
    "        pt_gpd.loc[i,'mean_slope_all'] = (basin['mean_slope'].values*basin['SUB_AREA'].values +\n",
    "                                         np.sum(np.multiply(basum[basum>0],areas[basum>0])))/(np.sum(areas[basum>0]) + basin['SUB_AREA'].values[0])\n",
    "        if np.isnan(pt_gpd.loc[i,'50_slope_mean']):\n",
    "            print('broken')\n",
    "      #  print(np.sum(areas[basum>0]) +basin['SUB_AREA'].values[0])\n",
    "    else:\n",
    "        c+=1"
   ]
  },
  {
   "cell_type": "code",
   "execution_count": 102,
   "id": "sporting-sunrise",
   "metadata": {},
   "outputs": [],
   "source": [
    "pt_gpd['Mean Basin Slope (°)'] = pd.to_numeric(pt_gpd['Mean Basin Slope (°)'], errors='coerce')"
   ]
  },
  {
   "cell_type": "code",
   "execution_count": null,
   "id": "recent-ecuador",
   "metadata": {},
   "outputs": [],
   "source": [
    "plt.plot(a['Mean Basin Slope (°)'],a['slope_mean'],'.')\n",
    "plt.plot(np.arange(0,40),np.arange(0,40))"
   ]
  },
  {
   "cell_type": "code",
   "execution_count": 252,
   "id": "specialized-roads",
   "metadata": {},
   "outputs": [
    {
     "ename": "NameError",
     "evalue": "name 'a2' is not defined",
     "output_type": "error",
     "traceback": [
      "\u001b[0;31m---------------------------------------------------------------------------\u001b[0m",
      "\u001b[0;31mNameError\u001b[0m                                 Traceback (most recent call last)",
      "\u001b[0;32m<ipython-input-252-30716dcbd8eb>\u001b[0m in \u001b[0;36m<module>\u001b[0;34m\u001b[0m\n\u001b[0;32m----> 1\u001b[0;31m \u001b[0ma\u001b[0m \u001b[0;34m=\u001b[0m \u001b[0ma2\u001b[0m\u001b[0;34m.\u001b[0m\u001b[0mcopy\u001b[0m\u001b[0;34m(\u001b[0m\u001b[0;34m)\u001b[0m\u001b[0;34m\u001b[0m\u001b[0;34m\u001b[0m\u001b[0m\n\u001b[0m",
      "\u001b[0;31mNameError\u001b[0m: name 'a2' is not defined"
     ]
    }
   ],
   "source": [
    "a"
   ]
  },
  {
   "cell_type": "code",
   "execution_count": 285,
   "id": "turkish-liquid",
   "metadata": {},
   "outputs": [],
   "source": [
    "#basins_slopes = pd.read_csv('/Users/gr_1/Downloads/basins_slope_percentiles.csv')\n",
    "a = pd.read_csv('a.csv')\n",
    "\n",
    "basin_slopes =[] \n",
    "for i in range(8):\n",
    "    pdf = pd.read_csv('/Users/gr_1/Documents/cosmo_predict/pb_points/basins_slope_means_' + str(i) +'.csv')\n",
    "    for i,row in pdf.iterrows():\n",
    "        a.loc[row['id'],'slope_mean'] = row['mean']\n",
    "    "
   ]
  },
  {
   "cell_type": "code",
   "execution_count": 286,
   "id": "proved-cloud",
   "metadata": {},
   "outputs": [
    {
     "data": {
      "text/plain": [
       "0.7979781518754341"
      ]
     },
     "execution_count": 286,
     "metadata": {},
     "output_type": "execute_result"
    }
   ],
   "source": [
    "def pdt(io):\n",
    "    return pd.to_numeric(io,errors='coerce')\n",
    "a = a.loc[np.abs(pdt(a['Basin Area (km )'] )) <5]\n",
    "a.index = range(len(a))\n",
    "x = pdt(a['Mean Basin Slope (°)'])\n",
    "y = pdt(a['slope_mean'])\n",
    "I = np.where(np.logical_or(np.isnan(x.values),np.isnan(y.values)))[0]\n",
    "x = x.drop(I)\n",
    "y = y.drop(I)\n",
    "mt.r2_score(x, y)"
   ]
  },
  {
   "cell_type": "code",
   "execution_count": 287,
   "id": "fatty-absence",
   "metadata": {},
   "outputs": [
    {
     "data": {
      "text/plain": [
       "[<matplotlib.lines.Line2D at 0x1878f87c0>]"
      ]
     },
     "execution_count": 287,
     "metadata": {},
     "output_type": "execute_result"
    },
    {
     "data": {
      "image/png": "[encoded data removed]",
      "text/plain": [
       "<Figure size 432x288 with 1 Axes>"
      ]
     },
     "metadata": {
      "needs_background": "light"
     },
     "output_type": "display_data"
    }
   ],
   "source": [
    "plt.plot(x,y,'.')"
   ]
  },
  {
   "cell_type": "code",
   "execution_count": 606,
   "id": "intensive-peace",
   "metadata": {},
   "outputs": [
    {
     "ename": "TypeError",
     "evalue": "fit() missing 2 required positional arguments: 'X' and 'y'",
     "output_type": "error",
     "traceback": [
      "\u001b[0;31m---------------------------------------------------------------------------\u001b[0m",
      "\u001b[0;31mTypeError\u001b[0m                                 Traceback (most recent call last)",
      "\u001b[0;32m<ipython-input-606-85da9d94dbab>\u001b[0m in \u001b[0;36m<module>\u001b[0;34m\u001b[0m\n\u001b[0;32m----> 1\u001b[0;31m \u001b[0ml\u001b[0m\u001b[0;34m.\u001b[0m\u001b[0mfit\u001b[0m\u001b[0;34m(\u001b[0m\u001b[0;34m)\u001b[0m\u001b[0;34m\u001b[0m\u001b[0;34m\u001b[0m\u001b[0m\n\u001b[0m",
      "\u001b[0;31mTypeError\u001b[0m: fit() missing 2 required positional arguments: 'X' and 'y'"
     ]
    }
   ],
   "source": [
    "l.fit()"
   ]
  },
  {
   "cell_type": "code",
   "execution_count": 231,
   "id": "inclusive-observation",
   "metadata": {},
   "outputs": [],
   "source": [
    "from sklearn.linear_model import LinearRegression"
   ]
  },
  {
   "cell_type": "code",
   "execution_count": 235,
   "id": "romance-lightweight",
   "metadata": {},
   "outputs": [
    {
     "data": {
      "text/plain": [
       "0.1782057360560888"
      ]
     },
     "execution_count": 235,
     "metadata": {},
     "output_type": "execute_result"
    },
    {
     "data": {
      "image/png": "[encoded data removed]",
      "text/plain": [
       "<Figure size 432x288 with 1 Axes>"
      ]
     },
     "metadata": {
      "needs_background": "light"
     },
     "output_type": "display_data"
    }
   ],
   "source": [
    "x = np.log(pd.to_numeric(a['slope_mean'],errors='coerce'))\n",
    "y = np.log(pd.to_numeric(a['CRONUS Erosion Rate (m My)'],errors='coerce'))\n",
    "I = np.where(np.logical_or(np.isnan(x.values),np.isnan(y.values)))[0]\n",
    "x = x.drop(I).to_numpy()\n",
    "y = y.drop(I).to_numpy()\n",
    "l = LinearRegression().fit(x.reshape(-1,1),y.reshape(-1,1))\n",
    "y_ = l.predict(x.reshape(-1,1))\n",
    "plt.scatter(y,y_)\n",
    "\n",
    "mt.r2_score(y, y_)"
   ]
  },
  {
   "cell_type": "markdown",
   "id": "greatest-inflation",
   "metadata": {},
   "source": []
  },
  {
   "cell_type": "code",
   "execution_count": 549,
   "id": "automotive-french",
   "metadata": {},
   "outputs": [
    {
     "data": {
      "text/html": [
       "<div>\n",
       "<style scoped>\n",
       "    .dataframe tbody tr th:only-of-type {\n",
       "        vertical-align: middle;\n",
       "    }\n",
       "\n",
       "    .dataframe tbody tr th {\n",
       "        vertical-align: top;\n",
       "    }\n",
       "\n",
       "    .dataframe thead th {\n",
       "        text-align: right;\n",
       "    }\n",
       "</style>\n",
       "<table border=\"1\" class=\"dataframe\">\n",
       "  <thead>\n",
       "    <tr style=\"text-align: right;\">\n",
       "      <th></th>\n",
       "      <th>Unnamed: 0</th>\n",
       "      <th>Citation</th>\n",
       "      <th>Sample ID</th>\n",
       "      <th>Location</th>\n",
       "      <th>Latitude (decimal degrees)</th>\n",
       "      <th>Longitude (decimal degrees)</th>\n",
       "      <th>Mean Basin Elevation (m)</th>\n",
       "      <th>Basin Relief (m)</th>\n",
       "      <th>Basin Area (km )</th>\n",
       "      <th>Mean Latitude (decimal degrees)</th>\n",
       "      <th>...</th>\n",
       "      <th></th>\n",
       "      <th>type</th>\n",
       "      <th>dist</th>\n",
       "      <th>dist_bin</th>\n",
       "      <th>geometry</th>\n",
       "      <th>Basin_id</th>\n",
       "      <th>mean_topo</th>\n",
       "      <th>95_slope_mean</th>\n",
       "      <th>50_slope_mean</th>\n",
       "      <th>mean_slope_all</th>\n",
       "    </tr>\n",
       "  </thead>\n",
       "  <tbody>\n",
       "    <tr>\n",
       "      <th>0</th>\n",
       "      <td>26</td>\n",
       "      <td>Belmont et al. (2007)</td>\n",
       "      <td>Lower_EFMC</td>\n",
       "      <td>Clearwater River, Washington, United States</td>\n",
       "      <td>47.654</td>\n",
       "      <td>-124.240</td>\n",
       "      <td>239.0</td>\n",
       "      <td>376</td>\n",
       "      <td>13.61</td>\n",
       "      <td>47.686</td>\n",
       "      <td>...</td>\n",
       "      <td>NaN</td>\n",
       "      <td>basinwide</td>\n",
       "      <td>133.065703</td>\n",
       "      <td>22</td>\n",
       "      <td>POINT (-124.24000 47.65400)</td>\n",
       "      <td>7.090343e+09</td>\n",
       "      <td>341.127463</td>\n",
       "      <td>31.869465</td>\n",
       "      <td>inf</td>\n",
       "      <td>16.191463</td>\n",
       "    </tr>\n",
       "    <tr>\n",
       "      <th>1</th>\n",
       "      <td>525</td>\n",
       "      <td>Heimsath et al. (2001)</td>\n",
       "      <td>OR-16</td>\n",
       "      <td>Coast Range, Oregon, United States</td>\n",
       "      <td>43.469</td>\n",
       "      <td>-124.113</td>\n",
       "      <td>296.0</td>\n",
       "      <td>345</td>\n",
       "      <td>3.59</td>\n",
       "      <td>43.472</td>\n",
       "      <td>...</td>\n",
       "      <td>NaN</td>\n",
       "      <td>basinwide</td>\n",
       "      <td>131.505098</td>\n",
       "      <td>22</td>\n",
       "      <td>POINT (-124.11300 43.46900)</td>\n",
       "      <td>7.090014e+09</td>\n",
       "      <td>95.408404</td>\n",
       "      <td>25.628412</td>\n",
       "      <td>inf</td>\n",
       "      <td>11.198064</td>\n",
       "    </tr>\n",
       "    <tr>\n",
       "      <th>2</th>\n",
       "      <td>460</td>\n",
       "      <td>NaN</td>\n",
       "      <td>ORK</td>\n",
       "      <td>Redwood Creek at Orick, Coast Range, Californi...</td>\n",
       "      <td>41.289</td>\n",
       "      <td>-124.060</td>\n",
       "      <td>575.0</td>\n",
       "      <td>1619</td>\n",
       "      <td>720.45</td>\n",
       "      <td>41.060</td>\n",
       "      <td>...</td>\n",
       "      <td>NaN</td>\n",
       "      <td>basinwide</td>\n",
       "      <td>130.750392</td>\n",
       "      <td>22</td>\n",
       "      <td>POINT (-124.06000 41.28900)</td>\n",
       "      <td>7.090014e+09</td>\n",
       "      <td>573.951708</td>\n",
       "      <td>26.369799</td>\n",
       "      <td>inf</td>\n",
       "      <td>16.075120</td>\n",
       "    </tr>\n",
       "    <tr>\n",
       "      <th>3</th>\n",
       "      <td>27</td>\n",
       "      <td>NaN</td>\n",
       "      <td>Upper_WC</td>\n",
       "      <td>NaN</td>\n",
       "      <td>47.739</td>\n",
       "      <td>-124.044</td>\n",
       "      <td>636.0</td>\n",
       "      <td>501</td>\n",
       "      <td>1.73</td>\n",
       "      <td>47.743</td>\n",
       "      <td>...</td>\n",
       "      <td>NaN</td>\n",
       "      <td>basinwide</td>\n",
       "      <td>132.913228</td>\n",
       "      <td>22</td>\n",
       "      <td>POINT (-124.04400 47.73900)</td>\n",
       "      <td>7.090343e+09</td>\n",
       "      <td>341.127463</td>\n",
       "      <td>31.869465</td>\n",
       "      <td>inf</td>\n",
       "      <td>16.191463</td>\n",
       "    </tr>\n",
       "    <tr>\n",
       "      <th>4</th>\n",
       "      <td>28</td>\n",
       "      <td>NaN</td>\n",
       "      <td>Lower_WC</td>\n",
       "      <td>NaN</td>\n",
       "      <td>47.729</td>\n",
       "      <td>-124.037</td>\n",
       "      <td>563.0</td>\n",
       "      <td>606</td>\n",
       "      <td>4.22</td>\n",
       "      <td>47.746</td>\n",
       "      <td>...</td>\n",
       "      <td>NaN</td>\n",
       "      <td>basinwide</td>\n",
       "      <td>132.903103</td>\n",
       "      <td>22</td>\n",
       "      <td>POINT (-124.03700 47.72900)</td>\n",
       "      <td>7.090343e+09</td>\n",
       "      <td>341.127463</td>\n",
       "      <td>31.869465</td>\n",
       "      <td>inf</td>\n",
       "      <td>16.191463</td>\n",
       "    </tr>\n",
       "    <tr>\n",
       "      <th>...</th>\n",
       "      <td>...</td>\n",
       "      <td>...</td>\n",
       "      <td>...</td>\n",
       "      <td>...</td>\n",
       "      <td>...</td>\n",
       "      <td>...</td>\n",
       "      <td>...</td>\n",
       "      <td>...</td>\n",
       "      <td>...</td>\n",
       "      <td>...</td>\n",
       "      <td>...</td>\n",
       "      <td>...</td>\n",
       "      <td>...</td>\n",
       "      <td>...</td>\n",
       "      <td>...</td>\n",
       "      <td>...</td>\n",
       "      <td>...</td>\n",
       "      <td>...</td>\n",
       "      <td>...</td>\n",
       "      <td>...</td>\n",
       "      <td>...</td>\n",
       "    </tr>\n",
       "    <tr>\n",
       "      <th>1385</th>\n",
       "      <td>530</td>\n",
       "      <td>NaN</td>\n",
       "      <td>NR-38</td>\n",
       "      <td>NaN</td>\n",
       "      <td>-36.667</td>\n",
       "      <td>150.000</td>\n",
       "      <td>1018.0</td>\n",
       "      <td>239</td>\n",
       "      <td>4.66</td>\n",
       "      <td>-36.636</td>\n",
       "      <td>...</td>\n",
       "      <td>NaN</td>\n",
       "      <td>basinwide</td>\n",
       "      <td>154.416543</td>\n",
       "      <td>26</td>\n",
       "      <td>POINT (150.00000 -36.66700)</td>\n",
       "      <td>5.090072e+09</td>\n",
       "      <td>84.175025</td>\n",
       "      <td>14.424484</td>\n",
       "      <td>inf</td>\n",
       "      <td>7.204998</td>\n",
       "    </tr>\n",
       "    <tr>\n",
       "      <th>1386</th>\n",
       "      <td>531</td>\n",
       "      <td>NaN</td>\n",
       "      <td>NR-58</td>\n",
       "      <td>NaN</td>\n",
       "      <td>-36.667</td>\n",
       "      <td>150.000</td>\n",
       "      <td>919.0</td>\n",
       "      <td>864</td>\n",
       "      <td>23.17</td>\n",
       "      <td>-36.629</td>\n",
       "      <td>...</td>\n",
       "      <td>NaN</td>\n",
       "      <td>basinwide</td>\n",
       "      <td>154.416543</td>\n",
       "      <td>26</td>\n",
       "      <td>POINT (150.00000 -36.66700)</td>\n",
       "      <td>5.090072e+09</td>\n",
       "      <td>84.175025</td>\n",
       "      <td>14.424484</td>\n",
       "      <td>inf</td>\n",
       "      <td>7.204998</td>\n",
       "    </tr>\n",
       "    <tr>\n",
       "      <th>1387</th>\n",
       "      <td>532</td>\n",
       "      <td>NaN</td>\n",
       "      <td>NR-60</td>\n",
       "      <td>NaN</td>\n",
       "      <td>-36.667</td>\n",
       "      <td>150.000</td>\n",
       "      <td>919.0</td>\n",
       "      <td>864</td>\n",
       "      <td>23.17</td>\n",
       "      <td>-36.629</td>\n",
       "      <td>...</td>\n",
       "      <td>NaN</td>\n",
       "      <td>basinwide</td>\n",
       "      <td>154.416543</td>\n",
       "      <td>26</td>\n",
       "      <td>POINT (150.00000 -36.66700)</td>\n",
       "      <td>5.090072e+09</td>\n",
       "      <td>84.175025</td>\n",
       "      <td>14.424484</td>\n",
       "      <td>inf</td>\n",
       "      <td>7.204998</td>\n",
       "    </tr>\n",
       "    <tr>\n",
       "      <th>1388</th>\n",
       "      <td>528</td>\n",
       "      <td>Heimsath et al. (2006)</td>\n",
       "      <td>NR-32</td>\n",
       "      <td>Nunnock River Basin, Southeast Australia</td>\n",
       "      <td>-36.667</td>\n",
       "      <td>150.000</td>\n",
       "      <td>1005.0</td>\n",
       "      <td>251</td>\n",
       "      <td>5.98</td>\n",
       "      <td>-36.636</td>\n",
       "      <td>...</td>\n",
       "      <td>NaN</td>\n",
       "      <td>basinwide</td>\n",
       "      <td>154.416543</td>\n",
       "      <td>26</td>\n",
       "      <td>POINT (150.00000 -36.66700)</td>\n",
       "      <td>5.090072e+09</td>\n",
       "      <td>84.175025</td>\n",
       "      <td>14.424484</td>\n",
       "      <td>inf</td>\n",
       "      <td>7.204998</td>\n",
       "    </tr>\n",
       "    <tr>\n",
       "      <th>1389</th>\n",
       "      <td>952</td>\n",
       "      <td>NaN</td>\n",
       "      <td>NaN</td>\n",
       "      <td>United States</td>\n",
       "      <td>NaN</td>\n",
       "      <td>NaN</td>\n",
       "      <td>NaN</td>\n",
       "      <td>NaN</td>\n",
       "      <td>NaN</td>\n",
       "      <td>NaN</td>\n",
       "      <td>...</td>\n",
       "      <td>NaN</td>\n",
       "      <td>basinwide</td>\n",
       "      <td>NaN</td>\n",
       "      <td>-1</td>\n",
       "      <td>POINT (nan nan)</td>\n",
       "      <td>NaN</td>\n",
       "      <td>NaN</td>\n",
       "      <td>NaN</td>\n",
       "      <td>NaN</td>\n",
       "      <td>NaN</td>\n",
       "    </tr>\n",
       "  </tbody>\n",
       "</table>\n",
       "<p>1390 rows × 33 columns</p>\n",
       "</div>"
      ],
      "text/plain": [
       "      Unnamed: 0                Citation   Sample ID  \\\n",
       "0             26   Belmont et al. (2007)  Lower_EFMC   \n",
       "1            525  Heimsath et al. (2001)       OR-16   \n",
       "2            460                     NaN         ORK   \n",
       "3             27                     NaN    Upper_WC   \n",
       "4             28                     NaN    Lower_WC   \n",
       "...          ...                     ...         ...   \n",
       "1385         530                     NaN       NR-38   \n",
       "1386         531                     NaN       NR-58   \n",
       "1387         532                     NaN       NR-60   \n",
       "1388         528  Heimsath et al. (2006)       NR-32   \n",
       "1389         952                     NaN         NaN   \n",
       "\n",
       "                                               Location  \\\n",
       "0           Clearwater River, Washington, United States   \n",
       "1                    Coast Range, Oregon, United States   \n",
       "2     Redwood Creek at Orick, Coast Range, Californi...   \n",
       "3                                                   NaN   \n",
       "4                                                   NaN   \n",
       "...                                                 ...   \n",
       "1385                                                NaN   \n",
       "1386                                                NaN   \n",
       "1387                                                NaN   \n",
       "1388           Nunnock River Basin, Southeast Australia   \n",
       "1389                                      United States   \n",
       "\n",
       "      Latitude (decimal degrees)  Longitude (decimal degrees)  \\\n",
       "0                         47.654                     -124.240   \n",
       "1                         43.469                     -124.113   \n",
       "2                         41.289                     -124.060   \n",
       "3                         47.739                     -124.044   \n",
       "4                         47.729                     -124.037   \n",
       "...                          ...                          ...   \n",
       "1385                     -36.667                      150.000   \n",
       "1386                     -36.667                      150.000   \n",
       "1387                     -36.667                      150.000   \n",
       "1388                     -36.667                      150.000   \n",
       "1389                         NaN                          NaN   \n",
       "\n",
       "      Mean Basin Elevation (m) Basin Relief (m)  Basin Area (km )  \\\n",
       "0                        239.0              376             13.61   \n",
       "1                        296.0              345              3.59   \n",
       "2                        575.0             1619            720.45   \n",
       "3                        636.0              501              1.73   \n",
       "4                        563.0              606              4.22   \n",
       "...                        ...              ...               ...   \n",
       "1385                    1018.0              239              4.66   \n",
       "1386                     919.0              864             23.17   \n",
       "1387                     919.0              864             23.17   \n",
       "1388                    1005.0              251              5.98   \n",
       "1389                       NaN              NaN               NaN   \n",
       "\n",
       "      Mean Latitude (decimal degrees)  ...           type        dist  \\\n",
       "0                              47.686  ... NaN  basinwide  133.065703   \n",
       "1                              43.472  ... NaN  basinwide  131.505098   \n",
       "2                              41.060  ... NaN  basinwide  130.750392   \n",
       "3                              47.743  ... NaN  basinwide  132.913228   \n",
       "4                              47.746  ... NaN  basinwide  132.903103   \n",
       "...                               ...  ...  ..        ...         ...   \n",
       "1385                          -36.636  ... NaN  basinwide  154.416543   \n",
       "1386                          -36.629  ... NaN  basinwide  154.416543   \n",
       "1387                          -36.629  ... NaN  basinwide  154.416543   \n",
       "1388                          -36.636  ... NaN  basinwide  154.416543   \n",
       "1389                              NaN  ... NaN  basinwide         NaN   \n",
       "\n",
       "     dist_bin                     geometry      Basin_id   mean_topo  \\\n",
       "0          22  POINT (-124.24000 47.65400)  7.090343e+09  341.127463   \n",
       "1          22  POINT (-124.11300 43.46900)  7.090014e+09   95.408404   \n",
       "2          22  POINT (-124.06000 41.28900)  7.090014e+09  573.951708   \n",
       "3          22  POINT (-124.04400 47.73900)  7.090343e+09  341.127463   \n",
       "4          22  POINT (-124.03700 47.72900)  7.090343e+09  341.127463   \n",
       "...       ...                          ...           ...         ...   \n",
       "1385       26  POINT (150.00000 -36.66700)  5.090072e+09   84.175025   \n",
       "1386       26  POINT (150.00000 -36.66700)  5.090072e+09   84.175025   \n",
       "1387       26  POINT (150.00000 -36.66700)  5.090072e+09   84.175025   \n",
       "1388       26  POINT (150.00000 -36.66700)  5.090072e+09   84.175025   \n",
       "1389       -1              POINT (nan nan)           NaN         NaN   \n",
       "\n",
       "      95_slope_mean 50_slope_mean mean_slope_all  \n",
       "0         31.869465           inf      16.191463  \n",
       "1         25.628412           inf      11.198064  \n",
       "2         26.369799           inf      16.075120  \n",
       "3         31.869465           inf      16.191463  \n",
       "4         31.869465           inf      16.191463  \n",
       "...             ...           ...            ...  \n",
       "1385      14.424484           inf       7.204998  \n",
       "1386      14.424484           inf       7.204998  \n",
       "1387      14.424484           inf       7.204998  \n",
       "1388      14.424484           inf       7.204998  \n",
       "1389            NaN           NaN            NaN  \n",
       "\n",
       "[1390 rows x 33 columns]"
      ]
     },
     "execution_count": 549,
     "metadata": {},
     "output_type": "execute_result"
    }
   ],
   "source": [
    "pt_gpd"
   ]
  },
  {
   "cell_type": "code",
   "execution_count": 562,
   "id": "deluxe-tower",
   "metadata": {},
   "outputs": [
    {
     "data": {
      "text/plain": [
       "[None, None]"
      ]
     },
     "execution_count": 562,
     "metadata": {},
     "output_type": "execute_result"
    },
    {
     "data": {
      "image/png": "[encoded data removed]",
      "text/plain": [
       "<Figure size 432x288 with 1 Axes>"
      ]
     },
     "metadata": {
      "needs_background": "light"
     },
     "output_type": "display_data"
    }
   ],
   "source": [
    "ax = sns.scatterplot(data=pt_gpd,x='95_slope_mean',y='CRONUS Erosion Rate (m My)')\n",
    "\n",
    "ax.set(xscale=\"log\", yscale=\"log\")"
   ]
  },
  {
   "cell_type": "code",
   "execution_count": 557,
   "id": "genuine-mustang",
   "metadata": {},
   "outputs": [
    {
     "data": {
      "text/plain": [
       "[None, None]"
      ]
     },
     "execution_count": 557,
     "metadata": {},
     "output_type": "execute_result"
    },
    {
     "data": {
      "image/png": "[encoded data removed]",
      "text/plain": [
       "<Figure size 432x288 with 1 Axes>"
      ]
     },
     "metadata": {
      "needs_background": "light"
     },
     "output_type": "display_data"
    }
   ],
   "source": [
    "ax = sns.scatterplot(data=pt_gpd,x='Mean Basin Slope (°)',y='CRONUS Erosion Rate (m My)')\n",
    "ax.set(xscale=\"log\", yscale=\"log\")"
   ]
  },
  {
   "cell_type": "code",
   "execution_count": null,
   "id": "tribal-diagram",
   "metadata": {},
   "outputs": [],
   "source": []
  }
 ],
 "metadata": {
  "kernelspec": {
   "display_name": "Python 3",
   "language": "python",
   "name": "python3"
  },
  "language_info": {
   "codemirror_mode": {
    "name": "ipython",
    "version": 3
   },
   "file_extension": ".py",
   "mimetype": "text/x-python",
   "name": "python",
   "nbconvert_exporter": "python",
   "pygments_lexer": "ipython3",
   "version": "3.9.2"
  }
 },
 "nbformat": 4,
 "nbformat_minor": 5
}
