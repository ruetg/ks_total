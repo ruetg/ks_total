{
 "cells": [
  {
   "cell_type": "code",
   "execution_count": 1,
   "id": "electrical-engagement",
   "metadata": {},
   "outputs": [],
   "source": [
    "import ee \n",
    "import shapely as shp\n",
    "import pandas as pd\n",
    "import numpy as np\n",
    "import geopandas as gpd\n",
    "import ast\n",
    "from shapely.geometry import Polygon, MultiPolygon, Point"
   ]
  },
  {
   "cell_type": "code",
   "execution_count": 2,
   "id": "painful-wright",
   "metadata": {},
   "outputs": [],
   "source": [
    "import ee\n",
    "\n",
    "# Trigger the authentication flow.\n",
    "#ee.Authenticate()\n",
    "\n",
    "# Initialize the library.\n",
    "ee.Initialize()\n"
   ]
  },
  {
   "cell_type": "code",
   "execution_count": 3,
   "id": "accepted-scheduling",
   "metadata": {},
   "outputs": [],
   "source": [
    "basins = ee.FeatureCollection(\"users/gr_90_1-backup_ee_files-2/real_octodata\")\n",
    "basinsall = basins\n",
    "dataset = ee.Image('WORLDCLIM/V1/BIO');\n",
    "a = gpd.read_file('/Users/gr_1/Documents/cosmo_predict/octo_327_data')"
   ]
  },
  {
   "cell_type": "code",
   "execution_count": 23,
   "id": "actual-announcement",
   "metadata": {},
   "outputs": [],
   "source": [
    "def numberOfPixels(img):\n",
    "    imgDescription = ee.Algorithms.Describe( img )\n",
    "    height = ee.List( ee.Dictionary( ee.List(  ee.Dictionary( imgDescription ).get(\"bands\") ).get(0) ).get(\"dimensions\") ).get(0);\n",
    "    width = ee.List( ee.Dictionary( ee.List(  ee.Dictionary( imgDescription ).get(\"bands\") ).get(0) ).get(\"dimensions\") ).get(1);\n",
    "  \n",
    "    print(\"width\", width.getInfo() )\n",
    "    print(\"height\", height.getInfo() )\n",
    "  \n",
    "    return  ee.Number( width ).multiply( ee.Number( height ) ).getInfo()\n"
   ]
  },
  {
   "cell_type": "code",
   "execution_count": 24,
   "id": "governing-infrastructure",
   "metadata": {},
   "outputs": [],
   "source": [
    "import matplotlib.pyplot as plt"
   ]
  },
  {
   "cell_type": "code",
   "execution_count": null,
   "id": "retained-antique",
   "metadata": {},
   "outputs": [],
   "source": [
    "f = gpd.read_file('/Users/gr_1/Downloads/Global_Chimaps_shp_Data_Record_A/Au_15s_Chimaps.shp')"
   ]
  },
  {
   "cell_type": "code",
   "execution_count": 18,
   "id": "ultimate-champagne",
   "metadata": {},
   "outputs": [],
   "source": [
    "a['realid'] = a.index\n",
    "a.to_file('/Users/gr_1/Documents/real_octodata')"
   ]
  },
  {
   "cell_type": "code",
   "execution_count": 21,
   "id": "incident-sweden",
   "metadata": {},
   "outputs": [
    {
     "data": {
      "text/plain": [
       "1"
      ]
     },
     "execution_count": 21,
     "metadata": {},
     "output_type": "execute_result"
    }
   ],
   "source": [
    "a.index[1]"
   ]
  },
  {
   "cell_type": "code",
   "execution_count": 83,
   "id": "first-bacteria",
   "metadata": {},
   "outputs": [],
   "source": [
    "#  Define a map centred over Oslo (Latitude: 59.9127 Longitude: 10.7461)\n",
    "\n",
    "# First is latitude and second is longitude; both in degrees\n",
    "center = (59.9127, 10.7461)\n",
    "\n"
   ]
  },
  {
   "cell_type": "code",
   "execution_count": 33,
   "id": "amateur-kenya",
   "metadata": {},
   "outputs": [],
   "source": [
    "#def meanDictionary(geom):\n",
    "    #def featurescount(feature):\n",
    "        #return feature\n",
    "#a = image.reduceRegions(basins,ee.Reducer.mean());\n",
    "def rm_geom(feature):\n",
    "    feature = feature.setGeometry(None)\n",
    "    return feature\n",
    "for num in range(10,11):\n",
    "    #try:\n",
    "    \n",
    "    image2 = dataset.select('bio'+str(num));#= ee.Terrain.slope(image)\n",
    "    #b2 = image2.reduceRegions(basins,ee.Reducer.percentile([20, 50, 80, 95,99]))\n",
    "    b2 = image2.reduceRegions(basins,ee.Reducer.mean())\n",
    "    b2=b2.map(rm_geom)\n",
    "        #return a.filter(ee.Filter.notNull(['mean'])).map(featurescount)\n",
    "    #b = basins.map(meanDictionary)\n",
    "    mytask = ee.batch.Export.table.toDrive(collection=b2, folder='data_earth_engine', description='basins_bio_'+str(num), fileFormat='CSV')\n",
    "\n",
    "    mytask.start()\n",
    "   # except:\n",
    "       # print(num)"
   ]
  },
  {
   "cell_type": "code",
   "execution_count": 32,
   "id": "dominican-start",
   "metadata": {},
   "outputs": [
    {
     "data": {
      "text/plain": [
       "True"
      ]
     },
     "execution_count": 32,
     "metadata": {},
     "output_type": "execute_result"
    }
   ],
   "source": [
    "mytask.active()"
   ]
  },
  {
   "cell_type": "code",
   "execution_count": 277,
   "id": "martial-foster",
   "metadata": {},
   "outputs": [],
   "source": [
    "import geopandas as gpd\n",
    "geoms=gpd.read_file('octopus_data')\n",
    "import numpy as np\n",
    "import pandas as pd\n",
    "slp_rngs = pd.read_csv('/Users/gr_1/Downloads/basins_slope_means_0.csv')\n",
    "slp_rngs = slp_rngs.drop_duplicates('smpid1')\n",
    "geoms = geoms.drop_duplicates('smpid1')\n",
    "slp_rngs.index = slp_rngs.smpid1\n",
    "geoms.index = geoms.smpid1\n",
    "geoms['slp_95_percentile'] = slp_rngs['p95']\n",
    "geoms['slp_80_percentile'] = slp_rngs['p80']\n",
    "geoms['slp_50_percentile'] = slp_rngs['p50']\n",
    "geoms['slp_20_percentile'] = slp_rngs['p20']\n"
   ]
  },
  {
   "cell_type": "code",
   "execution_count": null,
   "id": "overall-shape",
   "metadata": {},
   "outputs": [],
   "source": [
    "x = (geoms[nm]).to_numpy()\n",
    "y = np.log10(geoms[nm]).to_numpy()"
   ]
  },
  {
   "cell_type": "code",
   "execution_count": 159,
   "id": "impressive-interview",
   "metadata": {},
   "outputs": [],
   "source": [
    "import matplotlib.pyplot as plt"
   ]
  },
  {
   "cell_type": "code",
   "execution_count": null,
   "id": "mental-timing",
   "metadata": {},
   "outputs": [],
   "source": [
    "from sklearn.linear_model import LinearRegression\n",
    "from sklearn.metrics import r2_score\n",
    "import seaborn as sns\n",
    "\n",
    "nm = ''\n",
    "ax = sns.scatterplot(data=geoms,x=nm,y='ebe_mmkyr')\n",
    "ax.set_yscale('log')\n",
    "x = (geoms[nm]).to_numpy()\n",
    "y = np.log(geoms['ebe_mmkyr']).to_numpy()\n",
    "\n",
    "x[np.isnan(x)]  =0\n",
    "x[np.isnan(y)] = 0\n",
    "y[np.isnan(y)] =0\n",
    "y[np.isinf(y)] = 0\n",
    "\n",
    "\n",
    "p = LinearRegression()\n",
    "p.fit(x.reshape(-1,1),y.reshape(-1,1))\n",
    "p2 = np.exp(x * p.coef_) * np.exp(p.intercept_)\n",
    "I = np.argsort(x)\n",
    "ax.plot(x[I],p2.reshape(-1,1)[I],'r')\n",
    "r2_score(y[I],np.log(p2.reshape(-1,1)[I]))"
   ]
  },
  {
   "cell_type": "code",
   "execution_count": null,
   "id": "incomplete-happiness",
   "metadata": {},
   "outputs": [],
   "source": []
  },
  {
   "cell_type": "code",
   "execution_count": null,
   "id": "existing-package",
   "metadata": {},
   "outputs": [],
   "source": [
    "ax = sns.scatterplot(data=geoms,x='slp_50_percentile',y='slp_ave')\n"
   ]
  },
  {
   "cell_type": "code",
   "execution_count": null,
   "id": "frequent-presence",
   "metadata": {},
   "outputs": [],
   "source": [
    "distmat = np.zeros([len(geoms),len(geoms)])\n",
    "slpmat = np.zeros([len(geoms),len(geoms)])\n",
    "c1 = 0\n",
    "for r, row in geoms.iterrows():\n",
    "    print(c1)\n",
    "    c2=0\n",
    "    #for r2,row2 in geoms.iterrows():\n",
    "    dists = np.sqrt((row.geometry.centroid.x -geoms.geometry.centroid.x) ** 2 + (row.geometry.centroid.y - geoms.geometry.centroid.y) ** 2)\n",
    "    distmat[:,c1] = dists\n",
    "    slpmat[:,c1] = geoms.slp_ave.to_numpy() - row.slp_ave\n",
    "        #c2+=1\n",
    "    c1+=1\n"
   ]
  },
  {
   "cell_type": "code",
   "execution_count": 198,
   "id": "heated-water",
   "metadata": {},
   "outputs": [
    {
     "name": "stderr",
     "output_type": "stream",
     "text": [
      "<ipython-input-198-987d354ef0f3>:1: RuntimeWarning: divide by zero encountered in log\n",
      "  distmatl = np.log(distmat)#[np.isinf(distmat)] = np.nan\n"
     ]
    }
   ],
   "source": [
    "distmatl = np.log(distmat)#[np.isinf(distmat)] = np.nan\n",
    "distmatl[np.isinf(distmatl)] = np.nan"
   ]
  },
  {
   "cell_type": "code",
   "execution_count": 301,
   "id": "boxed-memorabilia",
   "metadata": {},
   "outputs": [
    {
     "data": {
      "text/plain": [
       "array([[1, 1],\n",
       "       [0, 1]])"
      ]
     },
     "execution_count": 301,
     "metadata": {},
     "output_type": "execute_result"
    }
   ],
   "source": [
    "np.triu([[1,1],[1,1]])"
   ]
  },
  {
   "cell_type": "code",
   "execution_count": 310,
   "id": "concrete-shape",
   "metadata": {},
   "outputs": [
    {
     "data": {
      "text/plain": [
       "Text(0, 0.5, 'Fraction of basins within 100 slope (m/km)')"
      ]
     },
     "execution_count": 310,
     "metadata": {},
     "output_type": "execute_result"
    },
    {
     "data": {
      "image/png": "[encoded data removed]",
      "text/plain": [
       "<Figure size 432x288 with 1 Axes>"
      ]
     },
     "metadata": {
      "needs_background": "light"
     },
     "output_type": "display_data"
    },
    {
     "data": {
      "image/png": "[encoded data removed]",
      "text/plain": [
       "<Figure size 360x360 with 1 Axes>"
      ]
     },
     "metadata": {
      "needs_background": "light"
     },
     "output_type": "display_data"
    }
   ],
   "source": [
    "b = plt.hist((np.triu(distmat).ravel()[np.logical_and(np.abs(np.triu(slpmat).ravel())<100, np.abs(np.triu(slpmat).ravel())>.0001)]),bins=[0,10,100,1000,10000,100000,1000000,1e7,1e8])\n",
    "b2 = plt.hist((np.triu(distmat).ravel()[np.logical_and(np.abs(np.triu(slpmat).ravel())<50000000, np.abs(np.triu(slpmat).ravel())>.0001)]),bins=[0,10,100,1000,10000,100000,1000000,1e7,1e8])\n",
    "\n",
    "fig,ax = plt.subplots(figsize=(5,5))\n",
    "plt.plot(b[1][1:],b[0]/b2[0],'.')\n",
    "ax.set_xscale('log')\n",
    "plt.xlabel('Distance between basins (m)')\n",
    "plt.ylabel('Fraction of basins within 100 slope (m/km)')"
   ]
  },
  {
   "cell_type": "code",
   "execution_count": 321,
   "id": "desperate-baker",
   "metadata": {},
   "outputs": [
    {
     "data": {
      "text/plain": [
       "Text(0, 0.5, 'n < 5 slope')"
      ]
     },
     "execution_count": 321,
     "metadata": {},
     "output_type": "execute_result"
    },
    {
     "data": {
      "image/png": "[encoded data removed]",
      "text/plain": [
       "<Figure size 360x360 with 1 Axes>"
      ]
     },
     "metadata": {
      "needs_background": "light"
     },
     "output_type": "display_data"
    }
   ],
   "source": [
    "fig,ax = plt.subplots(figsize=(5,5))\n",
    "plt.plot(b[1][1:],b2[0],'.')\n",
    "ax.set_xscale('log')\n",
    "ax.set_yscale('log')\n",
    "#plt.plot(np.arange(1,1e7),np.arange(1,1e7))\n",
    "\n",
    "#plt.xlabel('Distance between basins (m)')\n",
    "#plt.ylabel('Fraction of basins within 10 degrees slope')\n",
    "\n",
    "plt.xlabel('n ')\n",
    "plt.ylabel('n < 5 slope')"
   ]
  },
  {
   "cell_type": "code",
   "execution_count": null,
   "id": "crucial-motorcycle",
   "metadata": {},
   "outputs": [],
   "source": []
  },
  {
   "cell_type": "code",
   "execution_count": 351,
   "id": "consecutive-latest",
   "metadata": {},
   "outputs": [
    {
     "data": {
      "text/plain": [
       "array([0.])"
      ]
     },
     "execution_count": 351,
     "metadata": {},
     "output_type": "execute_result"
    }
   ],
   "source": [
    "bins"
   ]
  },
  {
   "cell_type": "code",
   "execution_count": 399,
   "id": "aggressive-policy",
   "metadata": {},
   "outputs": [],
   "source": [
    "import numpy as np\n",
    "from scipy.stats import binned_statistic\n",
    "def func(x):\n",
    "    y = np.mean(np.abs(x))\n",
    "    return y\n",
    "\n",
    "vals = distmat.ravel()\n",
    "bins = [0,10,1e2,1e3,1e4,1e5,1e6/2,1e6*1.5/2,1e6]\n",
    "results = binned_statistic(distmat.ravel() , slpmat.ravel(),statistic=func, bins=bins)[0]"
   ]
  },
  {
   "cell_type": "code",
   "execution_count": 402,
   "id": "racial-saturday",
   "metadata": {},
   "outputs": [
    {
     "ename": "NameError",
     "evalue": "name 's' is not defined",
     "output_type": "error",
     "traceback": [
      "\u001b[0;31m---------------------------------------------------------------------------\u001b[0m",
      "\u001b[0;31mNameError\u001b[0m                                 Traceback (most recent call last)",
      "\u001b[0;32m<ipython-input-402-ded5ba42480f>\u001b[0m in \u001b[0;36m<module>\u001b[0;34m\u001b[0m\n\u001b[0;32m----> 1\u001b[0;31m \u001b[0ms\u001b[0m\u001b[0;34m\u001b[0m\u001b[0;34m\u001b[0m\u001b[0m\n\u001b[0m",
      "\u001b[0;31mNameError\u001b[0m: name 's' is not defined"
     ]
    }
   ],
   "source": [
    "s"
   ]
  },
  {
   "cell_type": "code",
   "execution_count": 421,
   "id": "satisfied-royal",
   "metadata": {},
   "outputs": [
    {
     "data": {
      "text/plain": [
       "Text(0, 0.5, 'difference in Slope (avg)')"
      ]
     },
     "execution_count": 421,
     "metadata": {},
     "output_type": "execute_result"
    },
    {
     "data": {
      "image/png": "[encoded data removed]",
      "text/plain": [
       "<Figure size 432x288 with 1 Axes>"
      ]
     },
     "metadata": {
      "needs_background": "light"
     },
     "output_type": "display_data"
    }
   ],
   "source": [
    "a = plt.plot(bins[1:-1],results[1:],'.')\n",
    "#plt.xscale('log')\n",
    "s = 160*(1-np.exp(-1*np.arange(1,1e6,100)/(0.1e6/3)))\n",
    "plt.plot(np.arange(1,1e6,100),s)\n",
    "plt.xlabel('Distance (m)')\n",
    "plt.ylabel('difference in Slope (avg)')"
   ]
  },
  {
   "cell_type": "code",
   "execution_count": 75,
   "id": "monetary-opposition",
   "metadata": {},
   "outputs": [
    {
     "ename": "NameError",
     "evalue": "name 'b' is not defined",
     "output_type": "error",
     "traceback": [
      "\u001b[0;31m---------------------------------------------------------------------------\u001b[0m",
      "\u001b[0;31mNameError\u001b[0m                                 Traceback (most recent call last)",
      "\u001b[0;32m<ipython-input-75-0bee09d3f8e6>\u001b[0m in \u001b[0;36m<module>\u001b[0;34m\u001b[0m\n\u001b[0;32m----> 1\u001b[0;31m \u001b[0mb\u001b[0m\u001b[0;34m.\u001b[0m\u001b[0mindex\u001b[0m \u001b[0;34m=\u001b[0m \u001b[0mb\u001b[0m\u001b[0;34m[\u001b[0m\u001b[0;34m'HYBAS_ID'\u001b[0m\u001b[0;34m]\u001b[0m\u001b[0;34m\u001b[0m\u001b[0;34m\u001b[0m\u001b[0m\n\u001b[0m\u001b[1;32m      2\u001b[0m \u001b[0mbboxs\u001b[0m \u001b[0;34m=\u001b[0m \u001b[0;34m[\u001b[0m\u001b[0;34m]\u001b[0m\u001b[0;34m\u001b[0m\u001b[0;34m\u001b[0m\u001b[0m\n\u001b[1;32m      3\u001b[0m \u001b[0;32mfor\u001b[0m \u001b[0mi\u001b[0m\u001b[0;34m,\u001b[0m\u001b[0mrow\u001b[0m \u001b[0;32min\u001b[0m \u001b[0mb\u001b[0m\u001b[0;34m.\u001b[0m\u001b[0miterrows\u001b[0m\u001b[0;34m(\u001b[0m\u001b[0;34m)\u001b[0m\u001b[0;34m:\u001b[0m\u001b[0;34m\u001b[0m\u001b[0;34m\u001b[0m\u001b[0m\n\u001b[1;32m      4\u001b[0m     \u001b[0mgeom\u001b[0m \u001b[0;34m=\u001b[0m \u001b[0mnp\u001b[0m\u001b[0;34m.\u001b[0m\u001b[0msqueeze\u001b[0m\u001b[0;34m(\u001b[0m\u001b[0mjson\u001b[0m\u001b[0;34m.\u001b[0m\u001b[0mloads\u001b[0m\u001b[0;34m(\u001b[0m\u001b[0mrow\u001b[0m\u001b[0;34m[\u001b[0m\u001b[0;34m'.geo'\u001b[0m\u001b[0;34m]\u001b[0m\u001b[0;34m)\u001b[0m\u001b[0;34m[\u001b[0m\u001b[0;34m'coordinates'\u001b[0m\u001b[0;34m]\u001b[0m\u001b[0;34m)\u001b[0m\u001b[0;34m\u001b[0m\u001b[0;34m\u001b[0m\u001b[0m\n\u001b[1;32m      5\u001b[0m     \u001b[0;32mtry\u001b[0m\u001b[0;34m:\u001b[0m\u001b[0;34m\u001b[0m\u001b[0;34m\u001b[0m\u001b[0m\n",
      "\u001b[0;31mNameError\u001b[0m: name 'b' is not defined"
     ]
    }
   ],
   "source": [
    "b.index = b['HYBAS_ID']\n",
    "bboxs = []\n",
    "for i,row in b.iterrows():\n",
    "    geom = np.squeeze(json.loads(row['.geo'])['coordinates'])\n",
    "    try:\n",
    "        p = Polygon(geom)\n",
    "    except:\n",
    "        try:\n",
    "            p = Polygon(np.squeeze(geom[0]))\n",
    "        except:\n",
    "            p = Polygon(np.squeeze(geom[0][0]))\n",
    "    bboxs.append(p.bounds[i])\n"
   ]
  },
  {
   "cell_type": "code",
   "execution_count": null,
   "id": "public-judge",
   "metadata": {},
   "outputs": [],
   "source": [
    "ee.batch.Task.list()"
   ]
  },
  {
   "cell_type": "code",
   "execution_count": 398,
   "id": "sweet-string",
   "metadata": {},
   "outputs": [
    {
     "data": {
      "text/plain": [
       "(array([  2861.,   2315.,    838.,   1323.,    799.,   1340.,   5251.,\n",
       "         36656.,  85558., 106000.,  92802.,  63952.,  41880.,  26504.,\n",
       "         17028.,   9978.,   6248.,   3852.,   1951.,   1054.]),\n",
       " array([-2.38042444e+00, -2.18224308e+00, -1.98406172e+00, -1.78588036e+00,\n",
       "        -1.58769900e+00, -1.38951764e+00, -1.19133628e+00, -9.93154920e-01,\n",
       "        -7.94973560e-01, -5.96792200e-01, -3.98610840e-01, -2.00429480e-01,\n",
       "        -2.24811992e-03,  1.95933240e-01,  3.94114600e-01,  5.92295960e-01,\n",
       "         7.90477320e-01,  9.88658680e-01,  1.18684004e+00,  1.38502140e+00,\n",
       "         1.58320276e+00]),\n",
       " <BarContainer object of 20 artists>)"
      ]
     },
     "execution_count": 398,
     "metadata": {},
     "output_type": "execute_result"
    },
    {
     "data": {
      "image/png": "[encoded data removed]",
      "text/plain": [
       "<Figure size 432x288 with 1 Axes>"
      ]
     },
     "metadata": {
      "needs_background": "light"
     },
     "output_type": "display_data"
    }
   ],
   "source": [
    "plt.hist(np.log10(b['maxy']-b['miny']),20)"
   ]
  },
  {
   "cell_type": "markdown",
   "id": "dirty-animation",
   "metadata": {},
   "source": [
    "## start"
   ]
  },
  {
   "cell_type": "code",
   "execution_count": 28,
   "id": "shared-karma",
   "metadata": {},
   "outputs": [],
   "source": [
    "def meanDictionary(geom):\n",
    "    return image.clip(geom.geometry())\n",
    "mns = basins.map(meanDictionary)"
   ]
  },
  {
   "cell_type": "code",
   "execution_count": null,
   "id": "informative-religion",
   "metadata": {},
   "outputs": [],
   "source": [
    "basins.getInfo()"
   ]
  },
  {
   "cell_type": "code",
   "execution_count": 14,
   "id": "digital-cliff",
   "metadata": {},
   "outputs": [],
   "source": [
    "import matplotlib.pyplot as plt"
   ]
  },
  {
   "cell_type": "code",
   "execution_count": 261,
   "id": "current-jewelry",
   "metadata": {},
   "outputs": [],
   "source": []
  },
  {
   "cell_type": "code",
   "execution_count": 172,
   "id": "lesser-davis",
   "metadata": {},
   "outputs": [],
   "source": [
    "\n",
    "import json \n",
    "from shapely.geometry import Polygon\n",
    "basin_slopes = gpd.GeoDataFrame()\n",
    "basin_slopes_t = gpd.GeoDataFrame()\n",
    "\n",
    "shps = []\n",
    "for i,row in basin_slopes_0.iterrows():\n",
    "    g = json.loads(basin_slopes_0.loc[0]['.geo'])\n",
    "    shp = Polygon(np.squeeze(g['coordinates']))\n",
    "    shps.append(shp)\n",
    "    basin_slopes_t.append(row)\n",
    "basin_slopes.append()\n",
    "basin_slopes"
   ]
  },
  {
   "cell_type": "code",
   "execution_count": 36,
   "id": "waiting-climb",
   "metadata": {},
   "outputs": [],
   "source": [
    "basin_slopes_mean = pd.read_csv('/Users/gr_1/Downloads/basins_slope_means.csv')"
   ]
  },
  {
   "cell_type": "code",
   "execution_count": 65,
   "id": "injured-aquatic",
   "metadata": {},
   "outputs": [],
   "source": [
    "basins_2 = pd.read_pickle('BASINS_ALL')\n"
   ]
  },
  {
   "cell_type": "code",
   "execution_count": 66,
   "id": "fluid-beatles",
   "metadata": {},
   "outputs": [],
   "source": [
    "#basins_2['HYBAS_ID'] = basins_2.index\n",
    "basins_2.index = range(len(basins_2))\n",
    "basins_2['p95'] = basins_slopes['p95']\n",
    "basins_2['p80'] = basins_slopes['p80']\n",
    "basins_2['p50'] = basins_slopes['p50']\n",
    "basins_2['p20'] = basins_slopes['p20']\n",
    "basins_2['mean_slope'] = basin_slopes_mean['mean']\n",
    "\n"
   ]
  },
  {
   "cell_type": "code",
   "execution_count": 67,
   "id": "northern-grenada",
   "metadata": {},
   "outputs": [],
   "source": [
    "if 0: # we did it once so we can load it now\n",
    "    up_basins = []\n",
    "    ids = basins_2['HYBAS_ID'].values\n",
    "    down_ids = basins_2['NEXT_DOWN'].values\n",
    "    c=0\n",
    "    def recurbas(l,c):\n",
    "        c+=1\n",
    "        idx = ids[down_ids==l]\n",
    "        for j in idx:\n",
    "            if j != l:\n",
    "                if c>10000:\n",
    "                    print(j,l)\n",
    "                idx = np.append(idx,recurbas(j,c))\n",
    "\n",
    "        return idx\n",
    "    for i in range(len(ids)):\n",
    "        up_basins.append(recurbas(ids[i],c))\n",
    "        c=0\n",
    "        if np.mod(i,1000) == 0:\n",
    "            print(i/len(ids))"
   ]
  },
  {
   "cell_type": "code",
   "execution_count": 68,
   "id": "coral-membership",
   "metadata": {},
   "outputs": [],
   "source": [
    "# basins_2 = gpd.GeoDataFrame(basins_2)\n",
    "# ptgeo = []\n",
    "# for i, geo in enumerate(basins_2['.geo']):\n",
    "#     geo2 = ast.literal_eval(geo)\n",
    "#     try:\n",
    "#         ptgeo.append(Polygon(geo2['coordinates'][0]))\n",
    "#     except:\n",
    "#         ptgeo.append(MultiPolygon(geo2['coordinates'][0],geo2['coordinates'][1]))"
   ]
  },
  {
   "cell_type": "code",
   "execution_count": 69,
   "id": "passing-history",
   "metadata": {},
   "outputs": [],
   "source": [
    "#basins_2.geometry = ptgeo"
   ]
  },
  {
   "cell_type": "code",
   "execution_count": 70,
   "id": "bored-consumption",
   "metadata": {},
   "outputs": [],
   "source": [
    "# basins = gpd.GeoDataFrame()\n",
    "# c=0\n",
    "# for pt in pt_gpd.geometry:\n",
    "#     basins = basins.append(basins_2[basins_2.contains(pt)])\n",
    "#     print(len(basins))\n",
    "#     print(c)\n",
    "#     c+=1"
   ]
  },
  {
   "cell_type": "code",
   "execution_count": 82,
   "id": "considerable-story",
   "metadata": {},
   "outputs": [],
   "source": [
    "pt_basins = pd.read_pickle('pt_basins')\n",
    "a = pd.read_csv('a.csv')\n",
    "pt_basins['HYBAS_ID'] = pt_basins.index"
   ]
  },
  {
   "cell_type": "code",
   "execution_count": 83,
   "id": "instrumental-highlight",
   "metadata": {},
   "outputs": [],
   "source": [
    "basins_gpd = gpd.GeoDataFrame(pt_basins,geometry = ptgeo)"
   ]
  },
  {
   "cell_type": "code",
   "execution_count": null,
   "id": "atlantic-happening",
   "metadata": {},
   "outputs": [],
   "source": [
    "basins_gpd.index = basins_gpd['HYBAS_ID']\n",
    "basins_2['SUB_AREA'][basins_2['p95'].isna()] = .00000000001\n",
    "basins_2['p95'][basins_2['p95'].isna()] = 0\n",
    "#basins_2['SUB_AREA'][basins_2['p50'].isna()] = .00000000001\n",
    "basins_2['p95'][basins_2['p50'].isna()] = 0\n",
    "basins_gpd['p95'] = basins_2['p95']\n",
    "basins_gpd['p50'] = basins_2['p50']\n",
    "basins_gpd['mean_slope'] = basins_2['mean_slope']\n",
    "basins_2.index = basins_2['HYBAS_ID']\n",
    "#basins_gpd['HYBAS_ID'] = basins_gpd.index\n",
    "basins_gpd.index = range(len(basins_gpd))"
   ]
  },
  {
   "cell_type": "code",
   "execution_count": null,
   "id": "digital-regular",
   "metadata": {},
   "outputs": [],
   "source": [
    "c=1\n",
    "d=1\n",
    "for i,pt in pt_gpd.iterrows():\n",
    "    basin = basins_gpd[basins_gpd.contains(pt.geometry)]\n",
    "    if len(basin) >0:\n",
    "        basin = basin.iloc[0:1]\n",
    "        pt_gpd.loc[i,'Basin_id'] = basin['HYBAS_ID'].values\n",
    "        upstream_basins = basins_2[\"NEXT_UP\"][basin['HYBAS_ID']].values[0]\n",
    "        #if len(upstream_basins) > 0:\n",
    "        basum = basins_2['mean'][upstream_basins].values\n",
    "        areas = basins_2['SUB_AREA'][upstream_basins].values\n",
    "        pt_gpd.loc[i,'mean_topo'] = (basin['mean'].values*basin['SUB_AREA'].values +\n",
    "                                     np.sum(np.multiply(basum[basum>0],areas[basum>0])))/(np.sum(areas[basum>0])+\n",
    "                                                                                          basin['SUB_AREA'].values[0])\n",
    "        basum = basins_2['p95'][upstream_basins].values\n",
    "\n",
    "        pt_gpd.loc[i,'95_slope_mean'] = (basin['p95'].values*basin['SUB_AREA'].values +\n",
    "                                     np.sum(np.multiply(basum[basum>0],areas[basum>0])))/(np.sum(areas[basum>0])+\n",
    "                                                                                          basin['SUB_AREA'].values[0])\n",
    "        basum = basins_2['p50'][upstream_basins].values\n",
    "        pt_gpd.loc[i,'50_slope_mean'] = (basin['p50'].values*basin['SUB_AREA'].values +\n",
    "                                         np.sum(np.multiply(basum[basum>0],areas[basum>0])))/(np.sum(areas[basum>0]) +\n",
    "                                                                                                     basin['SUB_AREA'].values[0])\n",
    "        basum = basins_2['mean_slope'][upstream_basins].values\n",
    "        pt_gpd.loc[i,'mean_slope_all'] = (basin['mean_slope'].values*basin['SUB_AREA'].values +\n",
    "                                         np.sum(np.multiply(basum[basum>0],areas[basum>0])))/(np.sum(areas[basum>0]) + basin['SUB_AREA'].values[0])\n",
    "        if np.isnan(pt_gpd.loc[i,'50_slope_mean']):\n",
    "            print('broken')\n",
    "      #  print(np.sum(areas[basum>0]) +basin['SUB_AREA'].values[0])\n",
    "    else:\n",
    "        c+=1"
   ]
  },
  {
   "cell_type": "code",
   "execution_count": 102,
   "id": "blessed-begin",
   "metadata": {},
   "outputs": [],
   "source": [
    "pt_gpd['Mean Basin Slope (°)'] = pd.to_numeric(pt_gpd['Mean Basin Slope (°)'], errors='coerce')"
   ]
  },
  {
   "cell_type": "code",
   "execution_count": 3,
   "id": "simple-poison",
   "metadata": {},
   "outputs": [
    {
     "ename": "NameError",
     "evalue": "name 'plt' is not defined",
     "output_type": "error",
     "traceback": [
      "\u001b[0;31m---------------------------------------------------------------------------\u001b[0m",
      "\u001b[0;31mNameError\u001b[0m                                 Traceback (most recent call last)",
      "\u001b[0;32m<ipython-input-3-82add87299b7>\u001b[0m in \u001b[0;36m<module>\u001b[0;34m\u001b[0m\n\u001b[0;32m----> 1\u001b[0;31m \u001b[0mplt\u001b[0m\u001b[0;34m.\u001b[0m\u001b[0mplot\u001b[0m\u001b[0;34m(\u001b[0m\u001b[0ma\u001b[0m\u001b[0;34m[\u001b[0m\u001b[0;34m'Mean Basin Slope (°)'\u001b[0m\u001b[0;34m]\u001b[0m\u001b[0;34m,\u001b[0m\u001b[0ma\u001b[0m\u001b[0;34m[\u001b[0m\u001b[0;34m'slope_mean'\u001b[0m\u001b[0;34m]\u001b[0m\u001b[0;34m,\u001b[0m\u001b[0;34m'.'\u001b[0m\u001b[0;34m)\u001b[0m\u001b[0;34m\u001b[0m\u001b[0;34m\u001b[0m\u001b[0m\n\u001b[0m\u001b[1;32m      2\u001b[0m \u001b[0mplt\u001b[0m\u001b[0;34m.\u001b[0m\u001b[0mplot\u001b[0m\u001b[0;34m(\u001b[0m\u001b[0mnp\u001b[0m\u001b[0;34m.\u001b[0m\u001b[0marange\u001b[0m\u001b[0;34m(\u001b[0m\u001b[0;36m0\u001b[0m\u001b[0;34m,\u001b[0m\u001b[0;36m40\u001b[0m\u001b[0;34m)\u001b[0m\u001b[0;34m,\u001b[0m\u001b[0mnp\u001b[0m\u001b[0;34m.\u001b[0m\u001b[0marange\u001b[0m\u001b[0;34m(\u001b[0m\u001b[0;36m0\u001b[0m\u001b[0;34m,\u001b[0m\u001b[0;36m40\u001b[0m\u001b[0;34m)\u001b[0m\u001b[0;34m)\u001b[0m\u001b[0;34m\u001b[0m\u001b[0;34m\u001b[0m\u001b[0m\n",
      "\u001b[0;31mNameError\u001b[0m: name 'plt' is not defined"
     ]
    }
   ],
   "source": [
    "plt.plot(a['Mean Basin Slope (°)'],a['slope_mean'],'.')\n",
    "plt.plot(np.arange(0,40),np.arange(0,40))"
   ]
  },
  {
   "cell_type": "code",
   "execution_count": 252,
   "id": "vital-isolation",
   "metadata": {},
   "outputs": [
    {
     "ename": "NameError",
     "evalue": "name 'a2' is not defined",
     "output_type": "error",
     "traceback": [
      "\u001b[0;31m---------------------------------------------------------------------------\u001b[0m",
      "\u001b[0;31mNameError\u001b[0m                                 Traceback (most recent call last)",
      "\u001b[0;32m<ipython-input-252-30716dcbd8eb>\u001b[0m in \u001b[0;36m<module>\u001b[0;34m\u001b[0m\n\u001b[0;32m----> 1\u001b[0;31m \u001b[0ma\u001b[0m \u001b[0;34m=\u001b[0m \u001b[0ma2\u001b[0m\u001b[0;34m.\u001b[0m\u001b[0mcopy\u001b[0m\u001b[0;34m(\u001b[0m\u001b[0;34m)\u001b[0m\u001b[0;34m\u001b[0m\u001b[0;34m\u001b[0m\u001b[0m\n\u001b[0m",
      "\u001b[0;31mNameError\u001b[0m: name 'a2' is not defined"
     ]
    }
   ],
   "source": [
    "a"
   ]
  },
  {
   "cell_type": "code",
   "execution_count": 87,
   "id": "supported-bulgarian",
   "metadata": {},
   "outputs": [
    {
     "name": "stdout",
     "output_type": "stream",
     "text": [
      "1063\n",
      "1351\n",
      "1316\n",
      "1271\n",
      "1236\n",
      "1121\n",
      "967\n",
      "976\n",
      "1364\n",
      "1380\n",
      "240\n",
      "333\n",
      "1385\n",
      "1388\n",
      "555\n",
      "471\n",
      "619\n",
      "708\n",
      "730\n",
      "789\n"
     ]
    }
   ],
   "source": [
    "#basins_slopes = pd.read_csv('/Users/gr_1/Downloads/basins_slope_percentiles.csv')\n",
    "a = pd.read_csv('a.csv')\n",
    "\n",
    "basin_slopes =[] \n",
    "for i in range(20):\n",
    "    pdf = pd.read_csv('/Users/gr_1/Documents/cosmo_predict/pb_points/basins_slope_means_' + str(i) +'.csv')\n",
    "    for i,row in pdf.iterrows():\n",
    "        a.loc[row['id'],'slope_mean'] = row['mean']\n",
    "    print(max(pdf.id))"
   ]
  },
  {
   "cell_type": "code",
   "execution_count": null,
   "id": "turned-finish",
   "metadata": {},
   "outputs": [],
   "source": [
    "map.save('test.html')"
   ]
  },
  {
   "cell_type": "code",
   "execution_count": 17,
   "id": "covered-royal",
   "metadata": {},
   "outputs": [
    {
     "name": "stderr",
     "output_type": "stream",
     "text": [
      "<ipython-input-17-536c392833b8>:5: UserWarning: Geometry is in a geographic CRS. Results from 'centroid' are likely incorrect. Use 'GeoSeries.to_crs()' to re-project geometries to a projected CRS before this operation.\n",
      "\n",
      "  b.geometry =  a.geometry.centroid\n"
     ]
    },
    {
     "data": {
      "application/vnd.jupyter.widget-view+json": {
       "model_id": "2522d201f94b4dff96a7ebc25fed608a",
       "version_major": 2,
       "version_minor": 0
      },
      "text/plain": [
       "Map(center=[0.0, 0.0], controls=(ZoomControl(options=['position', 'zoom_in_text', 'zoom_in_title', 'zoom_out_t…"
      ]
     },
     "metadata": {},
     "output_type": "display_data"
    }
   ],
   "source": [
    "from ipyleaflet import Map, GeoData, basemaps, LayersControl, basemaps\n",
    "from ipywidgets import HTML\n",
    "m = Map(zoom=1,basemap=basemaps.OpenTopoMap)\n",
    "b = a.copy();\n",
    "b.geometry =  a.geometry.centroid\n",
    "pt_data = GeoData(geo_dataframe = b[1:20])\n",
    "\n",
    "#def click_handler(event=None, id=None, properties=None):\n",
    "#    label.value = properties['ebe_mmkyr']\n",
    "\n",
    "#pt_data.on_click(click_handler)\n",
    "\n",
    "m.add_layer(pt_data)\n",
    "m"
   ]
  },
  {
   "cell_type": "code",
   "execution_count": 18,
   "id": "comparative-america",
   "metadata": {},
   "outputs": [],
   "source": [
    "m.save('test.html',title='test')\n"
   ]
  },
  {
   "cell_type": "code",
   "execution_count": 16,
   "id": "reduced-hypothesis",
   "metadata": {},
   "outputs": [
    {
     "name": "stdout",
     "output_type": "stream",
     "text": [
      "\u001b[H\u001b[2J"
     ]
    }
   ],
   "source": [
    "clear(b)"
   ]
  },
  {
   "cell_type": "code",
   "execution_count": 77,
   "id": "artificial-tiger",
   "metadata": {},
   "outputs": [
    {
     "name": "stderr",
     "output_type": "stream",
     "text": [
      "/Users/gr_1/opt/miniconda3/envs/ee/lib/python3.9/site-packages/geopandas/base.py:32: UserWarning: The indices of the two GeoSeries are different.\n",
      "  warn(\"The indices of the two GeoSeries are different.\")\n"
     ]
    }
   ],
   "source": [
    "c = b[b.within(a.loc[0:1])]\n",
    "c.to_file('c')"
   ]
  },
  {
   "cell_type": "code",
   "execution_count": null,
   "id": "promising-cartridge",
   "metadata": {},
   "outputs": [],
   "source": [
    "def pdt(io):\n",
    "    return pd.to_numeric(io,errors='coerce')\n",
    "a = a.loc[np.abs(pdt(a['Basin Area (km )'] )) <20000]\n",
    "\n",
    "a.index = range(len(a))\n",
    "x = pdt(a['Mean Basin Slope (°)'])\n",
    "y = pdt(a['slope_mean'])\n",
    "I = np.where(np.logical_or(np.isnan(x.values),np.isnan(y.values)))[0]\n",
    "x = x.drop(I)\n",
    "y = y.drop(I)\n",
    "mt.r2_score(x, y)"
   ]
  },
  {
   "cell_type": "code",
   "execution_count": 72,
   "id": "timely-insert",
   "metadata": {},
   "outputs": [
    {
     "ename": "AttributeError",
     "evalue": "'function' object has no attribute 'area'",
     "output_type": "error",
     "traceback": [
      "\u001b[0;31m---------------------------------------------------------------------------\u001b[0m",
      "\u001b[0;31mAttributeError\u001b[0m                            Traceback (most recent call last)",
      "\u001b[0;32m<ipython-input-72-924945b2eaf2>\u001b[0m in \u001b[0;36m<module>\u001b[0;34m\u001b[0m\n\u001b[1;32m      1\u001b[0m \u001b[0;32mfor\u001b[0m \u001b[0mi\u001b[0m\u001b[0;34m,\u001b[0m\u001b[0mrow\u001b[0m \u001b[0;32min\u001b[0m \u001b[0ma\u001b[0m\u001b[0;34m.\u001b[0m\u001b[0miterrows\u001b[0m\u001b[0;34m(\u001b[0m\u001b[0;34m)\u001b[0m\u001b[0;34m:\u001b[0m\u001b[0;34m\u001b[0m\u001b[0;34m\u001b[0m\u001b[0m\n\u001b[0;32m----> 2\u001b[0;31m     \u001b[0mbasins\u001b[0m\u001b[0;34m.\u001b[0m\u001b[0mgeometry\u001b[0m\u001b[0;34m.\u001b[0m\u001b[0marea\u001b[0m\u001b[0;34m\u001b[0m\u001b[0;34m\u001b[0m\u001b[0m\n\u001b[0m",
      "\u001b[0;31mAttributeError\u001b[0m: 'function' object has no attribute 'area'"
     ]
    }
   ],
   "source": [
    "for i,row in a.iterrows():\n",
    "    basins.geometry.area"
   ]
  },
  {
   "cell_type": "code",
   "execution_count": 91,
   "id": "previous-psychiatry",
   "metadata": {},
   "outputs": [
    {
     "data": {
      "text/plain": [
       "214"
      ]
     },
     "execution_count": 91,
     "metadata": {},
     "output_type": "execute_result"
    }
   ],
   "source": [
    "len(np.where(abs(x-y)>5)[0])"
   ]
  },
  {
   "cell_type": "code",
   "execution_count": 89,
   "id": "synthetic-oxygen",
   "metadata": {},
   "outputs": [
    {
     "data": {
      "text/plain": [
       "[<matplotlib.lines.Line2D at 0x17ef52220>]"
      ]
     },
     "execution_count": 89,
     "metadata": {},
     "output_type": "execute_result"
    },
    {
     "data": {
      "image/png": "[encoded data removed]",
      "text/plain": [
       "<Figure size 432x288 with 1 Axes>"
      ]
     },
     "metadata": {
      "needs_background": "light"
     },
     "output_type": "display_data"
    }
   ],
   "source": [
    "plt.plot(x,y,'.')"
   ]
  },
  {
   "cell_type": "code",
   "execution_count": 606,
   "id": "moved-married",
   "metadata": {},
   "outputs": [
    {
     "ename": "TypeError",
     "evalue": "fit() missing 2 required positional arguments: 'X' and 'y'",
     "output_type": "error",
     "traceback": [
      "\u001b[0;31m---------------------------------------------------------------------------\u001b[0m",
      "\u001b[0;31mTypeError\u001b[0m                                 Traceback (most recent call last)",
      "\u001b[0;32m<ipython-input-606-85da9d94dbab>\u001b[0m in \u001b[0;36m<module>\u001b[0;34m\u001b[0m\n\u001b[0;32m----> 1\u001b[0;31m \u001b[0ml\u001b[0m\u001b[0;34m.\u001b[0m\u001b[0mfit\u001b[0m\u001b[0;34m(\u001b[0m\u001b[0;34m)\u001b[0m\u001b[0;34m\u001b[0m\u001b[0;34m\u001b[0m\u001b[0m\n\u001b[0m",
      "\u001b[0;31mTypeError\u001b[0m: fit() missing 2 required positional arguments: 'X' and 'y'"
     ]
    }
   ],
   "source": [
    "l.fit()"
   ]
  },
  {
   "cell_type": "code",
   "execution_count": 231,
   "id": "exposed-copyright",
   "metadata": {},
   "outputs": [],
   "source": [
    "from sklearn.linear_model import LinearRegression"
   ]
  },
  {
   "cell_type": "code",
   "execution_count": 235,
   "id": "silver-calibration",
   "metadata": {},
   "outputs": [
    {
     "data": {
      "text/plain": [
       "0.1782057360560888"
      ]
     },
     "execution_count": 235,
     "metadata": {},
     "output_type": "execute_result"
    },
    {
     "data": {
      "image/png": "[encoded data removed]",
      "text/plain": [
       "<Figure size 432x288 with 1 Axes>"
      ]
     },
     "metadata": {
      "needs_background": "light"
     },
     "output_type": "display_data"
    }
   ],
   "source": [
    "x = np.log(pd.to_numeric(a['slope_mean'],errors='coerce'))\n",
    "y = np.log(pd.to_numeric(a['CRONUS Erosion Rate (m My)'],errors='coerce'))\n",
    "I = np.where(np.logical_or(np.isnan(x.values),np.isnan(y.values)))[0]\n",
    "x = x.drop(I).to_numpy()\n",
    "y = y.drop(I).to_numpy()\n",
    "l = LinearRegression().fit(x.reshape(-1,1),y.reshape(-1,1))\n",
    "y_ = l.predict(x.reshape(-1,1))\n",
    "plt.scatter(y,y_)\n",
    "\n",
    "mt.r2_score(y, y_)"
   ]
  },
  {
   "cell_type": "markdown",
   "id": "initial-aquatic",
   "metadata": {},
   "source": []
  },
  {
   "cell_type": "code",
   "execution_count": 549,
   "id": "engaging-causing",
   "metadata": {},
   "outputs": [
    {
     "data": {
      "text/html": [
       "<div>\n",
       "<style scoped>\n",
       "    .dataframe tbody tr th:only-of-type {\n",
       "        vertical-align: middle;\n",
       "    }\n",
       "\n",
       "    .dataframe tbody tr th {\n",
       "        vertical-align: top;\n",
       "    }\n",
       "\n",
       "    .dataframe thead th {\n",
       "        text-align: right;\n",
       "    }\n",
       "</style>\n",
       "<table border=\"1\" class=\"dataframe\">\n",
       "  <thead>\n",
       "    <tr style=\"text-align: right;\">\n",
       "      <th></th>\n",
       "      <th>Unnamed: 0</th>\n",
       "      <th>Citation</th>\n",
       "      <th>Sample ID</th>\n",
       "      <th>Location</th>\n",
       "      <th>Latitude (decimal degrees)</th>\n",
       "      <th>Longitude (decimal degrees)</th>\n",
       "      <th>Mean Basin Elevation (m)</th>\n",
       "      <th>Basin Relief (m)</th>\n",
       "      <th>Basin Area (km )</th>\n",
       "      <th>Mean Latitude (decimal degrees)</th>\n",
       "      <th>...</th>\n",
       "      <th></th>\n",
       "      <th>type</th>\n",
       "      <th>dist</th>\n",
       "      <th>dist_bin</th>\n",
       "      <th>geometry</th>\n",
       "      <th>Basin_id</th>\n",
       "      <th>mean_topo</th>\n",
       "      <th>95_slope_mean</th>\n",
       "      <th>50_slope_mean</th>\n",
       "      <th>mean_slope_all</th>\n",
       "    </tr>\n",
       "  </thead>\n",
       "  <tbody>\n",
       "    <tr>\n",
       "      <th>0</th>\n",
       "      <td>26</td>\n",
       "      <td>Belmont et al. (2007)</td>\n",
       "      <td>Lower_EFMC</td>\n",
       "      <td>Clearwater River, Washington, United States</td>\n",
       "      <td>47.654</td>\n",
       "      <td>-124.240</td>\n",
       "      <td>239.0</td>\n",
       "      <td>376</td>\n",
       "      <td>13.61</td>\n",
       "      <td>47.686</td>\n",
       "      <td>...</td>\n",
       "      <td>NaN</td>\n",
       "      <td>basinwide</td>\n",
       "      <td>133.065703</td>\n",
       "      <td>22</td>\n",
       "      <td>POINT (-124.24000 47.65400)</td>\n",
       "      <td>7.090343e+09</td>\n",
       "      <td>341.127463</td>\n",
       "      <td>31.869465</td>\n",
       "      <td>inf</td>\n",
       "      <td>16.191463</td>\n",
       "    </tr>\n",
       "    <tr>\n",
       "      <th>1</th>\n",
       "      <td>525</td>\n",
       "      <td>Heimsath et al. (2001)</td>\n",
       "      <td>OR-16</td>\n",
       "      <td>Coast Range, Oregon, United States</td>\n",
       "      <td>43.469</td>\n",
       "      <td>-124.113</td>\n",
       "      <td>296.0</td>\n",
       "      <td>345</td>\n",
       "      <td>3.59</td>\n",
       "      <td>43.472</td>\n",
       "      <td>...</td>\n",
       "      <td>NaN</td>\n",
       "      <td>basinwide</td>\n",
       "      <td>131.505098</td>\n",
       "      <td>22</td>\n",
       "      <td>POINT (-124.11300 43.46900)</td>\n",
       "      <td>7.090014e+09</td>\n",
       "      <td>95.408404</td>\n",
       "      <td>25.628412</td>\n",
       "      <td>inf</td>\n",
       "      <td>11.198064</td>\n",
       "    </tr>\n",
       "    <tr>\n",
       "      <th>2</th>\n",
       "      <td>460</td>\n",
       "      <td>NaN</td>\n",
       "      <td>ORK</td>\n",
       "      <td>Redwood Creek at Orick, Coast Range, Californi...</td>\n",
       "      <td>41.289</td>\n",
       "      <td>-124.060</td>\n",
       "      <td>575.0</td>\n",
       "      <td>1619</td>\n",
       "      <td>720.45</td>\n",
       "      <td>41.060</td>\n",
       "      <td>...</td>\n",
       "      <td>NaN</td>\n",
       "      <td>basinwide</td>\n",
       "      <td>130.750392</td>\n",
       "      <td>22</td>\n",
       "      <td>POINT (-124.06000 41.28900)</td>\n",
       "      <td>7.090014e+09</td>\n",
       "      <td>573.951708</td>\n",
       "      <td>26.369799</td>\n",
       "      <td>inf</td>\n",
       "      <td>16.075120</td>\n",
       "    </tr>\n",
       "    <tr>\n",
       "      <th>3</th>\n",
       "      <td>27</td>\n",
       "      <td>NaN</td>\n",
       "      <td>Upper_WC</td>\n",
       "      <td>NaN</td>\n",
       "      <td>47.739</td>\n",
       "      <td>-124.044</td>\n",
       "      <td>636.0</td>\n",
       "      <td>501</td>\n",
       "      <td>1.73</td>\n",
       "      <td>47.743</td>\n",
       "      <td>...</td>\n",
       "      <td>NaN</td>\n",
       "      <td>basinwide</td>\n",
       "      <td>132.913228</td>\n",
       "      <td>22</td>\n",
       "      <td>POINT (-124.04400 47.73900)</td>\n",
       "      <td>7.090343e+09</td>\n",
       "      <td>341.127463</td>\n",
       "      <td>31.869465</td>\n",
       "      <td>inf</td>\n",
       "      <td>16.191463</td>\n",
       "    </tr>\n",
       "    <tr>\n",
       "      <th>4</th>\n",
       "      <td>28</td>\n",
       "      <td>NaN</td>\n",
       "      <td>Lower_WC</td>\n",
       "      <td>NaN</td>\n",
       "      <td>47.729</td>\n",
       "      <td>-124.037</td>\n",
       "      <td>563.0</td>\n",
       "      <td>606</td>\n",
       "      <td>4.22</td>\n",
       "      <td>47.746</td>\n",
       "      <td>...</td>\n",
       "      <td>NaN</td>\n",
       "      <td>basinwide</td>\n",
       "      <td>132.903103</td>\n",
       "      <td>22</td>\n",
       "      <td>POINT (-124.03700 47.72900)</td>\n",
       "      <td>7.090343e+09</td>\n",
       "      <td>341.127463</td>\n",
       "      <td>31.869465</td>\n",
       "      <td>inf</td>\n",
       "      <td>16.191463</td>\n",
       "    </tr>\n",
       "    <tr>\n",
       "      <th>...</th>\n",
       "      <td>...</td>\n",
       "      <td>...</td>\n",
       "      <td>...</td>\n",
       "      <td>...</td>\n",
       "      <td>...</td>\n",
       "      <td>...</td>\n",
       "      <td>...</td>\n",
       "      <td>...</td>\n",
       "      <td>...</td>\n",
       "      <td>...</td>\n",
       "      <td>...</td>\n",
       "      <td>...</td>\n",
       "      <td>...</td>\n",
       "      <td>...</td>\n",
       "      <td>...</td>\n",
       "      <td>...</td>\n",
       "      <td>...</td>\n",
       "      <td>...</td>\n",
       "      <td>...</td>\n",
       "      <td>...</td>\n",
       "      <td>...</td>\n",
       "    </tr>\n",
       "    <tr>\n",
       "      <th>1385</th>\n",
       "      <td>530</td>\n",
       "      <td>NaN</td>\n",
       "      <td>NR-38</td>\n",
       "      <td>NaN</td>\n",
       "      <td>-36.667</td>\n",
       "      <td>150.000</td>\n",
       "      <td>1018.0</td>\n",
       "      <td>239</td>\n",
       "      <td>4.66</td>\n",
       "      <td>-36.636</td>\n",
       "      <td>...</td>\n",
       "      <td>NaN</td>\n",
       "      <td>basinwide</td>\n",
       "      <td>154.416543</td>\n",
       "      <td>26</td>\n",
       "      <td>POINT (150.00000 -36.66700)</td>\n",
       "      <td>5.090072e+09</td>\n",
       "      <td>84.175025</td>\n",
       "      <td>14.424484</td>\n",
       "      <td>inf</td>\n",
       "      <td>7.204998</td>\n",
       "    </tr>\n",
       "    <tr>\n",
       "      <th>1386</th>\n",
       "      <td>531</td>\n",
       "      <td>NaN</td>\n",
       "      <td>NR-58</td>\n",
       "      <td>NaN</td>\n",
       "      <td>-36.667</td>\n",
       "      <td>150.000</td>\n",
       "      <td>919.0</td>\n",
       "      <td>864</td>\n",
       "      <td>23.17</td>\n",
       "      <td>-36.629</td>\n",
       "      <td>...</td>\n",
       "      <td>NaN</td>\n",
       "      <td>basinwide</td>\n",
       "      <td>154.416543</td>\n",
       "      <td>26</td>\n",
       "      <td>POINT (150.00000 -36.66700)</td>\n",
       "      <td>5.090072e+09</td>\n",
       "      <td>84.175025</td>\n",
       "      <td>14.424484</td>\n",
       "      <td>inf</td>\n",
       "      <td>7.204998</td>\n",
       "    </tr>\n",
       "    <tr>\n",
       "      <th>1387</th>\n",
       "      <td>532</td>\n",
       "      <td>NaN</td>\n",
       "      <td>NR-60</td>\n",
       "      <td>NaN</td>\n",
       "      <td>-36.667</td>\n",
       "      <td>150.000</td>\n",
       "      <td>919.0</td>\n",
       "      <td>864</td>\n",
       "      <td>23.17</td>\n",
       "      <td>-36.629</td>\n",
       "      <td>...</td>\n",
       "      <td>NaN</td>\n",
       "      <td>basinwide</td>\n",
       "      <td>154.416543</td>\n",
       "      <td>26</td>\n",
       "      <td>POINT (150.00000 -36.66700)</td>\n",
       "      <td>5.090072e+09</td>\n",
       "      <td>84.175025</td>\n",
       "      <td>14.424484</td>\n",
       "      <td>inf</td>\n",
       "      <td>7.204998</td>\n",
       "    </tr>\n",
       "    <tr>\n",
       "      <th>1388</th>\n",
       "      <td>528</td>\n",
       "      <td>Heimsath et al. (2006)</td>\n",
       "      <td>NR-32</td>\n",
       "      <td>Nunnock River Basin, Southeast Australia</td>\n",
       "      <td>-36.667</td>\n",
       "      <td>150.000</td>\n",
       "      <td>1005.0</td>\n",
       "      <td>251</td>\n",
       "      <td>5.98</td>\n",
       "      <td>-36.636</td>\n",
       "      <td>...</td>\n",
       "      <td>NaN</td>\n",
       "      <td>basinwide</td>\n",
       "      <td>154.416543</td>\n",
       "      <td>26</td>\n",
       "      <td>POINT (150.00000 -36.66700)</td>\n",
       "      <td>5.090072e+09</td>\n",
       "      <td>84.175025</td>\n",
       "      <td>14.424484</td>\n",
       "      <td>inf</td>\n",
       "      <td>7.204998</td>\n",
       "    </tr>\n",
       "    <tr>\n",
       "      <th>1389</th>\n",
       "      <td>952</td>\n",
       "      <td>NaN</td>\n",
       "      <td>NaN</td>\n",
       "      <td>United States</td>\n",
       "      <td>NaN</td>\n",
       "      <td>NaN</td>\n",
       "      <td>NaN</td>\n",
       "      <td>NaN</td>\n",
       "      <td>NaN</td>\n",
       "      <td>NaN</td>\n",
       "      <td>...</td>\n",
       "      <td>NaN</td>\n",
       "      <td>basinwide</td>\n",
       "      <td>NaN</td>\n",
       "      <td>-1</td>\n",
       "      <td>POINT (nan nan)</td>\n",
       "      <td>NaN</td>\n",
       "      <td>NaN</td>\n",
       "      <td>NaN</td>\n",
       "      <td>NaN</td>\n",
       "      <td>NaN</td>\n",
       "    </tr>\n",
       "  </tbody>\n",
       "</table>\n",
       "<p>1390 rows × 33 columns</p>\n",
       "</div>"
      ],
      "text/plain": [
       "      Unnamed: 0                Citation   Sample ID  \\\n",
       "0             26   Belmont et al. (2007)  Lower_EFMC   \n",
       "1            525  Heimsath et al. (2001)       OR-16   \n",
       "2            460                     NaN         ORK   \n",
       "3             27                     NaN    Upper_WC   \n",
       "4             28                     NaN    Lower_WC   \n",
       "...          ...                     ...         ...   \n",
       "1385         530                     NaN       NR-38   \n",
       "1386         531                     NaN       NR-58   \n",
       "1387         532                     NaN       NR-60   \n",
       "1388         528  Heimsath et al. (2006)       NR-32   \n",
       "1389         952                     NaN         NaN   \n",
       "\n",
       "                                               Location  \\\n",
       "0           Clearwater River, Washington, United States   \n",
       "1                    Coast Range, Oregon, United States   \n",
       "2     Redwood Creek at Orick, Coast Range, Californi...   \n",
       "3                                                   NaN   \n",
       "4                                                   NaN   \n",
       "...                                                 ...   \n",
       "1385                                                NaN   \n",
       "1386                                                NaN   \n",
       "1387                                                NaN   \n",
       "1388           Nunnock River Basin, Southeast Australia   \n",
       "1389                                      United States   \n",
       "\n",
       "      Latitude (decimal degrees)  Longitude (decimal degrees)  \\\n",
       "0                         47.654                     -124.240   \n",
       "1                         43.469                     -124.113   \n",
       "2                         41.289                     -124.060   \n",
       "3                         47.739                     -124.044   \n",
       "4                         47.729                     -124.037   \n",
       "...                          ...                          ...   \n",
       "1385                     -36.667                      150.000   \n",
       "1386                     -36.667                      150.000   \n",
       "1387                     -36.667                      150.000   \n",
       "1388                     -36.667                      150.000   \n",
       "1389                         NaN                          NaN   \n",
       "\n",
       "      Mean Basin Elevation (m) Basin Relief (m)  Basin Area (km )  \\\n",
       "0                        239.0              376             13.61   \n",
       "1                        296.0              345              3.59   \n",
       "2                        575.0             1619            720.45   \n",
       "3                        636.0              501              1.73   \n",
       "4                        563.0              606              4.22   \n",
       "...                        ...              ...               ...   \n",
       "1385                    1018.0              239              4.66   \n",
       "1386                     919.0              864             23.17   \n",
       "1387                     919.0              864             23.17   \n",
       "1388                    1005.0              251              5.98   \n",
       "1389                       NaN              NaN               NaN   \n",
       "\n",
       "      Mean Latitude (decimal degrees)  ...           type        dist  \\\n",
       "0                              47.686  ... NaN  basinwide  133.065703   \n",
       "1                              43.472  ... NaN  basinwide  131.505098   \n",
       "2                              41.060  ... NaN  basinwide  130.750392   \n",
       "3                              47.743  ... NaN  basinwide  132.913228   \n",
       "4                              47.746  ... NaN  basinwide  132.903103   \n",
       "...                               ...  ...  ..        ...         ...   \n",
       "1385                          -36.636  ... NaN  basinwide  154.416543   \n",
       "1386                          -36.629  ... NaN  basinwide  154.416543   \n",
       "1387                          -36.629  ... NaN  basinwide  154.416543   \n",
       "1388                          -36.636  ... NaN  basinwide  154.416543   \n",
       "1389                              NaN  ... NaN  basinwide         NaN   \n",
       "\n",
       "     dist_bin                     geometry      Basin_id   mean_topo  \\\n",
       "0          22  POINT (-124.24000 47.65400)  7.090343e+09  341.127463   \n",
       "1          22  POINT (-124.11300 43.46900)  7.090014e+09   95.408404   \n",
       "2          22  POINT (-124.06000 41.28900)  7.090014e+09  573.951708   \n",
       "3          22  POINT (-124.04400 47.73900)  7.090343e+09  341.127463   \n",
       "4          22  POINT (-124.03700 47.72900)  7.090343e+09  341.127463   \n",
       "...       ...                          ...           ...         ...   \n",
       "1385       26  POINT (150.00000 -36.66700)  5.090072e+09   84.175025   \n",
       "1386       26  POINT (150.00000 -36.66700)  5.090072e+09   84.175025   \n",
       "1387       26  POINT (150.00000 -36.66700)  5.090072e+09   84.175025   \n",
       "1388       26  POINT (150.00000 -36.66700)  5.090072e+09   84.175025   \n",
       "1389       -1              POINT (nan nan)           NaN         NaN   \n",
       "\n",
       "      95_slope_mean 50_slope_mean mean_slope_all  \n",
       "0         31.869465           inf      16.191463  \n",
       "1         25.628412           inf      11.198064  \n",
       "2         26.369799           inf      16.075120  \n",
       "3         31.869465           inf      16.191463  \n",
       "4         31.869465           inf      16.191463  \n",
       "...             ...           ...            ...  \n",
       "1385      14.424484           inf       7.204998  \n",
       "1386      14.424484           inf       7.204998  \n",
       "1387      14.424484           inf       7.204998  \n",
       "1388      14.424484           inf       7.204998  \n",
       "1389            NaN           NaN            NaN  \n",
       "\n",
       "[1390 rows x 33 columns]"
      ]
     },
     "execution_count": 549,
     "metadata": {},
     "output_type": "execute_result"
    }
   ],
   "source": [
    "pt_gpd"
   ]
  },
  {
   "cell_type": "code",
   "execution_count": 562,
   "id": "automatic-litigation",
   "metadata": {},
   "outputs": [
    {
     "data": {
      "text/plain": [
       "[None, None]"
      ]
     },
     "execution_count": 562,
     "metadata": {},
     "output_type": "execute_result"
    },
    {
     "data": {
      "image/png": "[encoded data removed]",
      "text/plain": [
       "<Figure size 432x288 with 1 Axes>"
      ]
     },
     "metadata": {
      "needs_background": "light"
     },
     "output_type": "display_data"
    }
   ],
   "source": [
    "ax = sns.scatterplot(data=pt_gpd,x='95_slope_mean',y='CRONUS Erosion Rate (m My)')\n",
    "\n",
    "ax.set(xscale=\"log\", yscale=\"log\")"
   ]
  },
  {
   "cell_type": "code",
   "execution_count": 557,
   "id": "lovely-contractor",
   "metadata": {},
   "outputs": [
    {
     "data": {
      "text/plain": [
       "[None, None]"
      ]
     },
     "execution_count": 557,
     "metadata": {},
     "output_type": "execute_result"
    },
    {
     "data": {
      "image/png": "[encoded data removed]",
      "text/plain": [
       "<Figure size 432x288 with 1 Axes>"
      ]
     },
     "metadata": {
      "needs_background": "light"
     },
     "output_type": "display_data"
    }
   ],
   "source": [
    "ax = sns.scatterplot(data=pt_gpd,x='Mean Basin Slope (°)',y='CRONUS Erosion Rate (m My)')\n",
    "ax.set(xscale=\"log\", yscale=\"log\")"
   ]
  },
  {
   "cell_type": "code",
   "execution_count": null,
   "id": "ahead-violin",
   "metadata": {},
   "outputs": [],
   "source": []
  }
 ],
 "metadata": {
  "kernelspec": {
   "display_name": "Python 3",
   "language": "python",
   "name": "python3"
  },
  "language_info": {
   "codemirror_mode": {
    "name": "ipython",
    "version": 3
   },
   "file_extension": ".py",
   "mimetype": "text/x-python",
   "name": "python",
   "nbconvert_exporter": "python",
   "pygments_lexer": "ipython3",
   "version": "3.9.2"
  }
 },
 "nbformat": 4,
 "nbformat_minor": 5
}
