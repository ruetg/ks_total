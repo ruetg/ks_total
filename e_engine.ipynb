{
 "cells": [
  {
   "cell_type": "code",
   "execution_count": 542,
   "id": "experimental-azerbaijan",
   "metadata": {},
   "outputs": [],
   "source": [
    "import ee \n",
    "import shapely as shp\n",
    "import pandas as pd\n",
    "import numpy as np\n",
    "import geopandas as gpd\n",
    "import ast\n",
    "from shapely.geometry import Polygon, MultiPolygon, Point"
   ]
  },
  {
   "cell_type": "code",
   "execution_count": 543,
   "id": "decent-modeling",
   "metadata": {},
   "outputs": [],
   "source": [
    "import ee\n",
    "\n",
    "# Trigger the authentication flow.\n",
    "#ee.Authenticate()\n",
    "\n",
    "# Initialize the library.\n",
    "ee.Initialize()\n"
   ]
  },
  {
   "cell_type": "code",
   "execution_count": 544,
   "id": "alpha-visiting",
   "metadata": {},
   "outputs": [],
   "source": [
    "basins = ee.FeatureCollection(\"WWF/HydroSHEDS/v1/Basins/hybas_9\");\n",
    "basinsall = basins\n",
    "image = ee.Image('WWF/HydroSHEDS/03VFDEM');\n",
    "\n",
    "a = pd.read_csv('a.csv')"
   ]
  },
  {
   "cell_type": "code",
   "execution_count": 271,
   "id": "surgical-circulation",
   "metadata": {},
   "outputs": [],
   "source": [
    "def numberOfPixels(img):\n",
    "    imgDescription = ee.Algorithms.Describe( img )\n",
    "    height = ee.List( ee.Dictionary( ee.List(  ee.Dictionary( imgDescription ).get(\"bands\") ).get(0) ).get(\"dimensions\") ).get(0);\n",
    "    width = ee.List( ee.Dictionary( ee.List(  ee.Dictionary( imgDescription ).get(\"bands\") ).get(0) ).get(\"dimensions\") ).get(1);\n",
    "  \n",
    "    print(\"width\", width.getInfo() )\n",
    "    print(\"height\", height.getInfo() )\n",
    "  \n",
    "    return  ee.Number( width ).multiply( ee.Number( height ) ).getInfo()\n"
   ]
  },
  {
   "cell_type": "code",
   "execution_count": 272,
   "id": "dependent-calvin",
   "metadata": {},
   "outputs": [],
   "source": [
    "geom = pd.read_csv('a.csv')\n",
    "geom = geom.sort_values('Latitude (decimal degrees)')\n",
    "latlon = [[i,j] for [i,j] in zip(geom['Longitude (decimal degrees)'].values,\n",
    "                              geom['Latitude (decimal degrees)'].values)][:-1]\n",
    "c=0\n",
    "for i in latlon[1:400]:\n",
    "    if (np.isnan(i[0]))|(np.isnan(i[1])):\n",
    "        latlon.pop(c)\n",
    "    c+=1"
   ]
  },
  {
   "cell_type": "code",
   "execution_count": 273,
   "id": "powered-namibia",
   "metadata": {},
   "outputs": [],
   "source": [
    "pts = ee.Geometry.MultiPoint(latlon)"
   ]
  },
  {
   "cell_type": "code",
   "execution_count": 274,
   "id": "peaceful-rotation",
   "metadata": {},
   "outputs": [],
   "source": [
    "basins = basins.filterBounds(pts)"
   ]
  },
  {
   "cell_type": "code",
   "execution_count": 275,
   "id": "hungry-prague",
   "metadata": {},
   "outputs": [],
   "source": [
    "#basins = ee.FeatureCollection(basins)\n",
    "#basins = basins.merge(basins2)\n",
    "import matplotlib.pyplot as plt"
   ]
  },
  {
   "cell_type": "code",
   "execution_count": 276,
   "id": "conventional-purchase",
   "metadata": {},
   "outputs": [],
   "source": [
    "a1  = basins.getInfo()"
   ]
  },
  {
   "cell_type": "code",
   "execution_count": 277,
   "id": "young-ordering",
   "metadata": {},
   "outputs": [],
   "source": [
    "b=a1"
   ]
  },
  {
   "cell_type": "code",
   "execution_count": 278,
   "id": "automated-capital",
   "metadata": {},
   "outputs": [
    {
     "name": "stderr",
     "output_type": "stream",
     "text": [
      "<ipython-input-278-198b47bfee93>:4: VisibleDeprecationWarning: Creating an ndarray from ragged nested sequences (which is a list-or-tuple of lists-or-tuples-or ndarrays with different lengths or shapes) is deprecated. If you meant to do this, you must specify 'dtype=object' when creating the ndarray.\n",
      "  ax.plot(np.array(b['features'][i]['geometry']['coordinates']).squeeze()[:,0],np.array(b['features'][i]['geometry']['coordinates']).squeeze()[:,1])\n",
      "<ipython-input-278-198b47bfee93>:4: VisibleDeprecationWarning: Creating an ndarray from ragged nested sequences (which is a list-or-tuple of lists-or-tuples-or ndarrays with different lengths or shapes) is deprecated. If you meant to do this, you must specify 'dtype=object' when creating the ndarray.\n",
      "  ax.plot(np.array(b['features'][i]['geometry']['coordinates']).squeeze()[:,0],np.array(b['features'][i]['geometry']['coordinates']).squeeze()[:,1])\n",
      "<ipython-input-278-198b47bfee93>:4: VisibleDeprecationWarning: Creating an ndarray from ragged nested sequences (which is a list-or-tuple of lists-or-tuples-or ndarrays with different lengths or shapes) is deprecated. If you meant to do this, you must specify 'dtype=object' when creating the ndarray.\n",
      "  ax.plot(np.array(b['features'][i]['geometry']['coordinates']).squeeze()[:,0],np.array(b['features'][i]['geometry']['coordinates']).squeeze()[:,1])\n",
      "<ipython-input-278-198b47bfee93>:4: VisibleDeprecationWarning: Creating an ndarray from ragged nested sequences (which is a list-or-tuple of lists-or-tuples-or ndarrays with different lengths or shapes) is deprecated. If you meant to do this, you must specify 'dtype=object' when creating the ndarray.\n",
      "  ax.plot(np.array(b['features'][i]['geometry']['coordinates']).squeeze()[:,0],np.array(b['features'][i]['geometry']['coordinates']).squeeze()[:,1])\n",
      "<ipython-input-278-198b47bfee93>:4: VisibleDeprecationWarning: Creating an ndarray from ragged nested sequences (which is a list-or-tuple of lists-or-tuples-or ndarrays with different lengths or shapes) is deprecated. If you meant to do this, you must specify 'dtype=object' when creating the ndarray.\n",
      "  ax.plot(np.array(b['features'][i]['geometry']['coordinates']).squeeze()[:,0],np.array(b['features'][i]['geometry']['coordinates']).squeeze()[:,1])\n",
      "<ipython-input-278-198b47bfee93>:4: VisibleDeprecationWarning: Creating an ndarray from ragged nested sequences (which is a list-or-tuple of lists-or-tuples-or ndarrays with different lengths or shapes) is deprecated. If you meant to do this, you must specify 'dtype=object' when creating the ndarray.\n",
      "  ax.plot(np.array(b['features'][i]['geometry']['coordinates']).squeeze()[:,0],np.array(b['features'][i]['geometry']['coordinates']).squeeze()[:,1])\n",
      "<ipython-input-278-198b47bfee93>:4: VisibleDeprecationWarning: Creating an ndarray from ragged nested sequences (which is a list-or-tuple of lists-or-tuples-or ndarrays with different lengths or shapes) is deprecated. If you meant to do this, you must specify 'dtype=object' when creating the ndarray.\n",
      "  ax.plot(np.array(b['features'][i]['geometry']['coordinates']).squeeze()[:,0],np.array(b['features'][i]['geometry']['coordinates']).squeeze()[:,1])\n",
      "<ipython-input-278-198b47bfee93>:4: VisibleDeprecationWarning: Creating an ndarray from ragged nested sequences (which is a list-or-tuple of lists-or-tuples-or ndarrays with different lengths or shapes) is deprecated. If you meant to do this, you must specify 'dtype=object' when creating the ndarray.\n",
      "  ax.plot(np.array(b['features'][i]['geometry']['coordinates']).squeeze()[:,0],np.array(b['features'][i]['geometry']['coordinates']).squeeze()[:,1])\n",
      "<ipython-input-278-198b47bfee93>:4: VisibleDeprecationWarning: Creating an ndarray from ragged nested sequences (which is a list-or-tuple of lists-or-tuples-or ndarrays with different lengths or shapes) is deprecated. If you meant to do this, you must specify 'dtype=object' when creating the ndarray.\n",
      "  ax.plot(np.array(b['features'][i]['geometry']['coordinates']).squeeze()[:,0],np.array(b['features'][i]['geometry']['coordinates']).squeeze()[:,1])\n",
      "<ipython-input-278-198b47bfee93>:4: VisibleDeprecationWarning: Creating an ndarray from ragged nested sequences (which is a list-or-tuple of lists-or-tuples-or ndarrays with different lengths or shapes) is deprecated. If you meant to do this, you must specify 'dtype=object' when creating the ndarray.\n",
      "  ax.plot(np.array(b['features'][i]['geometry']['coordinates']).squeeze()[:,0],np.array(b['features'][i]['geometry']['coordinates']).squeeze()[:,1])\n"
     ]
    },
    {
     "name": "stdout",
     "output_type": "stream",
     "text": [
      "here\n",
      "here\n",
      "here\n",
      "here\n",
      "here\n",
      "here\n",
      "here\n",
      "here\n",
      "here\n",
      "here\n",
      "here\n",
      "here\n",
      "here\n"
     ]
    },
    {
     "data": {
      "image/png": "[encoded data removed]",
      "text/plain": [
       "<Figure size 720x720 with 1 Axes>"
      ]
     },
     "metadata": {
      "needs_background": "light"
     },
     "output_type": "display_data"
    }
   ],
   "source": [
    "fig,ax = plt.subplots(figsize=(10,10))\n",
    "for i in range(len(b['features'])):\n",
    "    try:\n",
    "        ax.plot(np.array(b['features'][i]['geometry']['coordinates']).squeeze()[:,0],np.array(b['features'][i]['geometry']['coordinates']).squeeze()[:,1])\n",
    "    except:\n",
    "        print('here')"
   ]
  },
  {
   "cell_type": "code",
   "execution_count": 84,
   "id": "excellent-ethernet",
   "metadata": {},
   "outputs": [],
   "source": [
    "def queryeach(b):\n",
    "    feat = ee.Feature(b)\n",
    "    print(feat.getInfo())"
   ]
  },
  {
   "cell_type": "code",
   "execution_count": 85,
   "id": "understood-finger",
   "metadata": {},
   "outputs": [],
   "source": [
    "myImage = image.clip(ee.FeatureCollection(basins.first().geometry()))"
   ]
  },
  {
   "cell_type": "code",
   "execution_count": 86,
   "id": "meaningful-store",
   "metadata": {},
   "outputs": [
    {
     "name": "stdout",
     "output_type": "stream",
     "text": [
      "width 139200\n",
      "height 390000\n"
     ]
    },
    {
     "data": {
      "text/plain": [
       "54288000000"
      ]
     },
     "execution_count": 86,
     "metadata": {},
     "output_type": "execute_result"
    }
   ],
   "source": [
    "#numberOfPixels(myImage)"
   ]
  },
  {
   "cell_type": "code",
   "execution_count": 104,
   "id": "extreme-beauty",
   "metadata": {},
   "outputs": [],
   "source": [
    "drainageDirectionVis = {\n",
    "  'min': 0.0,\n",
    "  'max': 2000,\n",
    "  }"
   ]
  },
  {
   "cell_type": "code",
   "execution_count": 279,
   "id": "eligible-wales",
   "metadata": {},
   "outputs": [],
   "source": [
    "#def meanDictionary(geom):\n",
    "    #def featurescount(feature):\n",
    "        #return feature\n",
    "a = image.reduceRegions(basins,ee.Reducer.mean());\n",
    "    #return a.filter(ee.Filter.notNull(['mean'])).map(featurescount)\n",
    "#b = basins.map(meanDictionary)"
   ]
  },
  {
   "cell_type": "code",
   "execution_count": 174,
   "id": "insured-imperial",
   "metadata": {},
   "outputs": [
    {
     "data": {
      "text/plain": [
       "False"
      ]
     },
     "execution_count": 174,
     "metadata": {},
     "output_type": "execute_result"
    }
   ],
   "source": [
    "mytask.active()"
   ]
  },
  {
   "cell_type": "code",
   "execution_count": 280,
   "id": "blocked-wales",
   "metadata": {},
   "outputs": [],
   "source": [
    "mytask = ee.batch.Export.table.toDrive(collection=a, folder='data_earth_engine', description='basins_pts', fileFormat='CSV')\n",
    "\n",
    "mytask.start()"
   ]
  },
  {
   "cell_type": "code",
   "execution_count": 287,
   "id": "mechanical-century",
   "metadata": {},
   "outputs": [
    {
     "data": {
      "text/plain": [
       "False"
      ]
     },
     "execution_count": 287,
     "metadata": {},
     "output_type": "execute_result"
    }
   ],
   "source": [
    "mytask.active()"
   ]
  },
  {
   "cell_type": "code",
   "execution_count": 168,
   "id": "centered-waste",
   "metadata": {},
   "outputs": [
    {
     "ename": "ImportError",
     "evalue": "cannot import name 'Export' from 'ee' (/Users/gr_1/opt/miniconda3/envs/ee/lib/python3.9/site-packages/ee/__init__.py)",
     "output_type": "error",
     "traceback": [
      "\u001b[0;31m---------------------------------------------------------------------------\u001b[0m",
      "\u001b[0;31mImportError\u001b[0m                               Traceback (most recent call last)",
      "\u001b[0;32m<ipython-input-168-fba581fd4d70>\u001b[0m in \u001b[0;36m<module>\u001b[0;34m\u001b[0m\n\u001b[0;32m----> 1\u001b[0;31m \u001b[0;32mfrom\u001b[0m \u001b[0mee\u001b[0m \u001b[0;32mimport\u001b[0m \u001b[0mExport\u001b[0m\u001b[0;34m\u001b[0m\u001b[0;34m\u001b[0m\u001b[0m\n\u001b[0m",
      "\u001b[0;31mImportError\u001b[0m: cannot import name 'Export' from 'ee' (/Users/gr_1/opt/miniconda3/envs/ee/lib/python3.9/site-packages/ee/__init__.py)"
     ]
    }
   ],
   "source": [
    "from ee import Export"
   ]
  },
  {
   "cell_type": "code",
   "execution_count": null,
   "id": "wired-easter",
   "metadata": {},
   "outputs": [],
   "source": [
    "def meanDictionary(geom):\n",
    "    return image.clip(geom.geometry())\n",
    "mns = basins.map(meanDictionary)"
   ]
  },
  {
   "cell_type": "code",
   "execution_count": 97,
   "id": "collectible-string",
   "metadata": {},
   "outputs": [
    {
     "ename": "AttributeError",
     "evalue": "'Element' object has no attribute 'reduceRegion'",
     "output_type": "error",
     "traceback": [
      "\u001b[0;31m---------------------------------------------------------------------------\u001b[0m",
      "\u001b[0;31mAttributeError\u001b[0m                            Traceback (most recent call last)",
      "\u001b[0;32m<ipython-input-97-32f55f932c18>\u001b[0m in \u001b[0;36m<module>\u001b[0;34m\u001b[0m\n\u001b[0;32m----> 1\u001b[0;31m \u001b[0mmns\u001b[0m\u001b[0;34m.\u001b[0m\u001b[0mfirst\u001b[0m\u001b[0;34m(\u001b[0m\u001b[0;34m)\u001b[0m\u001b[0;34m.\u001b[0m\u001b[0mreduceRegion\u001b[0m\u001b[0;34m(\u001b[0m\u001b[0mee\u001b[0m\u001b[0;34m.\u001b[0m\u001b[0mReducer\u001b[0m\u001b[0;34m.\u001b[0m\u001b[0mmean\u001b[0m\u001b[0;34m(\u001b[0m\u001b[0;34m)\u001b[0m\u001b[0;34m,\u001b[0m\u001b[0mgeom\u001b[0m\u001b[0;34m.\u001b[0m\u001b[0mgeometry\u001b[0m\u001b[0;34m(\u001b[0m\u001b[0;34m)\u001b[0m\u001b[0;34m)\u001b[0m\u001b[0;34m\u001b[0m\u001b[0;34m\u001b[0m\u001b[0m\n\u001b[0m",
      "\u001b[0;31mAttributeError\u001b[0m: 'Element' object has no attribute 'reduceRegion'"
     ]
    }
   ],
   "source": []
  },
  {
   "cell_type": "code",
   "execution_count": null,
   "id": "mounted-sellers",
   "metadata": {},
   "outputs": [],
   "source": [
    "basins.getInfo()"
   ]
  },
  {
   "cell_type": "code",
   "execution_count": 283,
   "id": "alpine-seven",
   "metadata": {},
   "outputs": [],
   "source": [
    "import matplotlib.pyplot as plt"
   ]
  },
  {
   "cell_type": "code",
   "execution_count": 284,
   "id": "advance-karma",
   "metadata": {},
   "outputs": [],
   "source": [
    "a = np.array(a)"
   ]
  },
  {
   "cell_type": "markdown",
   "id": "awful-siemens",
   "metadata": {},
   "source": [
    "## Begin basin analysis"
   ]
  },
  {
   "cell_type": "code",
   "execution_count": 550,
   "id": "relative-still",
   "metadata": {},
   "outputs": [],
   "source": [
    "basins_2 = pd.read_pickle('BASINS_ALL')"
   ]
  },
  {
   "cell_type": "code",
   "execution_count": 551,
   "id": "convertible-simon",
   "metadata": {},
   "outputs": [
    {
     "name": "stdout",
     "output_type": "stream",
     "text": [
      "0.0\n",
      "0.001967767960802062\n",
      "0.003935535921604124\n",
      "0.005903303882406187\n"
     ]
    },
    {
     "ename": "KeyboardInterrupt",
     "evalue": "",
     "output_type": "error",
     "traceback": [
      "\u001b[0;31m---------------------------------------------------------------------------\u001b[0m",
      "\u001b[0;31mKeyboardInterrupt\u001b[0m                         Traceback (most recent call last)",
      "\u001b[0;32m<ipython-input-551-07536050aed3>\u001b[0m in \u001b[0;36m<module>\u001b[0;34m\u001b[0m\n\u001b[1;32m     14\u001b[0m     \u001b[0;32mreturn\u001b[0m \u001b[0midx\u001b[0m\u001b[0;34m\u001b[0m\u001b[0;34m\u001b[0m\u001b[0m\n\u001b[1;32m     15\u001b[0m \u001b[0;32mfor\u001b[0m \u001b[0mi\u001b[0m \u001b[0;32min\u001b[0m \u001b[0mrange\u001b[0m\u001b[0;34m(\u001b[0m\u001b[0mlen\u001b[0m\u001b[0;34m(\u001b[0m\u001b[0mids\u001b[0m\u001b[0;34m)\u001b[0m\u001b[0;34m)\u001b[0m\u001b[0;34m:\u001b[0m\u001b[0;34m\u001b[0m\u001b[0;34m\u001b[0m\u001b[0m\n\u001b[0;32m---> 16\u001b[0;31m     \u001b[0mup_basins\u001b[0m\u001b[0;34m.\u001b[0m\u001b[0mappend\u001b[0m\u001b[0;34m(\u001b[0m\u001b[0mrecurbas\u001b[0m\u001b[0;34m(\u001b[0m\u001b[0mids\u001b[0m\u001b[0;34m[\u001b[0m\u001b[0mi\u001b[0m\u001b[0;34m]\u001b[0m\u001b[0;34m,\u001b[0m\u001b[0mc\u001b[0m\u001b[0;34m)\u001b[0m\u001b[0;34m)\u001b[0m\u001b[0;34m\u001b[0m\u001b[0;34m\u001b[0m\u001b[0m\n\u001b[0m\u001b[1;32m     17\u001b[0m     \u001b[0mc\u001b[0m\u001b[0;34m=\u001b[0m\u001b[0;36m0\u001b[0m\u001b[0;34m\u001b[0m\u001b[0;34m\u001b[0m\u001b[0m\n\u001b[1;32m     18\u001b[0m     \u001b[0;32mif\u001b[0m \u001b[0mnp\u001b[0m\u001b[0;34m.\u001b[0m\u001b[0mmod\u001b[0m\u001b[0;34m(\u001b[0m\u001b[0mi\u001b[0m\u001b[0;34m,\u001b[0m\u001b[0;36m1000\u001b[0m\u001b[0;34m)\u001b[0m \u001b[0;34m==\u001b[0m \u001b[0;36m0\u001b[0m\u001b[0;34m:\u001b[0m\u001b[0;34m\u001b[0m\u001b[0;34m\u001b[0m\u001b[0m\n",
      "\u001b[0;32m<ipython-input-551-07536050aed3>\u001b[0m in \u001b[0;36mrecurbas\u001b[0;34m(l, c)\u001b[0m\n\u001b[1;32m     10\u001b[0m             \u001b[0;32mif\u001b[0m \u001b[0mc\u001b[0m\u001b[0;34m>\u001b[0m\u001b[0;36m10000\u001b[0m\u001b[0;34m:\u001b[0m\u001b[0;34m\u001b[0m\u001b[0;34m\u001b[0m\u001b[0m\n\u001b[1;32m     11\u001b[0m                 \u001b[0mprint\u001b[0m\u001b[0;34m(\u001b[0m\u001b[0mj\u001b[0m\u001b[0;34m,\u001b[0m\u001b[0ml\u001b[0m\u001b[0;34m)\u001b[0m\u001b[0;34m\u001b[0m\u001b[0;34m\u001b[0m\u001b[0m\n\u001b[0;32m---> 12\u001b[0;31m             \u001b[0midx\u001b[0m \u001b[0;34m=\u001b[0m \u001b[0mnp\u001b[0m\u001b[0;34m.\u001b[0m\u001b[0mappend\u001b[0m\u001b[0;34m(\u001b[0m\u001b[0midx\u001b[0m\u001b[0;34m,\u001b[0m\u001b[0mrecurbas\u001b[0m\u001b[0;34m(\u001b[0m\u001b[0mj\u001b[0m\u001b[0;34m,\u001b[0m\u001b[0mc\u001b[0m\u001b[0;34m)\u001b[0m\u001b[0;34m)\u001b[0m\u001b[0;34m\u001b[0m\u001b[0;34m\u001b[0m\u001b[0m\n\u001b[0m\u001b[1;32m     13\u001b[0m \u001b[0;34m\u001b[0m\u001b[0m\n\u001b[1;32m     14\u001b[0m     \u001b[0;32mreturn\u001b[0m \u001b[0midx\u001b[0m\u001b[0;34m\u001b[0m\u001b[0;34m\u001b[0m\u001b[0m\n",
      "\u001b[0;32m<ipython-input-551-07536050aed3>\u001b[0m in \u001b[0;36mrecurbas\u001b[0;34m(l, c)\u001b[0m\n\u001b[1;32m     10\u001b[0m             \u001b[0;32mif\u001b[0m \u001b[0mc\u001b[0m\u001b[0;34m>\u001b[0m\u001b[0;36m10000\u001b[0m\u001b[0;34m:\u001b[0m\u001b[0;34m\u001b[0m\u001b[0;34m\u001b[0m\u001b[0m\n\u001b[1;32m     11\u001b[0m                 \u001b[0mprint\u001b[0m\u001b[0;34m(\u001b[0m\u001b[0mj\u001b[0m\u001b[0;34m,\u001b[0m\u001b[0ml\u001b[0m\u001b[0;34m)\u001b[0m\u001b[0;34m\u001b[0m\u001b[0;34m\u001b[0m\u001b[0m\n\u001b[0;32m---> 12\u001b[0;31m             \u001b[0midx\u001b[0m \u001b[0;34m=\u001b[0m \u001b[0mnp\u001b[0m\u001b[0;34m.\u001b[0m\u001b[0mappend\u001b[0m\u001b[0;34m(\u001b[0m\u001b[0midx\u001b[0m\u001b[0;34m,\u001b[0m\u001b[0mrecurbas\u001b[0m\u001b[0;34m(\u001b[0m\u001b[0mj\u001b[0m\u001b[0;34m,\u001b[0m\u001b[0mc\u001b[0m\u001b[0;34m)\u001b[0m\u001b[0;34m)\u001b[0m\u001b[0;34m\u001b[0m\u001b[0;34m\u001b[0m\u001b[0m\n\u001b[0m\u001b[1;32m     13\u001b[0m \u001b[0;34m\u001b[0m\u001b[0m\n\u001b[1;32m     14\u001b[0m     \u001b[0;32mreturn\u001b[0m \u001b[0midx\u001b[0m\u001b[0;34m\u001b[0m\u001b[0;34m\u001b[0m\u001b[0m\n",
      "\u001b[0;32m<ipython-input-551-07536050aed3>\u001b[0m in \u001b[0;36mrecurbas\u001b[0;34m(l, c)\u001b[0m\n\u001b[1;32m     10\u001b[0m             \u001b[0;32mif\u001b[0m \u001b[0mc\u001b[0m\u001b[0;34m>\u001b[0m\u001b[0;36m10000\u001b[0m\u001b[0;34m:\u001b[0m\u001b[0;34m\u001b[0m\u001b[0;34m\u001b[0m\u001b[0m\n\u001b[1;32m     11\u001b[0m                 \u001b[0mprint\u001b[0m\u001b[0;34m(\u001b[0m\u001b[0mj\u001b[0m\u001b[0;34m,\u001b[0m\u001b[0ml\u001b[0m\u001b[0;34m)\u001b[0m\u001b[0;34m\u001b[0m\u001b[0;34m\u001b[0m\u001b[0m\n\u001b[0;32m---> 12\u001b[0;31m             \u001b[0midx\u001b[0m \u001b[0;34m=\u001b[0m \u001b[0mnp\u001b[0m\u001b[0;34m.\u001b[0m\u001b[0mappend\u001b[0m\u001b[0;34m(\u001b[0m\u001b[0midx\u001b[0m\u001b[0;34m,\u001b[0m\u001b[0mrecurbas\u001b[0m\u001b[0;34m(\u001b[0m\u001b[0mj\u001b[0m\u001b[0;34m,\u001b[0m\u001b[0mc\u001b[0m\u001b[0;34m)\u001b[0m\u001b[0;34m)\u001b[0m\u001b[0;34m\u001b[0m\u001b[0;34m\u001b[0m\u001b[0m\n\u001b[0m\u001b[1;32m     13\u001b[0m \u001b[0;34m\u001b[0m\u001b[0m\n\u001b[1;32m     14\u001b[0m     \u001b[0;32mreturn\u001b[0m \u001b[0midx\u001b[0m\u001b[0;34m\u001b[0m\u001b[0;34m\u001b[0m\u001b[0m\n",
      "\u001b[0;32m<ipython-input-551-07536050aed3>\u001b[0m in \u001b[0;36mrecurbas\u001b[0;34m(l, c)\u001b[0m\n\u001b[1;32m     10\u001b[0m             \u001b[0;32mif\u001b[0m \u001b[0mc\u001b[0m\u001b[0;34m>\u001b[0m\u001b[0;36m10000\u001b[0m\u001b[0;34m:\u001b[0m\u001b[0;34m\u001b[0m\u001b[0;34m\u001b[0m\u001b[0m\n\u001b[1;32m     11\u001b[0m                 \u001b[0mprint\u001b[0m\u001b[0;34m(\u001b[0m\u001b[0mj\u001b[0m\u001b[0;34m,\u001b[0m\u001b[0ml\u001b[0m\u001b[0;34m)\u001b[0m\u001b[0;34m\u001b[0m\u001b[0;34m\u001b[0m\u001b[0m\n\u001b[0;32m---> 12\u001b[0;31m             \u001b[0midx\u001b[0m \u001b[0;34m=\u001b[0m \u001b[0mnp\u001b[0m\u001b[0;34m.\u001b[0m\u001b[0mappend\u001b[0m\u001b[0;34m(\u001b[0m\u001b[0midx\u001b[0m\u001b[0;34m,\u001b[0m\u001b[0mrecurbas\u001b[0m\u001b[0;34m(\u001b[0m\u001b[0mj\u001b[0m\u001b[0;34m,\u001b[0m\u001b[0mc\u001b[0m\u001b[0;34m)\u001b[0m\u001b[0;34m)\u001b[0m\u001b[0;34m\u001b[0m\u001b[0;34m\u001b[0m\u001b[0m\n\u001b[0m\u001b[1;32m     13\u001b[0m \u001b[0;34m\u001b[0m\u001b[0m\n\u001b[1;32m     14\u001b[0m     \u001b[0;32mreturn\u001b[0m \u001b[0midx\u001b[0m\u001b[0;34m\u001b[0m\u001b[0;34m\u001b[0m\u001b[0m\n",
      "\u001b[0;32m<ipython-input-551-07536050aed3>\u001b[0m in \u001b[0;36mrecurbas\u001b[0;34m(l, c)\u001b[0m\n\u001b[1;32m     10\u001b[0m             \u001b[0;32mif\u001b[0m \u001b[0mc\u001b[0m\u001b[0;34m>\u001b[0m\u001b[0;36m10000\u001b[0m\u001b[0;34m:\u001b[0m\u001b[0;34m\u001b[0m\u001b[0;34m\u001b[0m\u001b[0m\n\u001b[1;32m     11\u001b[0m                 \u001b[0mprint\u001b[0m\u001b[0;34m(\u001b[0m\u001b[0mj\u001b[0m\u001b[0;34m,\u001b[0m\u001b[0ml\u001b[0m\u001b[0;34m)\u001b[0m\u001b[0;34m\u001b[0m\u001b[0;34m\u001b[0m\u001b[0m\n\u001b[0;32m---> 12\u001b[0;31m             \u001b[0midx\u001b[0m \u001b[0;34m=\u001b[0m \u001b[0mnp\u001b[0m\u001b[0;34m.\u001b[0m\u001b[0mappend\u001b[0m\u001b[0;34m(\u001b[0m\u001b[0midx\u001b[0m\u001b[0;34m,\u001b[0m\u001b[0mrecurbas\u001b[0m\u001b[0;34m(\u001b[0m\u001b[0mj\u001b[0m\u001b[0;34m,\u001b[0m\u001b[0mc\u001b[0m\u001b[0;34m)\u001b[0m\u001b[0;34m)\u001b[0m\u001b[0;34m\u001b[0m\u001b[0;34m\u001b[0m\u001b[0m\n\u001b[0m\u001b[1;32m     13\u001b[0m \u001b[0;34m\u001b[0m\u001b[0m\n\u001b[1;32m     14\u001b[0m     \u001b[0;32mreturn\u001b[0m \u001b[0midx\u001b[0m\u001b[0;34m\u001b[0m\u001b[0;34m\u001b[0m\u001b[0m\n",
      "\u001b[0;32m<ipython-input-551-07536050aed3>\u001b[0m in \u001b[0;36mrecurbas\u001b[0;34m(l, c)\u001b[0m\n\u001b[1;32m      5\u001b[0m \u001b[0;32mdef\u001b[0m \u001b[0mrecurbas\u001b[0m\u001b[0;34m(\u001b[0m\u001b[0ml\u001b[0m\u001b[0;34m,\u001b[0m\u001b[0mc\u001b[0m\u001b[0;34m)\u001b[0m\u001b[0;34m:\u001b[0m\u001b[0;34m\u001b[0m\u001b[0;34m\u001b[0m\u001b[0m\n\u001b[1;32m      6\u001b[0m     \u001b[0mc\u001b[0m\u001b[0;34m+=\u001b[0m\u001b[0;36m1\u001b[0m\u001b[0;34m\u001b[0m\u001b[0;34m\u001b[0m\u001b[0m\n\u001b[0;32m----> 7\u001b[0;31m     \u001b[0midx\u001b[0m \u001b[0;34m=\u001b[0m \u001b[0mids\u001b[0m\u001b[0;34m[\u001b[0m\u001b[0mdown_ids\u001b[0m\u001b[0;34m==\u001b[0m\u001b[0ml\u001b[0m\u001b[0;34m]\u001b[0m\u001b[0;34m\u001b[0m\u001b[0;34m\u001b[0m\u001b[0m\n\u001b[0m\u001b[1;32m      8\u001b[0m     \u001b[0;32mfor\u001b[0m \u001b[0mj\u001b[0m \u001b[0;32min\u001b[0m \u001b[0midx\u001b[0m\u001b[0;34m:\u001b[0m\u001b[0;34m\u001b[0m\u001b[0;34m\u001b[0m\u001b[0m\n\u001b[1;32m      9\u001b[0m         \u001b[0;32mif\u001b[0m \u001b[0mj\u001b[0m \u001b[0;34m!=\u001b[0m \u001b[0ml\u001b[0m\u001b[0;34m:\u001b[0m\u001b[0;34m\u001b[0m\u001b[0;34m\u001b[0m\u001b[0m\n",
      "\u001b[0;31mKeyboardInterrupt\u001b[0m: "
     ]
    }
   ],
   "source": [
    "if 0: # we did it once so we can load it now\n",
    "    up_basins = []\n",
    "    ids = basins_2['HYBAS_ID'].values\n",
    "    down_ids = basins_2['NEXT_DOWN'].values\n",
    "    c=0\n",
    "    def recurbas(l,c):\n",
    "        c+=1\n",
    "        idx = ids[down_ids==l]\n",
    "        for j in idx:\n",
    "            if j != l:\n",
    "                if c>10000:\n",
    "                    print(j,l)\n",
    "                idx = np.append(idx,recurbas(j,c))\n",
    "\n",
    "        return idx\n",
    "    for i in range(len(ids)):\n",
    "        up_basins.append(recurbas(ids[i],c))\n",
    "        c=0\n",
    "        if np.mod(i,1000) == 0:\n",
    "            print(i/len(ids))"
   ]
  },
  {
   "cell_type": "code",
   "execution_count": 552,
   "id": "multiple-animal",
   "metadata": {},
   "outputs": [],
   "source": [
    "pt_basins = pd.read_csv('basins_pts.csv')"
   ]
  },
  {
   "cell_type": "code",
   "execution_count": 553,
   "id": "ahead-daughter",
   "metadata": {},
   "outputs": [],
   "source": [
    "a = pd.read_csv('a.csv')\n",
    "basins_gpd = gpd.GeoDataFrame(pt_basins,geometry = ptgeo)"
   ]
  },
  {
   "cell_type": "code",
   "execution_count": 554,
   "id": "prompt-mexican",
   "metadata": {},
   "outputs": [],
   "source": [
    "pts = []\n",
    "for x,y in zip(a[\"Longitude (decimal degrees)\"],a['Latitude (decimal degrees)']):\n",
    "    pts.append(Point(x,y))"
   ]
  },
  {
   "cell_type": "code",
   "execution_count": 555,
   "id": "metric-singles",
   "metadata": {},
   "outputs": [],
   "source": [
    "pt_gpd = gpd.GeoDataFrame(a)\n",
    "a['geometry'] = pts"
   ]
  },
  {
   "cell_type": "code",
   "execution_count": null,
   "id": "judicial-penguin",
   "metadata": {},
   "outputs": [],
   "source": [
    "ptgeo = []\n",
    "for i, geo in enumerate(pt_basins['.geo']):\n",
    "    geo2 = ast.literal_eval(geo)\n",
    "    print(i)\n",
    "    try:\n",
    "        ptgeo.append(Polygon(geo2['coordinates'][0]))\n",
    "    except:\n",
    "        ptgeo.append(MultiPolygon(geo2['coordinates'][0],geo2['coordinates'][1]))\n"
   ]
  },
  {
   "cell_type": "code",
   "execution_count": 557,
   "id": "short-plate",
   "metadata": {},
   "outputs": [
    {
     "data": {
      "text/plain": [
       "array([7090548200])"
      ]
     },
     "execution_count": 557,
     "metadata": {},
     "output_type": "execute_result"
    }
   ],
   "source": [
    "basin['HYBAS_ID'].values"
   ]
  },
  {
   "cell_type": "code",
   "execution_count": 560,
   "id": "posted-taylor",
   "metadata": {},
   "outputs": [],
   "source": [
    "basins_2 = basins_2.set_index('HYBAS_ID')"
   ]
  },
  {
   "cell_type": "code",
   "execution_count": 577,
   "id": "million-composer",
   "metadata": {},
   "outputs": [],
   "source": [
    "c=1\n",
    "for i,pt in pt_gpd.iterrows():\n",
    "    basin = basins_gpd[basins_gpd.contains(pt.geometry)]\n",
    "    if len(basin) >0:\n",
    "        pt_gpd.loc[i,'Basin_id'] = basin['HYBAS_ID'].values\n",
    "        upstream_basins = basins_2[\"NEXT_UP\"][basin['HYBAS_ID']].values[0]\n",
    "        if len(upstream_basins) > 0:\n",
    "            basum = basins_2['mean'][upstream_basins].values\n",
    "            areas = basins_2['SUB_AREA'][upstream_basins].values\n",
    "            pt_gpd.loc[i,'mean_topo'] = (basin['mean'].values*basin['SUB_AREA'].values +\n",
    "                                         np.sum(np.multiply(basum[basum>0],areas[basum>0])))/(np.sum(areas[basum>0])+\n",
    "                                                                                              basin['SUB_AREA'].values)[0]\n",
    "    else:\n",
    "        c+=1"
   ]
  },
  {
   "cell_type": "code",
   "execution_count": 574,
   "id": "controlled-delay",
   "metadata": {},
   "outputs": [
    {
     "data": {
      "text/plain": [
       "array([], dtype=float64)"
      ]
     },
     "execution_count": 574,
     "metadata": {},
     "output_type": "execute_result"
    }
   ],
   "source": [
    "(basin['mean'].values*basin['SUB_AREA'].values +\n",
    "                                         np.sum(np.multiply(basum[basum>0],areas[basum>0])))/(np.sum(areas[basum>0])+\n",
    "                                                                                              basin['SUB_AREA'].values)"
   ]
  },
  {
   "cell_type": "code",
   "execution_count": 578,
   "id": "rough-sleep",
   "metadata": {},
   "outputs": [
    {
     "data": {
      "text/plain": [
       "38      1338.741081\n",
       "39      1338.741081\n",
       "40      1061.507329\n",
       "41      1309.354593\n",
       "42      1338.741081\n",
       "           ...     \n",
       "1374     376.081101\n",
       "1375     376.081101\n",
       "1376     376.081101\n",
       "1377     376.081101\n",
       "1378     376.081101\n",
       "Name: mean_topo, Length: 539, dtype: float64"
      ]
     },
     "execution_count": 578,
     "metadata": {},
     "output_type": "execute_result"
    }
   ],
   "source": [
    "pt_gpd['mean_topo'][pt_gpd['mean_topo']>0]"
   ]
  },
  {
   "cell_type": "code",
   "execution_count": 580,
   "id": "compact-qualification",
   "metadata": {},
   "outputs": [
    {
     "data": {
      "text/plain": [
       "[<matplotlib.lines.Line2D at 0x1a194a520>]"
      ]
     },
     "execution_count": 580,
     "metadata": {},
     "output_type": "execute_result"
    },
    {
     "data": {
      "image/png": "[encoded data removed]",
      "text/plain": [
       "<Figure size 432x288 with 1 Axes>"
      ]
     },
     "metadata": {
      "needs_background": "light"
     },
     "output_type": "display_data"
    }
   ],
   "source": [
    "plt.plot(pt_gpd['mean_topo'],pt_gpd['Mean Basin Elevation (m)'],'.')"
   ]
  },
  {
   "cell_type": "code",
   "execution_count": 464,
   "id": "dominican-warrant",
   "metadata": {},
   "outputs": [
    {
     "data": {
      "text/html": [
       "<div>\n",
       "<style scoped>\n",
       "    .dataframe tbody tr th:only-of-type {\n",
       "        vertical-align: middle;\n",
       "    }\n",
       "\n",
       "    .dataframe tbody tr th {\n",
       "        vertical-align: top;\n",
       "    }\n",
       "\n",
       "    .dataframe thead th {\n",
       "        text-align: right;\n",
       "    }\n",
       "</style>\n",
       "<table border=\"1\" class=\"dataframe\">\n",
       "  <thead>\n",
       "    <tr style=\"text-align: right;\">\n",
       "      <th></th>\n",
       "      <th>system:index</th>\n",
       "      <th>COAST</th>\n",
       "      <th>DIST_MAIN</th>\n",
       "      <th>DIST_SINK</th>\n",
       "      <th>ENDO</th>\n",
       "      <th>HYBAS_ID</th>\n",
       "      <th>MAIN_BAS</th>\n",
       "      <th>NEXT_DOWN</th>\n",
       "      <th>NEXT_SINK</th>\n",
       "      <th>ORDER</th>\n",
       "      <th>PFAF_ID</th>\n",
       "      <th>SORT</th>\n",
       "      <th>SUB_AREA</th>\n",
       "      <th>UP_AREA</th>\n",
       "      <th>mean</th>\n",
       "      <th>.geo</th>\n",
       "      <th>NEXT_UP</th>\n",
       "    </tr>\n",
       "  </thead>\n",
       "  <tbody>\n",
       "    <tr>\n",
       "      <th>0</th>\n",
       "      <td>00000000000000000001</td>\n",
       "      <td>0</td>\n",
       "      <td>10.1</td>\n",
       "      <td>10.1</td>\n",
       "      <td>0</td>\n",
       "      <td>2090644710</td>\n",
       "      <td>2090017320</td>\n",
       "      <td>2090017320</td>\n",
       "      <td>2090017320</td>\n",
       "      <td>1</td>\n",
       "      <td>216050430</td>\n",
       "      <td>12628</td>\n",
       "      <td>155.0</td>\n",
       "      <td>2535.7</td>\n",
       "      <td>364.664868</td>\n",
       "      <td>{\"type\":\"Polygon\",\"coordinates\":[[[-0.35416858...</td>\n",
       "      <td>[2090643100, 2090642990, 2090642360, 209064209...</td>\n",
       "    </tr>\n",
       "    <tr>\n",
       "      <th>1</th>\n",
       "      <td>00000000000000000002</td>\n",
       "      <td>0</td>\n",
       "      <td>10.1</td>\n",
       "      <td>10.1</td>\n",
       "      <td>0</td>\n",
       "      <td>2090644510</td>\n",
       "      <td>2090017320</td>\n",
       "      <td>2090017320</td>\n",
       "      <td>2090017320</td>\n",
       "      <td>2</td>\n",
       "      <td>216050421</td>\n",
       "      <td>12629</td>\n",
       "      <td>123.2</td>\n",
       "      <td>1523.2</td>\n",
       "      <td>214.686357</td>\n",
       "      <td>{\"type\":\"Polygon\",\"coordinates\":[[[-0.25478414...</td>\n",
       "      <td>[2090642210, 2090642200, 2090640400, 209064070...</td>\n",
       "    </tr>\n",
       "    <tr>\n",
       "      <th>2</th>\n",
       "      <td>00000000000000000003</td>\n",
       "      <td>0</td>\n",
       "      <td>27.0</td>\n",
       "      <td>27.0</td>\n",
       "      <td>0</td>\n",
       "      <td>2090642210</td>\n",
       "      <td>2090017320</td>\n",
       "      <td>2090644510</td>\n",
       "      <td>2090017320</td>\n",
       "      <td>2</td>\n",
       "      <td>216050423</td>\n",
       "      <td>12630</td>\n",
       "      <td>101.3</td>\n",
       "      <td>1248.6</td>\n",
       "      <td>355.033959</td>\n",
       "      <td>{\"type\":\"Polygon\",\"coordinates\":[[[-0.20833363...</td>\n",
       "      <td>[2090640400, 2090640700, 2090638820, 209063877...</td>\n",
       "    </tr>\n",
       "    <tr>\n",
       "      <th>3</th>\n",
       "      <td>00000000000000000004</td>\n",
       "      <td>0</td>\n",
       "      <td>27.0</td>\n",
       "      <td>27.0</td>\n",
       "      <td>0</td>\n",
       "      <td>2090642200</td>\n",
       "      <td>2090017320</td>\n",
       "      <td>2090644510</td>\n",
       "      <td>2090017320</td>\n",
       "      <td>3</td>\n",
       "      <td>216050422</td>\n",
       "      <td>12631</td>\n",
       "      <td>151.5</td>\n",
       "      <td>151.6</td>\n",
       "      <td>745.204998</td>\n",
       "      <td>{\"type\":\"Polygon\",\"coordinates\":[[[-0.36306891...</td>\n",
       "      <td>[]</td>\n",
       "    </tr>\n",
       "    <tr>\n",
       "      <th>4</th>\n",
       "      <td>00000000000000000005</td>\n",
       "      <td>0</td>\n",
       "      <td>39.7</td>\n",
       "      <td>39.7</td>\n",
       "      <td>0</td>\n",
       "      <td>2090640400</td>\n",
       "      <td>2090017320</td>\n",
       "      <td>2090642210</td>\n",
       "      <td>2090017320</td>\n",
       "      <td>2</td>\n",
       "      <td>216050425</td>\n",
       "      <td>12632</td>\n",
       "      <td>46.5</td>\n",
       "      <td>954.9</td>\n",
       "      <td>365.145831</td>\n",
       "      <td>{\"type\":\"Polygon\",\"coordinates\":[[[-0.12083271...</td>\n",
       "      <td>[2090638820, 2090638770, 2090636040, 2090636050]</td>\n",
       "    </tr>\n",
       "    <tr>\n",
       "      <th>...</th>\n",
       "      <td>...</td>\n",
       "      <td>...</td>\n",
       "      <td>...</td>\n",
       "      <td>...</td>\n",
       "      <td>...</td>\n",
       "      <td>...</td>\n",
       "      <td>...</td>\n",
       "      <td>...</td>\n",
       "      <td>...</td>\n",
       "      <td>...</td>\n",
       "      <td>...</td>\n",
       "      <td>...</td>\n",
       "      <td>...</td>\n",
       "      <td>...</td>\n",
       "      <td>...</td>\n",
       "      <td>...</td>\n",
       "      <td>...</td>\n",
       "    </tr>\n",
       "    <tr>\n",
       "      <th>508185</th>\n",
       "      <td>001000000000000035ee</td>\n",
       "      <td>1</td>\n",
       "      <td>0.0</td>\n",
       "      <td>0.0</td>\n",
       "      <td>0</td>\n",
       "      <td>6090040190</td>\n",
       "      <td>6090040190</td>\n",
       "      <td>0</td>\n",
       "      <td>6090040190</td>\n",
       "      <td>0</td>\n",
       "      <td>673000050</td>\n",
       "      <td>60616</td>\n",
       "      <td>627.8</td>\n",
       "      <td>627.8</td>\n",
       "      <td>178.638380</td>\n",
       "      <td>{\"type\":\"MultiPolygon\",\"coordinates\":[[[[-90.8...</td>\n",
       "      <td>[]</td>\n",
       "    </tr>\n",
       "    <tr>\n",
       "      <th>508186</th>\n",
       "      <td>001000000000000035ef</td>\n",
       "      <td>1</td>\n",
       "      <td>0.0</td>\n",
       "      <td>0.0</td>\n",
       "      <td>0</td>\n",
       "      <td>6090040280</td>\n",
       "      <td>6090040280</td>\n",
       "      <td>0</td>\n",
       "      <td>6090040280</td>\n",
       "      <td>0</td>\n",
       "      <td>673000073</td>\n",
       "      <td>60620</td>\n",
       "      <td>440.8</td>\n",
       "      <td>440.8</td>\n",
       "      <td>73.030976</td>\n",
       "      <td>{\"type\":\"MultiPolygon\",\"coordinates\":[[[[-90.8...</td>\n",
       "      <td>[]</td>\n",
       "    </tr>\n",
       "    <tr>\n",
       "      <th>508187</th>\n",
       "      <td>001000000000000035f0</td>\n",
       "      <td>1</td>\n",
       "      <td>0.0</td>\n",
       "      <td>0.0</td>\n",
       "      <td>0</td>\n",
       "      <td>6090040320</td>\n",
       "      <td>6090040320</td>\n",
       "      <td>0</td>\n",
       "      <td>6090040320</td>\n",
       "      <td>0</td>\n",
       "      <td>673000075</td>\n",
       "      <td>60622</td>\n",
       "      <td>872.6</td>\n",
       "      <td>872.6</td>\n",
       "      <td>310.911204</td>\n",
       "      <td>{\"type\":\"Polygon\",\"coordinates\":[[[-91.5160394...</td>\n",
       "      <td>[]</td>\n",
       "    </tr>\n",
       "    <tr>\n",
       "      <th>508188</th>\n",
       "      <td>001000000000000035f1</td>\n",
       "      <td>1</td>\n",
       "      <td>0.0</td>\n",
       "      <td>0.0</td>\n",
       "      <td>0</td>\n",
       "      <td>6090040380</td>\n",
       "      <td>6090040380</td>\n",
       "      <td>0</td>\n",
       "      <td>6090040380</td>\n",
       "      <td>0</td>\n",
       "      <td>673000077</td>\n",
       "      <td>60624</td>\n",
       "      <td>432.3</td>\n",
       "      <td>432.3</td>\n",
       "      <td>208.277812</td>\n",
       "      <td>{\"type\":\"Polygon\",\"coordinates\":[[[-91.3833321...</td>\n",
       "      <td>[]</td>\n",
       "    </tr>\n",
       "    <tr>\n",
       "      <th>508189</th>\n",
       "      <td>001000000000000035f2</td>\n",
       "      <td>1</td>\n",
       "      <td>0.0</td>\n",
       "      <td>0.0</td>\n",
       "      <td>0</td>\n",
       "      <td>6090040430</td>\n",
       "      <td>6090040430</td>\n",
       "      <td>0</td>\n",
       "      <td>6090040430</td>\n",
       "      <td>0</td>\n",
       "      <td>673000080</td>\n",
       "      <td>60627</td>\n",
       "      <td>678.7</td>\n",
       "      <td>678.7</td>\n",
       "      <td>306.745759</td>\n",
       "      <td>{\"type\":\"Polygon\",\"coordinates\":[[[-91.6630693...</td>\n",
       "      <td>[]</td>\n",
       "    </tr>\n",
       "  </tbody>\n",
       "</table>\n",
       "<p>508190 rows × 17 columns</p>\n",
       "</div>"
      ],
      "text/plain": [
       "                system:index  COAST  DIST_MAIN  DIST_SINK  ENDO    HYBAS_ID  \\\n",
       "0       00000000000000000001      0       10.1       10.1     0  2090644710   \n",
       "1       00000000000000000002      0       10.1       10.1     0  2090644510   \n",
       "2       00000000000000000003      0       27.0       27.0     0  2090642210   \n",
       "3       00000000000000000004      0       27.0       27.0     0  2090642200   \n",
       "4       00000000000000000005      0       39.7       39.7     0  2090640400   \n",
       "...                      ...    ...        ...        ...   ...         ...   \n",
       "508185  001000000000000035ee      1        0.0        0.0     0  6090040190   \n",
       "508186  001000000000000035ef      1        0.0        0.0     0  6090040280   \n",
       "508187  001000000000000035f0      1        0.0        0.0     0  6090040320   \n",
       "508188  001000000000000035f1      1        0.0        0.0     0  6090040380   \n",
       "508189  001000000000000035f2      1        0.0        0.0     0  6090040430   \n",
       "\n",
       "          MAIN_BAS   NEXT_DOWN   NEXT_SINK  ORDER    PFAF_ID   SORT  SUB_AREA  \\\n",
       "0       2090017320  2090017320  2090017320      1  216050430  12628     155.0   \n",
       "1       2090017320  2090017320  2090017320      2  216050421  12629     123.2   \n",
       "2       2090017320  2090644510  2090017320      2  216050423  12630     101.3   \n",
       "3       2090017320  2090644510  2090017320      3  216050422  12631     151.5   \n",
       "4       2090017320  2090642210  2090017320      2  216050425  12632      46.5   \n",
       "...            ...         ...         ...    ...        ...    ...       ...   \n",
       "508185  6090040190           0  6090040190      0  673000050  60616     627.8   \n",
       "508186  6090040280           0  6090040280      0  673000073  60620     440.8   \n",
       "508187  6090040320           0  6090040320      0  673000075  60622     872.6   \n",
       "508188  6090040380           0  6090040380      0  673000077  60624     432.3   \n",
       "508189  6090040430           0  6090040430      0  673000080  60627     678.7   \n",
       "\n",
       "        UP_AREA        mean  \\\n",
       "0        2535.7  364.664868   \n",
       "1        1523.2  214.686357   \n",
       "2        1248.6  355.033959   \n",
       "3         151.6  745.204998   \n",
       "4         954.9  365.145831   \n",
       "...         ...         ...   \n",
       "508185    627.8  178.638380   \n",
       "508186    440.8   73.030976   \n",
       "508187    872.6  310.911204   \n",
       "508188    432.3  208.277812   \n",
       "508189    678.7  306.745759   \n",
       "\n",
       "                                                     .geo  \\\n",
       "0       {\"type\":\"Polygon\",\"coordinates\":[[[-0.35416858...   \n",
       "1       {\"type\":\"Polygon\",\"coordinates\":[[[-0.25478414...   \n",
       "2       {\"type\":\"Polygon\",\"coordinates\":[[[-0.20833363...   \n",
       "3       {\"type\":\"Polygon\",\"coordinates\":[[[-0.36306891...   \n",
       "4       {\"type\":\"Polygon\",\"coordinates\":[[[-0.12083271...   \n",
       "...                                                   ...   \n",
       "508185  {\"type\":\"MultiPolygon\",\"coordinates\":[[[[-90.8...   \n",
       "508186  {\"type\":\"MultiPolygon\",\"coordinates\":[[[[-90.8...   \n",
       "508187  {\"type\":\"Polygon\",\"coordinates\":[[[-91.5160394...   \n",
       "508188  {\"type\":\"Polygon\",\"coordinates\":[[[-91.3833321...   \n",
       "508189  {\"type\":\"Polygon\",\"coordinates\":[[[-91.6630693...   \n",
       "\n",
       "                                                  NEXT_UP  \n",
       "0       [2090643100, 2090642990, 2090642360, 209064209...  \n",
       "1       [2090642210, 2090642200, 2090640400, 209064070...  \n",
       "2       [2090640400, 2090640700, 2090638820, 209063877...  \n",
       "3                                                      []  \n",
       "4        [2090638820, 2090638770, 2090636040, 2090636050]  \n",
       "...                                                   ...  \n",
       "508185                                                 []  \n",
       "508186                                                 []  \n",
       "508187                                                 []  \n",
       "508188                                                 []  \n",
       "508189                                                 []  \n",
       "\n",
       "[508190 rows x 17 columns]"
      ]
     },
     "execution_count": 464,
     "metadata": {},
     "output_type": "execute_result"
    }
   ],
   "source": [
    "basins_2"
   ]
  },
  {
   "cell_type": "code",
   "execution_count": 446,
   "id": "future-douglas",
   "metadata": {},
   "outputs": [
    {
     "data": {
      "text/plain": [
       "508189"
      ]
     },
     "execution_count": 446,
     "metadata": {},
     "output_type": "execute_result"
    }
   ],
   "source": [
    "basins_2.index[-1]"
   ]
  },
  {
   "cell_type": "code",
   "execution_count": null,
   "id": "alive-merit",
   "metadata": {},
   "outputs": [],
   "source": []
  }
 ],
 "metadata": {
  "kernelspec": {
   "display_name": "Python 3",
   "language": "python",
   "name": "python3"
  },
  "language_info": {
   "codemirror_mode": {
    "name": "ipython",
    "version": 3
   },
   "file_extension": ".py",
   "mimetype": "text/x-python",
   "name": "python",
   "nbconvert_exporter": "python",
   "pygments_lexer": "ipython3",
   "version": "3.9.2"
  }
 },
 "nbformat": 4,
 "nbformat_minor": 5
}
