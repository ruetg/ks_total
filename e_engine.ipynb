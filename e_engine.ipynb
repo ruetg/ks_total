{
 "cells": [
  {
   "cell_type": "code",
   "execution_count": 1,
   "id": "given-section",
   "metadata": {},
   "outputs": [],
   "source": [
    "import ee \n",
    "import shapely as shp\n",
    "import pandas as pd\n",
    "import numpy as np\n",
    "import geopandas as gpd\n",
    "import ast\n",
    "from shapely.geometry import Polygon, MultiPolygon, Point"
   ]
  },
  {
   "cell_type": "code",
   "execution_count": 39,
   "id": "tight-sister",
   "metadata": {},
   "outputs": [],
   "source": [
    "import ee\n",
    "\n",
    "# Trigger the authentication flow.\n",
    "#ee.Authenticate()\n",
    "\n",
    "# Initialize the library.\n",
    "ee.Initialize()\n"
   ]
  },
  {
   "cell_type": "code",
   "execution_count": 55,
   "id": "effective-definition",
   "metadata": {},
   "outputs": [],
   "source": [
    "basins = ee.FeatureCollection(\"WWF/HydroSHEDS/v1/Basins/hybas_9\");\n",
    "basinsall = basins\n",
    "image = ee.Image('WWF/HydroSHEDS/03VFDEM');\n",
    "\n",
    "a = pd.read_csv('a.csv')"
   ]
  },
  {
   "cell_type": "code",
   "execution_count": 41,
   "id": "weighted-rugby",
   "metadata": {},
   "outputs": [],
   "source": [
    "def numberOfPixels(img):\n",
    "    imgDescription = ee.Algorithms.Describe( img )\n",
    "    height = ee.List( ee.Dictionary( ee.List(  ee.Dictionary( imgDescription ).get(\"bands\") ).get(0) ).get(\"dimensions\") ).get(0);\n",
    "    width = ee.List( ee.Dictionary( ee.List(  ee.Dictionary( imgDescription ).get(\"bands\") ).get(0) ).get(\"dimensions\") ).get(1);\n",
    "  \n",
    "    print(\"width\", width.getInfo() )\n",
    "    print(\"height\", height.getInfo() )\n",
    "  \n",
    "    return  ee.Number( width ).multiply( ee.Number( height ) ).getInfo()\n"
   ]
  },
  {
   "cell_type": "code",
   "execution_count": 42,
   "id": "determined-croatia",
   "metadata": {},
   "outputs": [],
   "source": [
    "geom = pd.read_csv('a.csv')\n",
    "geom = geom.sort_values('Latitude (decimal degrees)')\n",
    "latlon = [[i,j] for [i,j] in zip(geom['Longitude (decimal degrees)'].values,\n",
    "                              geom['Latitude (decimal degrees)'].values)][:-1]\n",
    "c=0\n",
    "for i in latlon[1:400]:\n",
    "    if (np.isnan(i[0]))|(np.isnan(i[1])):\n",
    "        latlon.pop(c)\n",
    "    c+=1"
   ]
  },
  {
   "cell_type": "code",
   "execution_count": 43,
   "id": "infinite-twins",
   "metadata": {},
   "outputs": [],
   "source": [
    "pts = ee.Geometry.MultiPoint(latlon)"
   ]
  },
  {
   "cell_type": "code",
   "execution_count": 52,
   "id": "amateur-boston",
   "metadata": {},
   "outputs": [],
   "source": [
    "#basins = basins.filterBounds(pts)"
   ]
  },
  {
   "cell_type": "code",
   "execution_count": 275,
   "id": "smaller-sauce",
   "metadata": {},
   "outputs": [],
   "source": [
    "#basins = ee.FeatureCollection(basins)\n",
    "#basins = basins.merge(basins2)\n",
    "import matplotlib.pyplot as plt"
   ]
  },
  {
   "cell_type": "code",
   "execution_count": 276,
   "id": "dressed-cancer",
   "metadata": {},
   "outputs": [],
   "source": [
    "a1  = basins.getInfo()"
   ]
  },
  {
   "cell_type": "code",
   "execution_count": 277,
   "id": "cognitive-merchandise",
   "metadata": {},
   "outputs": [],
   "source": [
    "b=a1"
   ]
  },
  {
   "cell_type": "code",
   "execution_count": null,
   "id": "funny-beatles",
   "metadata": {},
   "outputs": [],
   "source": [
    "fig,ax = plt.subplots(figsize=(10,10))\n",
    "for i in range(len(b['features'])):\n",
    "    try:\n",
    "        ax.plot(np.array(b['features'][i]['geometry']['coordinates']).squeeze()[:,0],np.array(b['features'][i]['geometry']['coordinates']).squeeze()[:,1])\n",
    "    except:\n",
    "        print('here')"
   ]
  },
  {
   "cell_type": "code",
   "execution_count": 84,
   "id": "drawn-bottle",
   "metadata": {},
   "outputs": [],
   "source": [
    "def queryeach(b):\n",
    "    feat = ee.Feature(b)\n",
    "    print(feat.getInfo())"
   ]
  },
  {
   "cell_type": "code",
   "execution_count": 32,
   "id": "complimentary-input",
   "metadata": {},
   "outputs": [],
   "source": [
    "myImage = image.clip(ee.FeatureCollection(basins.first().geometry()))"
   ]
  },
  {
   "cell_type": "code",
   "execution_count": 268,
   "id": "moderate-population",
   "metadata": {},
   "outputs": [
    {
     "ename": "AttributeError",
     "evalue": "'Point' object has no attribute 'to_geojson'",
     "output_type": "error",
     "traceback": [
      "\u001b[0;31m---------------------------------------------------------------------------\u001b[0m",
      "\u001b[0;31mAttributeError\u001b[0m                            Traceback (most recent call last)",
      "\u001b[0;32m<ipython-input-268-0250334166af>\u001b[0m in \u001b[0;36m<module>\u001b[0;34m\u001b[0m\n\u001b[0;32m----> 1\u001b[0;31m \u001b[0mPoint\u001b[0m\u001b[0;34m(\u001b[0m\u001b[0;34m)\u001b[0m\u001b[0;34m.\u001b[0m\u001b[0mto_geojson\u001b[0m\u001b[0;34m\u001b[0m\u001b[0;34m\u001b[0m\u001b[0m\n\u001b[0m",
      "\u001b[0;31mAttributeError\u001b[0m: 'Point' object has no attribute 'to_geojson'"
     ]
    }
   ],
   "source": []
  },
  {
   "cell_type": "code",
   "execution_count": 270,
   "id": "hollow-combat",
   "metadata": {},
   "outputs": [],
   "source": [
    "None\n"
   ]
  },
  {
   "cell_type": "code",
   "execution_count": 33,
   "id": "nutritional-elements",
   "metadata": {},
   "outputs": [],
   "source": [
    "drainageDirectionVis = {\n",
    "  'min': 0.0,\n",
    "  'max': 2000,\n",
    "  }"
   ]
  },
  {
   "cell_type": "code",
   "execution_count": 294,
   "id": "gorgeous-effect",
   "metadata": {},
   "outputs": [],
   "source": [
    "#def meanDictionary(geom):\n",
    "    #def featurescount(feature):\n",
    "        #return feature\n",
    "#a = image.reduceRegions(basins,ee.Reducer.mean());\n",
    "image2 = ee.Terrain.slope(image)\n",
    "b = image2.reduceRegions(basins,ee.Reducer.percentile([20, 50, 80, 95]))\n",
    "b2 = image2.reduceRegions(basins,ee.Reducer.mean())\n",
    "    #return a.filter(ee.Filter.notNull(['mean'])).map(featurescount)\n",
    "#b = basins.map(meanDictionary)"
   ]
  },
  {
   "cell_type": "code",
   "execution_count": 295,
   "id": "about-castle",
   "metadata": {},
   "outputs": [
    {
     "name": "stdout",
     "output_type": "stream",
     "text": [
      "ee.FeatureCollection({\n",
      "  \"functionInvocationValue\": {\n",
      "    \"functionName\": \"Image.reduceRegions\",\n",
      "    \"arguments\": {\n",
      "      \"collection\": {\n",
      "        \"functionInvocationValue\": {\n",
      "          \"functionName\": \"Collection.loadTable\",\n",
      "          \"arguments\": {\n",
      "            \"tableId\": {\n",
      "              \"constantValue\": \"WWF/HydroSHEDS/v1/Basins/hybas_9\"\n",
      "            }\n",
      "          }\n",
      "        }\n",
      "      },\n",
      "      \"image\": {\n",
      "        \"functionInvocationValue\": {\n",
      "          \"functionName\": \"Terrain.slope\",\n",
      "          \"arguments\": {\n",
      "            \"input\": {\n",
      "              \"functionInvocationValue\": {\n",
      "                \"functionName\": \"Image.load\",\n",
      "                \"arguments\": {\n",
      "                  \"id\": {\n",
      "                    \"constantValue\": \"WWF/HydroSHEDS/03VFDEM\"\n",
      "                  }\n",
      "                }\n",
      "              }\n",
      "            }\n",
      "          }\n",
      "        }\n",
      "      },\n",
      "      \"reducer\": {\n",
      "        \"functionInvocationValue\": {\n",
      "          \"functionName\": \"Reducer.mean\",\n",
      "          \"arguments\": {}\n",
      "        }\n",
      "      }\n",
      "    }\n",
      "  }\n",
      "})\n"
     ]
    }
   ],
   "source": [
    "print(b2)"
   ]
  },
  {
   "cell_type": "code",
   "execution_count": 296,
   "id": "exempt-validation",
   "metadata": {},
   "outputs": [],
   "source": [
    "def rm_geom(feature):\n",
    "    feature = feature.setGeometry(None)\n",
    "    return feature\n",
    "\n",
    "b2=b2.map(rm_geom)"
   ]
  },
  {
   "cell_type": "code",
   "execution_count": 300,
   "id": "circular-processor",
   "metadata": {},
   "outputs": [
    {
     "data": {
      "text/plain": [
       "True"
      ]
     },
     "execution_count": 300,
     "metadata": {},
     "output_type": "execute_result"
    }
   ],
   "source": [
    "mytask.active()"
   ]
  },
  {
   "cell_type": "code",
   "execution_count": 286,
   "id": "certain-announcement",
   "metadata": {},
   "outputs": [],
   "source": []
  },
  {
   "cell_type": "code",
   "execution_count": 297,
   "id": "wanted-ottawa",
   "metadata": {},
   "outputs": [],
   "source": [
    "mytask = ee.batch.Export.table.toDrive(collection=b2, folder='data_earth_engine', description='basins_slope_means', fileFormat='CSV')\n",
    "\n",
    "mytask.start()"
   ]
  },
  {
   "cell_type": "code",
   "execution_count": 301,
   "id": "atmospheric-motion",
   "metadata": {},
   "outputs": [
    {
     "data": {
      "text/plain": [
       "True"
      ]
     },
     "execution_count": 301,
     "metadata": {},
     "output_type": "execute_result"
    }
   ],
   "source": [
    "mytask.active()"
   ]
  },
  {
   "cell_type": "code",
   "execution_count": null,
   "id": "closed-mixer",
   "metadata": {},
   "outputs": [],
   "source": [
    "def meanDictionary(geom):\n",
    "    return image.clip(geom.geometry())\n",
    "mns = basins.map(meanDictionary)"
   ]
  },
  {
   "cell_type": "code",
   "execution_count": null,
   "id": "complete-phone",
   "metadata": {},
   "outputs": [],
   "source": [
    "basins.getInfo()"
   ]
  },
  {
   "cell_type": "code",
   "execution_count": 283,
   "id": "sapphire-colorado",
   "metadata": {},
   "outputs": [],
   "source": [
    "import matplotlib.pyplot as plt"
   ]
  },
  {
   "cell_type": "code",
   "execution_count": 284,
   "id": "entitled-investment",
   "metadata": {},
   "outputs": [],
   "source": [
    "a = np.array(a)"
   ]
  },
  {
   "cell_type": "markdown",
   "id": "intimate-addition",
   "metadata": {},
   "source": [
    "## Begin basin analysis"
   ]
  },
  {
   "cell_type": "code",
   "execution_count": 65,
   "id": "exposed-yesterday",
   "metadata": {},
   "outputs": [],
   "source": [
    "basins_slopes = pd.read_csv('/Users/gr_1/Downloads/basins_slope_percentiles.csv')"
   ]
  },
  {
   "cell_type": "code",
   "execution_count": 475,
   "id": "initial-hartford",
   "metadata": {},
   "outputs": [],
   "source": [
    "basin_slopes_mean = pd.read_csv('/Users/gr_1/Downloads/basins_slope_means.csv')"
   ]
  },
  {
   "cell_type": "code",
   "execution_count": 476,
   "id": "aerial-victor",
   "metadata": {},
   "outputs": [],
   "source": [
    "basins_2 = pd.read_pickle('BASINS_ALL')\n"
   ]
  },
  {
   "cell_type": "code",
   "execution_count": 477,
   "id": "dietary-effect",
   "metadata": {},
   "outputs": [],
   "source": [
    "#basins_2['HYBAS_ID'] = basins_2.index\n",
    "basins_2.index = range(len(basins_2))\n",
    "basins_2['p95'] = basins_slopes['p95']\n",
    "basins_2['p80'] = basins_slopes['p80']\n",
    "basins_2['p50'] = basins_slopes['p50']\n",
    "basins_2['p20'] = basins_slopes['p20']\n",
    "basins_2['mean_slope'] = basin_slopes_mean['mean']\n",
    "\n"
   ]
  },
  {
   "cell_type": "code",
   "execution_count": 478,
   "id": "intelligent-bumper",
   "metadata": {},
   "outputs": [],
   "source": [
    "if 0: # we did it once so we can load it now\n",
    "    up_basins = []\n",
    "    ids = basins_2['HYBAS_ID'].values\n",
    "    down_ids = basins_2['NEXT_DOWN'].values\n",
    "    c=0\n",
    "    def recurbas(l,c):\n",
    "        c+=1\n",
    "        idx = ids[down_ids==l]\n",
    "        for j in idx:\n",
    "            if j != l:\n",
    "                if c>10000:\n",
    "                    print(j,l)\n",
    "                idx = np.append(idx,recurbas(j,c))\n",
    "\n",
    "        return idx\n",
    "    for i in range(len(ids)):\n",
    "        up_basins.append(recurbas(ids[i],c))\n",
    "        c=0\n",
    "        if np.mod(i,1000) == 0:\n",
    "            print(i/len(ids))"
   ]
  },
  {
   "cell_type": "code",
   "execution_count": 479,
   "id": "indian-student",
   "metadata": {},
   "outputs": [],
   "source": [
    "# basins_2 = gpd.GeoDataFrame(basins_2)\n",
    "# ptgeo = []\n",
    "# for i, geo in enumerate(basins_2['.geo']):\n",
    "#     geo2 = ast.literal_eval(geo)\n",
    "#     try:\n",
    "#         ptgeo.append(Polygon(geo2['coordinates'][0]))\n",
    "#     except:\n",
    "#         ptgeo.append(MultiPolygon(geo2['coordinates'][0],geo2['coordinates'][1]))"
   ]
  },
  {
   "cell_type": "code",
   "execution_count": 480,
   "id": "ruled-photography",
   "metadata": {},
   "outputs": [],
   "source": [
    "#basins_2.geometry = ptgeo"
   ]
  },
  {
   "cell_type": "code",
   "execution_count": 481,
   "id": "national-fighter",
   "metadata": {},
   "outputs": [],
   "source": [
    "# basins = gpd.GeoDataFrame()\n",
    "# c=0\n",
    "# for pt in pt_gpd.geometry:\n",
    "#     basins = basins.append(basins_2[basins_2.contains(pt)])\n",
    "#     print(len(basins))\n",
    "#     print(c)\n",
    "#     c+=1"
   ]
  },
  {
   "cell_type": "code",
   "execution_count": 2,
   "id": "focal-conviction",
   "metadata": {},
   "outputs": [],
   "source": [
    "pt_basins = pd.read_pickle('pt_basins')\n",
    "a = pd.read_csv('a.csv')\n"
   ]
  },
  {
   "cell_type": "code",
   "execution_count": 3,
   "id": "joint-width",
   "metadata": {},
   "outputs": [],
   "source": [
    "pts = []\n",
    "for x,y in zip(a[\"Longitude (decimal degrees)\"],a['Latitude (decimal degrees)']):\n",
    "    pts.append(Point(x,y))"
   ]
  },
  {
   "cell_type": "code",
   "execution_count": 4,
   "id": "dried-caribbean",
   "metadata": {},
   "outputs": [],
   "source": [
    "pt_gpd = gpd.GeoDataFrame(a)\n",
    "a['geometry'] = pts"
   ]
  },
  {
   "cell_type": "code",
   "execution_count": 5,
   "id": "hydraulic-semiconductor",
   "metadata": {},
   "outputs": [],
   "source": [
    "ptgeo = []\n",
    "for i, geo in enumerate(pt_basins['.geo']):\n",
    "    geo2 = ast.literal_eval(geo)\n",
    "    try:\n",
    "        ptgeo.append(Polygon(geo2['coordinates'][0]))\n",
    "    except:\n",
    "        ptgeo.append(MultiPolygon(geo2['coordinates'][0],geo2['coordinates'][1]))\n"
   ]
  },
  {
   "cell_type": "code",
   "execution_count": 6,
   "id": "collectible-volume",
   "metadata": {},
   "outputs": [],
   "source": [
    "basins_gpd = gpd.GeoDataFrame(pt_basins,geometry = ptgeo)"
   ]
  },
  {
   "cell_type": "code",
   "execution_count": 18,
   "id": "numerical-composer",
   "metadata": {},
   "outputs": [],
   "source": [
    "basins_save = gpd.GeoDataFrame(geometry=ptgeo)"
   ]
  },
  {
   "cell_type": "code",
   "execution_count": 19,
   "id": "valid-worship",
   "metadata": {},
   "outputs": [
    {
     "data": {
      "text/plain": [
       "1329"
      ]
     },
     "execution_count": 19,
     "metadata": {},
     "output_type": "execute_result"
    }
   ],
   "source": [
    "len(ptgeo)"
   ]
  },
  {
   "cell_type": "code",
   "execution_count": 21,
   "id": "aerial-correlation",
   "metadata": {},
   "outputs": [],
   "source": [
    "basins_save = basins_save.drop_duplicates()"
   ]
  },
  {
   "cell_type": "code",
   "execution_count": 22,
   "id": "frank-assessment",
   "metadata": {},
   "outputs": [
    {
     "data": {
      "text/plain": [
       "516"
      ]
     },
     "execution_count": 22,
     "metadata": {},
     "output_type": "execute_result"
    }
   ],
   "source": [
    "len(basins_save)"
   ]
  },
  {
   "cell_type": "code",
   "execution_count": 23,
   "id": "valued-causing",
   "metadata": {},
   "outputs": [],
   "source": [
    "basins_save.to_file('basins_pt')"
   ]
  },
  {
   "cell_type": "code",
   "execution_count": 508,
   "id": "different-teddy",
   "metadata": {},
   "outputs": [
    {
     "name": "stderr",
     "output_type": "stream",
     "text": [
      "<ipython-input-508-66546328be75>:2: SettingWithCopyWarning: \n",
      "A value is trying to be set on a copy of a slice from a DataFrame\n",
      "\n",
      "See the caveats in the documentation: https://pandas.pydata.org/pandas-docs/stable/user_guide/indexing.html#returning-a-view-versus-a-copy\n",
      "  basins_2['SUB_AREA'][basins_2['p95'].isna()] = .00000000001\n",
      "<ipython-input-508-66546328be75>:3: SettingWithCopyWarning: \n",
      "A value is trying to be set on a copy of a slice from a DataFrame\n",
      "\n",
      "See the caveats in the documentation: https://pandas.pydata.org/pandas-docs/stable/user_guide/indexing.html#returning-a-view-versus-a-copy\n",
      "  basins_2['p95'][basins_2['p95'].isna()] = 0\n",
      "<ipython-input-508-66546328be75>:5: SettingWithCopyWarning: \n",
      "A value is trying to be set on a copy of a slice from a DataFrame\n",
      "\n",
      "See the caveats in the documentation: https://pandas.pydata.org/pandas-docs/stable/user_guide/indexing.html#returning-a-view-versus-a-copy\n",
      "  basins_2['p95'][basins_2['p50'].isna()] = 0\n"
     ]
    }
   ],
   "source": [
    "basins_gpd.index = basins_gpd['HYBAS_ID']\n",
    "basins_2['SUB_AREA'][basins_2['p95'].isna()] = .00000000001\n",
    "basins_2['p95'][basins_2['p95'].isna()] = 0\n",
    "#basins_2['SUB_AREA'][basins_2['p50'].isna()] = .00000000001\n",
    "basins_2['p95'][basins_2['p50'].isna()] = 0\n",
    "basins_gpd['p95'] = basins_2['p95']\n",
    "basins_gpd['p50'] = basins_2['p50']\n",
    "basins_gpd['mean_slope'] = basins_2['mean_slope']\n",
    "basins_2.index = basins_2['HYBAS_ID']\n",
    "#basins_gpd['HYBAS_ID'] = basins_gpd.index\n",
    "basins_gpd.index = range(len(basins_gpd))"
   ]
  },
  {
   "cell_type": "code",
   "execution_count": null,
   "id": "british-mouth",
   "metadata": {},
   "outputs": [],
   "source": [
    "c=1\n",
    "d=1\n",
    "for i,pt in pt_gpd.iterrows():\n",
    "    basin = basins_gpd[basins_gpd.contains(pt.geometry)]\n",
    "    if len(basin) >0:\n",
    "        basin = basin.iloc[0:1]\n",
    "        pt_gpd.loc[i,'Basin_id'] = basin['HYBAS_ID'].values\n",
    "        upstream_basins = basins_2[\"NEXT_UP\"][basin['HYBAS_ID']].values[0]\n",
    "        #if len(upstream_basins) > 0:\n",
    "        basum = basins_2['mean'][upstream_basins].values\n",
    "        areas = basins_2['SUB_AREA'][upstream_basins].values\n",
    "        pt_gpd.loc[i,'mean_topo'] = (basin['mean'].values*basin['SUB_AREA'].values +\n",
    "                                     np.sum(np.multiply(basum[basum>0],areas[basum>0])))/(np.sum(areas[basum>0])+\n",
    "                                                                                          basin['SUB_AREA'].values[0])\n",
    "        basum = basins_2['p95'][upstream_basins].values\n",
    "\n",
    "        pt_gpd.loc[i,'95_slope_mean'] = (basin['p95'].values*basin['SUB_AREA'].values +\n",
    "                                     np.sum(np.multiply(basum[basum>0],areas[basum>0])))/(np.sum(areas[basum>0])+\n",
    "                                                                                          basin['SUB_AREA'].values[0])\n",
    "        basum = basins_2['p50'][upstream_basins].values\n",
    "        pt_gpd.loc[i,'50_slope_mean'] = (basin['p50'].values*basin['SUB_AREA'].values +\n",
    "                                         np.sum(np.multiply(basum[basum>0],areas[basum>0])))/(np.sum(areas[basum>0]) +\n",
    "                                                                                                     basin['SUB_AREA'].values[0])\n",
    "        basum = basins_2['mean_slope'][upstream_basins].values\n",
    "        pt_gpd.loc[i,'mean_slope_all'] = (basin['mean_slope'].values*basin['SUB_AREA'].values +\n",
    "                                         np.sum(np.multiply(basum[basum>0],areas[basum>0])))/(np.sum(areas[basum>0]) + basin['SUB_AREA'].values[0])\n",
    "        if np.isnan(pt_gpd.loc[i,'50_slope_mean']):\n",
    "            print('broken')\n",
    "      #  print(np.sum(areas[basum>0]) +basin['SUB_AREA'].values[0])\n",
    "    else:\n",
    "        c+=1"
   ]
  },
  {
   "cell_type": "code",
   "execution_count": 566,
   "id": "distinct-regular",
   "metadata": {},
   "outputs": [],
   "source": [
    "import sklearn.metrics as mt"
   ]
  },
  {
   "cell_type": "code",
   "execution_count": 532,
   "id": "destroyed-worker",
   "metadata": {},
   "outputs": [],
   "source": [
    "pt_gpd['Mean Basin Slope (°)'] = pd.to_numeric(pt_gpd['Mean Basin Slope (°)'], errors='coerce')"
   ]
  },
  {
   "cell_type": "code",
   "execution_count": 595,
   "id": "competent-penny",
   "metadata": {},
   "outputs": [
    {
     "data": {
      "text/plain": [
       "[<matplotlib.lines.Line2D at 0x1b75b9dc0>]"
      ]
     },
     "execution_count": 595,
     "metadata": {},
     "output_type": "execute_result"
    },
    {
     "data": {
      "image/png": "[encoded data removed]",
      "text/plain": [
       "<Figure size 432x288 with 1 Axes>"
      ]
     },
     "metadata": {
      "needs_background": "light"
     },
     "output_type": "display_data"
    }
   ],
   "source": [
    "plt.plot(pt_gpd['Mean Basin Elevation (m)'],pt_gpd['mean_topo'],'.')\n",
    "plt.plot(np.arange(0,40),np.arange(0,40))"
   ]
  },
  {
   "cell_type": "code",
   "execution_count": 581,
   "id": "divided-brief",
   "metadata": {},
   "outputs": [
    {
     "data": {
      "text/plain": [
       "(array([1175, 1389]),)"
      ]
     },
     "execution_count": 581,
     "metadata": {},
     "output_type": "execute_result"
    }
   ],
   "source": []
  },
  {
   "cell_type": "code",
   "execution_count": 597,
   "id": "coordinate-norwegian",
   "metadata": {},
   "outputs": [
    {
     "data": {
      "text/plain": [
       "0.5236938274961602"
      ]
     },
     "execution_count": 597,
     "metadata": {},
     "output_type": "execute_result"
    }
   ],
   "source": [
    "x = np.log(pt_gpd['Mean Basin Elevation (m)'])\n",
    "y = np.log(pt_gpd['mean_topo'])\n",
    "I = np.where(np.logical_or(np.isnan(x.values),np.isnan(y.values)))[0]\n",
    "x = x.drop(I)\n",
    "y = y.drop(I)\n",
    "mt.r2_score(x, y)"
   ]
  },
  {
   "cell_type": "code",
   "execution_count": 601,
   "id": "tracked-underwear",
   "metadata": {},
   "outputs": [],
   "source": [
    "from sklearn.linear_model import LinearRegression"
   ]
  },
  {
   "cell_type": "code",
   "execution_count": 606,
   "id": "limiting-tractor",
   "metadata": {},
   "outputs": [
    {
     "ename": "TypeError",
     "evalue": "fit() missing 2 required positional arguments: 'X' and 'y'",
     "output_type": "error",
     "traceback": [
      "\u001b[0;31m---------------------------------------------------------------------------\u001b[0m",
      "\u001b[0;31mTypeError\u001b[0m                                 Traceback (most recent call last)",
      "\u001b[0;32m<ipython-input-606-85da9d94dbab>\u001b[0m in \u001b[0;36m<module>\u001b[0;34m\u001b[0m\n\u001b[0;32m----> 1\u001b[0;31m \u001b[0ml\u001b[0m\u001b[0;34m.\u001b[0m\u001b[0mfit\u001b[0m\u001b[0;34m(\u001b[0m\u001b[0;34m)\u001b[0m\u001b[0;34m\u001b[0m\u001b[0;34m\u001b[0m\u001b[0m\n\u001b[0m",
      "\u001b[0;31mTypeError\u001b[0m: fit() missing 2 required positional arguments: 'X' and 'y'"
     ]
    }
   ],
   "source": [
    "l.fit()"
   ]
  },
  {
   "cell_type": "code",
   "execution_count": null,
   "id": "reflected-organization",
   "metadata": {},
   "outputs": [],
   "source": []
  },
  {
   "cell_type": "code",
   "execution_count": 626,
   "id": "stable-companion",
   "metadata": {},
   "outputs": [
    {
     "data": {
      "text/plain": [
       "0.1867435375847193"
      ]
     },
     "execution_count": 626,
     "metadata": {},
     "output_type": "execute_result"
    },
    {
     "data": {
      "image/png": "[encoded data removed]",
      "text/plain": [
       "<Figure size 432x288 with 1 Axes>"
      ]
     },
     "metadata": {
      "needs_background": "light"
     },
     "output_type": "display_data"
    }
   ],
   "source": [
    "x = np.log(pt_gpd['mean_slope_all'])\n",
    "y = np.log(pt_gpd['CRONUS Erosion Rate (m My)'])\n",
    "I = np.where(np.logical_or(np.isnan(x.values),np.isnan(y.values)))[0]\n",
    "x = x.drop(I).to_numpy()\n",
    "y = y.drop(I).to_numpy()\n",
    "l = LinearRegression().fit(x.reshape(-1,1),y.reshape(-1,1))\n",
    "y_ = l.predict(x.reshape(-1,1))\n",
    "plt.scatter(y,y_)\n",
    "\n",
    "mt.r2_score(y, y_)"
   ]
  },
  {
   "cell_type": "markdown",
   "id": "empty-relationship",
   "metadata": {},
   "source": []
  },
  {
   "cell_type": "code",
   "execution_count": 549,
   "id": "confident-jersey",
   "metadata": {},
   "outputs": [
    {
     "data": {
      "text/html": [
       "<div>\n",
       "<style scoped>\n",
       "    .dataframe tbody tr th:only-of-type {\n",
       "        vertical-align: middle;\n",
       "    }\n",
       "\n",
       "    .dataframe tbody tr th {\n",
       "        vertical-align: top;\n",
       "    }\n",
       "\n",
       "    .dataframe thead th {\n",
       "        text-align: right;\n",
       "    }\n",
       "</style>\n",
       "<table border=\"1\" class=\"dataframe\">\n",
       "  <thead>\n",
       "    <tr style=\"text-align: right;\">\n",
       "      <th></th>\n",
       "      <th>Unnamed: 0</th>\n",
       "      <th>Citation</th>\n",
       "      <th>Sample ID</th>\n",
       "      <th>Location</th>\n",
       "      <th>Latitude (decimal degrees)</th>\n",
       "      <th>Longitude (decimal degrees)</th>\n",
       "      <th>Mean Basin Elevation (m)</th>\n",
       "      <th>Basin Relief (m)</th>\n",
       "      <th>Basin Area (km )</th>\n",
       "      <th>Mean Latitude (decimal degrees)</th>\n",
       "      <th>...</th>\n",
       "      <th></th>\n",
       "      <th>type</th>\n",
       "      <th>dist</th>\n",
       "      <th>dist_bin</th>\n",
       "      <th>geometry</th>\n",
       "      <th>Basin_id</th>\n",
       "      <th>mean_topo</th>\n",
       "      <th>95_slope_mean</th>\n",
       "      <th>50_slope_mean</th>\n",
       "      <th>mean_slope_all</th>\n",
       "    </tr>\n",
       "  </thead>\n",
       "  <tbody>\n",
       "    <tr>\n",
       "      <th>0</th>\n",
       "      <td>26</td>\n",
       "      <td>Belmont et al. (2007)</td>\n",
       "      <td>Lower_EFMC</td>\n",
       "      <td>Clearwater River, Washington, United States</td>\n",
       "      <td>47.654</td>\n",
       "      <td>-124.240</td>\n",
       "      <td>239.0</td>\n",
       "      <td>376</td>\n",
       "      <td>13.61</td>\n",
       "      <td>47.686</td>\n",
       "      <td>...</td>\n",
       "      <td>NaN</td>\n",
       "      <td>basinwide</td>\n",
       "      <td>133.065703</td>\n",
       "      <td>22</td>\n",
       "      <td>POINT (-124.24000 47.65400)</td>\n",
       "      <td>7.090343e+09</td>\n",
       "      <td>341.127463</td>\n",
       "      <td>31.869465</td>\n",
       "      <td>inf</td>\n",
       "      <td>16.191463</td>\n",
       "    </tr>\n",
       "    <tr>\n",
       "      <th>1</th>\n",
       "      <td>525</td>\n",
       "      <td>Heimsath et al. (2001)</td>\n",
       "      <td>OR-16</td>\n",
       "      <td>Coast Range, Oregon, United States</td>\n",
       "      <td>43.469</td>\n",
       "      <td>-124.113</td>\n",
       "      <td>296.0</td>\n",
       "      <td>345</td>\n",
       "      <td>3.59</td>\n",
       "      <td>43.472</td>\n",
       "      <td>...</td>\n",
       "      <td>NaN</td>\n",
       "      <td>basinwide</td>\n",
       "      <td>131.505098</td>\n",
       "      <td>22</td>\n",
       "      <td>POINT (-124.11300 43.46900)</td>\n",
       "      <td>7.090014e+09</td>\n",
       "      <td>95.408404</td>\n",
       "      <td>25.628412</td>\n",
       "      <td>inf</td>\n",
       "      <td>11.198064</td>\n",
       "    </tr>\n",
       "    <tr>\n",
       "      <th>2</th>\n",
       "      <td>460</td>\n",
       "      <td>NaN</td>\n",
       "      <td>ORK</td>\n",
       "      <td>Redwood Creek at Orick, Coast Range, Californi...</td>\n",
       "      <td>41.289</td>\n",
       "      <td>-124.060</td>\n",
       "      <td>575.0</td>\n",
       "      <td>1619</td>\n",
       "      <td>720.45</td>\n",
       "      <td>41.060</td>\n",
       "      <td>...</td>\n",
       "      <td>NaN</td>\n",
       "      <td>basinwide</td>\n",
       "      <td>130.750392</td>\n",
       "      <td>22</td>\n",
       "      <td>POINT (-124.06000 41.28900)</td>\n",
       "      <td>7.090014e+09</td>\n",
       "      <td>573.951708</td>\n",
       "      <td>26.369799</td>\n",
       "      <td>inf</td>\n",
       "      <td>16.075120</td>\n",
       "    </tr>\n",
       "    <tr>\n",
       "      <th>3</th>\n",
       "      <td>27</td>\n",
       "      <td>NaN</td>\n",
       "      <td>Upper_WC</td>\n",
       "      <td>NaN</td>\n",
       "      <td>47.739</td>\n",
       "      <td>-124.044</td>\n",
       "      <td>636.0</td>\n",
       "      <td>501</td>\n",
       "      <td>1.73</td>\n",
       "      <td>47.743</td>\n",
       "      <td>...</td>\n",
       "      <td>NaN</td>\n",
       "      <td>basinwide</td>\n",
       "      <td>132.913228</td>\n",
       "      <td>22</td>\n",
       "      <td>POINT (-124.04400 47.73900)</td>\n",
       "      <td>7.090343e+09</td>\n",
       "      <td>341.127463</td>\n",
       "      <td>31.869465</td>\n",
       "      <td>inf</td>\n",
       "      <td>16.191463</td>\n",
       "    </tr>\n",
       "    <tr>\n",
       "      <th>4</th>\n",
       "      <td>28</td>\n",
       "      <td>NaN</td>\n",
       "      <td>Lower_WC</td>\n",
       "      <td>NaN</td>\n",
       "      <td>47.729</td>\n",
       "      <td>-124.037</td>\n",
       "      <td>563.0</td>\n",
       "      <td>606</td>\n",
       "      <td>4.22</td>\n",
       "      <td>47.746</td>\n",
       "      <td>...</td>\n",
       "      <td>NaN</td>\n",
       "      <td>basinwide</td>\n",
       "      <td>132.903103</td>\n",
       "      <td>22</td>\n",
       "      <td>POINT (-124.03700 47.72900)</td>\n",
       "      <td>7.090343e+09</td>\n",
       "      <td>341.127463</td>\n",
       "      <td>31.869465</td>\n",
       "      <td>inf</td>\n",
       "      <td>16.191463</td>\n",
       "    </tr>\n",
       "    <tr>\n",
       "      <th>...</th>\n",
       "      <td>...</td>\n",
       "      <td>...</td>\n",
       "      <td>...</td>\n",
       "      <td>...</td>\n",
       "      <td>...</td>\n",
       "      <td>...</td>\n",
       "      <td>...</td>\n",
       "      <td>...</td>\n",
       "      <td>...</td>\n",
       "      <td>...</td>\n",
       "      <td>...</td>\n",
       "      <td>...</td>\n",
       "      <td>...</td>\n",
       "      <td>...</td>\n",
       "      <td>...</td>\n",
       "      <td>...</td>\n",
       "      <td>...</td>\n",
       "      <td>...</td>\n",
       "      <td>...</td>\n",
       "      <td>...</td>\n",
       "      <td>...</td>\n",
       "    </tr>\n",
       "    <tr>\n",
       "      <th>1385</th>\n",
       "      <td>530</td>\n",
       "      <td>NaN</td>\n",
       "      <td>NR-38</td>\n",
       "      <td>NaN</td>\n",
       "      <td>-36.667</td>\n",
       "      <td>150.000</td>\n",
       "      <td>1018.0</td>\n",
       "      <td>239</td>\n",
       "      <td>4.66</td>\n",
       "      <td>-36.636</td>\n",
       "      <td>...</td>\n",
       "      <td>NaN</td>\n",
       "      <td>basinwide</td>\n",
       "      <td>154.416543</td>\n",
       "      <td>26</td>\n",
       "      <td>POINT (150.00000 -36.66700)</td>\n",
       "      <td>5.090072e+09</td>\n",
       "      <td>84.175025</td>\n",
       "      <td>14.424484</td>\n",
       "      <td>inf</td>\n",
       "      <td>7.204998</td>\n",
       "    </tr>\n",
       "    <tr>\n",
       "      <th>1386</th>\n",
       "      <td>531</td>\n",
       "      <td>NaN</td>\n",
       "      <td>NR-58</td>\n",
       "      <td>NaN</td>\n",
       "      <td>-36.667</td>\n",
       "      <td>150.000</td>\n",
       "      <td>919.0</td>\n",
       "      <td>864</td>\n",
       "      <td>23.17</td>\n",
       "      <td>-36.629</td>\n",
       "      <td>...</td>\n",
       "      <td>NaN</td>\n",
       "      <td>basinwide</td>\n",
       "      <td>154.416543</td>\n",
       "      <td>26</td>\n",
       "      <td>POINT (150.00000 -36.66700)</td>\n",
       "      <td>5.090072e+09</td>\n",
       "      <td>84.175025</td>\n",
       "      <td>14.424484</td>\n",
       "      <td>inf</td>\n",
       "      <td>7.204998</td>\n",
       "    </tr>\n",
       "    <tr>\n",
       "      <th>1387</th>\n",
       "      <td>532</td>\n",
       "      <td>NaN</td>\n",
       "      <td>NR-60</td>\n",
       "      <td>NaN</td>\n",
       "      <td>-36.667</td>\n",
       "      <td>150.000</td>\n",
       "      <td>919.0</td>\n",
       "      <td>864</td>\n",
       "      <td>23.17</td>\n",
       "      <td>-36.629</td>\n",
       "      <td>...</td>\n",
       "      <td>NaN</td>\n",
       "      <td>basinwide</td>\n",
       "      <td>154.416543</td>\n",
       "      <td>26</td>\n",
       "      <td>POINT (150.00000 -36.66700)</td>\n",
       "      <td>5.090072e+09</td>\n",
       "      <td>84.175025</td>\n",
       "      <td>14.424484</td>\n",
       "      <td>inf</td>\n",
       "      <td>7.204998</td>\n",
       "    </tr>\n",
       "    <tr>\n",
       "      <th>1388</th>\n",
       "      <td>528</td>\n",
       "      <td>Heimsath et al. (2006)</td>\n",
       "      <td>NR-32</td>\n",
       "      <td>Nunnock River Basin, Southeast Australia</td>\n",
       "      <td>-36.667</td>\n",
       "      <td>150.000</td>\n",
       "      <td>1005.0</td>\n",
       "      <td>251</td>\n",
       "      <td>5.98</td>\n",
       "      <td>-36.636</td>\n",
       "      <td>...</td>\n",
       "      <td>NaN</td>\n",
       "      <td>basinwide</td>\n",
       "      <td>154.416543</td>\n",
       "      <td>26</td>\n",
       "      <td>POINT (150.00000 -36.66700)</td>\n",
       "      <td>5.090072e+09</td>\n",
       "      <td>84.175025</td>\n",
       "      <td>14.424484</td>\n",
       "      <td>inf</td>\n",
       "      <td>7.204998</td>\n",
       "    </tr>\n",
       "    <tr>\n",
       "      <th>1389</th>\n",
       "      <td>952</td>\n",
       "      <td>NaN</td>\n",
       "      <td>NaN</td>\n",
       "      <td>United States</td>\n",
       "      <td>NaN</td>\n",
       "      <td>NaN</td>\n",
       "      <td>NaN</td>\n",
       "      <td>NaN</td>\n",
       "      <td>NaN</td>\n",
       "      <td>NaN</td>\n",
       "      <td>...</td>\n",
       "      <td>NaN</td>\n",
       "      <td>basinwide</td>\n",
       "      <td>NaN</td>\n",
       "      <td>-1</td>\n",
       "      <td>POINT (nan nan)</td>\n",
       "      <td>NaN</td>\n",
       "      <td>NaN</td>\n",
       "      <td>NaN</td>\n",
       "      <td>NaN</td>\n",
       "      <td>NaN</td>\n",
       "    </tr>\n",
       "  </tbody>\n",
       "</table>\n",
       "<p>1390 rows × 33 columns</p>\n",
       "</div>"
      ],
      "text/plain": [
       "      Unnamed: 0                Citation   Sample ID  \\\n",
       "0             26   Belmont et al. (2007)  Lower_EFMC   \n",
       "1            525  Heimsath et al. (2001)       OR-16   \n",
       "2            460                     NaN         ORK   \n",
       "3             27                     NaN    Upper_WC   \n",
       "4             28                     NaN    Lower_WC   \n",
       "...          ...                     ...         ...   \n",
       "1385         530                     NaN       NR-38   \n",
       "1386         531                     NaN       NR-58   \n",
       "1387         532                     NaN       NR-60   \n",
       "1388         528  Heimsath et al. (2006)       NR-32   \n",
       "1389         952                     NaN         NaN   \n",
       "\n",
       "                                               Location  \\\n",
       "0           Clearwater River, Washington, United States   \n",
       "1                    Coast Range, Oregon, United States   \n",
       "2     Redwood Creek at Orick, Coast Range, Californi...   \n",
       "3                                                   NaN   \n",
       "4                                                   NaN   \n",
       "...                                                 ...   \n",
       "1385                                                NaN   \n",
       "1386                                                NaN   \n",
       "1387                                                NaN   \n",
       "1388           Nunnock River Basin, Southeast Australia   \n",
       "1389                                      United States   \n",
       "\n",
       "      Latitude (decimal degrees)  Longitude (decimal degrees)  \\\n",
       "0                         47.654                     -124.240   \n",
       "1                         43.469                     -124.113   \n",
       "2                         41.289                     -124.060   \n",
       "3                         47.739                     -124.044   \n",
       "4                         47.729                     -124.037   \n",
       "...                          ...                          ...   \n",
       "1385                     -36.667                      150.000   \n",
       "1386                     -36.667                      150.000   \n",
       "1387                     -36.667                      150.000   \n",
       "1388                     -36.667                      150.000   \n",
       "1389                         NaN                          NaN   \n",
       "\n",
       "      Mean Basin Elevation (m) Basin Relief (m)  Basin Area (km )  \\\n",
       "0                        239.0              376             13.61   \n",
       "1                        296.0              345              3.59   \n",
       "2                        575.0             1619            720.45   \n",
       "3                        636.0              501              1.73   \n",
       "4                        563.0              606              4.22   \n",
       "...                        ...              ...               ...   \n",
       "1385                    1018.0              239              4.66   \n",
       "1386                     919.0              864             23.17   \n",
       "1387                     919.0              864             23.17   \n",
       "1388                    1005.0              251              5.98   \n",
       "1389                       NaN              NaN               NaN   \n",
       "\n",
       "      Mean Latitude (decimal degrees)  ...           type        dist  \\\n",
       "0                              47.686  ... NaN  basinwide  133.065703   \n",
       "1                              43.472  ... NaN  basinwide  131.505098   \n",
       "2                              41.060  ... NaN  basinwide  130.750392   \n",
       "3                              47.743  ... NaN  basinwide  132.913228   \n",
       "4                              47.746  ... NaN  basinwide  132.903103   \n",
       "...                               ...  ...  ..        ...         ...   \n",
       "1385                          -36.636  ... NaN  basinwide  154.416543   \n",
       "1386                          -36.629  ... NaN  basinwide  154.416543   \n",
       "1387                          -36.629  ... NaN  basinwide  154.416543   \n",
       "1388                          -36.636  ... NaN  basinwide  154.416543   \n",
       "1389                              NaN  ... NaN  basinwide         NaN   \n",
       "\n",
       "     dist_bin                     geometry      Basin_id   mean_topo  \\\n",
       "0          22  POINT (-124.24000 47.65400)  7.090343e+09  341.127463   \n",
       "1          22  POINT (-124.11300 43.46900)  7.090014e+09   95.408404   \n",
       "2          22  POINT (-124.06000 41.28900)  7.090014e+09  573.951708   \n",
       "3          22  POINT (-124.04400 47.73900)  7.090343e+09  341.127463   \n",
       "4          22  POINT (-124.03700 47.72900)  7.090343e+09  341.127463   \n",
       "...       ...                          ...           ...         ...   \n",
       "1385       26  POINT (150.00000 -36.66700)  5.090072e+09   84.175025   \n",
       "1386       26  POINT (150.00000 -36.66700)  5.090072e+09   84.175025   \n",
       "1387       26  POINT (150.00000 -36.66700)  5.090072e+09   84.175025   \n",
       "1388       26  POINT (150.00000 -36.66700)  5.090072e+09   84.175025   \n",
       "1389       -1              POINT (nan nan)           NaN         NaN   \n",
       "\n",
       "      95_slope_mean 50_slope_mean mean_slope_all  \n",
       "0         31.869465           inf      16.191463  \n",
       "1         25.628412           inf      11.198064  \n",
       "2         26.369799           inf      16.075120  \n",
       "3         31.869465           inf      16.191463  \n",
       "4         31.869465           inf      16.191463  \n",
       "...             ...           ...            ...  \n",
       "1385      14.424484           inf       7.204998  \n",
       "1386      14.424484           inf       7.204998  \n",
       "1387      14.424484           inf       7.204998  \n",
       "1388      14.424484           inf       7.204998  \n",
       "1389            NaN           NaN            NaN  \n",
       "\n",
       "[1390 rows x 33 columns]"
      ]
     },
     "execution_count": 549,
     "metadata": {},
     "output_type": "execute_result"
    }
   ],
   "source": [
    "pt_gpd"
   ]
  },
  {
   "cell_type": "code",
   "execution_count": 562,
   "id": "frequent-matter",
   "metadata": {},
   "outputs": [
    {
     "data": {
      "text/plain": [
       "[None, None]"
      ]
     },
     "execution_count": 562,
     "metadata": {},
     "output_type": "execute_result"
    },
    {
     "data": {
      "image/png": "[encoded data removed]",
      "text/plain": [
       "<Figure size 432x288 with 1 Axes>"
      ]
     },
     "metadata": {
      "needs_background": "light"
     },
     "output_type": "display_data"
    }
   ],
   "source": [
    "ax = sns.scatterplot(data=pt_gpd,x='95_slope_mean',y='CRONUS Erosion Rate (m My)')\n",
    "\n",
    "ax.set(xscale=\"log\", yscale=\"log\")"
   ]
  },
  {
   "cell_type": "code",
   "execution_count": 557,
   "id": "caring-network",
   "metadata": {},
   "outputs": [
    {
     "data": {
      "text/plain": [
       "[None, None]"
      ]
     },
     "execution_count": 557,
     "metadata": {},
     "output_type": "execute_result"
    },
    {
     "data": {
      "image/png": "[encoded data removed]",
      "text/plain": [
       "<Figure size 432x288 with 1 Axes>"
      ]
     },
     "metadata": {
      "needs_background": "light"
     },
     "output_type": "display_data"
    }
   ],
   "source": [
    "ax = sns.scatterplot(data=pt_gpd,x='Mean Basin Slope (°)',y='CRONUS Erosion Rate (m My)')\n",
    "ax.set(xscale=\"log\", yscale=\"log\")"
   ]
  },
  {
   "cell_type": "code",
   "execution_count": null,
   "id": "suburban-history",
   "metadata": {},
   "outputs": [],
   "source": []
  }
 ],
 "metadata": {
  "kernelspec": {
   "display_name": "Python 3",
   "language": "python",
   "name": "python3"
  },
  "language_info": {
   "codemirror_mode": {
    "name": "ipython",
    "version": 3
   },
   "file_extension": ".py",
   "mimetype": "text/x-python",
   "name": "python",
   "nbconvert_exporter": "python",
   "pygments_lexer": "ipython3",
   "version": "3.9.2"
  }
 },
 "nbformat": 4,
 "nbformat_minor": 5
}
