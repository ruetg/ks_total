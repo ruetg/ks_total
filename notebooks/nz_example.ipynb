{
 "cells": [
  {
   "cell_type": "code",
   "metadata": {
    "ExecuteTime": {
     "end_time": "2025-07-04T06:16:06.265393Z",
     "start_time": "2025-07-04T06:16:05.296721Z"
    }
   },
   "source": [
    "import numpy as np\n",
    "import ee\n",
    "import geopandas as gpd\n",
    "import sys\n",
    "sys.path.append('../python')\n",
    "import lem\n",
    "import rasterio as rio\n",
    "import os\n",
    "import matplotlib.pyplot as plt\n",
    "%load_ext autoreload\n",
    "%autoreload 2"
   ],
   "outputs": [],
   "execution_count": 1
  },
  {
   "cell_type": "code",
   "metadata": {
    "ExecuteTime": {
     "end_time": "2025-07-03T09:49:33.599931Z",
     "start_time": "2025-07-03T09:49:29.869862Z"
    }
   },
   "source": [
    "octo_points = gpd.read_file('../example_data/octo_all_points')\n",
    "octo_basins = gpd.read_file('../example_data/nz_basins_')\n",
    "octo_basins_orig = octo_basins.copy()\n",
    "octo_points.index = octo_points.OBSID1\n",
    "octo_basins.index = octo_basins.OBSID1\n",
    "octo_points = octo_points.loc[octo_basins.index] #Because we can only download all the points at once...\n",
    "#octo_points = octo_points.to_crs('EPSG:4326')\n",
    "octo_basins = octo_basins.to_crs('EPSG:4326')\n",
    "octo_basins.geometry = octo_basins.geometry.buffer(.05)\n",
    "octo_points.index = range(len(octo_points))\n",
    "octo_basins.index = range(len(octo_basins))"
   ],
   "outputs": [
    {
     "name": "stderr",
     "output_type": "stream",
     "text": [
      "/var/folders/5v/804c95h92bx2zr8rfpwyr_yc0000gn/T/ipykernel_2176/1325844060.py:9: UserWarning: Geometry is in a geographic CRS. Results from 'buffer' are likely incorrect. Use 'GeoSeries.to_crs()' to re-project geometries to a projected CRS before this operation.\n",
      "\n",
      "  octo_basins.geometry = octo_basins.geometry.buffer(.05)\n",
      "/Users/gr_1/miniconda3/lib/python3.9/site-packages/shapely/constructive.py:181: RuntimeWarning: invalid value encountered in buffer\n",
      "  return lib.buffer(\n"
     ]
    }
   ],
   "execution_count": 5
  },
  {
   "cell_type": "markdown",
   "metadata": {},
   "source": [
    "## Download Octopus data from octopusdata.org\n",
    "## You can clip the tiles for DEMs using EarthEngine"
   ]
  },
  {
   "cell_type": "code",
   "metadata": {
    "ExecuteTime": {
     "end_time": "2025-07-03T09:46:44.850800Z",
     "start_time": "2025-07-03T09:46:44.636880Z"
    }
   },
   "source": [
    "import json \n",
    "from ee.geometry import Geometry\n",
    "basin_slopes = gpd.GeoDataFrame()\n",
    "basin_slopes_t = gpd.GeoDataFrame()\n",
    "\n",
    "shps = []\n",
    "image = ee.Image(\"WWF/HydroSHEDS/03VFDEM\").setDefaultProjection('EPSG:4326',None,30)\n",
    "for i,row in octo_basins.iterrows(): \n",
    "    #if i in unique:# remove unique line for full basins\n",
    "        if row.geometry.type=='MultiPolygon':\n",
    "                asi = [geom.area for geom in row.geometry.geoms]\n",
    "                xy2 = row.geometry.geoms[np.argmax(asi)].exterior.xy\n",
    "                sh = list(zip(xy2[0],xy2[1]))\n",
    "                shp = Geometry.Polygon(sh)\n",
    "                print(i)\n",
    "        else:\n",
    "            try:\n",
    "                sh = list(zip(row.geometry[-1].exterior.coords.xy[0],row.geometry[-1].exterior.coords.xy[1]))\n",
    "            except:\n",
    "                sh = list(zip(row.geometry.exterior.coords.xy[0],row.geometry.exterior.coords.xy[1]))\n",
    "\n",
    "            shp = Geometry.Polygon(sh)\n",
    "\n",
    "        shps.append(shp)\n",
    "for c in octo_basins.index:\n",
    "    im = image.clip(shps[c])\n",
    "    mytask = ee.batch.Export.image.toDrive(image=im, folder='data_earth_engine', description='nz_bas_hydroshed_'+ str(c)+'_')\n",
    "    mytask.start()\n"
   ],
   "outputs": [
    {
     "ename": "EEException",
     "evalue": "Earth Engine client library not initialized. Run `ee.Initialize()`",
     "output_type": "error",
     "traceback": [
      "\u001B[0;31m---------------------------------------------------------------------------\u001B[0m",
      "\u001B[0;31mEEException\u001B[0m                               Traceback (most recent call last)",
      "Cell \u001B[0;32mIn[4], line 7\u001B[0m\n\u001B[1;32m      4\u001B[0m basin_slopes_t \u001B[38;5;241m=\u001B[39m gpd\u001B[38;5;241m.\u001B[39mGeoDataFrame()\n\u001B[1;32m      6\u001B[0m shps \u001B[38;5;241m=\u001B[39m []\n\u001B[0;32m----> 7\u001B[0m image \u001B[38;5;241m=\u001B[39m \u001B[43mee\u001B[49m\u001B[38;5;241;43m.\u001B[39;49m\u001B[43mImage\u001B[49m\u001B[43m(\u001B[49m\u001B[38;5;124;43m\"\u001B[39;49m\u001B[38;5;124;43mWWF/HydroSHEDS/03VFDEM\u001B[39;49m\u001B[38;5;124;43m\"\u001B[39;49m\u001B[43m)\u001B[49m\u001B[38;5;241m.\u001B[39msetDefaultProjection(\u001B[38;5;124m'\u001B[39m\u001B[38;5;124mEPSG:4326\u001B[39m\u001B[38;5;124m'\u001B[39m,\u001B[38;5;28;01mNone\u001B[39;00m,\u001B[38;5;241m30\u001B[39m)\n\u001B[1;32m      8\u001B[0m \u001B[38;5;28;01mfor\u001B[39;00m i,row \u001B[38;5;129;01min\u001B[39;00m octo_basins\u001B[38;5;241m.\u001B[39miterrows(): \n\u001B[1;32m      9\u001B[0m     \u001B[38;5;66;03m#if i in unique:# remove unique line for full basins\u001B[39;00m\n\u001B[1;32m     10\u001B[0m         \u001B[38;5;28;01mif\u001B[39;00m row\u001B[38;5;241m.\u001B[39mgeometry\u001B[38;5;241m.\u001B[39mtype\u001B[38;5;241m==\u001B[39m\u001B[38;5;124m'\u001B[39m\u001B[38;5;124mMultiPolygon\u001B[39m\u001B[38;5;124m'\u001B[39m:\n",
      "File \u001B[0;32m~/miniconda3/lib/python3.9/site-packages/ee/computedobject.py:28\u001B[0m, in \u001B[0;36mComputedObjectMetaclass.__call__\u001B[0;34m(cls, *args, **kwargs)\u001B[0m\n\u001B[1;32m     26\u001B[0m   \u001B[38;5;28;01mreturn\u001B[39;00m args[\u001B[38;5;241m0\u001B[39m]\n\u001B[1;32m     27\u001B[0m \u001B[38;5;28;01melse\u001B[39;00m:\n\u001B[0;32m---> 28\u001B[0m   \u001B[38;5;28;01mreturn\u001B[39;00m \u001B[38;5;28;43mtype\u001B[39;49m\u001B[38;5;241;43m.\u001B[39;49m\u001B[38;5;21;43m__call__\u001B[39;49m\u001B[43m(\u001B[49m\u001B[38;5;28;43mcls\u001B[39;49m\u001B[43m,\u001B[49m\u001B[43m \u001B[49m\u001B[38;5;241;43m*\u001B[39;49m\u001B[43margs\u001B[49m\u001B[43m,\u001B[49m\u001B[43m \u001B[49m\u001B[38;5;241;43m*\u001B[39;49m\u001B[38;5;241;43m*\u001B[39;49m\u001B[43mkwargs\u001B[49m\u001B[43m)\u001B[49m\n",
      "File \u001B[0;32m~/miniconda3/lib/python3.9/site-packages/ee/image.py:52\u001B[0m, in \u001B[0;36mImage.__init__\u001B[0;34m(self, args, version)\u001B[0m\n\u001B[1;32m     32\u001B[0m \u001B[38;5;28;01mdef\u001B[39;00m\u001B[38;5;250m \u001B[39m\u001B[38;5;21m__init__\u001B[39m(\n\u001B[1;32m     33\u001B[0m     \u001B[38;5;28mself\u001B[39m, args: Optional[Any] \u001B[38;5;241m=\u001B[39m \u001B[38;5;28;01mNone\u001B[39;00m, version: Optional[\u001B[38;5;28mfloat\u001B[39m] \u001B[38;5;241m=\u001B[39m \u001B[38;5;28;01mNone\u001B[39;00m\n\u001B[1;32m     34\u001B[0m ):\n\u001B[1;32m     35\u001B[0m \u001B[38;5;250m  \u001B[39m\u001B[38;5;124;03m\"\"\"Constructs an Earth Engine image.\u001B[39;00m\n\u001B[1;32m     36\u001B[0m \n\u001B[1;32m     37\u001B[0m \u001B[38;5;124;03m  Args:\u001B[39;00m\n\u001B[0;32m   (...)\u001B[0m\n\u001B[1;32m     50\u001B[0m \u001B[38;5;124;03m    EEException: if passed something other than the above.\u001B[39;00m\n\u001B[1;32m     51\u001B[0m \u001B[38;5;124;03m  \"\"\"\u001B[39;00m\n\u001B[0;32m---> 52\u001B[0m   \u001B[38;5;28;43mself\u001B[39;49m\u001B[38;5;241;43m.\u001B[39;49m\u001B[43minitialize\u001B[49m\u001B[43m(\u001B[49m\u001B[43m)\u001B[49m\n\u001B[1;32m     54\u001B[0m   \u001B[38;5;28;01mif\u001B[39;00m version \u001B[38;5;129;01mis\u001B[39;00m \u001B[38;5;129;01mnot\u001B[39;00m \u001B[38;5;28;01mNone\u001B[39;00m:\n\u001B[1;32m     55\u001B[0m     \u001B[38;5;28;01mif\u001B[39;00m ee_types\u001B[38;5;241m.\u001B[39misString(args) \u001B[38;5;129;01mand\u001B[39;00m ee_types\u001B[38;5;241m.\u001B[39misNumber(version):\n\u001B[1;32m     56\u001B[0m       \u001B[38;5;66;03m# An ID and version.\u001B[39;00m\n",
      "File \u001B[0;32m~/miniconda3/lib/python3.9/site-packages/ee/image.py:98\u001B[0m, in \u001B[0;36mImage.initialize\u001B[0;34m(cls)\u001B[0m\n\u001B[1;32m     96\u001B[0m \u001B[38;5;250m\u001B[39m\u001B[38;5;124;03m\"\"\"Imports API functions to this class.\"\"\"\u001B[39;00m\n\u001B[1;32m     97\u001B[0m \u001B[38;5;28;01mif\u001B[39;00m \u001B[38;5;129;01mnot\u001B[39;00m \u001B[38;5;28mcls\u001B[39m\u001B[38;5;241m.\u001B[39m_initialized:\n\u001B[0;32m---> 98\u001B[0m   \u001B[43mapifunction\u001B[49m\u001B[38;5;241;43m.\u001B[39;49m\u001B[43mApiFunction\u001B[49m\u001B[38;5;241;43m.\u001B[39;49m\u001B[43mimportApi\u001B[49m\u001B[43m(\u001B[49m\u001B[38;5;28;43mcls\u001B[39;49m\u001B[43m,\u001B[49m\u001B[43m \u001B[49m\u001B[38;5;28;43mcls\u001B[39;49m\u001B[38;5;241;43m.\u001B[39;49m\u001B[43mname\u001B[49m\u001B[43m(\u001B[49m\u001B[43m)\u001B[49m\u001B[43m,\u001B[49m\u001B[43m \u001B[49m\u001B[38;5;28;43mcls\u001B[39;49m\u001B[38;5;241;43m.\u001B[39;49m\u001B[43mname\u001B[49m\u001B[43m(\u001B[49m\u001B[43m)\u001B[49m\u001B[43m)\u001B[49m\n\u001B[1;32m     99\u001B[0m   \u001B[38;5;28mcls\u001B[39m\u001B[38;5;241m.\u001B[39m_initialized \u001B[38;5;241m=\u001B[39m \u001B[38;5;28;01mTrue\u001B[39;00m\n",
      "File \u001B[0;32m~/miniconda3/lib/python3.9/site-packages/ee/_utils.py:38\u001B[0m, in \u001B[0;36maccept_opt_prefix.<locals>.opt_fixed.<locals>.wrapper\u001B[0;34m(*args, **kwargs)\u001B[0m\n\u001B[1;32m     36\u001B[0m     \u001B[38;5;28;01mif\u001B[39;00m new_key \u001B[38;5;129;01mnot\u001B[39;00m \u001B[38;5;129;01min\u001B[39;00m kwargs:\n\u001B[1;32m     37\u001B[0m       kwargs[new_key] \u001B[38;5;241m=\u001B[39m old_key_val\n\u001B[0;32m---> 38\u001B[0m \u001B[38;5;28;01mreturn\u001B[39;00m \u001B[43mfunc\u001B[49m\u001B[43m(\u001B[49m\u001B[38;5;241;43m*\u001B[39;49m\u001B[43margs\u001B[49m\u001B[43m,\u001B[49m\u001B[43m \u001B[49m\u001B[38;5;241;43m*\u001B[39;49m\u001B[38;5;241;43m*\u001B[39;49m\u001B[43mkwargs\u001B[49m\u001B[43m)\u001B[49m\n",
      "File \u001B[0;32m~/miniconda3/lib/python3.9/site-packages/ee/apifunction.py:197\u001B[0m, in \u001B[0;36mApiFunction.importApi\u001B[0;34m(cls, target, prefix, type_name, prepend)\u001B[0m\n\u001B[1;32m    177\u001B[0m \u001B[38;5;129m@classmethod\u001B[39m\n\u001B[1;32m    178\u001B[0m \u001B[38;5;129m@_utils\u001B[39m\u001B[38;5;241m.\u001B[39maccept_opt_prefix(\u001B[38;5;124m'\u001B[39m\u001B[38;5;124mopt_prepend\u001B[39m\u001B[38;5;124m'\u001B[39m)\n\u001B[1;32m    179\u001B[0m \u001B[38;5;28;01mdef\u001B[39;00m\u001B[38;5;250m \u001B[39m\u001B[38;5;21mimportApi\u001B[39m(\n\u001B[0;32m   (...)\u001B[0m\n\u001B[1;32m    184\u001B[0m     prepend: Optional[\u001B[38;5;28mstr\u001B[39m] \u001B[38;5;241m=\u001B[39m \u001B[38;5;28;01mNone\u001B[39;00m,\n\u001B[1;32m    185\u001B[0m ) \u001B[38;5;241m-\u001B[39m\u001B[38;5;241m>\u001B[39m \u001B[38;5;28;01mNone\u001B[39;00m:\n\u001B[1;32m    186\u001B[0m \u001B[38;5;250m  \u001B[39m\u001B[38;5;124;03m\"\"\"Adds all API functions that begin with a given prefix to a target class.\u001B[39;00m\n\u001B[1;32m    187\u001B[0m \n\u001B[1;32m    188\u001B[0m \u001B[38;5;124;03m  Args:\u001B[39;00m\n\u001B[0;32m   (...)\u001B[0m\n\u001B[1;32m    195\u001B[0m \u001B[38;5;124;03m      functions.\u001B[39;00m\n\u001B[1;32m    196\u001B[0m \u001B[38;5;124;03m  \"\"\"\u001B[39;00m\n\u001B[0;32m--> 197\u001B[0m   \u001B[38;5;28;43mcls\u001B[39;49m\u001B[38;5;241;43m.\u001B[39;49m\u001B[43minitialize\u001B[49m\u001B[43m(\u001B[49m\u001B[43m)\u001B[49m\n\u001B[1;32m    198\u001B[0m   prepend \u001B[38;5;241m=\u001B[39m prepend \u001B[38;5;129;01mor\u001B[39;00m \u001B[38;5;124m'\u001B[39m\u001B[38;5;124m'\u001B[39m\n\u001B[1;32m    199\u001B[0m   \u001B[38;5;28;01mfor\u001B[39;00m name, api_func \u001B[38;5;129;01min\u001B[39;00m \u001B[38;5;28mcls\u001B[39m\u001B[38;5;241m.\u001B[39m_api\u001B[38;5;241m.\u001B[39mitems():\n",
      "File \u001B[0;32m~/miniconda3/lib/python3.9/site-packages/ee/apifunction.py:161\u001B[0m, in \u001B[0;36mApiFunction.initialize\u001B[0;34m(cls)\u001B[0m\n\u001B[1;32m    159\u001B[0m \u001B[38;5;250m\u001B[39m\u001B[38;5;124;03m\"\"\"Initializes the list of signatures from the Earth Engine front-end.\"\"\"\u001B[39;00m\n\u001B[1;32m    160\u001B[0m \u001B[38;5;28;01mif\u001B[39;00m \u001B[38;5;129;01mnot\u001B[39;00m \u001B[38;5;28mcls\u001B[39m\u001B[38;5;241m.\u001B[39m_api:\n\u001B[0;32m--> 161\u001B[0m   signatures \u001B[38;5;241m=\u001B[39m \u001B[43mdata\u001B[49m\u001B[38;5;241;43m.\u001B[39;49m\u001B[43mgetAlgorithms\u001B[49m\u001B[43m(\u001B[49m\u001B[43m)\u001B[49m\n\u001B[1;32m    162\u001B[0m   api \u001B[38;5;241m=\u001B[39m {}\n\u001B[1;32m    163\u001B[0m   \u001B[38;5;28;01mfor\u001B[39;00m name, sig \u001B[38;5;129;01min\u001B[39;00m signatures\u001B[38;5;241m.\u001B[39mitems():\n\u001B[1;32m    164\u001B[0m     \u001B[38;5;66;03m# Strip type parameters.\u001B[39;00m\n",
      "File \u001B[0;32m~/miniconda3/lib/python3.9/site-packages/ee/data.py:1442\u001B[0m, in \u001B[0;36mgetAlgorithms\u001B[0;34m()\u001B[0m\n\u001B[1;32m   1425\u001B[0m \u001B[38;5;250m\u001B[39m\u001B[38;5;124;03m\"\"\"Get the list of algorithms.\u001B[39;00m\n\u001B[1;32m   1426\u001B[0m \n\u001B[1;32m   1427\u001B[0m \u001B[38;5;124;03mReturns:\u001B[39;00m\n\u001B[0;32m   (...)\u001B[0m\n\u001B[1;32m   1438\u001B[0m \u001B[38;5;124;03m              is not specified.\u001B[39;00m\n\u001B[1;32m   1439\u001B[0m \u001B[38;5;124;03m\"\"\"\u001B[39;00m\n\u001B[1;32m   1440\u001B[0m \u001B[38;5;28;01mtry\u001B[39;00m:\n\u001B[1;32m   1441\u001B[0m   call \u001B[38;5;241m=\u001B[39m (\n\u001B[0;32m-> 1442\u001B[0m       \u001B[43m_get_cloud_projects\u001B[49m\u001B[43m(\u001B[49m\u001B[43m)\u001B[49m\n\u001B[1;32m   1443\u001B[0m       \u001B[38;5;241m.\u001B[39malgorithms()\n\u001B[1;32m   1444\u001B[0m       \u001B[38;5;241m.\u001B[39mlist(parent\u001B[38;5;241m=\u001B[39m_get_projects_path(), prettyPrint\u001B[38;5;241m=\u001B[39m\u001B[38;5;28;01mFalse\u001B[39;00m)\n\u001B[1;32m   1445\u001B[0m   )\n\u001B[1;32m   1446\u001B[0m \u001B[38;5;28;01mexcept\u001B[39;00m \u001B[38;5;167;01mTypeError\u001B[39;00m:\n\u001B[1;32m   1447\u001B[0m   call \u001B[38;5;241m=\u001B[39m (\n\u001B[1;32m   1448\u001B[0m       _get_cloud_projects()\n\u001B[1;32m   1449\u001B[0m       \u001B[38;5;241m.\u001B[39malgorithms()\n\u001B[1;32m   1450\u001B[0m       \u001B[38;5;241m.\u001B[39mlist(project\u001B[38;5;241m=\u001B[39m_get_projects_path(), prettyPrint\u001B[38;5;241m=\u001B[39m\u001B[38;5;28;01mFalse\u001B[39;00m)\n\u001B[1;32m   1451\u001B[0m   )\n",
      "File \u001B[0;32m~/miniconda3/lib/python3.9/site-packages/ee/data.py:337\u001B[0m, in \u001B[0;36m_get_cloud_projects\u001B[0;34m()\u001B[0m\n\u001B[1;32m    335\u001B[0m \u001B[38;5;28;01mdef\u001B[39;00m\u001B[38;5;250m \u001B[39m\u001B[38;5;21m_get_cloud_projects\u001B[39m() \u001B[38;5;241m-\u001B[39m\u001B[38;5;241m>\u001B[39m Any:\n\u001B[1;32m    336\u001B[0m   \u001B[38;5;28;01mif\u001B[39;00m _cloud_api_resource \u001B[38;5;129;01mis\u001B[39;00m \u001B[38;5;28;01mNone\u001B[39;00m:\n\u001B[0;32m--> 337\u001B[0m     \u001B[38;5;28;01mraise\u001B[39;00m ee_exception\u001B[38;5;241m.\u001B[39mEEException(\n\u001B[1;32m    338\u001B[0m         \u001B[38;5;124m'\u001B[39m\u001B[38;5;124mEarth Engine client library not initialized. Run `ee.Initialize()`\u001B[39m\u001B[38;5;124m'\u001B[39m)\n\u001B[1;32m    339\u001B[0m   \u001B[38;5;28;01mreturn\u001B[39;00m _cloud_api_resource\u001B[38;5;241m.\u001B[39mprojects()\n",
      "\u001B[0;31mEEException\u001B[0m: Earth Engine client library not initialized. Run `ee.Initialize()`"
     ]
    }
   ],
   "execution_count": 4
  },
  {
   "cell_type": "code",
   "execution_count": 9,
   "metadata": {},
   "outputs": [],
   "source": [
    "def snap_pourpoint(acc,basin_y,basin_x,pt_y,pt_x,target_area, dA):\n",
    "        x = np.argmin((basin_x - pt_x) ** 2)\n",
    "        y = np.argmin((basin_y - pt_y) ** 2)\n",
    "        A1=0\n",
    "        w=1\n",
    "        m,n = np.shape(acc)\n",
    "        print(target_area)\n",
    "        while A1< target_area/1.2:\n",
    "                ny, nx = np.where(acc[y-w:y+w+1,x-w:x+w+1]>= np.max(acc[y-w:y+w+1,x-w:x+w+1])/1.25) # We find the closest point within half the max drainage area in the box\n",
    "                print(w)\n",
    "                print(A1)\n",
    "                print(target_area)\n",
    "                xysnap = np.argmin((ny - w) ** 2 + (nx - w) ** 2)\n",
    "                ysnap = ny[xysnap] + y - w\n",
    "                xsnap = nx[xysnap] + x - w\n",
    "                A1 = acc[ysnap,xsnap]*dA\n",
    "\n",
    "                w+=1\n",
    "                if w>.02*(m/2+n/2):\n",
    "                        break\n",
    "\n",
    "\n",
    "\n",
    "        # plt.imshow(acc,vmax=1000,vmin=0)\n",
    "        # plt.plot(x,y,'.')\n",
    "        # plt.plot(xsnap,ysnap,'.r')\n",
    "        return ysnap, xsnap\n",
    "\n"
   ]
  },
  {
   "cell_type": "code",
   "execution_count": 10,
   "metadata": {},
   "outputs": [
    {
     "ename": "NameError",
     "evalue": "name 'F' is not defined",
     "output_type": "error",
     "traceback": [
      "\u001B[0;31m---------------------------------------------------------------------------\u001B[0m",
      "\u001B[0;31mNameError\u001B[0m                                 Traceback (most recent call last)",
      "Cell \u001B[0;32mIn[10], line 15\u001B[0m\n\u001B[1;32m     12\u001B[0m Z[Z\u001B[38;5;241m<\u001B[39m\u001B[38;5;241m=\u001B[39m\u001B[38;5;241m0\u001B[39m] \u001B[38;5;241m=\u001B[39m np\u001B[38;5;241m.\u001B[39mnan\n\u001B[1;32m     14\u001B[0m m,n \u001B[38;5;241m=\u001B[39m np\u001B[38;5;241m.\u001B[39mshape(Z)\n\u001B[0;32m---> 15\u001B[0m \u001B[43mF\u001B[49m\u001B[38;5;241m.\u001B[39mset_z(Z)\n\u001B[1;32m     16\u001B[0m BCX \u001B[38;5;241m=\u001B[39m np\u001B[38;5;241m.\u001B[39mzeros(np\u001B[38;5;241m.\u001B[39mshape(Z))\n\u001B[1;32m     18\u001B[0m F\u001B[38;5;241m.\u001B[39msinkfill()\n",
      "\u001B[0;31mNameError\u001B[0m: name 'F' is not defined"
     ]
    }
   ],
   "source": [
    "dir = '../example_data/nz_dems/'\n",
    "basenm = \"nz_bas_hydroshed_{}_.tif\"\n",
    "files = os.listdir(dir)\n",
    "\n",
    "\n",
    "for ptn in range(27):\n",
    "    DEM = lem.simple_model() #Initiate the DEM object\n",
    "    DEM.turn_on_off_dynamic_bc('False')#This means that outlets are assigned, not dynamic i.e. everywhere below sea level.\n",
    "    f = rio.open(dir + basenm.format(str(ptn))) #File containing DEM\n",
    "    pt = octo_points.loc[ptn] #Find the relevant pour point\n",
    "    Z=np.float64(np.squeeze(f.read()))\n",
    "    Z[Z<=0] = np.nan\n",
    "\n",
    "    m,n = np.shape(Z)\n",
    "    F.set_z(Z)\n",
    "    BCX = np.zeros(np.shape(Z))\n",
    "    \n",
    "    F.sinkfill()\n",
    "    F.slp()\n",
    "    lat = np.array([f.xy(i,0)[1] for i in range(m)])\n",
    "    lon = np.array([f.xy(0,i)[0] for i in range(n)])\n",
    "    dL =  111000 * np.cos(np.mean(lat)*np.pi/180) # m per degree\n",
    "    dx = np.mean(np.diff(lon)) * dL #m per pixel, avg x\n",
    "    dy = np.mean(np.diff(lat)) * 111000 # m per pixel, avg y\n",
    "    \n",
    "    dA = np.abs(dx*dy)\n",
    "    print(dx)\n",
    "\n",
    "    F.stack()\n",
    "    F.acc()\n",
    "    plt.imshow(F.A,vmax=100)\n",
    "    acc = F.A.copy()\n",
    "    L = 111000 # km per deg\n",
    "    target_area = octo_basins_orig.area[ptn]*dL*L\n",
    "    ys,xs = snap_pourpoint(acc, lat, lon, pt.geometry.xy[1], pt.geometry.xy[0], target_area, dA)\n",
    "    F.pour_point = np.int64([ys, xs])\n",
    "    F.stack()\n",
    "    F.acc()\n",
    "    plt.figure()\n",
    "    plt.imshow(F.A,vmin=0,vmax=2)\n",
    "    Z = np.zeros(np.shape(F.get_z())).ravel(order='F')\n",
    "    Zi = F.get_z().ravel(order='F')\n",
    "    for i in range(len(F.stackij)):\n",
    "        Z[F.stackij[i]] = Zi[F.stackij[i]]\n",
    "        \n",
    "    Z = Z.reshape(m,n,order='F')\n",
    "    profile = f.profile\n",
    "\n",
    "    Z[Z==0] = -9999\n",
    "    with rio.open(dir+'nz_clipped_hydrosheds_{}.tif'.format(str(ptn)), 'w', **profile) as dst:\n",
    "        dst.write(Z.astype(rio.float64), 1)\n",
    "    \n",
    "#plt.imshow(Z)"
   ]
  },
  {
   "cell_type": "code",
   "execution_count": null,
   "metadata": {},
   "outputs": [],
   "source": []
  }
 ],
 "metadata": {
  "kernelspec": {
   "display_name": "base",
   "language": "python",
   "name": "python3"
  },
  "language_info": {
   "codemirror_mode": {
    "name": "ipython",
    "version": 3
   },
   "file_extension": ".py",
   "mimetype": "text/x-python",
   "name": "python",
   "nbconvert_exporter": "python",
   "pygments_lexer": "ipython3",
   "version": "3.9.18"
  }
 },
 "nbformat": 4,
 "nbformat_minor": 2
}
